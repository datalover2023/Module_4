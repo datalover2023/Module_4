{
  "cells": [
    {
      "cell_type": "markdown",
      "metadata": {
        "id": "view-in-github",
        "colab_type": "text"
      },
      "source": [
        "<a href=\"https://colab.research.google.com/github/datalover2023/Module_4/blob/main/Budget_UseCase_Module_4.ipynb\" target=\"_parent\"><img src=\"https://colab.research.google.com/assets/colab-badge.svg\" alt=\"Open In Colab\"/></a>"
      ]
    },
    {
      "cell_type": "raw",
      "id": "c6838cb6",
      "metadata": {
        "id": "c6838cb6"
      },
      "source": [
        "Libraries\n",
        "\n",
        "---\n",
        "\n"
      ]
    },
    {
      "cell_type": "code",
      "execution_count": 1,
      "id": "75ed5e8b",
      "metadata": {
        "id": "75ed5e8b",
        "colab": {
          "base_uri": "https://localhost:8080/"
        },
        "outputId": "2aafc0bc-fa03-46db-c982-715a1b8359e5"
      },
      "outputs": [
        {
          "output_type": "stream",
          "name": "stdout",
          "text": [
            "Looking in indexes: https://pypi.org/simple, https://us-python.pkg.dev/colab-wheels/public/simple/\n",
            "Requirement already satisfied: xlsxwriter in /usr/local/lib/python3.9/dist-packages (3.0.8)\n"
          ]
        }
      ],
      "source": [
        "import pandas as pd\n",
        "import numpy as np\n",
        "\n",
        "import os\n",
        "import glob\n",
        "import shutil\n",
        "import sys\n",
        "from pathlib import Path\n",
        "\n",
        "import datetime\n",
        "\n",
        "import matplotlib.pyplot as plt\n",
        "import matplotlib.image as mpimg\n",
        "\n",
        "from openpyxl import load_workbook # necesserry library\n",
        "\n",
        "# utility functions for cells locations\n",
        "!pip install xlsxwriter  # uncomment if necessary\n",
        "import xlsxwriter\n",
        "from xlsxwriter.utility import xl_rowcol_to_cell\n",
        "from xlsxwriter.utility import xl_col_to_name\n",
        "from xlsxwriter.utility import xl_range, xl_range_abs\n",
        "from openpyxl.utils import get_column_letter, column_index_from_string\n"
      ]
    },
    {
      "cell_type": "code",
      "execution_count": 2,
      "id": "bb9706df",
      "metadata": {
        "id": "bb9706df"
      },
      "outputs": [],
      "source": [
        "# set visible all columns\n",
        "pd.set_option('display.max_columns', None)"
      ]
    },
    {
      "cell_type": "markdown",
      "source": [
        "# 1.&nbsp;Settings"
      ],
      "metadata": {
        "id": "wEeggyEvpjcu"
      },
      "id": "wEeggyEvpjcu"
    },
    {
      "cell_type": "markdown",
      "source": [
        "## Drive and cwd"
      ],
      "metadata": {
        "id": "P2N66YgSpeRi"
      },
      "id": "P2N66YgSpeRi"
    },
    {
      "cell_type": "code",
      "source": [
        "# Accessing Google Drive from Google Colab\n",
        "\n",
        "from google.colab import drive \n",
        "drive.mount('/content/gdrive')"
      ],
      "metadata": {
        "id": "C6pEMfEUpYgk",
        "colab": {
          "base_uri": "https://localhost:8080/"
        },
        "outputId": "9116a4ed-1b9e-4f8e-a39e-dd7d33d165db"
      },
      "id": "C6pEMfEUpYgk",
      "execution_count": 3,
      "outputs": [
        {
          "output_type": "stream",
          "name": "stdout",
          "text": [
            "Drive already mounted at /content/gdrive; to attempt to forcibly remount, call drive.mount(\"/content/gdrive\", force_remount=True).\n"
          ]
        }
      ]
    },
    {
      "cell_type": "code",
      "execution_count": 4,
      "id": "a66cc482",
      "metadata": {
        "id": "a66cc482",
        "colab": {
          "base_uri": "https://localhost:8080/",
          "height": 36
        },
        "outputId": "d601e64e-b600-4a05-b0c8-b305617ef645"
      },
      "outputs": [
        {
          "output_type": "execute_result",
          "data": {
            "text/plain": [
              "'/content'"
            ],
            "application/vnd.google.colaboratory.intrinsic+json": {
              "type": "string"
            }
          },
          "metadata": {},
          "execution_count": 4
        }
      ],
      "source": [
        "# assing current working directory (`cwd`)\n",
        "cwd = os.getcwd()\n",
        "cwd"
      ]
    },
    {
      "cell_type": "code",
      "source": [
        "os.listdir()"
      ],
      "metadata": {
        "id": "YWpcYi9AOonm",
        "outputId": "389a8ac4-8630-493e-ba0c-208656e3a5d4",
        "colab": {
          "base_uri": "https://localhost:8080/"
        }
      },
      "id": "YWpcYi9AOonm",
      "execution_count": 5,
      "outputs": [
        {
          "output_type": "execute_result",
          "data": {
            "text/plain": [
              "['.config', 'gdrive', 'sample_data']"
            ]
          },
          "metadata": {},
          "execution_count": 5
        }
      ]
    },
    {
      "cell_type": "code",
      "source": [
        "'''\n",
        "ng_files=[]\n",
        "for file in os.listdir('gdrive'):\n",
        "    if file.endswith('.PNG'): # or '.csv' if your'looinkg for csv files\n",
        "            png_files.append(file)\n",
        "            \n",
        "# it will print out excel names present in current directory folder = 'Basics_Python\"\n",
        "print( 'there are', len(png_files), \"png files \")\n",
        "print(png_files[:4])\n",
        "\n",
        "'''"
      ],
      "metadata": {
        "id": "i4FPIbcGOV_g",
        "outputId": "decf9126-62d6-4e59-ec24-eb38b7a236cc",
        "colab": {
          "base_uri": "https://localhost:8080/",
          "height": 71
        }
      },
      "id": "i4FPIbcGOV_g",
      "execution_count": 6,
      "outputs": [
        {
          "output_type": "execute_result",
          "data": {
            "text/plain": [
              "'\\nng_files=[]\\nfor file in os.listdir(\\'gdrive\\'):\\n    if file.endswith(\\'.PNG\\'): # or \\'.csv\\' if your\\'looinkg for csv files\\n            png_files.append(file)\\n            \\n# it will print out excel names present in current directory folder = \\'Basics_Python\"\\nprint( \\'there are\\', len(png_files), \"png files \")\\nprint(png_files[:4])\\n\\n'"
            ],
            "application/vnd.google.colaboratory.intrinsic+json": {
              "type": "string"
            }
          },
          "metadata": {},
          "execution_count": 6
        }
      ]
    },
    {
      "cell_type": "code",
      "execution_count": 7,
      "id": "fa051a39",
      "metadata": {
        "id": "fa051a39",
        "colab": {
          "base_uri": "https://localhost:8080/"
        },
        "outputId": "f3210592-11ca-4536-aacf-2a0bf1394f26"
      },
      "outputs": [
        {
          "output_type": "execute_result",
          "data": {
            "text/plain": [
              "['.config', 'gdrive', 'sample_data']"
            ]
          },
          "metadata": {},
          "execution_count": 7
        }
      ],
      "source": [
        "# containing of /content directory\n",
        "os.listdir()"
      ]
    },
    {
      "cell_type": "markdown",
      "source": [
        "## Import Files"
      ],
      "metadata": {
        "id": "So7LYJgEpw5U"
      },
      "id": "So7LYJgEpw5U"
    },
    {
      "cell_type": "code",
      "source": [
        "# import files into google Colab\n",
        "from google.colab import files"
      ],
      "metadata": {
        "id": "HbStdxO2ptoC"
      },
      "id": "HbStdxO2ptoC",
      "execution_count": 10,
      "outputs": []
    },
    {
      "cell_type": "code",
      "source": [
        "# upload from your local : images folder .png from your downloads\n",
        "uploaded = files.upload()"
      ],
      "metadata": {
        "id": "GeQfoaIWp1KM",
        "colab": {
          "base_uri": "https://localhost:8080/",
          "height": 1000
        },
        "outputId": "7877d4b5-7b5d-4b22-d3a8-8e9ff3ccca21"
      },
      "id": "GeQfoaIWp1KM",
      "execution_count": 11,
      "outputs": [
        {
          "output_type": "display_data",
          "data": {
            "text/plain": [
              "<IPython.core.display.HTML object>"
            ],
            "text/html": [
              "\n",
              "     <input type=\"file\" id=\"files-4f0501ae-3c21-42e6-b2c8-da769cc2b40f\" name=\"files[]\" multiple disabled\n",
              "        style=\"border:none\" />\n",
              "     <output id=\"result-4f0501ae-3c21-42e6-b2c8-da769cc2b40f\">\n",
              "      Upload widget is only available when the cell has been executed in the\n",
              "      current browser session. Please rerun this cell to enable.\n",
              "      </output>\n",
              "      <script>// Copyright 2017 Google LLC\n",
              "//\n",
              "// Licensed under the Apache License, Version 2.0 (the \"License\");\n",
              "// you may not use this file except in compliance with the License.\n",
              "// You may obtain a copy of the License at\n",
              "//\n",
              "//      http://www.apache.org/licenses/LICENSE-2.0\n",
              "//\n",
              "// Unless required by applicable law or agreed to in writing, software\n",
              "// distributed under the License is distributed on an \"AS IS\" BASIS,\n",
              "// WITHOUT WARRANTIES OR CONDITIONS OF ANY KIND, either express or implied.\n",
              "// See the License for the specific language governing permissions and\n",
              "// limitations under the License.\n",
              "\n",
              "/**\n",
              " * @fileoverview Helpers for google.colab Python module.\n",
              " */\n",
              "(function(scope) {\n",
              "function span(text, styleAttributes = {}) {\n",
              "  const element = document.createElement('span');\n",
              "  element.textContent = text;\n",
              "  for (const key of Object.keys(styleAttributes)) {\n",
              "    element.style[key] = styleAttributes[key];\n",
              "  }\n",
              "  return element;\n",
              "}\n",
              "\n",
              "// Max number of bytes which will be uploaded at a time.\n",
              "const MAX_PAYLOAD_SIZE = 100 * 1024;\n",
              "\n",
              "function _uploadFiles(inputId, outputId) {\n",
              "  const steps = uploadFilesStep(inputId, outputId);\n",
              "  const outputElement = document.getElementById(outputId);\n",
              "  // Cache steps on the outputElement to make it available for the next call\n",
              "  // to uploadFilesContinue from Python.\n",
              "  outputElement.steps = steps;\n",
              "\n",
              "  return _uploadFilesContinue(outputId);\n",
              "}\n",
              "\n",
              "// This is roughly an async generator (not supported in the browser yet),\n",
              "// where there are multiple asynchronous steps and the Python side is going\n",
              "// to poll for completion of each step.\n",
              "// This uses a Promise to block the python side on completion of each step,\n",
              "// then passes the result of the previous step as the input to the next step.\n",
              "function _uploadFilesContinue(outputId) {\n",
              "  const outputElement = document.getElementById(outputId);\n",
              "  const steps = outputElement.steps;\n",
              "\n",
              "  const next = steps.next(outputElement.lastPromiseValue);\n",
              "  return Promise.resolve(next.value.promise).then((value) => {\n",
              "    // Cache the last promise value to make it available to the next\n",
              "    // step of the generator.\n",
              "    outputElement.lastPromiseValue = value;\n",
              "    return next.value.response;\n",
              "  });\n",
              "}\n",
              "\n",
              "/**\n",
              " * Generator function which is called between each async step of the upload\n",
              " * process.\n",
              " * @param {string} inputId Element ID of the input file picker element.\n",
              " * @param {string} outputId Element ID of the output display.\n",
              " * @return {!Iterable<!Object>} Iterable of next steps.\n",
              " */\n",
              "function* uploadFilesStep(inputId, outputId) {\n",
              "  const inputElement = document.getElementById(inputId);\n",
              "  inputElement.disabled = false;\n",
              "\n",
              "  const outputElement = document.getElementById(outputId);\n",
              "  outputElement.innerHTML = '';\n",
              "\n",
              "  const pickedPromise = new Promise((resolve) => {\n",
              "    inputElement.addEventListener('change', (e) => {\n",
              "      resolve(e.target.files);\n",
              "    });\n",
              "  });\n",
              "\n",
              "  const cancel = document.createElement('button');\n",
              "  inputElement.parentElement.appendChild(cancel);\n",
              "  cancel.textContent = 'Cancel upload';\n",
              "  const cancelPromise = new Promise((resolve) => {\n",
              "    cancel.onclick = () => {\n",
              "      resolve(null);\n",
              "    };\n",
              "  });\n",
              "\n",
              "  // Wait for the user to pick the files.\n",
              "  const files = yield {\n",
              "    promise: Promise.race([pickedPromise, cancelPromise]),\n",
              "    response: {\n",
              "      action: 'starting',\n",
              "    }\n",
              "  };\n",
              "\n",
              "  cancel.remove();\n",
              "\n",
              "  // Disable the input element since further picks are not allowed.\n",
              "  inputElement.disabled = true;\n",
              "\n",
              "  if (!files) {\n",
              "    return {\n",
              "      response: {\n",
              "        action: 'complete',\n",
              "      }\n",
              "    };\n",
              "  }\n",
              "\n",
              "  for (const file of files) {\n",
              "    const li = document.createElement('li');\n",
              "    li.append(span(file.name, {fontWeight: 'bold'}));\n",
              "    li.append(span(\n",
              "        `(${file.type || 'n/a'}) - ${file.size} bytes, ` +\n",
              "        `last modified: ${\n",
              "            file.lastModifiedDate ? file.lastModifiedDate.toLocaleDateString() :\n",
              "                                    'n/a'} - `));\n",
              "    const percent = span('0% done');\n",
              "    li.appendChild(percent);\n",
              "\n",
              "    outputElement.appendChild(li);\n",
              "\n",
              "    const fileDataPromise = new Promise((resolve) => {\n",
              "      const reader = new FileReader();\n",
              "      reader.onload = (e) => {\n",
              "        resolve(e.target.result);\n",
              "      };\n",
              "      reader.readAsArrayBuffer(file);\n",
              "    });\n",
              "    // Wait for the data to be ready.\n",
              "    let fileData = yield {\n",
              "      promise: fileDataPromise,\n",
              "      response: {\n",
              "        action: 'continue',\n",
              "      }\n",
              "    };\n",
              "\n",
              "    // Use a chunked sending to avoid message size limits. See b/62115660.\n",
              "    let position = 0;\n",
              "    do {\n",
              "      const length = Math.min(fileData.byteLength - position, MAX_PAYLOAD_SIZE);\n",
              "      const chunk = new Uint8Array(fileData, position, length);\n",
              "      position += length;\n",
              "\n",
              "      const base64 = btoa(String.fromCharCode.apply(null, chunk));\n",
              "      yield {\n",
              "        response: {\n",
              "          action: 'append',\n",
              "          file: file.name,\n",
              "          data: base64,\n",
              "        },\n",
              "      };\n",
              "\n",
              "      let percentDone = fileData.byteLength === 0 ?\n",
              "          100 :\n",
              "          Math.round((position / fileData.byteLength) * 100);\n",
              "      percent.textContent = `${percentDone}% done`;\n",
              "\n",
              "    } while (position < fileData.byteLength);\n",
              "  }\n",
              "\n",
              "  // All done.\n",
              "  yield {\n",
              "    response: {\n",
              "      action: 'complete',\n",
              "    }\n",
              "  };\n",
              "}\n",
              "\n",
              "scope.google = scope.google || {};\n",
              "scope.google.colab = scope.google.colab || {};\n",
              "scope.google.colab._files = {\n",
              "  _uploadFiles,\n",
              "  _uploadFilesContinue,\n",
              "};\n",
              "})(self);\n",
              "</script> "
            ]
          },
          "metadata": {}
        },
        {
          "output_type": "stream",
          "name": "stdout",
          "text": [
            "Saving img_1.PNG to img_1.PNG\n",
            "Saving img_2.PNG to img_2.PNG\n",
            "Saving img_3.PNG to img_3.PNG\n",
            "Saving img_4.PNG to img_4.PNG\n",
            "Saving img_5.PNG to img_5.PNG\n",
            "Saving img_6.PNG to img_6.PNG\n",
            "Saving img_7.PNG to img_7.PNG\n",
            "Saving img_8.PNG to img_8.PNG\n",
            "Saving img_9.PNG to img_9.PNG\n",
            "Saving img_10.PNG to img_10.PNG\n",
            "Saving img_11.PNG to img_11.PNG\n",
            "Saving img_12.PNG to img_12.PNG\n",
            "Saving img_13.PNG to img_13.PNG\n",
            "Saving img_14.PNG to img_14.PNG\n",
            "Saving img_15.PNG to img_15.PNG\n",
            "Saving img_16.PNG to img_16.PNG\n",
            "Saving img_17.PNG to img_17.PNG\n",
            "Saving img_18.PNG to img_18.PNG\n",
            "Saving img_19.PNG to img_19.PNG\n",
            "Saving img_20.PNG to img_20.PNG\n",
            "Saving img_21.PNG to img_21.PNG\n",
            "Saving img_22.PNG to img_22.PNG\n",
            "Saving img_23.PNG to img_23.PNG\n",
            "Saving img_24.PNG to img_24.PNG\n",
            "Saving img_25.PNG to img_25.PNG\n",
            "Saving img_26.PNG to img_26.PNG\n",
            "Saving img_28_1.PNG to img_28_1.PNG\n",
            "Saving img_29_1.PNG to img_29_1.PNG\n",
            "Saving img_30_0.PNG to img_30_0.PNG\n",
            "Saving img_31.PNG to img_31.PNG\n",
            "Saving img_31_1.PNG to img_31_1.PNG\n",
            "Saving img_32.PNG to img_32.PNG\n",
            "Saving img_33.PNG to img_33.PNG\n",
            "Saving img_34.PNG to img_34.PNG\n",
            "Saving img_35.PNG to img_35.PNG\n",
            "Saving img_36.PNG to img_36.PNG\n",
            "Saving img_37.PNG to img_37.PNG\n",
            "Saving img_38.PNG to img_38.PNG\n",
            "Saving img_39.PNG to img_39.PNG\n"
          ]
        }
      ]
    },
    {
      "cell_type": "code",
      "source": [
        "# containing of /content directory, see if images were uploaded\n",
        "os.listdir()"
      ],
      "metadata": {
        "id": "xKavUInFp4y1",
        "colab": {
          "base_uri": "https://localhost:8080/"
        },
        "outputId": "ebecf9aa-473b-4ed2-eb23-4737ae38d6cd"
      },
      "id": "xKavUInFp4y1",
      "execution_count": 12,
      "outputs": [
        {
          "output_type": "execute_result",
          "data": {
            "text/plain": [
              "['.config',\n",
              " 'img_12.PNG',\n",
              " 'img_7.PNG',\n",
              " 'img_32.PNG',\n",
              " 'img_31_1.PNG',\n",
              " 'img_25.PNG',\n",
              " 'img_21.PNG',\n",
              " 'img_16.PNG',\n",
              " 'img_23.PNG',\n",
              " 'img_17.PNG',\n",
              " 'img_30_0.PNG',\n",
              " 'img_37.PNG',\n",
              " 'gdrive',\n",
              " 'img_28_1.PNG',\n",
              " 'img_3.PNG',\n",
              " 'img_2.PNG',\n",
              " 'img_20.PNG',\n",
              " 'img_10.PNG',\n",
              " 'img_38.PNG',\n",
              " 'img_26.PNG',\n",
              " 'img_19.PNG',\n",
              " 'img_31.PNG',\n",
              " 'img_11.PNG',\n",
              " 'img_36.PNG',\n",
              " 'img_1.PNG',\n",
              " 'img_18.PNG',\n",
              " 'img_22.PNG',\n",
              " 'img_13.PNG',\n",
              " 'img_5.PNG',\n",
              " 'img_15.PNG',\n",
              " 'img_8.PNG',\n",
              " 'img_6.PNG',\n",
              " 'img_14.PNG',\n",
              " 'img_39.PNG',\n",
              " 'img_33.PNG',\n",
              " 'img_4.PNG',\n",
              " 'img_35.PNG',\n",
              " 'img_24.PNG',\n",
              " 'img_34.PNG',\n",
              " 'img_29_1.PNG',\n",
              " 'img_9.PNG',\n",
              " 'sample_data']"
            ]
          },
          "metadata": {},
          "execution_count": 12
        }
      ]
    },
    {
      "cell_type": "markdown",
      "source": [
        "## Module_4 folder"
      ],
      "metadata": {
        "id": "Yr6x9tRSp_xU"
      },
      "id": "Yr6x9tRSp_xU"
    },
    {
      "cell_type": "code",
      "source": [
        "# uncoment if you want to reinitilize Module_4\n",
        "\n",
        "# delete folder Model_4 with all containing\n",
        "# shutil.rmtree('/content/gdrive/MyDrive/Module_4')"
      ],
      "metadata": {
        "id": "pexycv2JqCAc"
      },
      "id": "pexycv2JqCAc",
      "execution_count": 14,
      "outputs": []
    },
    {
      "cell_type": "code",
      "source": [
        "# create a floder Module_4 where you'll store files\n",
        "\n",
        "# create a new folder called \"Module_4\"\n",
        "\n",
        "# First: \n",
        "# write the path to the \"Module_4\" sub_directory\n",
        "folder = cwd + '/' + 'gdrive/MyDrive/Module_4/images' # == > /content/gdrive/MyDrive/Module_4/images\n",
        "print(folder)\n",
        "\n",
        "# Second:\n",
        "# create the folder at the indicated path\n",
        "os.makedirs(folder) # create an empty folder, if you're getting an error [Errno 17] File exists, then delete it with shutil.rmtree\n",
        "# if you're getting an error of File exist, then uncoment previous cell with command shutil.rmtree('/content/gdrive/MyDrive/Module_4')"
      ],
      "metadata": {
        "id": "jMiWI-gMqEdf",
        "colab": {
          "base_uri": "https://localhost:8080/"
        },
        "outputId": "d080b23e-90f8-45a3-ed46-e0fe4a2c6d6c"
      },
      "id": "jMiWI-gMqEdf",
      "execution_count": 15,
      "outputs": [
        {
          "output_type": "stream",
          "name": "stdout",
          "text": [
            "/content/gdrive/MyDrive/Module_4/images\n"
          ]
        }
      ]
    },
    {
      "cell_type": "code",
      "source": [
        "# check files in Module_4 directory\n",
        "os.listdir('/content/gdrive/MyDrive/Module_4')"
      ],
      "metadata": {
        "id": "XYKCVNowqEgZ",
        "colab": {
          "base_uri": "https://localhost:8080/"
        },
        "outputId": "d7dc10bf-1a14-46ac-c268-e874160ffec4"
      },
      "id": "XYKCVNowqEgZ",
      "execution_count": 16,
      "outputs": [
        {
          "output_type": "execute_result",
          "data": {
            "text/plain": [
              "['images']"
            ]
          },
          "metadata": {},
          "execution_count": 16
        }
      ]
    },
    {
      "cell_type": "code",
      "source": [
        "# containing of folder images\n",
        "os.listdir('/content/gdrive/MyDrive/Module_4/images')"
      ],
      "metadata": {
        "id": "fNzHU6p0qEj7",
        "colab": {
          "base_uri": "https://localhost:8080/"
        },
        "outputId": "c656b2b7-d177-45a8-ae0d-d4ac8a189c54"
      },
      "id": "fNzHU6p0qEj7",
      "execution_count": 17,
      "outputs": [
        {
          "output_type": "execute_result",
          "data": {
            "text/plain": [
              "[]"
            ]
          },
          "metadata": {},
          "execution_count": 17
        }
      ]
    },
    {
      "cell_type": "code",
      "source": [
        "# select all .png and move them to folder Module_3/Images\n",
        "\n",
        "# searchin for all files with extention .png\n",
        "# and store the into a list png_files\n",
        "\n",
        "png_files=[]\n",
        "for file in os.listdir():\n",
        "    if file.endswith('.PNG'): # or '.csv' if your'looinkg for csv files\n",
        "            png_files.append(file)\n",
        "            \n",
        "# it will print out excel names present in current directory folder = 'Basics_Python\"\n",
        "print( 'there are', len(png_files), \"png files \")\n",
        "print(png_files[:4])"
      ],
      "metadata": {
        "id": "FaBCTmGRqTtE",
        "colab": {
          "base_uri": "https://localhost:8080/"
        },
        "outputId": "c729e1c6-15fb-4371-fb7e-ec9de3a1bc24"
      },
      "id": "FaBCTmGRqTtE",
      "execution_count": 18,
      "outputs": [
        {
          "output_type": "stream",
          "name": "stdout",
          "text": [
            "there are 39 png files \n",
            "['img_12.PNG', 'img_7.PNG', 'img_32.PNG', 'img_31_1.PNG']\n"
          ]
        }
      ]
    },
    {
      "cell_type": "code",
      "source": [
        "# move all images into folder MOdule_4/Images\n",
        "\n",
        "folder = '/content/gdrive/MyDrive/Module_4/images'\n",
        "\n",
        "for image in png_files:\n",
        "  shutil.move(image, # file/folder to cut\n",
        "              folder) # folder where to move "
      ],
      "metadata": {
        "id": "6BvQiRFsqYuz"
      },
      "id": "6BvQiRFsqYuz",
      "execution_count": 19,
      "outputs": []
    },
    {
      "cell_type": "code",
      "source": [
        "# check if images were moved from cwd\n",
        "os.listdir()"
      ],
      "metadata": {
        "id": "HNcrKwLrqYxp",
        "colab": {
          "base_uri": "https://localhost:8080/"
        },
        "outputId": "86a220b4-f89a-475d-a4af-bfdc3dea6024"
      },
      "id": "HNcrKwLrqYxp",
      "execution_count": 20,
      "outputs": [
        {
          "output_type": "execute_result",
          "data": {
            "text/plain": [
              "['.config', 'gdrive', 'sample_data']"
            ]
          },
          "metadata": {},
          "execution_count": 20
        }
      ]
    },
    {
      "cell_type": "code",
      "source": [
        "# check files in Module_4\n",
        "os.listdir('gdrive/MyDrive/Module_4')"
      ],
      "metadata": {
        "id": "pc2DL7GkqY0k",
        "colab": {
          "base_uri": "https://localhost:8080/"
        },
        "outputId": "8a084c72-e622-46e7-c5ea-213e7d74a85a"
      },
      "id": "pc2DL7GkqY0k",
      "execution_count": 21,
      "outputs": [
        {
          "output_type": "execute_result",
          "data": {
            "text/plain": [
              "['images']"
            ]
          },
          "metadata": {},
          "execution_count": 21
        }
      ]
    },
    {
      "cell_type": "code",
      "source": [
        "# check files present in Module_4/Images, all the images were transfered to Module_4/images\n",
        "os.listdir('/content/gdrive/MyDrive/Module_4/images')"
      ],
      "metadata": {
        "id": "-gfH2wp5q4Dl",
        "colab": {
          "base_uri": "https://localhost:8080/"
        },
        "outputId": "298ca59b-6317-4379-f624-1b2b11a0ce8e"
      },
      "id": "-gfH2wp5q4Dl",
      "execution_count": 22,
      "outputs": [
        {
          "output_type": "execute_result",
          "data": {
            "text/plain": [
              "['img_12.PNG',\n",
              " 'img_7.PNG',\n",
              " 'img_32.PNG',\n",
              " 'img_31_1.PNG',\n",
              " 'img_25.PNG',\n",
              " 'img_21.PNG',\n",
              " 'img_16.PNG',\n",
              " 'img_23.PNG',\n",
              " 'img_17.PNG',\n",
              " 'img_30_0.PNG',\n",
              " 'img_37.PNG',\n",
              " 'img_28_1.PNG',\n",
              " 'img_3.PNG',\n",
              " 'img_2.PNG',\n",
              " 'img_20.PNG',\n",
              " 'img_10.PNG',\n",
              " 'img_38.PNG',\n",
              " 'img_26.PNG',\n",
              " 'img_19.PNG',\n",
              " 'img_31.PNG',\n",
              " 'img_11.PNG',\n",
              " 'img_36.PNG',\n",
              " 'img_1.PNG',\n",
              " 'img_18.PNG',\n",
              " 'img_22.PNG',\n",
              " 'img_13.PNG',\n",
              " 'img_5.PNG',\n",
              " 'img_15.PNG',\n",
              " 'img_8.PNG',\n",
              " 'img_6.PNG',\n",
              " 'img_14.PNG',\n",
              " 'img_39.PNG',\n",
              " 'img_33.PNG',\n",
              " 'img_4.PNG',\n",
              " 'img_35.PNG',\n",
              " 'img_24.PNG',\n",
              " 'img_34.PNG',\n",
              " 'img_29_1.PNG',\n",
              " 'img_9.PNG']"
            ]
          },
          "metadata": {},
          "execution_count": 22
        }
      ]
    },
    {
      "cell_type": "code",
      "source": [
        "# change cwd to Module_4\n",
        "os.chdir('gdrive/MyDrive/Module_4')\n",
        "# check the new current working directory now\n",
        "cwd = os.getcwd()\n",
        "cwd # folder MOdule_3 will be from now on our cwd"
      ],
      "metadata": {
        "id": "VM_8_tN_q7Ub",
        "colab": {
          "base_uri": "https://localhost:8080/",
          "height": 36
        },
        "outputId": "569fdaac-8c14-45f2-f06e-5969066d21fd"
      },
      "id": "VM_8_tN_q7Ub",
      "execution_count": 23,
      "outputs": [
        {
          "output_type": "execute_result",
          "data": {
            "text/plain": [
              "'/content/gdrive/MyDrive/Module_4'"
            ],
            "application/vnd.google.colaboratory.intrinsic+json": {
              "type": "string"
            }
          },
          "metadata": {},
          "execution_count": 23
        }
      ]
    },
    {
      "cell_type": "code",
      "source": [
        "# upload from your local : 'Budget_raw.xlsx'\n",
        "uploaded = files.upload()"
      ],
      "metadata": {
        "id": "Ehitv-IOrAfr",
        "colab": {
          "base_uri": "https://localhost:8080/",
          "height": 73
        },
        "outputId": "d1da9f74-fe1e-4bfe-e437-2f6d18cc8b23"
      },
      "id": "Ehitv-IOrAfr",
      "execution_count": 24,
      "outputs": [
        {
          "output_type": "display_data",
          "data": {
            "text/plain": [
              "<IPython.core.display.HTML object>"
            ],
            "text/html": [
              "\n",
              "     <input type=\"file\" id=\"files-75efb7f8-efa4-44a5-afd6-dd938b27c322\" name=\"files[]\" multiple disabled\n",
              "        style=\"border:none\" />\n",
              "     <output id=\"result-75efb7f8-efa4-44a5-afd6-dd938b27c322\">\n",
              "      Upload widget is only available when the cell has been executed in the\n",
              "      current browser session. Please rerun this cell to enable.\n",
              "      </output>\n",
              "      <script>// Copyright 2017 Google LLC\n",
              "//\n",
              "// Licensed under the Apache License, Version 2.0 (the \"License\");\n",
              "// you may not use this file except in compliance with the License.\n",
              "// You may obtain a copy of the License at\n",
              "//\n",
              "//      http://www.apache.org/licenses/LICENSE-2.0\n",
              "//\n",
              "// Unless required by applicable law or agreed to in writing, software\n",
              "// distributed under the License is distributed on an \"AS IS\" BASIS,\n",
              "// WITHOUT WARRANTIES OR CONDITIONS OF ANY KIND, either express or implied.\n",
              "// See the License for the specific language governing permissions and\n",
              "// limitations under the License.\n",
              "\n",
              "/**\n",
              " * @fileoverview Helpers for google.colab Python module.\n",
              " */\n",
              "(function(scope) {\n",
              "function span(text, styleAttributes = {}) {\n",
              "  const element = document.createElement('span');\n",
              "  element.textContent = text;\n",
              "  for (const key of Object.keys(styleAttributes)) {\n",
              "    element.style[key] = styleAttributes[key];\n",
              "  }\n",
              "  return element;\n",
              "}\n",
              "\n",
              "// Max number of bytes which will be uploaded at a time.\n",
              "const MAX_PAYLOAD_SIZE = 100 * 1024;\n",
              "\n",
              "function _uploadFiles(inputId, outputId) {\n",
              "  const steps = uploadFilesStep(inputId, outputId);\n",
              "  const outputElement = document.getElementById(outputId);\n",
              "  // Cache steps on the outputElement to make it available for the next call\n",
              "  // to uploadFilesContinue from Python.\n",
              "  outputElement.steps = steps;\n",
              "\n",
              "  return _uploadFilesContinue(outputId);\n",
              "}\n",
              "\n",
              "// This is roughly an async generator (not supported in the browser yet),\n",
              "// where there are multiple asynchronous steps and the Python side is going\n",
              "// to poll for completion of each step.\n",
              "// This uses a Promise to block the python side on completion of each step,\n",
              "// then passes the result of the previous step as the input to the next step.\n",
              "function _uploadFilesContinue(outputId) {\n",
              "  const outputElement = document.getElementById(outputId);\n",
              "  const steps = outputElement.steps;\n",
              "\n",
              "  const next = steps.next(outputElement.lastPromiseValue);\n",
              "  return Promise.resolve(next.value.promise).then((value) => {\n",
              "    // Cache the last promise value to make it available to the next\n",
              "    // step of the generator.\n",
              "    outputElement.lastPromiseValue = value;\n",
              "    return next.value.response;\n",
              "  });\n",
              "}\n",
              "\n",
              "/**\n",
              " * Generator function which is called between each async step of the upload\n",
              " * process.\n",
              " * @param {string} inputId Element ID of the input file picker element.\n",
              " * @param {string} outputId Element ID of the output display.\n",
              " * @return {!Iterable<!Object>} Iterable of next steps.\n",
              " */\n",
              "function* uploadFilesStep(inputId, outputId) {\n",
              "  const inputElement = document.getElementById(inputId);\n",
              "  inputElement.disabled = false;\n",
              "\n",
              "  const outputElement = document.getElementById(outputId);\n",
              "  outputElement.innerHTML = '';\n",
              "\n",
              "  const pickedPromise = new Promise((resolve) => {\n",
              "    inputElement.addEventListener('change', (e) => {\n",
              "      resolve(e.target.files);\n",
              "    });\n",
              "  });\n",
              "\n",
              "  const cancel = document.createElement('button');\n",
              "  inputElement.parentElement.appendChild(cancel);\n",
              "  cancel.textContent = 'Cancel upload';\n",
              "  const cancelPromise = new Promise((resolve) => {\n",
              "    cancel.onclick = () => {\n",
              "      resolve(null);\n",
              "    };\n",
              "  });\n",
              "\n",
              "  // Wait for the user to pick the files.\n",
              "  const files = yield {\n",
              "    promise: Promise.race([pickedPromise, cancelPromise]),\n",
              "    response: {\n",
              "      action: 'starting',\n",
              "    }\n",
              "  };\n",
              "\n",
              "  cancel.remove();\n",
              "\n",
              "  // Disable the input element since further picks are not allowed.\n",
              "  inputElement.disabled = true;\n",
              "\n",
              "  if (!files) {\n",
              "    return {\n",
              "      response: {\n",
              "        action: 'complete',\n",
              "      }\n",
              "    };\n",
              "  }\n",
              "\n",
              "  for (const file of files) {\n",
              "    const li = document.createElement('li');\n",
              "    li.append(span(file.name, {fontWeight: 'bold'}));\n",
              "    li.append(span(\n",
              "        `(${file.type || 'n/a'}) - ${file.size} bytes, ` +\n",
              "        `last modified: ${\n",
              "            file.lastModifiedDate ? file.lastModifiedDate.toLocaleDateString() :\n",
              "                                    'n/a'} - `));\n",
              "    const percent = span('0% done');\n",
              "    li.appendChild(percent);\n",
              "\n",
              "    outputElement.appendChild(li);\n",
              "\n",
              "    const fileDataPromise = new Promise((resolve) => {\n",
              "      const reader = new FileReader();\n",
              "      reader.onload = (e) => {\n",
              "        resolve(e.target.result);\n",
              "      };\n",
              "      reader.readAsArrayBuffer(file);\n",
              "    });\n",
              "    // Wait for the data to be ready.\n",
              "    let fileData = yield {\n",
              "      promise: fileDataPromise,\n",
              "      response: {\n",
              "        action: 'continue',\n",
              "      }\n",
              "    };\n",
              "\n",
              "    // Use a chunked sending to avoid message size limits. See b/62115660.\n",
              "    let position = 0;\n",
              "    do {\n",
              "      const length = Math.min(fileData.byteLength - position, MAX_PAYLOAD_SIZE);\n",
              "      const chunk = new Uint8Array(fileData, position, length);\n",
              "      position += length;\n",
              "\n",
              "      const base64 = btoa(String.fromCharCode.apply(null, chunk));\n",
              "      yield {\n",
              "        response: {\n",
              "          action: 'append',\n",
              "          file: file.name,\n",
              "          data: base64,\n",
              "        },\n",
              "      };\n",
              "\n",
              "      let percentDone = fileData.byteLength === 0 ?\n",
              "          100 :\n",
              "          Math.round((position / fileData.byteLength) * 100);\n",
              "      percent.textContent = `${percentDone}% done`;\n",
              "\n",
              "    } while (position < fileData.byteLength);\n",
              "  }\n",
              "\n",
              "  // All done.\n",
              "  yield {\n",
              "    response: {\n",
              "      action: 'complete',\n",
              "    }\n",
              "  };\n",
              "}\n",
              "\n",
              "scope.google = scope.google || {};\n",
              "scope.google.colab = scope.google.colab || {};\n",
              "scope.google.colab._files = {\n",
              "  _uploadFiles,\n",
              "  _uploadFilesContinue,\n",
              "};\n",
              "})(self);\n",
              "</script> "
            ]
          },
          "metadata": {}
        },
        {
          "output_type": "stream",
          "name": "stdout",
          "text": [
            "Saving Budget_raw.xlsx to Budget_raw.xlsx\n"
          ]
        }
      ]
    },
    {
      "cell_type": "code",
      "source": [
        "# check if Budget_raw.xlsx is on cwd ==> Module_4\n",
        "os.listdir()"
      ],
      "metadata": {
        "id": "nSXj3cOHrAxn",
        "colab": {
          "base_uri": "https://localhost:8080/"
        },
        "outputId": "c9edcab7-647d-484f-8c09-db9fd24bc1d3"
      },
      "id": "nSXj3cOHrAxn",
      "execution_count": 25,
      "outputs": [
        {
          "output_type": "execute_result",
          "data": {
            "text/plain": [
              "['images', 'Budget_raw.xlsx']"
            ]
          },
          "metadata": {},
          "execution_count": 25
        }
      ]
    },
    {
      "cell_type": "code",
      "source": [
        "os.listdir('/content/gdrive/MyDrive/Colab Notebooks')\n"
      ],
      "metadata": {
        "colab": {
          "base_uri": "https://localhost:8080/"
        },
        "id": "gSaxeAK3ro7C",
        "outputId": "c272f945-0ec0-4e96-8838-8a1bb21ac8ef"
      },
      "id": "gSaxeAK3ro7C",
      "execution_count": 26,
      "outputs": [
        {
          "output_type": "execute_result",
          "data": {
            "text/plain": [
              "['Budget_UseCase_Module_4.ipynb']"
            ]
          },
          "metadata": {},
          "execution_count": 26
        }
      ]
    },
    {
      "cell_type": "code",
      "source": [
        "# check the notebook in your Colab Notebooks\n",
        "\n",
        "# if you want to delete a specific notebook in your drive, uncomment\n",
        "#os.unlink('/content/gdrive/MyDrive/Colab Notebooks/Budget_UseCase_Module_4.ipynb')\n",
        "#os.unlink('/content/gdrive/MyDrive/Colab Notebooks/Copy of Budget_UseCase_Module_4 (1).ipynb')\n",
        "#os.unlink('/content/gdrive/MyDrive/Colab Notebooks/Copy of Budget_UseCase_Module_4 (2).ipynb')\n",
        "#os.unlink('/content/gdrive/MyDrive/Colab Notebooks/Copy of Budget_UseCase_Module_4 (3).ipynb')\n",
        "\n",
        "# check again the files in Colab Notebooks\n",
        "os.listdir('/content/gdrive/MyDrive/Colab Notebooks')"
      ],
      "metadata": {
        "id": "5Cg1Algsq7Xo",
        "colab": {
          "base_uri": "https://localhost:8080/"
        },
        "outputId": "a2470f8d-b3dc-46da-9fb7-7d0fc089c6cf"
      },
      "id": "5Cg1Algsq7Xo",
      "execution_count": 27,
      "outputs": [
        {
          "output_type": "execute_result",
          "data": {
            "text/plain": [
              "['Budget_UseCase_Module_4.ipynb']"
            ]
          },
          "metadata": {},
          "execution_count": 27
        }
      ]
    },
    {
      "cell_type": "code",
      "source": [
        "# if you save it in Drive and it was saved as a copy then rename it \n",
        "\n",
        "# rename\n",
        "'''\n",
        "os.rename('/content/gdrive/MyDrive/Colab Notebooks/Copy of Budget_UseCase_Module_4.ipynb', \n",
        "          '/content/gdrive/MyDrive/Colab Notebooks/Budget_UseCase_Module_4.ipynb') \n",
        "\n",
        "'''\n",
        "\n",
        "# check again the files in Colab Notebooks\n",
        "os.listdir('/content/gdrive/MyDrive/Colab Notebooks')"
      ],
      "metadata": {
        "id": "yfzZgjJEXrjU",
        "colab": {
          "base_uri": "https://localhost:8080/"
        },
        "outputId": "2370eae1-3d8a-4192-fed6-10dc5d298ea1"
      },
      "id": "yfzZgjJEXrjU",
      "execution_count": 28,
      "outputs": [
        {
          "output_type": "execute_result",
          "data": {
            "text/plain": [
              "['Budget_UseCase_Module_4.ipynb']"
            ]
          },
          "metadata": {},
          "execution_count": 28
        }
      ]
    },
    {
      "cell_type": "code",
      "source": [
        "# check if you have the latest version of notebook\n",
        "# get the time of file creation/modification\n",
        "\n",
        "import time\n",
        " \n",
        "# Path to the file/directory\n",
        "path = \"/content/gdrive/MyDrive/Colab Notebooks/Budget_UseCase_Module_4.ipynb\"\n",
        "# path = \"Budget_UseCase_Module_4.ipynb\" # from cwd\n",
        " \n",
        "# Both the variables would contain time\n",
        "\n",
        "ti_c = os.path.getctime(path) # time of creation\n",
        "ti_m = os.path.getmtime(path) # time of modification\n",
        "\n",
        "\n",
        "# Converting the time in seconds to a timestamp\n",
        "c_ti = time.ctime(ti_c)\n",
        "m_ti = time.ctime(ti_m)\n",
        " \n",
        "print(f\"The file located at the path {path} \\\n",
        "was created at {c_ti} and was \"\n",
        "      f\"last modified at {m_ti}\")"
      ],
      "metadata": {
        "colab": {
          "base_uri": "https://localhost:8080/"
        },
        "id": "kWNQZAqtI3fm",
        "outputId": "6b938155-1a0e-4df3-fef2-095d624e8fba"
      },
      "id": "kWNQZAqtI3fm",
      "execution_count": 29,
      "outputs": [
        {
          "output_type": "stream",
          "name": "stdout",
          "text": [
            "The file located at the path /content/gdrive/MyDrive/Colab Notebooks/Budget_UseCase_Module_4.ipynb was created at Thu Mar  9 23:25:32 2023 and was last modified at Thu Mar  9 23:25:32 2023\n"
          ]
        }
      ]
    },
    {
      "cell_type": "code",
      "source": [
        "# copy notebook \"Excel_processing_Basics_Colab_Module_4\" in your cwd MOdule_4\n",
        "\n",
        "folder = '/content/gdrive/MyDrive/Module_4' # path to were to move\n",
        "notebook = '/content/gdrive/MyDrive/Colab Notebooks/Budget_UseCase_Module_4.ipynb' # path from the where to get the notebook\n",
        "\n",
        "# copy (or move) from google colab to module_4, if you like to move ==> .move\n",
        "shutil.copy(notebook, # file/folder to cut/copy\n",
        "            folder) # folder where to move"
      ],
      "metadata": {
        "id": "OdtpC7mtrJ6d",
        "colab": {
          "base_uri": "https://localhost:8080/",
          "height": 36
        },
        "outputId": "1c1390bc-abb4-411d-edc1-a61deed91917"
      },
      "id": "OdtpC7mtrJ6d",
      "execution_count": 30,
      "outputs": [
        {
          "output_type": "execute_result",
          "data": {
            "text/plain": [
              "'/content/gdrive/MyDrive/Module_4/Budget_UseCase_Module_4.ipynb'"
            ],
            "application/vnd.google.colaboratory.intrinsic+json": {
              "type": "string"
            }
          },
          "metadata": {},
          "execution_count": 30
        }
      ]
    },
    {
      "cell_type": "code",
      "source": [
        "#containing of cwd\n",
        "os.listdir()"
      ],
      "metadata": {
        "colab": {
          "base_uri": "https://localhost:8080/"
        },
        "id": "EaVqMV27gSMT",
        "outputId": "a4571fa5-8556-4472-b67a-c2b0ba3705ee"
      },
      "id": "EaVqMV27gSMT",
      "execution_count": 31,
      "outputs": [
        {
          "output_type": "execute_result",
          "data": {
            "text/plain": [
              "['images', 'Budget_raw.xlsx', 'Budget_UseCase_Module_4.ipynb']"
            ]
          },
          "metadata": {},
          "execution_count": 31
        }
      ]
    },
    {
      "cell_type": "markdown",
      "source": [
        "In paralel, \n",
        "\n",
        "\n",
        "\n",
        "*   we will be working with *pandas* : for data operations, like summing, % change, group by... \n",
        "*   we will be working with *openpyxl* to write the modifications in excel: inserting/writing new columns at locations we want\n",
        "\n"
      ],
      "metadata": {
        "id": "LSQTqCcF1osN"
      },
      "id": "LSQTqCcF1osN"
    },
    {
      "cell_type": "markdown",
      "id": "ff90bf43-6195-411c-a519-4464e3f1e354",
      "metadata": {
        "id": "ff90bf43-6195-411c-a519-4464e3f1e354"
      },
      "source": [
        "# 2.&nbsp;DF pandas, read Excel"
      ]
    },
    {
      "cell_type": "markdown",
      "source": [
        "## Loading excel in DF"
      ],
      "metadata": {
        "id": "vriDx3FC2li9"
      },
      "id": "vriDx3FC2li9"
    },
    {
      "cell_type": "code",
      "execution_count": 32,
      "id": "47818957",
      "metadata": {
        "id": "47818957",
        "colab": {
          "base_uri": "https://localhost:8080/",
          "height": 362
        },
        "outputId": "b7272633-5f0a-4add-f25b-e0c6c0483947"
      },
      "outputs": [
        {
          "output_type": "execute_result",
          "data": {
            "text/plain": [
              "  Business Department Region  Jan Income  Feb Income  Mar Income  Apr Income  \\\n",
              "0    B2C_1      Loans     AT     5924.95     4680.71     7406.19     7169.19   \n",
              "1    B2C_1      Loans     AT     5924.95     7346.94     6872.94     4739.96   \n",
              "2    B2C_1      Loans     AT     5924.95     7406.19     6043.45     6161.95   \n",
              "3    B2C_1   Services     AT     5924.95     5865.70     7406.19     4858.46   \n",
              "4    B2C_1      Loans     AT     5924.95     6280.45     6102.70     6339.70   \n",
              "5    B2C_1      Loans     AT     5867.90     7334.88     6102.62     4987.72   \n",
              "6    B2C_1      Loans     AT     5824.70     6814.90     6989.64     4543.27   \n",
              "7    B2C_1      Loans     AT     5924.95     5391.70     4976.96     7346.94   \n",
              "\n",
              "   May Income  Jun Income  Jan Expenditure  Feb Expenditure  Mar Expenditure  \\\n",
              "0     7406.19     5213.96          5178.13          3883.60          3534.08   \n",
              "1     6280.45     6576.69          3913.87          3835.59          4410.93   \n",
              "2     6161.95     5924.95          4386.71          3377.77          3411.55   \n",
              "3     5984.20     7169.19          4840.73          4743.92          5692.70   \n",
              "4     5865.70     6458.20          5875.00          5698.75          5983.69   \n",
              "5     6043.94     6396.01          2229.34          2162.46          2551.70   \n",
              "6     6465.42     5649.96          2199.00          1737.21          2015.16   \n",
              "7     6102.70     5806.45          3924.12          3767.16          4068.53   \n",
              "\n",
              "   Apr Expenditure  May Expenditure  Jun Expenditure  \n",
              "0          4240.90          3731.99          4217.15  \n",
              "1          4058.06          4220.38          5064.46  \n",
              "2          3206.86          3399.27          3229.31  \n",
              "3          5123.43          4867.26          5500.00  \n",
              "4          6701.73          7505.94          8481.71  \n",
              "5          2908.94          3112.57          3237.07  \n",
              "6          2115.92          1883.17          1977.33  \n",
              "7          3987.16          4505.49          3964.83  "
            ],
            "text/html": [
              "\n",
              "  <div id=\"df-1fbfc3b7-433d-47ef-941f-fb1838534c9f\">\n",
              "    <div class=\"colab-df-container\">\n",
              "      <div>\n",
              "<style scoped>\n",
              "    .dataframe tbody tr th:only-of-type {\n",
              "        vertical-align: middle;\n",
              "    }\n",
              "\n",
              "    .dataframe tbody tr th {\n",
              "        vertical-align: top;\n",
              "    }\n",
              "\n",
              "    .dataframe thead th {\n",
              "        text-align: right;\n",
              "    }\n",
              "</style>\n",
              "<table border=\"1\" class=\"dataframe\">\n",
              "  <thead>\n",
              "    <tr style=\"text-align: right;\">\n",
              "      <th></th>\n",
              "      <th>Business</th>\n",
              "      <th>Department</th>\n",
              "      <th>Region</th>\n",
              "      <th>Jan Income</th>\n",
              "      <th>Feb Income</th>\n",
              "      <th>Mar Income</th>\n",
              "      <th>Apr Income</th>\n",
              "      <th>May Income</th>\n",
              "      <th>Jun Income</th>\n",
              "      <th>Jan Expenditure</th>\n",
              "      <th>Feb Expenditure</th>\n",
              "      <th>Mar Expenditure</th>\n",
              "      <th>Apr Expenditure</th>\n",
              "      <th>May Expenditure</th>\n",
              "      <th>Jun Expenditure</th>\n",
              "    </tr>\n",
              "  </thead>\n",
              "  <tbody>\n",
              "    <tr>\n",
              "      <th>0</th>\n",
              "      <td>B2C_1</td>\n",
              "      <td>Loans</td>\n",
              "      <td>AT</td>\n",
              "      <td>5924.95</td>\n",
              "      <td>4680.71</td>\n",
              "      <td>7406.19</td>\n",
              "      <td>7169.19</td>\n",
              "      <td>7406.19</td>\n",
              "      <td>5213.96</td>\n",
              "      <td>5178.13</td>\n",
              "      <td>3883.60</td>\n",
              "      <td>3534.08</td>\n",
              "      <td>4240.90</td>\n",
              "      <td>3731.99</td>\n",
              "      <td>4217.15</td>\n",
              "    </tr>\n",
              "    <tr>\n",
              "      <th>1</th>\n",
              "      <td>B2C_1</td>\n",
              "      <td>Loans</td>\n",
              "      <td>AT</td>\n",
              "      <td>5924.95</td>\n",
              "      <td>7346.94</td>\n",
              "      <td>6872.94</td>\n",
              "      <td>4739.96</td>\n",
              "      <td>6280.45</td>\n",
              "      <td>6576.69</td>\n",
              "      <td>3913.87</td>\n",
              "      <td>3835.59</td>\n",
              "      <td>4410.93</td>\n",
              "      <td>4058.06</td>\n",
              "      <td>4220.38</td>\n",
              "      <td>5064.46</td>\n",
              "    </tr>\n",
              "    <tr>\n",
              "      <th>2</th>\n",
              "      <td>B2C_1</td>\n",
              "      <td>Loans</td>\n",
              "      <td>AT</td>\n",
              "      <td>5924.95</td>\n",
              "      <td>7406.19</td>\n",
              "      <td>6043.45</td>\n",
              "      <td>6161.95</td>\n",
              "      <td>6161.95</td>\n",
              "      <td>5924.95</td>\n",
              "      <td>4386.71</td>\n",
              "      <td>3377.77</td>\n",
              "      <td>3411.55</td>\n",
              "      <td>3206.86</td>\n",
              "      <td>3399.27</td>\n",
              "      <td>3229.31</td>\n",
              "    </tr>\n",
              "    <tr>\n",
              "      <th>3</th>\n",
              "      <td>B2C_1</td>\n",
              "      <td>Services</td>\n",
              "      <td>AT</td>\n",
              "      <td>5924.95</td>\n",
              "      <td>5865.70</td>\n",
              "      <td>7406.19</td>\n",
              "      <td>4858.46</td>\n",
              "      <td>5984.20</td>\n",
              "      <td>7169.19</td>\n",
              "      <td>4840.73</td>\n",
              "      <td>4743.92</td>\n",
              "      <td>5692.70</td>\n",
              "      <td>5123.43</td>\n",
              "      <td>4867.26</td>\n",
              "      <td>5500.00</td>\n",
              "    </tr>\n",
              "    <tr>\n",
              "      <th>4</th>\n",
              "      <td>B2C_1</td>\n",
              "      <td>Loans</td>\n",
              "      <td>AT</td>\n",
              "      <td>5924.95</td>\n",
              "      <td>6280.45</td>\n",
              "      <td>6102.70</td>\n",
              "      <td>6339.70</td>\n",
              "      <td>5865.70</td>\n",
              "      <td>6458.20</td>\n",
              "      <td>5875.00</td>\n",
              "      <td>5698.75</td>\n",
              "      <td>5983.69</td>\n",
              "      <td>6701.73</td>\n",
              "      <td>7505.94</td>\n",
              "      <td>8481.71</td>\n",
              "    </tr>\n",
              "    <tr>\n",
              "      <th>5</th>\n",
              "      <td>B2C_1</td>\n",
              "      <td>Loans</td>\n",
              "      <td>AT</td>\n",
              "      <td>5867.90</td>\n",
              "      <td>7334.88</td>\n",
              "      <td>6102.62</td>\n",
              "      <td>4987.72</td>\n",
              "      <td>6043.94</td>\n",
              "      <td>6396.01</td>\n",
              "      <td>2229.34</td>\n",
              "      <td>2162.46</td>\n",
              "      <td>2551.70</td>\n",
              "      <td>2908.94</td>\n",
              "      <td>3112.57</td>\n",
              "      <td>3237.07</td>\n",
              "    </tr>\n",
              "    <tr>\n",
              "      <th>6</th>\n",
              "      <td>B2C_1</td>\n",
              "      <td>Loans</td>\n",
              "      <td>AT</td>\n",
              "      <td>5824.70</td>\n",
              "      <td>6814.90</td>\n",
              "      <td>6989.64</td>\n",
              "      <td>4543.27</td>\n",
              "      <td>6465.42</td>\n",
              "      <td>5649.96</td>\n",
              "      <td>2199.00</td>\n",
              "      <td>1737.21</td>\n",
              "      <td>2015.16</td>\n",
              "      <td>2115.92</td>\n",
              "      <td>1883.17</td>\n",
              "      <td>1977.33</td>\n",
              "    </tr>\n",
              "    <tr>\n",
              "      <th>7</th>\n",
              "      <td>B2C_1</td>\n",
              "      <td>Loans</td>\n",
              "      <td>AT</td>\n",
              "      <td>5924.95</td>\n",
              "      <td>5391.70</td>\n",
              "      <td>4976.96</td>\n",
              "      <td>7346.94</td>\n",
              "      <td>6102.70</td>\n",
              "      <td>5806.45</td>\n",
              "      <td>3924.12</td>\n",
              "      <td>3767.16</td>\n",
              "      <td>4068.53</td>\n",
              "      <td>3987.16</td>\n",
              "      <td>4505.49</td>\n",
              "      <td>3964.83</td>\n",
              "    </tr>\n",
              "  </tbody>\n",
              "</table>\n",
              "</div>\n",
              "      <button class=\"colab-df-convert\" onclick=\"convertToInteractive('df-1fbfc3b7-433d-47ef-941f-fb1838534c9f')\"\n",
              "              title=\"Convert this dataframe to an interactive table.\"\n",
              "              style=\"display:none;\">\n",
              "        \n",
              "  <svg xmlns=\"http://www.w3.org/2000/svg\" height=\"24px\"viewBox=\"0 0 24 24\"\n",
              "       width=\"24px\">\n",
              "    <path d=\"M0 0h24v24H0V0z\" fill=\"none\"/>\n",
              "    <path d=\"M18.56 5.44l.94 2.06.94-2.06 2.06-.94-2.06-.94-.94-2.06-.94 2.06-2.06.94zm-11 1L8.5 8.5l.94-2.06 2.06-.94-2.06-.94L8.5 2.5l-.94 2.06-2.06.94zm10 10l.94 2.06.94-2.06 2.06-.94-2.06-.94-.94-2.06-.94 2.06-2.06.94z\"/><path d=\"M17.41 7.96l-1.37-1.37c-.4-.4-.92-.59-1.43-.59-.52 0-1.04.2-1.43.59L10.3 9.45l-7.72 7.72c-.78.78-.78 2.05 0 2.83L4 21.41c.39.39.9.59 1.41.59.51 0 1.02-.2 1.41-.59l7.78-7.78 2.81-2.81c.8-.78.8-2.07 0-2.86zM5.41 20L4 18.59l7.72-7.72 1.47 1.35L5.41 20z\"/>\n",
              "  </svg>\n",
              "      </button>\n",
              "      \n",
              "  <style>\n",
              "    .colab-df-container {\n",
              "      display:flex;\n",
              "      flex-wrap:wrap;\n",
              "      gap: 12px;\n",
              "    }\n",
              "\n",
              "    .colab-df-convert {\n",
              "      background-color: #E8F0FE;\n",
              "      border: none;\n",
              "      border-radius: 50%;\n",
              "      cursor: pointer;\n",
              "      display: none;\n",
              "      fill: #1967D2;\n",
              "      height: 32px;\n",
              "      padding: 0 0 0 0;\n",
              "      width: 32px;\n",
              "    }\n",
              "\n",
              "    .colab-df-convert:hover {\n",
              "      background-color: #E2EBFA;\n",
              "      box-shadow: 0px 1px 2px rgba(60, 64, 67, 0.3), 0px 1px 3px 1px rgba(60, 64, 67, 0.15);\n",
              "      fill: #174EA6;\n",
              "    }\n",
              "\n",
              "    [theme=dark] .colab-df-convert {\n",
              "      background-color: #3B4455;\n",
              "      fill: #D2E3FC;\n",
              "    }\n",
              "\n",
              "    [theme=dark] .colab-df-convert:hover {\n",
              "      background-color: #434B5C;\n",
              "      box-shadow: 0px 1px 3px 1px rgba(0, 0, 0, 0.15);\n",
              "      filter: drop-shadow(0px 1px 2px rgba(0, 0, 0, 0.3));\n",
              "      fill: #FFFFFF;\n",
              "    }\n",
              "  </style>\n",
              "\n",
              "      <script>\n",
              "        const buttonEl =\n",
              "          document.querySelector('#df-1fbfc3b7-433d-47ef-941f-fb1838534c9f button.colab-df-convert');\n",
              "        buttonEl.style.display =\n",
              "          google.colab.kernel.accessAllowed ? 'block' : 'none';\n",
              "\n",
              "        async function convertToInteractive(key) {\n",
              "          const element = document.querySelector('#df-1fbfc3b7-433d-47ef-941f-fb1838534c9f');\n",
              "          const dataTable =\n",
              "            await google.colab.kernel.invokeFunction('convertToInteractive',\n",
              "                                                     [key], {});\n",
              "          if (!dataTable) return;\n",
              "\n",
              "          const docLinkHtml = 'Like what you see? Visit the ' +\n",
              "            '<a target=\"_blank\" href=https://colab.research.google.com/notebooks/data_table.ipynb>data table notebook</a>'\n",
              "            + ' to learn more about interactive tables.';\n",
              "          element.innerHTML = '';\n",
              "          dataTable['output_type'] = 'display_data';\n",
              "          await google.colab.output.renderOutput(dataTable, element);\n",
              "          const docLink = document.createElement('div');\n",
              "          docLink.innerHTML = docLinkHtml;\n",
              "          element.appendChild(docLink);\n",
              "        }\n",
              "      </script>\n",
              "    </div>\n",
              "  </div>\n",
              "  "
            ]
          },
          "metadata": {},
          "execution_count": 32
        }
      ],
      "source": [
        "# read excel 'Budget_raw.xlsx' and load it in a dataframe\n",
        "\n",
        "filename='Budget_raw.xlsx'\n",
        "# read the excel\n",
        "df = pd.read_excel(filename, \n",
        "                   header=0) # the row 0 will be as our headers\n",
        "df = pd.DataFrame(df)\n",
        "# df = df.set_index(['Region', 'Business', 'Department'])\n",
        "\n",
        "# display first 8 rows\n",
        "df.head(8)"
      ]
    },
    {
      "cell_type": "markdown",
      "source": [
        "## Explore the DF"
      ],
      "metadata": {
        "id": "ml-o8zAzRsub"
      },
      "id": "ml-o8zAzRsub"
    },
    {
      "cell_type": "code",
      "source": [
        "# dimensions and column names\n",
        "\n",
        "print('df dimensions: ', df.shape)\n",
        "print('df lengh: ', len(df))\n",
        "print('df columns: ', df.columns)"
      ],
      "metadata": {
        "colab": {
          "base_uri": "https://localhost:8080/"
        },
        "id": "MpF0c1LnR2GW",
        "outputId": "e4c08e6c-428c-4371-f261-5354be6c1c73"
      },
      "id": "MpF0c1LnR2GW",
      "execution_count": 33,
      "outputs": [
        {
          "output_type": "stream",
          "name": "stdout",
          "text": [
            "df dimensions:  (1937, 15)\n",
            "df lengh:  1937\n",
            "df columns:  Index(['Business', 'Department', 'Region', 'Jan Income', 'Feb Income',\n",
            "       'Mar Income', 'Apr Income', 'May Income', 'Jun Income',\n",
            "       'Jan Expenditure', 'Feb Expenditure', 'Mar Expenditure',\n",
            "       'Apr Expenditure', 'May Expenditure', 'Jun Expenditure'],\n",
            "      dtype='object')\n"
          ]
        }
      ]
    },
    {
      "cell_type": "code",
      "execution_count": 34,
      "id": "98b14cbc",
      "metadata": {
        "id": "98b14cbc",
        "colab": {
          "base_uri": "https://localhost:8080/"
        },
        "outputId": "8140fee1-702d-4825-915e-782b64c920a7"
      },
      "outputs": [
        {
          "output_type": "stream",
          "name": "stdout",
          "text": [
            "<class 'pandas.core.frame.DataFrame'>\n",
            "RangeIndex: 1937 entries, 0 to 1936\n",
            "Data columns (total 15 columns):\n",
            " #   Column           Non-Null Count  Dtype  \n",
            "---  ------           --------------  -----  \n",
            " 0   Business         1937 non-null   object \n",
            " 1   Department       1937 non-null   object \n",
            " 2   Region           1937 non-null   object \n",
            " 3   Jan Income       1937 non-null   float64\n",
            " 4   Feb Income       1937 non-null   float64\n",
            " 5   Mar Income       1937 non-null   float64\n",
            " 6   Apr Income       1937 non-null   float64\n",
            " 7   May Income       1937 non-null   float64\n",
            " 8   Jun Income       1937 non-null   float64\n",
            " 9   Jan Expenditure  1937 non-null   float64\n",
            " 10  Feb Expenditure  1937 non-null   float64\n",
            " 11  Mar Expenditure  1937 non-null   float64\n",
            " 12  Apr Expenditure  1937 non-null   float64\n",
            " 13  May Expenditure  1937 non-null   float64\n",
            " 14  Jun Expenditure  1937 non-null   float64\n",
            "dtypes: float64(12), object(3)\n",
            "memory usage: 227.1+ KB\n"
          ]
        }
      ],
      "source": [
        "# check data types for each column\n",
        "df.info()"
      ]
    },
    {
      "cell_type": "code",
      "source": [
        "# how many Business categories\n",
        "\n",
        "df['Business'].unique()"
      ],
      "metadata": {
        "colab": {
          "base_uri": "https://localhost:8080/"
        },
        "id": "YsA2N-hBR6ai",
        "outputId": "fc76bcb4-60df-491a-dc3f-d0724592d7d2"
      },
      "id": "YsA2N-hBR6ai",
      "execution_count": 35,
      "outputs": [
        {
          "output_type": "execute_result",
          "data": {
            "text/plain": [
              "array(['B2C_1', 'B2B', 'Fleet', 'B2C_2'], dtype=object)"
            ]
          },
          "metadata": {},
          "execution_count": 35
        }
      ]
    },
    {
      "cell_type": "code",
      "source": [
        "# how many Departmens categories\n",
        "\n",
        "df['Department'].unique()"
      ],
      "metadata": {
        "colab": {
          "base_uri": "https://localhost:8080/"
        },
        "id": "YtBIqMm0SDwk",
        "outputId": "b9761c9b-7f9e-4025-8b00-53eef21ad58c"
      },
      "id": "YtBIqMm0SDwk",
      "execution_count": 36,
      "outputs": [
        {
          "output_type": "execute_result",
          "data": {
            "text/plain": [
              "array(['Loans', 'Services', 'Assistance', 'Maintenance', 'Fees'],\n",
              "      dtype=object)"
            ]
          },
          "metadata": {},
          "execution_count": 36
        }
      ]
    },
    {
      "cell_type": "code",
      "source": [
        "# how many Regions categories\n",
        "\n",
        "df['Region'].unique()"
      ],
      "metadata": {
        "colab": {
          "base_uri": "https://localhost:8080/"
        },
        "id": "2rFWE1LISJr6",
        "outputId": "da68d714-04ba-41e1-ca44-03616b1f6885"
      },
      "id": "2rFWE1LISJr6",
      "execution_count": 37,
      "outputs": [
        {
          "output_type": "execute_result",
          "data": {
            "text/plain": [
              "array(['AT', 'BE', 'DE', 'DK', 'FR', 'IE', 'IT', 'NL', 'PL', 'PT', 'UK'],\n",
              "      dtype=object)"
            ]
          },
          "metadata": {},
          "execution_count": 37
        }
      ]
    },
    {
      "cell_type": "markdown",
      "id": "eeee9a1d-f96b-428f-b053-d3bb993d46cd",
      "metadata": {
        "id": "eeee9a1d-f96b-428f-b053-d3bb993d46cd"
      },
      "source": [
        "# 3.&nbsp;Excel workbook"
      ]
    },
    {
      "cell_type": "markdown",
      "source": [
        "## Load in workbook"
      ],
      "metadata": {
        "id": "2Jmx--vLS5M3"
      },
      "id": "2Jmx--vLS5M3"
    },
    {
      "cell_type": "code",
      "execution_count": 39,
      "id": "b864f82b",
      "metadata": {
        "id": "b864f82b"
      },
      "outputs": [],
      "source": [
        "# load a workbook in wb var\n",
        "# be carefull, the excel file should be closed on your computer in order to access it\n",
        "\n",
        "# load Budget_raw.xlsx workbook\n",
        "filename = 'Budget_raw.xlsx'\n",
        "wb = load_workbook(filename= filename, #relative path\n",
        "                   #read_only=True, # optimised for reading, content cannot be edited\n",
        "                   data_only =True) # controls whether cells with formulae have either the formula (default) or the value stored the last time Excel read the sheet"
      ]
    },
    {
      "cell_type": "code",
      "execution_count": 40,
      "id": "76200526",
      "metadata": {
        "id": "76200526",
        "colab": {
          "base_uri": "https://localhost:8080/"
        },
        "outputId": "e04053a1-24b0-42bc-d94d-066a574de834"
      },
      "outputs": [
        {
          "output_type": "execute_result",
          "data": {
            "text/plain": [
              "['Data', 'Department']"
            ]
          },
          "metadata": {},
          "execution_count": 40
        }
      ],
      "source": [
        "# get sheetnames of the workbook\n",
        "wb.sheetnames"
      ]
    },
    {
      "cell_type": "raw",
      "id": "5c4ee9a7-a527-40df-a7c5-fbd8783d0f52",
      "metadata": {
        "id": "5c4ee9a7-a527-40df-a7c5-fbd8783d0f52"
      },
      "source": [
        "## Metadata"
      ]
    },
    {
      "cell_type": "markdown",
      "source": [
        "We can explore/ add some metadata about the excel, like : author, description, some keywords..."
      ],
      "metadata": {
        "id": "6QouqZwRsK59"
      },
      "id": "6QouqZwRsK59"
    },
    {
      "cell_type": "code",
      "execution_count": 41,
      "id": "625867b7-dc01-4c50-aaf1-355ba56235f5",
      "metadata": {
        "id": "625867b7-dc01-4c50-aaf1-355ba56235f5",
        "colab": {
          "base_uri": "https://localhost:8080/"
        },
        "outputId": "22e3ded3-41c0-4385-a5a7-8f0d6b56da18"
      },
      "outputs": [
        {
          "output_type": "execute_result",
          "data": {
            "text/plain": [
              "<openpyxl.packaging.core.DocumentProperties object>\n",
              "Parameters:\n",
              "creator=None, title=None, description=None, subject=None, identifier=None, language=None, created=datetime.datetime(2017, 6, 9, 0, 53, 13), modified=datetime.datetime(2022, 11, 21, 13, 49), lastModifiedBy=None, category=None, contentStatus=None, version=None, revision=None, keywords=None, lastPrinted=None"
            ]
          },
          "metadata": {},
          "execution_count": 41
        }
      ],
      "source": [
        "# Metadata => information about your excel\n",
        "wb.properties"
      ]
    },
    {
      "cell_type": "code",
      "execution_count": 42,
      "id": "6989f6fc-5b0f-4c4d-aa6e-4769d3ee310b",
      "metadata": {
        "id": "6989f6fc-5b0f-4c4d-aa6e-4769d3ee310b",
        "colab": {
          "base_uri": "https://localhost:8080/"
        },
        "outputId": "9154a421-5459-4960-977d-bc4a598045b8"
      },
      "outputs": [
        {
          "output_type": "execute_result",
          "data": {
            "text/plain": [
              "<openpyxl.packaging.core.DocumentProperties object>\n",
              "Parameters:\n",
              "creator='Cristina Teleuca', title='Budget_Processed Excel Automation', description='Excel Manipulation with Python openpyxl', subject=None, identifier=None, language=None, created=datetime.datetime(2023, 2, 1, 8, 0), modified=datetime.datetime(2023, 3, 10, 2, 17, 48, 483411), lastModifiedBy=None, category=None, contentStatus=None, version=None, revision=None, keywords=\"['Excel', 'Automation', 'Python', 'openpyxl']\", lastPrinted=None"
            ]
          },
          "metadata": {},
          "execution_count": 42
        }
      ],
      "source": [
        "# add some metadata about the excel\n",
        "\n",
        "wb.properties.title  = 'Budget_Processed Excel Automation'\n",
        "wb.properties.creator  = 'Cristina Teleuca'\n",
        "wb.properties.description  = 'Excel Manipulation with Python openpyxl' \n",
        "wb.properties.keywords  = ['Excel', 'Automation', 'Python', 'openpyxl']\n",
        "wb.properties.created = datetime.datetime(2023, 2, 1, 8, 00, 00)\n",
        "wb.properties.modified = datetime.datetime.now()\n",
        "\n",
        "wb.properties"
      ]
    },
    {
      "cell_type": "raw",
      "id": "3c80fd15-8bd1-4133-a993-0b7cb6cacd19",
      "metadata": {
        "id": "3c80fd15-8bd1-4133-a993-0b7cb6cacd19"
      },
      "source": [
        "## Worksheet"
      ]
    },
    {
      "cell_type": "code",
      "execution_count": 43,
      "id": "7eaa5af7",
      "metadata": {
        "id": "7eaa5af7",
        "colab": {
          "base_uri": "https://localhost:8080/",
          "height": 36
        },
        "outputId": "60d347da-abd0-43fa-bb7a-25c5aba3803c"
      },
      "outputs": [
        {
          "output_type": "execute_result",
          "data": {
            "text/plain": [
              "'Data'"
            ],
            "application/vnd.google.colaboratory.intrinsic+json": {
              "type": "string"
            }
          },
          "metadata": {},
          "execution_count": 43
        }
      ],
      "source": [
        "# assign sheet for sheetname 'Data' the sheet we'll work with\n",
        "sheet = wb['Data']\n",
        "sheet.title"
      ]
    },
    {
      "cell_type": "code",
      "execution_count": 44,
      "id": "2d0a9c82",
      "metadata": {
        "id": "2d0a9c82",
        "colab": {
          "base_uri": "https://localhost:8080/"
        },
        "outputId": "16d71c3e-c013-4b45-cbec-528413e61bb0"
      },
      "outputs": [
        {
          "output_type": "stream",
          "name": "stdout",
          "text": [
            "1938\n",
            "15\n"
          ]
        }
      ],
      "source": [
        "# get nb of rows of a sheet\n",
        "print(sheet.max_row)\n",
        "\n",
        "# get nb of columns of a sheet\n",
        "print(sheet.max_column)"
      ]
    },
    {
      "cell_type": "code",
      "execution_count": 45,
      "id": "65ba7731",
      "metadata": {
        "id": "65ba7731",
        "colab": {
          "base_uri": "https://localhost:8080/"
        },
        "outputId": "a78286ba-f959-4d91-ee4d-d16f88f2791a"
      },
      "outputs": [
        {
          "output_type": "execute_result",
          "data": {
            "text/plain": [
              "['images',\n",
              " 'Budget_raw.xlsx',\n",
              " 'Budget_UseCase_Module_4.ipynb',\n",
              " 'Budget_processed.xlsx']"
            ]
          },
          "metadata": {},
          "execution_count": 45
        }
      ],
      "source": [
        "# save the workbook into another excel \"Budget_processed.xlsx\" \n",
        "wb.save('Budget_processed.xlsx') # just to have 2 versions: the original one and the processed one with modifications\n",
        "# check if the new excel file was created\n",
        "os.listdir()"
      ]
    },
    {
      "cell_type": "markdown",
      "id": "8f1997df",
      "metadata": {
        "id": "8f1997df"
      },
      "source": [
        "# 4.&nbsp;Excel exploration/ Dimensions/ Locations\n",
        "\n",
        "\n"
      ]
    },
    {
      "cell_type": "markdown",
      "source": [
        "## XL range"
      ],
      "metadata": {
        "id": "l0Po1IbaUW8d"
      },
      "id": "l0Po1IbaUW8d"
    },
    {
      "cell_type": "code",
      "source": [
        "df.head()"
      ],
      "metadata": {
        "id": "NzWHufniUoPj",
        "outputId": "0b5dcdca-07e8-4c17-e95f-eae145391d20",
        "colab": {
          "base_uri": "https://localhost:8080/",
          "height": 268
        }
      },
      "id": "NzWHufniUoPj",
      "execution_count": 46,
      "outputs": [
        {
          "output_type": "execute_result",
          "data": {
            "text/plain": [
              "  Business Department Region  Jan Income  Feb Income  Mar Income  Apr Income  \\\n",
              "0    B2C_1      Loans     AT     5924.95     4680.71     7406.19     7169.19   \n",
              "1    B2C_1      Loans     AT     5924.95     7346.94     6872.94     4739.96   \n",
              "2    B2C_1      Loans     AT     5924.95     7406.19     6043.45     6161.95   \n",
              "3    B2C_1   Services     AT     5924.95     5865.70     7406.19     4858.46   \n",
              "4    B2C_1      Loans     AT     5924.95     6280.45     6102.70     6339.70   \n",
              "\n",
              "   May Income  Jun Income  Jan Expenditure  Feb Expenditure  Mar Expenditure  \\\n",
              "0     7406.19     5213.96          5178.13          3883.60          3534.08   \n",
              "1     6280.45     6576.69          3913.87          3835.59          4410.93   \n",
              "2     6161.95     5924.95          4386.71          3377.77          3411.55   \n",
              "3     5984.20     7169.19          4840.73          4743.92          5692.70   \n",
              "4     5865.70     6458.20          5875.00          5698.75          5983.69   \n",
              "\n",
              "   Apr Expenditure  May Expenditure  Jun Expenditure  \n",
              "0          4240.90          3731.99          4217.15  \n",
              "1          4058.06          4220.38          5064.46  \n",
              "2          3206.86          3399.27          3229.31  \n",
              "3          5123.43          4867.26          5500.00  \n",
              "4          6701.73          7505.94          8481.71  "
            ],
            "text/html": [
              "\n",
              "  <div id=\"df-62bef5bf-f21f-4327-86e4-fbf0e32ebd1d\">\n",
              "    <div class=\"colab-df-container\">\n",
              "      <div>\n",
              "<style scoped>\n",
              "    .dataframe tbody tr th:only-of-type {\n",
              "        vertical-align: middle;\n",
              "    }\n",
              "\n",
              "    .dataframe tbody tr th {\n",
              "        vertical-align: top;\n",
              "    }\n",
              "\n",
              "    .dataframe thead th {\n",
              "        text-align: right;\n",
              "    }\n",
              "</style>\n",
              "<table border=\"1\" class=\"dataframe\">\n",
              "  <thead>\n",
              "    <tr style=\"text-align: right;\">\n",
              "      <th></th>\n",
              "      <th>Business</th>\n",
              "      <th>Department</th>\n",
              "      <th>Region</th>\n",
              "      <th>Jan Income</th>\n",
              "      <th>Feb Income</th>\n",
              "      <th>Mar Income</th>\n",
              "      <th>Apr Income</th>\n",
              "      <th>May Income</th>\n",
              "      <th>Jun Income</th>\n",
              "      <th>Jan Expenditure</th>\n",
              "      <th>Feb Expenditure</th>\n",
              "      <th>Mar Expenditure</th>\n",
              "      <th>Apr Expenditure</th>\n",
              "      <th>May Expenditure</th>\n",
              "      <th>Jun Expenditure</th>\n",
              "    </tr>\n",
              "  </thead>\n",
              "  <tbody>\n",
              "    <tr>\n",
              "      <th>0</th>\n",
              "      <td>B2C_1</td>\n",
              "      <td>Loans</td>\n",
              "      <td>AT</td>\n",
              "      <td>5924.95</td>\n",
              "      <td>4680.71</td>\n",
              "      <td>7406.19</td>\n",
              "      <td>7169.19</td>\n",
              "      <td>7406.19</td>\n",
              "      <td>5213.96</td>\n",
              "      <td>5178.13</td>\n",
              "      <td>3883.60</td>\n",
              "      <td>3534.08</td>\n",
              "      <td>4240.90</td>\n",
              "      <td>3731.99</td>\n",
              "      <td>4217.15</td>\n",
              "    </tr>\n",
              "    <tr>\n",
              "      <th>1</th>\n",
              "      <td>B2C_1</td>\n",
              "      <td>Loans</td>\n",
              "      <td>AT</td>\n",
              "      <td>5924.95</td>\n",
              "      <td>7346.94</td>\n",
              "      <td>6872.94</td>\n",
              "      <td>4739.96</td>\n",
              "      <td>6280.45</td>\n",
              "      <td>6576.69</td>\n",
              "      <td>3913.87</td>\n",
              "      <td>3835.59</td>\n",
              "      <td>4410.93</td>\n",
              "      <td>4058.06</td>\n",
              "      <td>4220.38</td>\n",
              "      <td>5064.46</td>\n",
              "    </tr>\n",
              "    <tr>\n",
              "      <th>2</th>\n",
              "      <td>B2C_1</td>\n",
              "      <td>Loans</td>\n",
              "      <td>AT</td>\n",
              "      <td>5924.95</td>\n",
              "      <td>7406.19</td>\n",
              "      <td>6043.45</td>\n",
              "      <td>6161.95</td>\n",
              "      <td>6161.95</td>\n",
              "      <td>5924.95</td>\n",
              "      <td>4386.71</td>\n",
              "      <td>3377.77</td>\n",
              "      <td>3411.55</td>\n",
              "      <td>3206.86</td>\n",
              "      <td>3399.27</td>\n",
              "      <td>3229.31</td>\n",
              "    </tr>\n",
              "    <tr>\n",
              "      <th>3</th>\n",
              "      <td>B2C_1</td>\n",
              "      <td>Services</td>\n",
              "      <td>AT</td>\n",
              "      <td>5924.95</td>\n",
              "      <td>5865.70</td>\n",
              "      <td>7406.19</td>\n",
              "      <td>4858.46</td>\n",
              "      <td>5984.20</td>\n",
              "      <td>7169.19</td>\n",
              "      <td>4840.73</td>\n",
              "      <td>4743.92</td>\n",
              "      <td>5692.70</td>\n",
              "      <td>5123.43</td>\n",
              "      <td>4867.26</td>\n",
              "      <td>5500.00</td>\n",
              "    </tr>\n",
              "    <tr>\n",
              "      <th>4</th>\n",
              "      <td>B2C_1</td>\n",
              "      <td>Loans</td>\n",
              "      <td>AT</td>\n",
              "      <td>5924.95</td>\n",
              "      <td>6280.45</td>\n",
              "      <td>6102.70</td>\n",
              "      <td>6339.70</td>\n",
              "      <td>5865.70</td>\n",
              "      <td>6458.20</td>\n",
              "      <td>5875.00</td>\n",
              "      <td>5698.75</td>\n",
              "      <td>5983.69</td>\n",
              "      <td>6701.73</td>\n",
              "      <td>7505.94</td>\n",
              "      <td>8481.71</td>\n",
              "    </tr>\n",
              "  </tbody>\n",
              "</table>\n",
              "</div>\n",
              "      <button class=\"colab-df-convert\" onclick=\"convertToInteractive('df-62bef5bf-f21f-4327-86e4-fbf0e32ebd1d')\"\n",
              "              title=\"Convert this dataframe to an interactive table.\"\n",
              "              style=\"display:none;\">\n",
              "        \n",
              "  <svg xmlns=\"http://www.w3.org/2000/svg\" height=\"24px\"viewBox=\"0 0 24 24\"\n",
              "       width=\"24px\">\n",
              "    <path d=\"M0 0h24v24H0V0z\" fill=\"none\"/>\n",
              "    <path d=\"M18.56 5.44l.94 2.06.94-2.06 2.06-.94-2.06-.94-.94-2.06-.94 2.06-2.06.94zm-11 1L8.5 8.5l.94-2.06 2.06-.94-2.06-.94L8.5 2.5l-.94 2.06-2.06.94zm10 10l.94 2.06.94-2.06 2.06-.94-2.06-.94-.94-2.06-.94 2.06-2.06.94z\"/><path d=\"M17.41 7.96l-1.37-1.37c-.4-.4-.92-.59-1.43-.59-.52 0-1.04.2-1.43.59L10.3 9.45l-7.72 7.72c-.78.78-.78 2.05 0 2.83L4 21.41c.39.39.9.59 1.41.59.51 0 1.02-.2 1.41-.59l7.78-7.78 2.81-2.81c.8-.78.8-2.07 0-2.86zM5.41 20L4 18.59l7.72-7.72 1.47 1.35L5.41 20z\"/>\n",
              "  </svg>\n",
              "      </button>\n",
              "      \n",
              "  <style>\n",
              "    .colab-df-container {\n",
              "      display:flex;\n",
              "      flex-wrap:wrap;\n",
              "      gap: 12px;\n",
              "    }\n",
              "\n",
              "    .colab-df-convert {\n",
              "      background-color: #E8F0FE;\n",
              "      border: none;\n",
              "      border-radius: 50%;\n",
              "      cursor: pointer;\n",
              "      display: none;\n",
              "      fill: #1967D2;\n",
              "      height: 32px;\n",
              "      padding: 0 0 0 0;\n",
              "      width: 32px;\n",
              "    }\n",
              "\n",
              "    .colab-df-convert:hover {\n",
              "      background-color: #E2EBFA;\n",
              "      box-shadow: 0px 1px 2px rgba(60, 64, 67, 0.3), 0px 1px 3px 1px rgba(60, 64, 67, 0.15);\n",
              "      fill: #174EA6;\n",
              "    }\n",
              "\n",
              "    [theme=dark] .colab-df-convert {\n",
              "      background-color: #3B4455;\n",
              "      fill: #D2E3FC;\n",
              "    }\n",
              "\n",
              "    [theme=dark] .colab-df-convert:hover {\n",
              "      background-color: #434B5C;\n",
              "      box-shadow: 0px 1px 3px 1px rgba(0, 0, 0, 0.15);\n",
              "      filter: drop-shadow(0px 1px 2px rgba(0, 0, 0, 0.3));\n",
              "      fill: #FFFFFF;\n",
              "    }\n",
              "  </style>\n",
              "\n",
              "      <script>\n",
              "        const buttonEl =\n",
              "          document.querySelector('#df-62bef5bf-f21f-4327-86e4-fbf0e32ebd1d button.colab-df-convert');\n",
              "        buttonEl.style.display =\n",
              "          google.colab.kernel.accessAllowed ? 'block' : 'none';\n",
              "\n",
              "        async function convertToInteractive(key) {\n",
              "          const element = document.querySelector('#df-62bef5bf-f21f-4327-86e4-fbf0e32ebd1d');\n",
              "          const dataTable =\n",
              "            await google.colab.kernel.invokeFunction('convertToInteractive',\n",
              "                                                     [key], {});\n",
              "          if (!dataTable) return;\n",
              "\n",
              "          const docLinkHtml = 'Like what you see? Visit the ' +\n",
              "            '<a target=\"_blank\" href=https://colab.research.google.com/notebooks/data_table.ipynb>data table notebook</a>'\n",
              "            + ' to learn more about interactive tables.';\n",
              "          element.innerHTML = '';\n",
              "          dataTable['output_type'] = 'display_data';\n",
              "          await google.colab.output.renderOutput(dataTable, element);\n",
              "          const docLink = document.createElement('div');\n",
              "          docLink.innerHTML = docLinkHtml;\n",
              "          element.appendChild(docLink);\n",
              "        }\n",
              "      </script>\n",
              "    </div>\n",
              "  </div>\n",
              "  "
            ]
          },
          "metadata": {},
          "execution_count": 46
        }
      ]
    },
    {
      "cell_type": "markdown",
      "source": [
        "Compute df_range with xl_range()\n",
        "\n",
        "The xl_range() function converts zero based row and column cell references to an A1:B1 style range string"
      ],
      "metadata": {
        "id": "KEG4_uMG4DPt"
      },
      "id": "KEG4_uMG4DPt"
    },
    {
      "cell_type": "code",
      "execution_count": 48,
      "id": "851dd70a",
      "metadata": {
        "id": "851dd70a",
        "colab": {
          "base_uri": "https://localhost:8080/"
        },
        "outputId": "df5e297c-e4df-440b-88c4-9c3bb616dab3"
      },
      "outputs": [
        {
          "output_type": "stream",
          "name": "stdout",
          "text": [
            "df shape:  1937 15\n",
            "in excel the df cellrange is :  A1:O1938\n"
          ]
        }
      ],
      "source": [
        "# compute the range of the whole dataframe \n",
        "max_row, max_col = df.shape\n",
        "print('df shape: ', max_row, max_col) \n",
        "\n",
        "# the df range in excel (A1:O1938)\n",
        "ws_range = xl_range(0, # starting row\n",
        "                    0, # starting column\n",
        "                    max_row, # last row index # 1937\n",
        "                    max_col - 1) # 15-1 ==>  last column -1 as the index starts a 0\n",
        "print('in excel the df cellrange is : ', ws_range) # !!!! don't forget to update df_range if you're adding new col or rows"
      ]
    },
    {
      "cell_type": "code",
      "execution_count": 49,
      "id": "ddf52aa7",
      "metadata": {
        "id": "ddf52aa7",
        "colab": {
          "base_uri": "https://localhost:8080/"
        },
        "outputId": "06bd0cbe-ef90-45e9-d5f9-aee4b7139f1f"
      },
      "outputs": [
        {
          "output_type": "stream",
          "name": "stdout",
          "text": [
            "1 ['Business', 'Department', 'Region', 'Jan Income', 'Feb Income', 'Mar Income', 'Apr Income', 'May Income', 'Jun Income', 'Jan Expenditure', 'Feb Expenditure', 'Mar Expenditure', 'Apr Expenditure', 'May Expenditure', 'Jun Expenditure']\n",
            "2 ['B2C_1', 'Loans', 'AT', 5924.95, 4680.71, 7406.19, 7169.19, 7406.19, 5213.96, 5178.13, 3883.6, 3534.08, 4240.9, 3731.99, 4217.15]\n",
            "3 ['B2C_1', 'Loans', 'AT', 5924.95, 7346.94, 6872.94, 4739.96, 6280.45, 6576.69, 3913.87, 3835.59, 4410.93, 4058.06, 4220.38, 5064.46]\n",
            "4 ['B2C_1', 'Loans', 'AT', 5924.95, 7406.19, 6043.45, 6161.95, 6161.95, 5924.95, 4386.71, 3377.77, 3411.55, 3206.86, 3399.27, 3229.31]\n",
            "5 ['B2C_1', 'Services', 'AT', 5924.95, 5865.7, 7406.19, 4858.46, 5984.2, 7169.19, 4840.73, 4743.92, 5692.7, 5123.43, 4867.26, 5500]\n"
          ]
        }
      ],
      "source": [
        "# Access all cells from A1 to 05\n",
        "for idx, row in enumerate(sheet['A1:O5']):\n",
        "    print(idx+1, [x.value for x in row])"
      ]
    },
    {
      "cell_type": "code",
      "source": [
        "# let's create a dictionnary where we'll store dimensions/locations of our excel\n",
        "\n",
        "ws_loc = {'max_row': max_row,\n",
        "          'max_col': max_col,\n",
        "          'df_shape': df.shape,\n",
        "          'ws_range': ws_range    \n",
        "         }\n",
        "\n",
        "ws_loc               "
      ],
      "metadata": {
        "colab": {
          "base_uri": "https://localhost:8080/"
        },
        "id": "9U7vzqxnwLo0",
        "outputId": "c65113e8-856d-4267-ee87-7f462ea6b5f7"
      },
      "id": "9U7vzqxnwLo0",
      "execution_count": 50,
      "outputs": [
        {
          "output_type": "execute_result",
          "data": {
            "text/plain": [
              "{'max_row': 1937,\n",
              " 'max_col': 15,\n",
              " 'df_shape': (1937, 15),\n",
              " 'ws_range': 'A1:O1938'}"
            ]
          },
          "metadata": {},
          "execution_count": 50
        }
      ]
    },
    {
      "cell_type": "markdown",
      "source": [
        "## Upper left corner"
      ],
      "metadata": {
        "id": "EUBwv6TCUc7B"
      },
      "id": "EUBwv6TCUc7B"
    },
    {
      "cell_type": "code",
      "execution_count": 51,
      "id": "966ceb25",
      "metadata": {
        "id": "966ceb25",
        "colab": {
          "base_uri": "https://localhost:8080/"
        },
        "outputId": "f4dc83b4-52a7-4985-dfdf-e01ee7962f74"
      },
      "outputs": [
        {
          "output_type": "stream",
          "name": "stdout",
          "text": [
            "start point: A1 start col: A\n"
          ]
        }
      ],
      "source": [
        "# start indices\n",
        "start_point = xl_rowcol_to_cell(0,0) # coordinates of top lef of df\n",
        "start_col = xl_col_to_name(0)# # get the column letter for first column\n",
        "print(\"start point:\", start_point,     \n",
        "      \"start col:\", start_col)"
      ]
    },
    {
      "cell_type": "code",
      "source": [
        "# add them to the ws_loc\n",
        "\n",
        "ws_loc['start_point']= start_point\n",
        "ws_loc['start_col']= start_col\n",
        "ws_loc"
      ],
      "metadata": {
        "colab": {
          "base_uri": "https://localhost:8080/"
        },
        "id": "DSZFNrWRw_wn",
        "outputId": "286222c9-9189-41c5-8dde-342d988c8f3c"
      },
      "id": "DSZFNrWRw_wn",
      "execution_count": 52,
      "outputs": [
        {
          "output_type": "execute_result",
          "data": {
            "text/plain": [
              "{'max_row': 1937,\n",
              " 'max_col': 15,\n",
              " 'df_shape': (1937, 15),\n",
              " 'ws_range': 'A1:O1938',\n",
              " 'start_point': 'A1',\n",
              " 'start_col': 'A'}"
            ]
          },
          "metadata": {},
          "execution_count": 52
        }
      ]
    },
    {
      "cell_type": "markdown",
      "source": [
        "## Lower right corner"
      ],
      "metadata": {
        "id": "Wm7Gsp73UiCk"
      },
      "id": "Wm7Gsp73UiCk"
    },
    {
      "cell_type": "code",
      "execution_count": 53,
      "id": "19cc3305",
      "metadata": {
        "id": "19cc3305"
      },
      "outputs": [],
      "source": [
        "# end indices\n",
        "end_point = xl_rowcol_to_cell(max_row, max_col-1) # # coordinates of bottom right of df\n",
        "end_col = xl_col_to_name(max_col-1) # get the column letter for the last column\n",
        "end_row = max_row + 1 # last row in excel (+1)\n",
        "# get the index nb of column O\n",
        "end_col_idx = column_index_from_string(end_col)"
      ]
    },
    {
      "cell_type": "code",
      "source": [
        "# add them to the ws_loc\n",
        "\n",
        "ws_loc['end_point']= end_point\n",
        "ws_loc['end_col']= end_col\n",
        "ws_loc['end_col_idx']= end_col_idx\n",
        "ws_loc['end_row']= end_row\n",
        "\n",
        "ws_loc"
      ],
      "metadata": {
        "colab": {
          "base_uri": "https://localhost:8080/"
        },
        "id": "npcpCwgaxhM1",
        "outputId": "c4cbc34a-140e-44f5-ec52-4715e877d84e"
      },
      "id": "npcpCwgaxhM1",
      "execution_count": 54,
      "outputs": [
        {
          "output_type": "execute_result",
          "data": {
            "text/plain": [
              "{'max_row': 1937,\n",
              " 'max_col': 15,\n",
              " 'df_shape': (1937, 15),\n",
              " 'ws_range': 'A1:O1938',\n",
              " 'start_point': 'A1',\n",
              " 'start_col': 'A',\n",
              " 'end_point': 'O1938',\n",
              " 'end_col': 'O',\n",
              " 'end_col_idx': 15,\n",
              " 'end_row': 1938}"
            ]
          },
          "metadata": {},
          "execution_count": 54
        }
      ]
    },
    {
      "cell_type": "markdown",
      "source": [
        "## Columns"
      ],
      "metadata": {
        "id": "EGBFKC2NUp-Z"
      },
      "id": "EGBFKC2NUp-Z"
    },
    {
      "cell_type": "markdown",
      "source": [
        "Iterate through columns to get a better feeling of columns names and their respective indices"
      ],
      "metadata": {
        "id": "h-WHpMziWXbo"
      },
      "id": "h-WHpMziWXbo"
    },
    {
      "cell_type": "code",
      "execution_count": 55,
      "id": "f67b0236",
      "metadata": {
        "id": "f67b0236",
        "colab": {
          "base_uri": "https://localhost:8080/"
        },
        "outputId": "e83e5c98-6d0e-40df-ab6e-c2f5d7ecaee6"
      },
      "outputs": [
        {
          "output_type": "stream",
          "name": "stdout",
          "text": [
            "nb of rows:  1938\n",
            "nb of columns:  15\n",
            "\n",
            "column indices and names: ... \n",
            "\n",
            "1 Business\n",
            "2 Department\n",
            "3 Region\n",
            "4 Jan Income\n",
            "5 Feb Income\n",
            "6 Mar Income\n",
            "7 Apr Income\n",
            "8 May Income\n",
            "9 Jun Income\n",
            "10 Jan Expenditure\n",
            "11 Feb Expenditure\n",
            "12 Mar Expenditure\n",
            "13 Apr Expenditure\n",
            "14 May Expenditure\n",
            "15 Jun Expenditure\n"
          ]
        }
      ],
      "source": [
        "# read all values from 1st row\n",
        "print('nb of rows: ' , sheet.max_row)\n",
        "print('nb of columns: ' , sheet.max_column)\n",
        "print('')\n",
        "\n",
        "print('column indices and names: ... ')\n",
        "print('')\n",
        "\n",
        "# iterate the 1st row values of the sheet, to see the col nb in excel and it's name\n",
        "for i in range(1, sheet.max_column+1): # add + 1, as the range function 2nd argument is not inclusive\n",
        "    ref = sheet.cell(row=1, column=i)\n",
        "    print(ref.column, ref.value)"
      ]
    },
    {
      "cell_type": "code",
      "execution_count": 56,
      "id": "3d81869c",
      "metadata": {
        "tags": [],
        "id": "3d81869c",
        "colab": {
          "base_uri": "https://localhost:8080/"
        },
        "outputId": "b98aa3e2-b927-4935-974e-d3bf75a3de5d"
      },
      "outputs": [
        {
          "output_type": "stream",
          "name": "stdout",
          "text": [
            "1 Business\n",
            "1 B2C_1\n",
            "1 B2C_1\n",
            "1 B2C_1\n",
            "1 B2C_1\n",
            "1 B2C_1\n",
            "1 B2C_1\n",
            "1 B2C_1\n",
            "1 B2C_1\n",
            "1 B2C_1\n"
          ]
        }
      ],
      "source": [
        "# iterate the 1 Column values of the sheet of the sheet up tp 10th row\n",
        "for i in range(1, 10 + 1): # add + 1, as the range function 2nd argument is not inclusive\n",
        "    ref = sheet.cell(row=i, column=1)\n",
        "    print(ref.column, ref.value)"
      ]
    },
    {
      "cell_type": "code",
      "execution_count": 57,
      "id": "66fb383a-8d1a-43a8-81a5-672146c3b386",
      "metadata": {
        "id": "66fb383a-8d1a-43a8-81a5-672146c3b386",
        "colab": {
          "base_uri": "https://localhost:8080/"
        },
        "outputId": "b7dee28b-f3d6-4721-f38e-7bcb52efaf95"
      },
      "outputs": [
        {
          "output_type": "stream",
          "name": "stdout",
          "text": [
            "2 Department\n",
            "2 Loans\n",
            "2 Loans\n",
            "2 Loans\n",
            "2 Services\n",
            "2 Loans\n",
            "2 Loans\n",
            "2 Loans\n",
            "2 Loans\n",
            "2 Loans\n"
          ]
        }
      ],
      "source": [
        "# iterate the 2nd Column values of the sheet of the sheet up tp 10th row\n",
        "for i in range(1, 10 + 1): # add + 1, as the range function 2nd argument is not inclusive\n",
        "    ref = sheet.cell(row=i, column=2)\n",
        "    print(ref.column, ref.value)"
      ]
    },
    {
      "cell_type": "code",
      "execution_count": 58,
      "id": "5f2aaae6-85ec-435c-b132-f91636d5850a",
      "metadata": {
        "id": "5f2aaae6-85ec-435c-b132-f91636d5850a",
        "colab": {
          "base_uri": "https://localhost:8080/"
        },
        "outputId": "04df976b-2c44-44f8-b786-e65ec2ff1987"
      },
      "outputs": [
        {
          "output_type": "stream",
          "name": "stdout",
          "text": [
            "15 Jun Expenditure\n",
            "15 4217.15\n",
            "15 5064.46\n",
            "15 3229.31\n",
            "15 5500\n",
            "15 8481.71\n",
            "15 3237.07\n",
            "15 1977.33\n",
            "15 3964.83\n",
            "15 2583\n"
          ]
        }
      ],
      "source": [
        "# iterate the last_column values of the sheet up tp 10th row\n",
        "last_column = sheet.max_column\n",
        "\n",
        "for i in range(1, 10 + 1): # add + 1, as the range function 2nd argument is not inclusive\n",
        "    ref = sheet.cell(row=i, column=last_column)\n",
        "    print(ref.column, ref.value)"
      ]
    },
    {
      "cell_type": "markdown",
      "source": [
        "# Part 1: Totals and Net columns"
      ],
      "metadata": {
        "id": "saUie9_1jLvu"
      },
      "id": "saUie9_1jLvu"
    },
    {
      "cell_type": "markdown",
      "id": "911b1a4b",
      "metadata": {
        "id": "911b1a4b"
      },
      "source": [
        "# 5.&nbsp;Add columns: Income, Expenditure, Net"
      ]
    },
    {
      "cell_type": "markdown",
      "source": [
        "We want to add 3 columns to our df:\n",
        "\n",
        "1.   **Total Income** (sum of all months with Income: from Jan to June)\n",
        "2.   **Total Expenditure** (sum of all months with Expenditure: from Jan to June)\n",
        "3.   **Net** (Net revenue = Total Income - Total Expenditure)\n",
        "4. We we'll need to update ws_locations because of modifications\n",
        "\n"
      ],
      "metadata": {
        "id": "cC_tHkYNU24p"
      },
      "id": "cC_tHkYNU24p"
    },
    {
      "cell_type": "markdown",
      "id": "3c3b0557",
      "metadata": {
        "id": "3c3b0557"
      },
      "source": [
        "## Total Income "
      ]
    },
    {
      "cell_type": "markdown",
      "source": [
        "**\"Total Income\" column in DF with pandas**\n",
        "\n",
        "Because, we want to do it automatically...\n",
        "\n",
        "1.   Identify columns that concerns the Income\n",
        "2.   Sum all Income columns\n",
        "3.   Reorder columns, so Total Income will be after last month with \n",
        "4. Add header Total Income\n",
        "\n"
      ],
      "metadata": {
        "id": "RCLOnAW47wwO"
      },
      "id": "RCLOnAW47wwO"
    },
    {
      "cell_type": "markdown",
      "source": [
        "**1.**   Identify columns that have the string Income in it"
      ],
      "metadata": {
        "id": "u9iIFTmlWjlG"
      },
      "id": "u9iIFTmlWjlG"
    },
    {
      "cell_type": "code",
      "execution_count": 59,
      "id": "08478a84",
      "metadata": {
        "id": "08478a84",
        "colab": {
          "base_uri": "https://localhost:8080/"
        },
        "outputId": "c9ca8e10-b4ed-4637-aa03-1dc471b8c035"
      },
      "outputs": [
        {
          "output_type": "stream",
          "name": "stdout",
          "text": [
            "Found!\n"
          ]
        }
      ],
      "source": [
        "# how to find a substring in a string\n",
        "\n",
        "fullstring = \"StackAbuse\"\n",
        "substring = \"tack\"\n",
        "\n",
        "if substring in fullstring:\n",
        "    print(\"Found!\")\n",
        "else:\n",
        "    print(\"Not found!\")"
      ]
    },
    {
      "cell_type": "code",
      "execution_count": 60,
      "id": "a78652a1",
      "metadata": {
        "id": "a78652a1",
        "colab": {
          "base_uri": "https://localhost:8080/"
        },
        "outputId": "7f925d6d-537a-4fdf-bb9a-136493c9584b"
      },
      "outputs": [
        {
          "output_type": "stream",
          "name": "stdout",
          "text": [
            "columns with Income: [3, 4, 5, 6, 7, 8]\n"
          ]
        }
      ],
      "source": [
        "## create an empty lis where we'll store column names that heve the string \"Income\" in it\n",
        "income_col=[]\n",
        "\n",
        "## iterate through column indices\n",
        "for col in range(0, len(df.columns)):\n",
        "    if 'Income' in df.columns[col]: #  identify column index for column with Income\n",
        "        income_col.append(col) # if column is identify store its index in the income_col list\n",
        "\n",
        "# the indices of columns that have sustring Income in it\n",
        "print('columns with Income:', income_col) # the list with column indices that have Income in columns"
      ]
    },
    {
      "cell_type": "code",
      "source": [
        "# limits of Income interval\n",
        "# assign variables with the start column index and the end column index\n",
        "income_start= income_col[0] # 1st element in the list ==> 3\n",
        "income_end= income_col[-1] # last element in the list ==> 8\n",
        "\n",
        "# the 1st and the last col that have Income in it\n",
        "print('first:', income_start, 'last:', income_end)"
      ],
      "metadata": {
        "colab": {
          "base_uri": "https://localhost:8080/"
        },
        "id": "M7vKW4ri9Y17",
        "outputId": "ce43f45c-65a3-48a7-b0d0-f111e60d7490"
      },
      "id": "M7vKW4ri9Y17",
      "execution_count": 61,
      "outputs": [
        {
          "output_type": "stream",
          "name": "stdout",
          "text": [
            "first: 3 last: 8\n"
          ]
        }
      ]
    },
    {
      "cell_type": "code",
      "source": [
        "# add them to ws_locations\n",
        "\n",
        "ws_loc['income_col']=income_col\n",
        "ws_loc['income_start']=income_start\n",
        "ws_loc['income_end']=income_end\n",
        "\n",
        "ws_loc\n"
      ],
      "metadata": {
        "colab": {
          "base_uri": "https://localhost:8080/"
        },
        "id": "mpNbmzwf22ts",
        "outputId": "3ff33603-c548-417b-eefb-aae0804d89a1"
      },
      "id": "mpNbmzwf22ts",
      "execution_count": 62,
      "outputs": [
        {
          "output_type": "execute_result",
          "data": {
            "text/plain": [
              "{'max_row': 1937,\n",
              " 'max_col': 15,\n",
              " 'df_shape': (1937, 15),\n",
              " 'ws_range': 'A1:O1938',\n",
              " 'start_point': 'A1',\n",
              " 'start_col': 'A',\n",
              " 'end_point': 'O1938',\n",
              " 'end_col': 'O',\n",
              " 'end_col_idx': 15,\n",
              " 'end_row': 1938,\n",
              " 'income_col': [3, 4, 5, 6, 7, 8],\n",
              " 'income_start': 3,\n",
              " 'income_end': 8}"
            ]
          },
          "metadata": {},
          "execution_count": 62
        }
      ]
    },
    {
      "cell_type": "code",
      "execution_count": 67,
      "id": "6e85f173",
      "metadata": {
        "id": "6e85f173",
        "colab": {
          "base_uri": "https://localhost:8080/",
          "height": 424
        },
        "outputId": "5b9383d4-c200-4c79-d276-0e1d05bf5bac"
      },
      "outputs": [
        {
          "output_type": "execute_result",
          "data": {
            "text/plain": [
              "      Jan Income  Feb Income  Mar Income  Apr Income  May Income  Jun Income\n",
              "0        5924.95     4680.71     7406.19     7169.19     7406.19     5213.96\n",
              "1        5924.95     7346.94     6872.94     4739.96     6280.45     6576.69\n",
              "2        5924.95     7406.19     6043.45     6161.95     6161.95     5924.95\n",
              "3        5924.95     5865.70     7406.19     4858.46     5984.20     7169.19\n",
              "4        5924.95     6280.45     6102.70     6339.70     5865.70     6458.20\n",
              "...          ...         ...         ...         ...         ...         ...\n",
              "1932      562.75      512.10      664.05      478.34      619.03      472.71\n",
              "1933     5924.95     6991.44     7169.19     4443.71     4858.46     7406.19\n",
              "1934      480.00      393.60      470.40      412.80      384.00      600.00\n",
              "1935      400.00      464.00      448.00      424.00      420.00      384.00\n",
              "1936       20.21       19.81       15.36       15.56       22.64       22.03\n",
              "\n",
              "[1937 rows x 6 columns]"
            ],
            "text/html": [
              "\n",
              "  <div id=\"df-7d19347f-afcc-48b5-9fb0-4f391469668a\">\n",
              "    <div class=\"colab-df-container\">\n",
              "      <div>\n",
              "<style scoped>\n",
              "    .dataframe tbody tr th:only-of-type {\n",
              "        vertical-align: middle;\n",
              "    }\n",
              "\n",
              "    .dataframe tbody tr th {\n",
              "        vertical-align: top;\n",
              "    }\n",
              "\n",
              "    .dataframe thead th {\n",
              "        text-align: right;\n",
              "    }\n",
              "</style>\n",
              "<table border=\"1\" class=\"dataframe\">\n",
              "  <thead>\n",
              "    <tr style=\"text-align: right;\">\n",
              "      <th></th>\n",
              "      <th>Jan Income</th>\n",
              "      <th>Feb Income</th>\n",
              "      <th>Mar Income</th>\n",
              "      <th>Apr Income</th>\n",
              "      <th>May Income</th>\n",
              "      <th>Jun Income</th>\n",
              "    </tr>\n",
              "  </thead>\n",
              "  <tbody>\n",
              "    <tr>\n",
              "      <th>0</th>\n",
              "      <td>5924.95</td>\n",
              "      <td>4680.71</td>\n",
              "      <td>7406.19</td>\n",
              "      <td>7169.19</td>\n",
              "      <td>7406.19</td>\n",
              "      <td>5213.96</td>\n",
              "    </tr>\n",
              "    <tr>\n",
              "      <th>1</th>\n",
              "      <td>5924.95</td>\n",
              "      <td>7346.94</td>\n",
              "      <td>6872.94</td>\n",
              "      <td>4739.96</td>\n",
              "      <td>6280.45</td>\n",
              "      <td>6576.69</td>\n",
              "    </tr>\n",
              "    <tr>\n",
              "      <th>2</th>\n",
              "      <td>5924.95</td>\n",
              "      <td>7406.19</td>\n",
              "      <td>6043.45</td>\n",
              "      <td>6161.95</td>\n",
              "      <td>6161.95</td>\n",
              "      <td>5924.95</td>\n",
              "    </tr>\n",
              "    <tr>\n",
              "      <th>3</th>\n",
              "      <td>5924.95</td>\n",
              "      <td>5865.70</td>\n",
              "      <td>7406.19</td>\n",
              "      <td>4858.46</td>\n",
              "      <td>5984.20</td>\n",
              "      <td>7169.19</td>\n",
              "    </tr>\n",
              "    <tr>\n",
              "      <th>4</th>\n",
              "      <td>5924.95</td>\n",
              "      <td>6280.45</td>\n",
              "      <td>6102.70</td>\n",
              "      <td>6339.70</td>\n",
              "      <td>5865.70</td>\n",
              "      <td>6458.20</td>\n",
              "    </tr>\n",
              "    <tr>\n",
              "      <th>...</th>\n",
              "      <td>...</td>\n",
              "      <td>...</td>\n",
              "      <td>...</td>\n",
              "      <td>...</td>\n",
              "      <td>...</td>\n",
              "      <td>...</td>\n",
              "    </tr>\n",
              "    <tr>\n",
              "      <th>1932</th>\n",
              "      <td>562.75</td>\n",
              "      <td>512.10</td>\n",
              "      <td>664.05</td>\n",
              "      <td>478.34</td>\n",
              "      <td>619.03</td>\n",
              "      <td>472.71</td>\n",
              "    </tr>\n",
              "    <tr>\n",
              "      <th>1933</th>\n",
              "      <td>5924.95</td>\n",
              "      <td>6991.44</td>\n",
              "      <td>7169.19</td>\n",
              "      <td>4443.71</td>\n",
              "      <td>4858.46</td>\n",
              "      <td>7406.19</td>\n",
              "    </tr>\n",
              "    <tr>\n",
              "      <th>1934</th>\n",
              "      <td>480.00</td>\n",
              "      <td>393.60</td>\n",
              "      <td>470.40</td>\n",
              "      <td>412.80</td>\n",
              "      <td>384.00</td>\n",
              "      <td>600.00</td>\n",
              "    </tr>\n",
              "    <tr>\n",
              "      <th>1935</th>\n",
              "      <td>400.00</td>\n",
              "      <td>464.00</td>\n",
              "      <td>448.00</td>\n",
              "      <td>424.00</td>\n",
              "      <td>420.00</td>\n",
              "      <td>384.00</td>\n",
              "    </tr>\n",
              "    <tr>\n",
              "      <th>1936</th>\n",
              "      <td>20.21</td>\n",
              "      <td>19.81</td>\n",
              "      <td>15.36</td>\n",
              "      <td>15.56</td>\n",
              "      <td>22.64</td>\n",
              "      <td>22.03</td>\n",
              "    </tr>\n",
              "  </tbody>\n",
              "</table>\n",
              "<p>1937 rows × 6 columns</p>\n",
              "</div>\n",
              "      <button class=\"colab-df-convert\" onclick=\"convertToInteractive('df-7d19347f-afcc-48b5-9fb0-4f391469668a')\"\n",
              "              title=\"Convert this dataframe to an interactive table.\"\n",
              "              style=\"display:none;\">\n",
              "        \n",
              "  <svg xmlns=\"http://www.w3.org/2000/svg\" height=\"24px\"viewBox=\"0 0 24 24\"\n",
              "       width=\"24px\">\n",
              "    <path d=\"M0 0h24v24H0V0z\" fill=\"none\"/>\n",
              "    <path d=\"M18.56 5.44l.94 2.06.94-2.06 2.06-.94-2.06-.94-.94-2.06-.94 2.06-2.06.94zm-11 1L8.5 8.5l.94-2.06 2.06-.94-2.06-.94L8.5 2.5l-.94 2.06-2.06.94zm10 10l.94 2.06.94-2.06 2.06-.94-2.06-.94-.94-2.06-.94 2.06-2.06.94z\"/><path d=\"M17.41 7.96l-1.37-1.37c-.4-.4-.92-.59-1.43-.59-.52 0-1.04.2-1.43.59L10.3 9.45l-7.72 7.72c-.78.78-.78 2.05 0 2.83L4 21.41c.39.39.9.59 1.41.59.51 0 1.02-.2 1.41-.59l7.78-7.78 2.81-2.81c.8-.78.8-2.07 0-2.86zM5.41 20L4 18.59l7.72-7.72 1.47 1.35L5.41 20z\"/>\n",
              "  </svg>\n",
              "      </button>\n",
              "      \n",
              "  <style>\n",
              "    .colab-df-container {\n",
              "      display:flex;\n",
              "      flex-wrap:wrap;\n",
              "      gap: 12px;\n",
              "    }\n",
              "\n",
              "    .colab-df-convert {\n",
              "      background-color: #E8F0FE;\n",
              "      border: none;\n",
              "      border-radius: 50%;\n",
              "      cursor: pointer;\n",
              "      display: none;\n",
              "      fill: #1967D2;\n",
              "      height: 32px;\n",
              "      padding: 0 0 0 0;\n",
              "      width: 32px;\n",
              "    }\n",
              "\n",
              "    .colab-df-convert:hover {\n",
              "      background-color: #E2EBFA;\n",
              "      box-shadow: 0px 1px 2px rgba(60, 64, 67, 0.3), 0px 1px 3px 1px rgba(60, 64, 67, 0.15);\n",
              "      fill: #174EA6;\n",
              "    }\n",
              "\n",
              "    [theme=dark] .colab-df-convert {\n",
              "      background-color: #3B4455;\n",
              "      fill: #D2E3FC;\n",
              "    }\n",
              "\n",
              "    [theme=dark] .colab-df-convert:hover {\n",
              "      background-color: #434B5C;\n",
              "      box-shadow: 0px 1px 3px 1px rgba(0, 0, 0, 0.15);\n",
              "      filter: drop-shadow(0px 1px 2px rgba(0, 0, 0, 0.3));\n",
              "      fill: #FFFFFF;\n",
              "    }\n",
              "  </style>\n",
              "\n",
              "      <script>\n",
              "        const buttonEl =\n",
              "          document.querySelector('#df-7d19347f-afcc-48b5-9fb0-4f391469668a button.colab-df-convert');\n",
              "        buttonEl.style.display =\n",
              "          google.colab.kernel.accessAllowed ? 'block' : 'none';\n",
              "\n",
              "        async function convertToInteractive(key) {\n",
              "          const element = document.querySelector('#df-7d19347f-afcc-48b5-9fb0-4f391469668a');\n",
              "          const dataTable =\n",
              "            await google.colab.kernel.invokeFunction('convertToInteractive',\n",
              "                                                     [key], {});\n",
              "          if (!dataTable) return;\n",
              "\n",
              "          const docLinkHtml = 'Like what you see? Visit the ' +\n",
              "            '<a target=\"_blank\" href=https://colab.research.google.com/notebooks/data_table.ipynb>data table notebook</a>'\n",
              "            + ' to learn more about interactive tables.';\n",
              "          element.innerHTML = '';\n",
              "          dataTable['output_type'] = 'display_data';\n",
              "          await google.colab.output.renderOutput(dataTable, element);\n",
              "          const docLink = document.createElement('div');\n",
              "          docLink.innerHTML = docLinkHtml;\n",
              "          element.appendChild(docLink);\n",
              "        }\n",
              "      </script>\n",
              "    </div>\n",
              "  </div>\n",
              "  "
            ]
          },
          "metadata": {},
          "execution_count": 67
        }
      ],
      "source": [
        "# check those columns at found indices in df with .iloc\n",
        "df.iloc[:, income_start:income_end+1] # we need to add +1 to income_end as the upper limit is not included,\n",
        "# .... and we want to make sure the last col is included (Jun)"
      ]
    },
    {
      "cell_type": "markdown",
      "source": [
        "**2.**   Compute Total Income "
      ],
      "metadata": {
        "id": "7-nBXZKUX8bJ"
      },
      "id": "7-nBXZKUX8bJ"
    },
    {
      "cell_type": "code",
      "execution_count": 69,
      "id": "e7a54401",
      "metadata": {
        "id": "e7a54401",
        "colab": {
          "base_uri": "https://localhost:8080/",
          "height": 288
        },
        "outputId": "e56878b8-2741-4d9e-f019-38e50e886f18"
      },
      "outputs": [
        {
          "output_type": "execute_result",
          "data": {
            "text/plain": [
              "  Business Department Region  Jan Income  Feb Income  Mar Income  Apr Income  \\\n",
              "0    B2C_1      Loans     AT     5924.95     4680.71     7406.19     7169.19   \n",
              "1    B2C_1      Loans     AT     5924.95     7346.94     6872.94     4739.96   \n",
              "2    B2C_1      Loans     AT     5924.95     7406.19     6043.45     6161.95   \n",
              "3    B2C_1   Services     AT     5924.95     5865.70     7406.19     4858.46   \n",
              "4    B2C_1      Loans     AT     5924.95     6280.45     6102.70     6339.70   \n",
              "\n",
              "   May Income  Jun Income  Jan Expenditure  Feb Expenditure  Mar Expenditure  \\\n",
              "0     7406.19     5213.96          5178.13          3883.60          3534.08   \n",
              "1     6280.45     6576.69          3913.87          3835.59          4410.93   \n",
              "2     6161.95     5924.95          4386.71          3377.77          3411.55   \n",
              "3     5984.20     7169.19          4840.73          4743.92          5692.70   \n",
              "4     5865.70     6458.20          5875.00          5698.75          5983.69   \n",
              "\n",
              "   Apr Expenditure  May Expenditure  Jun Expenditure  Total Income  \n",
              "0          4240.90          3731.99          4217.15      37801.19  \n",
              "1          4058.06          4220.38          5064.46      37741.93  \n",
              "2          3206.86          3399.27          3229.31      37623.44  \n",
              "3          5123.43          4867.26          5500.00      37208.69  \n",
              "4          6701.73          7505.94          8481.71      36971.70  "
            ],
            "text/html": [
              "\n",
              "  <div id=\"df-ac925ad6-460f-4033-920e-aad53576e896\">\n",
              "    <div class=\"colab-df-container\">\n",
              "      <div>\n",
              "<style scoped>\n",
              "    .dataframe tbody tr th:only-of-type {\n",
              "        vertical-align: middle;\n",
              "    }\n",
              "\n",
              "    .dataframe tbody tr th {\n",
              "        vertical-align: top;\n",
              "    }\n",
              "\n",
              "    .dataframe thead th {\n",
              "        text-align: right;\n",
              "    }\n",
              "</style>\n",
              "<table border=\"1\" class=\"dataframe\">\n",
              "  <thead>\n",
              "    <tr style=\"text-align: right;\">\n",
              "      <th></th>\n",
              "      <th>Business</th>\n",
              "      <th>Department</th>\n",
              "      <th>Region</th>\n",
              "      <th>Jan Income</th>\n",
              "      <th>Feb Income</th>\n",
              "      <th>Mar Income</th>\n",
              "      <th>Apr Income</th>\n",
              "      <th>May Income</th>\n",
              "      <th>Jun Income</th>\n",
              "      <th>Jan Expenditure</th>\n",
              "      <th>Feb Expenditure</th>\n",
              "      <th>Mar Expenditure</th>\n",
              "      <th>Apr Expenditure</th>\n",
              "      <th>May Expenditure</th>\n",
              "      <th>Jun Expenditure</th>\n",
              "      <th>Total Income</th>\n",
              "    </tr>\n",
              "  </thead>\n",
              "  <tbody>\n",
              "    <tr>\n",
              "      <th>0</th>\n",
              "      <td>B2C_1</td>\n",
              "      <td>Loans</td>\n",
              "      <td>AT</td>\n",
              "      <td>5924.95</td>\n",
              "      <td>4680.71</td>\n",
              "      <td>7406.19</td>\n",
              "      <td>7169.19</td>\n",
              "      <td>7406.19</td>\n",
              "      <td>5213.96</td>\n",
              "      <td>5178.13</td>\n",
              "      <td>3883.60</td>\n",
              "      <td>3534.08</td>\n",
              "      <td>4240.90</td>\n",
              "      <td>3731.99</td>\n",
              "      <td>4217.15</td>\n",
              "      <td>37801.19</td>\n",
              "    </tr>\n",
              "    <tr>\n",
              "      <th>1</th>\n",
              "      <td>B2C_1</td>\n",
              "      <td>Loans</td>\n",
              "      <td>AT</td>\n",
              "      <td>5924.95</td>\n",
              "      <td>7346.94</td>\n",
              "      <td>6872.94</td>\n",
              "      <td>4739.96</td>\n",
              "      <td>6280.45</td>\n",
              "      <td>6576.69</td>\n",
              "      <td>3913.87</td>\n",
              "      <td>3835.59</td>\n",
              "      <td>4410.93</td>\n",
              "      <td>4058.06</td>\n",
              "      <td>4220.38</td>\n",
              "      <td>5064.46</td>\n",
              "      <td>37741.93</td>\n",
              "    </tr>\n",
              "    <tr>\n",
              "      <th>2</th>\n",
              "      <td>B2C_1</td>\n",
              "      <td>Loans</td>\n",
              "      <td>AT</td>\n",
              "      <td>5924.95</td>\n",
              "      <td>7406.19</td>\n",
              "      <td>6043.45</td>\n",
              "      <td>6161.95</td>\n",
              "      <td>6161.95</td>\n",
              "      <td>5924.95</td>\n",
              "      <td>4386.71</td>\n",
              "      <td>3377.77</td>\n",
              "      <td>3411.55</td>\n",
              "      <td>3206.86</td>\n",
              "      <td>3399.27</td>\n",
              "      <td>3229.31</td>\n",
              "      <td>37623.44</td>\n",
              "    </tr>\n",
              "    <tr>\n",
              "      <th>3</th>\n",
              "      <td>B2C_1</td>\n",
              "      <td>Services</td>\n",
              "      <td>AT</td>\n",
              "      <td>5924.95</td>\n",
              "      <td>5865.70</td>\n",
              "      <td>7406.19</td>\n",
              "      <td>4858.46</td>\n",
              "      <td>5984.20</td>\n",
              "      <td>7169.19</td>\n",
              "      <td>4840.73</td>\n",
              "      <td>4743.92</td>\n",
              "      <td>5692.70</td>\n",
              "      <td>5123.43</td>\n",
              "      <td>4867.26</td>\n",
              "      <td>5500.00</td>\n",
              "      <td>37208.69</td>\n",
              "    </tr>\n",
              "    <tr>\n",
              "      <th>4</th>\n",
              "      <td>B2C_1</td>\n",
              "      <td>Loans</td>\n",
              "      <td>AT</td>\n",
              "      <td>5924.95</td>\n",
              "      <td>6280.45</td>\n",
              "      <td>6102.70</td>\n",
              "      <td>6339.70</td>\n",
              "      <td>5865.70</td>\n",
              "      <td>6458.20</td>\n",
              "      <td>5875.00</td>\n",
              "      <td>5698.75</td>\n",
              "      <td>5983.69</td>\n",
              "      <td>6701.73</td>\n",
              "      <td>7505.94</td>\n",
              "      <td>8481.71</td>\n",
              "      <td>36971.70</td>\n",
              "    </tr>\n",
              "  </tbody>\n",
              "</table>\n",
              "</div>\n",
              "      <button class=\"colab-df-convert\" onclick=\"convertToInteractive('df-ac925ad6-460f-4033-920e-aad53576e896')\"\n",
              "              title=\"Convert this dataframe to an interactive table.\"\n",
              "              style=\"display:none;\">\n",
              "        \n",
              "  <svg xmlns=\"http://www.w3.org/2000/svg\" height=\"24px\"viewBox=\"0 0 24 24\"\n",
              "       width=\"24px\">\n",
              "    <path d=\"M0 0h24v24H0V0z\" fill=\"none\"/>\n",
              "    <path d=\"M18.56 5.44l.94 2.06.94-2.06 2.06-.94-2.06-.94-.94-2.06-.94 2.06-2.06.94zm-11 1L8.5 8.5l.94-2.06 2.06-.94-2.06-.94L8.5 2.5l-.94 2.06-2.06.94zm10 10l.94 2.06.94-2.06 2.06-.94-2.06-.94-.94-2.06-.94 2.06-2.06.94z\"/><path d=\"M17.41 7.96l-1.37-1.37c-.4-.4-.92-.59-1.43-.59-.52 0-1.04.2-1.43.59L10.3 9.45l-7.72 7.72c-.78.78-.78 2.05 0 2.83L4 21.41c.39.39.9.59 1.41.59.51 0 1.02-.2 1.41-.59l7.78-7.78 2.81-2.81c.8-.78.8-2.07 0-2.86zM5.41 20L4 18.59l7.72-7.72 1.47 1.35L5.41 20z\"/>\n",
              "  </svg>\n",
              "      </button>\n",
              "      \n",
              "  <style>\n",
              "    .colab-df-container {\n",
              "      display:flex;\n",
              "      flex-wrap:wrap;\n",
              "      gap: 12px;\n",
              "    }\n",
              "\n",
              "    .colab-df-convert {\n",
              "      background-color: #E8F0FE;\n",
              "      border: none;\n",
              "      border-radius: 50%;\n",
              "      cursor: pointer;\n",
              "      display: none;\n",
              "      fill: #1967D2;\n",
              "      height: 32px;\n",
              "      padding: 0 0 0 0;\n",
              "      width: 32px;\n",
              "    }\n",
              "\n",
              "    .colab-df-convert:hover {\n",
              "      background-color: #E2EBFA;\n",
              "      box-shadow: 0px 1px 2px rgba(60, 64, 67, 0.3), 0px 1px 3px 1px rgba(60, 64, 67, 0.15);\n",
              "      fill: #174EA6;\n",
              "    }\n",
              "\n",
              "    [theme=dark] .colab-df-convert {\n",
              "      background-color: #3B4455;\n",
              "      fill: #D2E3FC;\n",
              "    }\n",
              "\n",
              "    [theme=dark] .colab-df-convert:hover {\n",
              "      background-color: #434B5C;\n",
              "      box-shadow: 0px 1px 3px 1px rgba(0, 0, 0, 0.15);\n",
              "      filter: drop-shadow(0px 1px 2px rgba(0, 0, 0, 0.3));\n",
              "      fill: #FFFFFF;\n",
              "    }\n",
              "  </style>\n",
              "\n",
              "      <script>\n",
              "        const buttonEl =\n",
              "          document.querySelector('#df-ac925ad6-460f-4033-920e-aad53576e896 button.colab-df-convert');\n",
              "        buttonEl.style.display =\n",
              "          google.colab.kernel.accessAllowed ? 'block' : 'none';\n",
              "\n",
              "        async function convertToInteractive(key) {\n",
              "          const element = document.querySelector('#df-ac925ad6-460f-4033-920e-aad53576e896');\n",
              "          const dataTable =\n",
              "            await google.colab.kernel.invokeFunction('convertToInteractive',\n",
              "                                                     [key], {});\n",
              "          if (!dataTable) return;\n",
              "\n",
              "          const docLinkHtml = 'Like what you see? Visit the ' +\n",
              "            '<a target=\"_blank\" href=https://colab.research.google.com/notebooks/data_table.ipynb>data table notebook</a>'\n",
              "            + ' to learn more about interactive tables.';\n",
              "          element.innerHTML = '';\n",
              "          dataTable['output_type'] = 'display_data';\n",
              "          await google.colab.output.renderOutput(dataTable, element);\n",
              "          const docLink = document.createElement('div');\n",
              "          docLink.innerHTML = docLinkHtml;\n",
              "          element.appendChild(docLink);\n",
              "        }\n",
              "      </script>\n",
              "    </div>\n",
              "  </div>\n",
              "  "
            ]
          },
          "metadata": {},
          "execution_count": 69
        }
      ],
      "source": [
        "# 2.compute the total income and assign it in a new column in the df\n",
        "# and add a new column 'Total Income' that will store the some of columns\n",
        "\n",
        "df['Total Income'] = df.iloc[:, income_start:income_end+1].sum(axis=1) # axis=1 is  the column axis\n",
        "df.head() #the column 'Total Income' was added at the the en"
      ]
    },
    {
      "cell_type": "markdown",
      "source": [
        "**3.** Order Columns"
      ],
      "metadata": {
        "id": "VSVrCnFPZUs5"
      },
      "id": "VSVrCnFPZUs5"
    },
    {
      "cell_type": "code",
      "execution_count": 70,
      "id": "2b0c6a19-a425-431f-b612-67594e9cf19b",
      "metadata": {
        "id": "2b0c6a19-a425-431f-b612-67594e9cf19b",
        "colab": {
          "base_uri": "https://localhost:8080/"
        },
        "outputId": "9157640d-aef9-4d04-9a75-101b0ccc0e9f"
      },
      "outputs": [
        {
          "output_type": "stream",
          "name": "stdout",
          "text": [
            "we want to add it after col: 8\n"
          ]
        }
      ],
      "source": [
        "# We want to add the Total Income after the last month of Incoms\n",
        "\n",
        "print('we want to add it after col:', income_end)"
      ]
    },
    {
      "cell_type": "code",
      "execution_count": 71,
      "id": "687a6abf",
      "metadata": {
        "id": "687a6abf",
        "colab": {
          "base_uri": "https://localhost:8080/",
          "height": 288
        },
        "outputId": "16273798-b078-44cc-ef54-6b34924b1f89"
      },
      "outputs": [
        {
          "output_type": "execute_result",
          "data": {
            "text/plain": [
              "  Business Department Region  Jan Income  Feb Income  Mar Income  Apr Income  \\\n",
              "0    B2C_1      Loans     AT     5924.95     4680.71     7406.19     7169.19   \n",
              "1    B2C_1      Loans     AT     5924.95     7346.94     6872.94     4739.96   \n",
              "2    B2C_1      Loans     AT     5924.95     7406.19     6043.45     6161.95   \n",
              "3    B2C_1   Services     AT     5924.95     5865.70     7406.19     4858.46   \n",
              "4    B2C_1      Loans     AT     5924.95     6280.45     6102.70     6339.70   \n",
              "\n",
              "   May Income  Jun Income  Total Income  Jan Expenditure  Feb Expenditure  \\\n",
              "0     7406.19     5213.96      37801.19          5178.13          3883.60   \n",
              "1     6280.45     6576.69      37741.93          3913.87          3835.59   \n",
              "2     6161.95     5924.95      37623.44          4386.71          3377.77   \n",
              "3     5984.20     7169.19      37208.69          4840.73          4743.92   \n",
              "4     5865.70     6458.20      36971.70          5875.00          5698.75   \n",
              "\n",
              "   Mar Expenditure  Apr Expenditure  May Expenditure  Jun Expenditure  \n",
              "0          3534.08          4240.90          3731.99          4217.15  \n",
              "1          4410.93          4058.06          4220.38          5064.46  \n",
              "2          3411.55          3206.86          3399.27          3229.31  \n",
              "3          5692.70          5123.43          4867.26          5500.00  \n",
              "4          5983.69          6701.73          7505.94          8481.71  "
            ],
            "text/html": [
              "\n",
              "  <div id=\"df-9b72d331-6556-48de-a8b8-45652ba32018\">\n",
              "    <div class=\"colab-df-container\">\n",
              "      <div>\n",
              "<style scoped>\n",
              "    .dataframe tbody tr th:only-of-type {\n",
              "        vertical-align: middle;\n",
              "    }\n",
              "\n",
              "    .dataframe tbody tr th {\n",
              "        vertical-align: top;\n",
              "    }\n",
              "\n",
              "    .dataframe thead th {\n",
              "        text-align: right;\n",
              "    }\n",
              "</style>\n",
              "<table border=\"1\" class=\"dataframe\">\n",
              "  <thead>\n",
              "    <tr style=\"text-align: right;\">\n",
              "      <th></th>\n",
              "      <th>Business</th>\n",
              "      <th>Department</th>\n",
              "      <th>Region</th>\n",
              "      <th>Jan Income</th>\n",
              "      <th>Feb Income</th>\n",
              "      <th>Mar Income</th>\n",
              "      <th>Apr Income</th>\n",
              "      <th>May Income</th>\n",
              "      <th>Jun Income</th>\n",
              "      <th>Total Income</th>\n",
              "      <th>Jan Expenditure</th>\n",
              "      <th>Feb Expenditure</th>\n",
              "      <th>Mar Expenditure</th>\n",
              "      <th>Apr Expenditure</th>\n",
              "      <th>May Expenditure</th>\n",
              "      <th>Jun Expenditure</th>\n",
              "    </tr>\n",
              "  </thead>\n",
              "  <tbody>\n",
              "    <tr>\n",
              "      <th>0</th>\n",
              "      <td>B2C_1</td>\n",
              "      <td>Loans</td>\n",
              "      <td>AT</td>\n",
              "      <td>5924.95</td>\n",
              "      <td>4680.71</td>\n",
              "      <td>7406.19</td>\n",
              "      <td>7169.19</td>\n",
              "      <td>7406.19</td>\n",
              "      <td>5213.96</td>\n",
              "      <td>37801.19</td>\n",
              "      <td>5178.13</td>\n",
              "      <td>3883.60</td>\n",
              "      <td>3534.08</td>\n",
              "      <td>4240.90</td>\n",
              "      <td>3731.99</td>\n",
              "      <td>4217.15</td>\n",
              "    </tr>\n",
              "    <tr>\n",
              "      <th>1</th>\n",
              "      <td>B2C_1</td>\n",
              "      <td>Loans</td>\n",
              "      <td>AT</td>\n",
              "      <td>5924.95</td>\n",
              "      <td>7346.94</td>\n",
              "      <td>6872.94</td>\n",
              "      <td>4739.96</td>\n",
              "      <td>6280.45</td>\n",
              "      <td>6576.69</td>\n",
              "      <td>37741.93</td>\n",
              "      <td>3913.87</td>\n",
              "      <td>3835.59</td>\n",
              "      <td>4410.93</td>\n",
              "      <td>4058.06</td>\n",
              "      <td>4220.38</td>\n",
              "      <td>5064.46</td>\n",
              "    </tr>\n",
              "    <tr>\n",
              "      <th>2</th>\n",
              "      <td>B2C_1</td>\n",
              "      <td>Loans</td>\n",
              "      <td>AT</td>\n",
              "      <td>5924.95</td>\n",
              "      <td>7406.19</td>\n",
              "      <td>6043.45</td>\n",
              "      <td>6161.95</td>\n",
              "      <td>6161.95</td>\n",
              "      <td>5924.95</td>\n",
              "      <td>37623.44</td>\n",
              "      <td>4386.71</td>\n",
              "      <td>3377.77</td>\n",
              "      <td>3411.55</td>\n",
              "      <td>3206.86</td>\n",
              "      <td>3399.27</td>\n",
              "      <td>3229.31</td>\n",
              "    </tr>\n",
              "    <tr>\n",
              "      <th>3</th>\n",
              "      <td>B2C_1</td>\n",
              "      <td>Services</td>\n",
              "      <td>AT</td>\n",
              "      <td>5924.95</td>\n",
              "      <td>5865.70</td>\n",
              "      <td>7406.19</td>\n",
              "      <td>4858.46</td>\n",
              "      <td>5984.20</td>\n",
              "      <td>7169.19</td>\n",
              "      <td>37208.69</td>\n",
              "      <td>4840.73</td>\n",
              "      <td>4743.92</td>\n",
              "      <td>5692.70</td>\n",
              "      <td>5123.43</td>\n",
              "      <td>4867.26</td>\n",
              "      <td>5500.00</td>\n",
              "    </tr>\n",
              "    <tr>\n",
              "      <th>4</th>\n",
              "      <td>B2C_1</td>\n",
              "      <td>Loans</td>\n",
              "      <td>AT</td>\n",
              "      <td>5924.95</td>\n",
              "      <td>6280.45</td>\n",
              "      <td>6102.70</td>\n",
              "      <td>6339.70</td>\n",
              "      <td>5865.70</td>\n",
              "      <td>6458.20</td>\n",
              "      <td>36971.70</td>\n",
              "      <td>5875.00</td>\n",
              "      <td>5698.75</td>\n",
              "      <td>5983.69</td>\n",
              "      <td>6701.73</td>\n",
              "      <td>7505.94</td>\n",
              "      <td>8481.71</td>\n",
              "    </tr>\n",
              "  </tbody>\n",
              "</table>\n",
              "</div>\n",
              "      <button class=\"colab-df-convert\" onclick=\"convertToInteractive('df-9b72d331-6556-48de-a8b8-45652ba32018')\"\n",
              "              title=\"Convert this dataframe to an interactive table.\"\n",
              "              style=\"display:none;\">\n",
              "        \n",
              "  <svg xmlns=\"http://www.w3.org/2000/svg\" height=\"24px\"viewBox=\"0 0 24 24\"\n",
              "       width=\"24px\">\n",
              "    <path d=\"M0 0h24v24H0V0z\" fill=\"none\"/>\n",
              "    <path d=\"M18.56 5.44l.94 2.06.94-2.06 2.06-.94-2.06-.94-.94-2.06-.94 2.06-2.06.94zm-11 1L8.5 8.5l.94-2.06 2.06-.94-2.06-.94L8.5 2.5l-.94 2.06-2.06.94zm10 10l.94 2.06.94-2.06 2.06-.94-2.06-.94-.94-2.06-.94 2.06-2.06.94z\"/><path d=\"M17.41 7.96l-1.37-1.37c-.4-.4-.92-.59-1.43-.59-.52 0-1.04.2-1.43.59L10.3 9.45l-7.72 7.72c-.78.78-.78 2.05 0 2.83L4 21.41c.39.39.9.59 1.41.59.51 0 1.02-.2 1.41-.59l7.78-7.78 2.81-2.81c.8-.78.8-2.07 0-2.86zM5.41 20L4 18.59l7.72-7.72 1.47 1.35L5.41 20z\"/>\n",
              "  </svg>\n",
              "      </button>\n",
              "      \n",
              "  <style>\n",
              "    .colab-df-container {\n",
              "      display:flex;\n",
              "      flex-wrap:wrap;\n",
              "      gap: 12px;\n",
              "    }\n",
              "\n",
              "    .colab-df-convert {\n",
              "      background-color: #E8F0FE;\n",
              "      border: none;\n",
              "      border-radius: 50%;\n",
              "      cursor: pointer;\n",
              "      display: none;\n",
              "      fill: #1967D2;\n",
              "      height: 32px;\n",
              "      padding: 0 0 0 0;\n",
              "      width: 32px;\n",
              "    }\n",
              "\n",
              "    .colab-df-convert:hover {\n",
              "      background-color: #E2EBFA;\n",
              "      box-shadow: 0px 1px 2px rgba(60, 64, 67, 0.3), 0px 1px 3px 1px rgba(60, 64, 67, 0.15);\n",
              "      fill: #174EA6;\n",
              "    }\n",
              "\n",
              "    [theme=dark] .colab-df-convert {\n",
              "      background-color: #3B4455;\n",
              "      fill: #D2E3FC;\n",
              "    }\n",
              "\n",
              "    [theme=dark] .colab-df-convert:hover {\n",
              "      background-color: #434B5C;\n",
              "      box-shadow: 0px 1px 3px 1px rgba(0, 0, 0, 0.15);\n",
              "      filter: drop-shadow(0px 1px 2px rgba(0, 0, 0, 0.3));\n",
              "      fill: #FFFFFF;\n",
              "    }\n",
              "  </style>\n",
              "\n",
              "      <script>\n",
              "        const buttonEl =\n",
              "          document.querySelector('#df-9b72d331-6556-48de-a8b8-45652ba32018 button.colab-df-convert');\n",
              "        buttonEl.style.display =\n",
              "          google.colab.kernel.accessAllowed ? 'block' : 'none';\n",
              "\n",
              "        async function convertToInteractive(key) {\n",
              "          const element = document.querySelector('#df-9b72d331-6556-48de-a8b8-45652ba32018');\n",
              "          const dataTable =\n",
              "            await google.colab.kernel.invokeFunction('convertToInteractive',\n",
              "                                                     [key], {});\n",
              "          if (!dataTable) return;\n",
              "\n",
              "          const docLinkHtml = 'Like what you see? Visit the ' +\n",
              "            '<a target=\"_blank\" href=https://colab.research.google.com/notebooks/data_table.ipynb>data table notebook</a>'\n",
              "            + ' to learn more about interactive tables.';\n",
              "          element.innerHTML = '';\n",
              "          dataTable['output_type'] = 'display_data';\n",
              "          await google.colab.output.renderOutput(dataTable, element);\n",
              "          const docLink = document.createElement('div');\n",
              "          docLink.innerHTML = docLinkHtml;\n",
              "          element.appendChild(docLink);\n",
              "        }\n",
              "      </script>\n",
              "    </div>\n",
              "  </div>\n",
              "  "
            ]
          },
          "metadata": {},
          "execution_count": 71
        }
      ],
      "source": [
        "# order: we want to order columns so Total Income would follow the Income columns\n",
        "# cut and insert the column after all Income months columns\n",
        "\n",
        "df.insert(income_end + 1, # at what index to insesrt\n",
        "          'Total Income', # Label of the inserted column.\n",
        "          df.pop('Total Income')) # will return the column Total Income and will drop it from DF's end\n",
        "\n",
        "df.head() # now Total income disapeared from the end of df, and was inserted after col 8, and has index 9"
      ]
    },
    {
      "cell_type": "code",
      "source": [
        "# update ws_loc\n",
        "ws_loc['total_inc_df']= income_end + 1\n",
        "\n",
        "ws_loc"
      ],
      "metadata": {
        "colab": {
          "base_uri": "https://localhost:8080/"
        },
        "id": "ZnqkKoEoKnEc",
        "outputId": "b1819deb-9cc6-4bb6-f5cc-ff85fc94a17e"
      },
      "id": "ZnqkKoEoKnEc",
      "execution_count": 72,
      "outputs": [
        {
          "output_type": "execute_result",
          "data": {
            "text/plain": [
              "{'max_row': 1937,\n",
              " 'max_col': 15,\n",
              " 'df_shape': (1937, 15),\n",
              " 'ws_range': 'A1:O1938',\n",
              " 'start_point': 'A1',\n",
              " 'start_col': 'A',\n",
              " 'end_point': 'O1938',\n",
              " 'end_col': 'O',\n",
              " 'end_col_idx': 15,\n",
              " 'end_row': 1938,\n",
              " 'income_col': [3, 4, 5, 6, 7, 8],\n",
              " 'income_start': 3,\n",
              " 'income_end': 8,\n",
              " 'total_inc_df': 9}"
            ]
          },
          "metadata": {},
          "execution_count": 72
        }
      ]
    },
    {
      "cell_type": "raw",
      "id": "0a9723dc-f0e9-4f82-a9c5-bce05271dadd",
      "metadata": {
        "id": "0a9723dc-f0e9-4f82-a9c5-bce05271dadd"
      },
      "source": [
        "Let's have look where Income stands in the excel, and update the excel with Total Income as well"
      ]
    },
    {
      "cell_type": "code",
      "execution_count": 73,
      "id": "73e87268",
      "metadata": {
        "id": "73e87268",
        "colab": {
          "base_uri": "https://localhost:8080/"
        },
        "outputId": "ba6f0448-fab4-4ad4-92a7-db50492749f1"
      },
      "outputs": [
        {
          "output_type": "stream",
          "name": "stdout",
          "text": [
            "in EXCEL the column nb for Jan Income is:  4\n"
          ]
        }
      ],
      "source": [
        "# find column number of column Jan Income in Excel\n",
        "for i in range(1, sheet.max_column):\n",
        "    ref = sheet.cell(row=1, column=i)\n",
        "    if ref.value == 'Jan Income':\n",
        "        print('in EXCEL the column nb for Jan Income is: ', ref.column)"
      ]
    },
    {
      "cell_type": "code",
      "execution_count": 79,
      "id": "89722399",
      "metadata": {
        "id": "89722399",
        "colab": {
          "base_uri": "https://localhost:8080/"
        },
        "outputId": "2a499486-7a0e-4ee0-da0c-4f75aed4b92c"
      },
      "outputs": [
        {
          "output_type": "stream",
          "name": "stdout",
          "text": [
            "[4, 5, 6, 7, 8, 9]\n"
          ]
        }
      ],
      "source": [
        "# find columns number that have Income months in df\n",
        "\n",
        "income_col_xl = []\n",
        "for i in range(1, sheet.max_column):# because we're in excel the index starts at 1\n",
        "    ref = sheet.cell(row=1, column=i)\n",
        "    if 'Income' in ref.value:\n",
        "        income_col_xl.append(ref.column)\n",
        "\n",
        "print(income_col_xl)"
      ]
    },
    {
      "cell_type": "code",
      "source": [
        "# compute the index where to insert a column for Total Income in excel\n",
        "total_inc_col = income_col_xl[-1] + 1\n",
        "# we would like to insert the column Total Income at column 10\n",
        "print(total_inc_col)"
      ],
      "metadata": {
        "colab": {
          "base_uri": "https://localhost:8080/"
        },
        "id": "mVKt_W1Zdhk2",
        "outputId": "c9b64bac-6d8d-473d-c188-1b6bfa11bda5"
      },
      "id": "mVKt_W1Zdhk2",
      "execution_count": 80,
      "outputs": [
        {
          "output_type": "stream",
          "name": "stdout",
          "text": [
            "10\n"
          ]
        }
      ]
    },
    {
      "cell_type": "code",
      "source": [
        "# update ws_loc\n",
        "\n",
        "ws_loc['income_col_xl']= income_col_xl\n",
        "ws_loc['income_Total_col_xl']= total_inc_col\n",
        "\n",
        "ws_loc"
      ],
      "metadata": {
        "colab": {
          "base_uri": "https://localhost:8080/"
        },
        "id": "jW0LC4nI5_ys",
        "outputId": "17e8ee4e-7f2b-49d1-e251-4005e808d927"
      },
      "id": "jW0LC4nI5_ys",
      "execution_count": 81,
      "outputs": [
        {
          "output_type": "execute_result",
          "data": {
            "text/plain": [
              "{'max_row': 1937,\n",
              " 'max_col': 15,\n",
              " 'df_shape': (1937, 15),\n",
              " 'ws_range': 'A1:O1938',\n",
              " 'start_point': 'A1',\n",
              " 'start_col': 'A',\n",
              " 'end_point': 'O1938',\n",
              " 'end_col': 'O',\n",
              " 'end_col_idx': 15,\n",
              " 'end_row': 1938,\n",
              " 'income_col': [3, 4, 5, 6, 7, 8],\n",
              " 'income_start': 3,\n",
              " 'income_end': 8,\n",
              " 'total_inc_df': 9,\n",
              " 'income_col_xl': [4, 5, 6, 7, 8, 9],\n",
              " 'income_Total_col_xl': 10}"
            ]
          },
          "metadata": {},
          "execution_count": 81
        }
      ]
    },
    {
      "cell_type": "code",
      "source": [
        "# insert column at this index\n",
        "sheet.insert_cols(idx= total_inc_col, # column location\n",
        "                  amount=1) # how many columns to insert\n",
        "\n",
        "\n",
        "wb.save('Budget_processed.xlsx') "
      ],
      "metadata": {
        "id": "vSm03mxhd9Af"
      },
      "id": "vSm03mxhd9Af",
      "execution_count": 82,
      "outputs": []
    },
    {
      "cell_type": "code",
      "source": [
        "df.head()"
      ],
      "metadata": {
        "id": "AnHlRHYibqds",
        "outputId": "1351d164-02e1-4b50-9512-99446f5206dc",
        "colab": {
          "base_uri": "https://localhost:8080/",
          "height": 288
        }
      },
      "id": "AnHlRHYibqds",
      "execution_count": 84,
      "outputs": [
        {
          "output_type": "execute_result",
          "data": {
            "text/plain": [
              "  Business Department Region  Jan Income  Feb Income  Mar Income  Apr Income  \\\n",
              "0    B2C_1      Loans     AT     5924.95     4680.71     7406.19     7169.19   \n",
              "1    B2C_1      Loans     AT     5924.95     7346.94     6872.94     4739.96   \n",
              "2    B2C_1      Loans     AT     5924.95     7406.19     6043.45     6161.95   \n",
              "3    B2C_1   Services     AT     5924.95     5865.70     7406.19     4858.46   \n",
              "4    B2C_1      Loans     AT     5924.95     6280.45     6102.70     6339.70   \n",
              "\n",
              "   May Income  Jun Income  Total Income  Jan Expenditure  Feb Expenditure  \\\n",
              "0     7406.19     5213.96      37801.19          5178.13          3883.60   \n",
              "1     6280.45     6576.69      37741.93          3913.87          3835.59   \n",
              "2     6161.95     5924.95      37623.44          4386.71          3377.77   \n",
              "3     5984.20     7169.19      37208.69          4840.73          4743.92   \n",
              "4     5865.70     6458.20      36971.70          5875.00          5698.75   \n",
              "\n",
              "   Mar Expenditure  Apr Expenditure  May Expenditure  Jun Expenditure  \n",
              "0          3534.08          4240.90          3731.99          4217.15  \n",
              "1          4410.93          4058.06          4220.38          5064.46  \n",
              "2          3411.55          3206.86          3399.27          3229.31  \n",
              "3          5692.70          5123.43          4867.26          5500.00  \n",
              "4          5983.69          6701.73          7505.94          8481.71  "
            ],
            "text/html": [
              "\n",
              "  <div id=\"df-c346b241-b4f5-4518-ad5c-152774176e70\">\n",
              "    <div class=\"colab-df-container\">\n",
              "      <div>\n",
              "<style scoped>\n",
              "    .dataframe tbody tr th:only-of-type {\n",
              "        vertical-align: middle;\n",
              "    }\n",
              "\n",
              "    .dataframe tbody tr th {\n",
              "        vertical-align: top;\n",
              "    }\n",
              "\n",
              "    .dataframe thead th {\n",
              "        text-align: right;\n",
              "    }\n",
              "</style>\n",
              "<table border=\"1\" class=\"dataframe\">\n",
              "  <thead>\n",
              "    <tr style=\"text-align: right;\">\n",
              "      <th></th>\n",
              "      <th>Business</th>\n",
              "      <th>Department</th>\n",
              "      <th>Region</th>\n",
              "      <th>Jan Income</th>\n",
              "      <th>Feb Income</th>\n",
              "      <th>Mar Income</th>\n",
              "      <th>Apr Income</th>\n",
              "      <th>May Income</th>\n",
              "      <th>Jun Income</th>\n",
              "      <th>Total Income</th>\n",
              "      <th>Jan Expenditure</th>\n",
              "      <th>Feb Expenditure</th>\n",
              "      <th>Mar Expenditure</th>\n",
              "      <th>Apr Expenditure</th>\n",
              "      <th>May Expenditure</th>\n",
              "      <th>Jun Expenditure</th>\n",
              "    </tr>\n",
              "  </thead>\n",
              "  <tbody>\n",
              "    <tr>\n",
              "      <th>0</th>\n",
              "      <td>B2C_1</td>\n",
              "      <td>Loans</td>\n",
              "      <td>AT</td>\n",
              "      <td>5924.95</td>\n",
              "      <td>4680.71</td>\n",
              "      <td>7406.19</td>\n",
              "      <td>7169.19</td>\n",
              "      <td>7406.19</td>\n",
              "      <td>5213.96</td>\n",
              "      <td>37801.19</td>\n",
              "      <td>5178.13</td>\n",
              "      <td>3883.60</td>\n",
              "      <td>3534.08</td>\n",
              "      <td>4240.90</td>\n",
              "      <td>3731.99</td>\n",
              "      <td>4217.15</td>\n",
              "    </tr>\n",
              "    <tr>\n",
              "      <th>1</th>\n",
              "      <td>B2C_1</td>\n",
              "      <td>Loans</td>\n",
              "      <td>AT</td>\n",
              "      <td>5924.95</td>\n",
              "      <td>7346.94</td>\n",
              "      <td>6872.94</td>\n",
              "      <td>4739.96</td>\n",
              "      <td>6280.45</td>\n",
              "      <td>6576.69</td>\n",
              "      <td>37741.93</td>\n",
              "      <td>3913.87</td>\n",
              "      <td>3835.59</td>\n",
              "      <td>4410.93</td>\n",
              "      <td>4058.06</td>\n",
              "      <td>4220.38</td>\n",
              "      <td>5064.46</td>\n",
              "    </tr>\n",
              "    <tr>\n",
              "      <th>2</th>\n",
              "      <td>B2C_1</td>\n",
              "      <td>Loans</td>\n",
              "      <td>AT</td>\n",
              "      <td>5924.95</td>\n",
              "      <td>7406.19</td>\n",
              "      <td>6043.45</td>\n",
              "      <td>6161.95</td>\n",
              "      <td>6161.95</td>\n",
              "      <td>5924.95</td>\n",
              "      <td>37623.44</td>\n",
              "      <td>4386.71</td>\n",
              "      <td>3377.77</td>\n",
              "      <td>3411.55</td>\n",
              "      <td>3206.86</td>\n",
              "      <td>3399.27</td>\n",
              "      <td>3229.31</td>\n",
              "    </tr>\n",
              "    <tr>\n",
              "      <th>3</th>\n",
              "      <td>B2C_1</td>\n",
              "      <td>Services</td>\n",
              "      <td>AT</td>\n",
              "      <td>5924.95</td>\n",
              "      <td>5865.70</td>\n",
              "      <td>7406.19</td>\n",
              "      <td>4858.46</td>\n",
              "      <td>5984.20</td>\n",
              "      <td>7169.19</td>\n",
              "      <td>37208.69</td>\n",
              "      <td>4840.73</td>\n",
              "      <td>4743.92</td>\n",
              "      <td>5692.70</td>\n",
              "      <td>5123.43</td>\n",
              "      <td>4867.26</td>\n",
              "      <td>5500.00</td>\n",
              "    </tr>\n",
              "    <tr>\n",
              "      <th>4</th>\n",
              "      <td>B2C_1</td>\n",
              "      <td>Loans</td>\n",
              "      <td>AT</td>\n",
              "      <td>5924.95</td>\n",
              "      <td>6280.45</td>\n",
              "      <td>6102.70</td>\n",
              "      <td>6339.70</td>\n",
              "      <td>5865.70</td>\n",
              "      <td>6458.20</td>\n",
              "      <td>36971.70</td>\n",
              "      <td>5875.00</td>\n",
              "      <td>5698.75</td>\n",
              "      <td>5983.69</td>\n",
              "      <td>6701.73</td>\n",
              "      <td>7505.94</td>\n",
              "      <td>8481.71</td>\n",
              "    </tr>\n",
              "  </tbody>\n",
              "</table>\n",
              "</div>\n",
              "      <button class=\"colab-df-convert\" onclick=\"convertToInteractive('df-c346b241-b4f5-4518-ad5c-152774176e70')\"\n",
              "              title=\"Convert this dataframe to an interactive table.\"\n",
              "              style=\"display:none;\">\n",
              "        \n",
              "  <svg xmlns=\"http://www.w3.org/2000/svg\" height=\"24px\"viewBox=\"0 0 24 24\"\n",
              "       width=\"24px\">\n",
              "    <path d=\"M0 0h24v24H0V0z\" fill=\"none\"/>\n",
              "    <path d=\"M18.56 5.44l.94 2.06.94-2.06 2.06-.94-2.06-.94-.94-2.06-.94 2.06-2.06.94zm-11 1L8.5 8.5l.94-2.06 2.06-.94-2.06-.94L8.5 2.5l-.94 2.06-2.06.94zm10 10l.94 2.06.94-2.06 2.06-.94-2.06-.94-.94-2.06-.94 2.06-2.06.94z\"/><path d=\"M17.41 7.96l-1.37-1.37c-.4-.4-.92-.59-1.43-.59-.52 0-1.04.2-1.43.59L10.3 9.45l-7.72 7.72c-.78.78-.78 2.05 0 2.83L4 21.41c.39.39.9.59 1.41.59.51 0 1.02-.2 1.41-.59l7.78-7.78 2.81-2.81c.8-.78.8-2.07 0-2.86zM5.41 20L4 18.59l7.72-7.72 1.47 1.35L5.41 20z\"/>\n",
              "  </svg>\n",
              "      </button>\n",
              "      \n",
              "  <style>\n",
              "    .colab-df-container {\n",
              "      display:flex;\n",
              "      flex-wrap:wrap;\n",
              "      gap: 12px;\n",
              "    }\n",
              "\n",
              "    .colab-df-convert {\n",
              "      background-color: #E8F0FE;\n",
              "      border: none;\n",
              "      border-radius: 50%;\n",
              "      cursor: pointer;\n",
              "      display: none;\n",
              "      fill: #1967D2;\n",
              "      height: 32px;\n",
              "      padding: 0 0 0 0;\n",
              "      width: 32px;\n",
              "    }\n",
              "\n",
              "    .colab-df-convert:hover {\n",
              "      background-color: #E2EBFA;\n",
              "      box-shadow: 0px 1px 2px rgba(60, 64, 67, 0.3), 0px 1px 3px 1px rgba(60, 64, 67, 0.15);\n",
              "      fill: #174EA6;\n",
              "    }\n",
              "\n",
              "    [theme=dark] .colab-df-convert {\n",
              "      background-color: #3B4455;\n",
              "      fill: #D2E3FC;\n",
              "    }\n",
              "\n",
              "    [theme=dark] .colab-df-convert:hover {\n",
              "      background-color: #434B5C;\n",
              "      box-shadow: 0px 1px 3px 1px rgba(0, 0, 0, 0.15);\n",
              "      filter: drop-shadow(0px 1px 2px rgba(0, 0, 0, 0.3));\n",
              "      fill: #FFFFFF;\n",
              "    }\n",
              "  </style>\n",
              "\n",
              "      <script>\n",
              "        const buttonEl =\n",
              "          document.querySelector('#df-c346b241-b4f5-4518-ad5c-152774176e70 button.colab-df-convert');\n",
              "        buttonEl.style.display =\n",
              "          google.colab.kernel.accessAllowed ? 'block' : 'none';\n",
              "\n",
              "        async function convertToInteractive(key) {\n",
              "          const element = document.querySelector('#df-c346b241-b4f5-4518-ad5c-152774176e70');\n",
              "          const dataTable =\n",
              "            await google.colab.kernel.invokeFunction('convertToInteractive',\n",
              "                                                     [key], {});\n",
              "          if (!dataTable) return;\n",
              "\n",
              "          const docLinkHtml = 'Like what you see? Visit the ' +\n",
              "            '<a target=\"_blank\" href=https://colab.research.google.com/notebooks/data_table.ipynb>data table notebook</a>'\n",
              "            + ' to learn more about interactive tables.';\n",
              "          element.innerHTML = '';\n",
              "          dataTable['output_type'] = 'display_data';\n",
              "          await google.colab.output.renderOutput(dataTable, element);\n",
              "          const docLink = document.createElement('div');\n",
              "          docLink.innerHTML = docLinkHtml;\n",
              "          element.appendChild(docLink);\n",
              "        }\n",
              "      </script>\n",
              "    </div>\n",
              "  </div>\n",
              "  "
            ]
          },
          "metadata": {},
          "execution_count": 84
        }
      ]
    },
    {
      "cell_type": "code",
      "source": [
        "# write values ot Total Income computed with pandas in df, at the column we just inserted\n",
        "\n",
        "# save the column 'Total Income' from df computed with pandas in list cellrange\n",
        "\n",
        "cellrange = df['Total Income']\n",
        "\n",
        "# the column index (in excel) where we want to write\n",
        "print('write in Excel the values of Total Income in column:', total_inc_col)\n",
        "\n",
        "# starting row 2\n",
        "row= 2 # because the row_1 are the headers\n",
        "\n",
        "# write the elements from cellrange in excel at index total_inc_col\n",
        "for i in range(0, len(cellrange)):\n",
        "    sheet.cell(row=row, column = total_inc_col).value= cellrange[i]\n",
        "    row=row+1\n",
        "\n",
        "# save the modifications\n",
        "wb.save('Budget_processed.xlsx')"
      ],
      "metadata": {
        "colab": {
          "base_uri": "https://localhost:8080/"
        },
        "id": "DykuGFGHeJxc",
        "outputId": "88db3086-3347-4fa3-f7d0-5703ac750603"
      },
      "id": "DykuGFGHeJxc",
      "execution_count": 85,
      "outputs": [
        {
          "output_type": "stream",
          "name": "stdout",
          "text": [
            "write in Excel the values of Total Income in column: 10\n"
          ]
        }
      ]
    },
    {
      "cell_type": "code",
      "source": [
        "# in updated excel, we inserted + wrote values for Total Income (after June Income)\n",
        "\n",
        "for idx, row in enumerate(sheet['A1:K5']):\n",
        "    print(idx+1, [x.value for x in row]) "
      ],
      "metadata": {
        "id": "wMZDo4AMeqSU"
      },
      "id": "wMZDo4AMeqSU",
      "execution_count": null,
      "outputs": []
    },
    {
      "cell_type": "markdown",
      "source": [
        "4. Add header Total Income"
      ],
      "metadata": {
        "id": "B-vscdvb77ph"
      },
      "id": "B-vscdvb77ph"
    },
    {
      "cell_type": "code",
      "source": [
        "# now we want to write the header 'Total Income' in the excel\n",
        "# for this:\n",
        "\n",
        "# 1st we need to compute the location of this header\n",
        "\n",
        "# write column name for Total expenditure as a header\n",
        "# compute this location...\n",
        "total_inc_col_letter = get_column_letter(total_inc_col)\n",
        "total_inc_row = 1\n",
        "total_inc_cel_ref = str(total_inc_col_letter) + str(total_inc_row)\n",
        "print('the cel ref for Total Income header: ', total_inc_cel_ref)"
      ],
      "metadata": {
        "id": "rLNxxgqMe69z"
      },
      "id": "rLNxxgqMe69z",
      "execution_count": null,
      "outputs": []
    },
    {
      "cell_type": "code",
      "source": [
        "# 2nd, write the string/header Total Income in Excel\n",
        "# write it in excel \n",
        "sheet[total_inc_cel_ref]= 'Total Income'\n",
        "#save modification\n",
        "wb.save('Budget_processed.xlsx') \n",
        "\n",
        "# now our excel look like this:\n",
        "\n",
        "for idx, row in enumerate(sheet['A1:K3']):\n",
        "    print(idx+1, [x.value for x in row])"
      ],
      "metadata": {
        "id": "Jy9JYHcifS4P"
      },
      "id": "Jy9JYHcifS4P",
      "execution_count": null,
      "outputs": []
    },
    {
      "cell_type": "code",
      "execution_count": null,
      "id": "06836c32-7039-43e7-99dd-e3269b06f9a7",
      "metadata": {
        "id": "06836c32-7039-43e7-99dd-e3269b06f9a7"
      },
      "outputs": [],
      "source": [
        "# display image\n",
        "img = mpimg.imread('images/img_1.PNG')\n",
        "plt.rcParams['figure.figsize'] = [18, 16]\n",
        "plt.imshow(img)\n",
        "\n",
        "plt.axis('off')\n",
        "plt.show()"
      ]
    },
    {
      "cell_type": "code",
      "source": [
        "# add column letter Total Income ws_loc\n",
        "print(total_inc_col_letter)\n",
        "ws_loc['total_inc_col_letter_xl'] = total_inc_col_letter"
      ],
      "metadata": {
        "id": "1FPcP3DL8WbJ"
      },
      "id": "1FPcP3DL8WbJ",
      "execution_count": null,
      "outputs": []
    },
    {
      "cell_type": "markdown",
      "id": "85bdf63a",
      "metadata": {
        "id": "85bdf63a"
      },
      "source": [
        "## Total Expenditure "
      ]
    },
    {
      "cell_type": "markdown",
      "id": "abce2e1d",
      "metadata": {
        "id": "abce2e1d"
      },
      "source": [
        "Total Expenditure in DF"
      ]
    },
    {
      "cell_type": "code",
      "execution_count": null,
      "id": "18a96bc5",
      "metadata": {
        "id": "18a96bc5"
      },
      "outputs": [],
      "source": [
        "# first compute total Exp for all months in df\n",
        "\n",
        "# identify column index for column with Income\n",
        "expenditure_col=[]\n",
        "for col in range(0, len(df.columns)):\n",
        "    if 'Expenditure' in df.columns[col]:\n",
        "        expenditure_col.append(col)\n",
        "\n",
        "print('Exp columns: ', expenditure_col)\n",
        "\n",
        "# 1st col with Exp\n",
        "expenditure_start= expenditure_col[0]\n",
        "\n",
        "# last col with Exp\n",
        "expenditure_end= expenditure_col[-1]"
      ]
    },
    {
      "cell_type": "code",
      "execution_count": null,
      "id": "b18d7544",
      "metadata": {
        "id": "b18d7544"
      },
      "outputs": [],
      "source": [
        "#check those columns at found indices \n",
        "df.iloc[:, expenditure_start:expenditure_end+1]"
      ]
    },
    {
      "cell_type": "code",
      "execution_count": null,
      "id": "3c270f39",
      "metadata": {
        "id": "3c270f39"
      },
      "outputs": [],
      "source": [
        "# compute the total income and assign it in a new column in the df\n",
        "df['Total Expenditure'] = df.iloc[:, expenditure_start:expenditure_end+1].sum(axis=1)\n",
        "df.head() #the column was added at the the end"
      ]
    },
    {
      "cell_type": "code",
      "source": [
        "# Total Expenditure column idx in df\n",
        "total_exp_df = df.columns.get_loc(\"Total Expenditure\")\n",
        "\n",
        "# Total Expenditure column idx in excel\n",
        "total_exp_xl = total_exp_df + 1\n",
        "\n",
        "# Total exp col letter\n",
        "total_exp_col_letter = get_column_letter(total_exp_xl) \n"
      ],
      "metadata": {
        "id": "w-Gy738fO1jm"
      },
      "id": "w-Gy738fO1jm",
      "execution_count": null,
      "outputs": []
    },
    {
      "cell_type": "code",
      "source": [
        "# update ws_loc\n",
        "\n",
        "ws_loc['expenditure_col']= expenditure_col\n",
        "ws_loc['expenditure_start']=expenditure_start\n",
        "ws_loc['expenditure_end']=expenditure_end\n",
        "ws_loc['total_exp_df']= total_exp_df\n",
        "ws_loc['total_exp_xl']= total_exp_xl\n",
        "ws_loc['total_exp_col_letter']= total_exp_col_letter\n",
        "\n",
        "\n",
        "ws_loc"
      ],
      "metadata": {
        "id": "LXhqDVWCBeKA"
      },
      "id": "LXhqDVWCBeKA",
      "execution_count": null,
      "outputs": []
    },
    {
      "cell_type": "code",
      "execution_count": null,
      "id": "e2b83cb2",
      "metadata": {
        "id": "e2b83cb2"
      },
      "outputs": [],
      "source": [
        "# find column number of column Jan Exp\n",
        "for i in range(1, sheet.max_column):\n",
        "    ref = sheet.cell(row=1, column=i)\n",
        "    if ref.value == 'Jan Expenditure':\n",
        "        print('the column nb for Jan Expenditure is: ', ref.column)"
      ]
    },
    {
      "cell_type": "code",
      "execution_count": null,
      "id": "05a12e00",
      "metadata": {
        "id": "05a12e00"
      },
      "outputs": [],
      "source": [
        "# find column number that have Exp months\n",
        "\n",
        "expenditure_col_xl = []\n",
        "for i in range(1, sheet.max_column+1):# without + 1\n",
        "    ref = sheet.cell(row=1, column=i)\n",
        "    if 'Expenditure' in ref.value:\n",
        "        expenditure_col_xl.append(ref.column)\n",
        "\n",
        "print(expenditure_col_xl)"
      ]
    },
    {
      "cell_type": "code",
      "execution_count": null,
      "id": "2eb0ee26",
      "metadata": {
        "id": "2eb0ee26"
      },
      "outputs": [],
      "source": [
        "expenditure_start_xl= expenditure_col_xl[0]\n",
        "expenditure_end_xl= expenditure_col_xl[-1]\n",
        "\n",
        "print('expenditure starts at column: ', get_column_letter(expenditure_start_xl),\n",
        "      'expenditure end at column: ', get_column_letter(expenditure_end_xl))"
      ]
    },
    {
      "cell_type": "code",
      "source": [
        "# update ws_loc\n",
        "\n",
        "ws_loc['expenditure_col_xl']= expenditure_col_xl\n",
        "ws_loc['expenditure_start_xl']=expenditure_start_xl\n",
        "ws_loc['expenditure_end_xl']=expenditure_end_xl\n",
        "\n",
        "ws_loc"
      ],
      "metadata": {
        "id": "3jSwV-MSCZ4S"
      },
      "id": "3jSwV-MSCZ4S",
      "execution_count": null,
      "outputs": []
    },
    {
      "cell_type": "code",
      "execution_count": null,
      "id": "93d255ba-462b-4428-ad1f-c31950de0632",
      "metadata": {
        "id": "93d255ba-462b-4428-ad1f-c31950de0632"
      },
      "outputs": [],
      "source": [
        "# display image\n",
        "img = mpimg.imread('images/img_1.PNG')\n",
        "plt.rcParams['figure.figsize'] = [16, 16]\n",
        "plt.imshow(img)\n",
        "\n",
        "plt.axis('off')\n",
        "plt.show()"
      ]
    },
    {
      "cell_type": "code",
      "execution_count": null,
      "id": "c122492c",
      "metadata": {
        "id": "c122492c"
      },
      "outputs": [],
      "source": [
        "# compute idx where to copy/past the total for expenditure\n",
        "total_exp_col = expenditure_col_xl[-1]+1\n",
        "total_exp_col"
      ]
    },
    {
      "cell_type": "code",
      "execution_count": null,
      "id": "3c4219df",
      "metadata": {
        "id": "3c4219df"
      },
      "outputs": [],
      "source": [
        "cellrange = round(df['Total Expenditure'], 2)\n",
        "row= 2\n",
        "for i in range(0, len(cellrange)):\n",
        "    sheet.cell(row=row, column = total_exp_col).value= cellrange[i]\n",
        "    row=row+1\n",
        "\n",
        "wb.save('Budget_processed.xlsx') "
      ]
    },
    {
      "cell_type": "code",
      "execution_count": null,
      "id": "f4c19256",
      "metadata": {
        "id": "f4c19256"
      },
      "outputs": [],
      "source": [
        "# write column name for Total expenditure\n",
        "total_exp_col_letter = get_column_letter(total_exp_col)\n",
        "total_exp_row = 1\n",
        "total_exp_cel_ref = str(total_exp_col_letter) + str(total_exp_row)\n",
        "total_exp_cel_ref"
      ]
    },
    {
      "cell_type": "code",
      "execution_count": null,
      "id": "edca15a8",
      "metadata": {
        "id": "edca15a8"
      },
      "outputs": [],
      "source": [
        "sheet[total_exp_cel_ref]= 'Total Expenditure'\n",
        "wb.save('Budget_processed.xlsx') "
      ]
    },
    {
      "cell_type": "code",
      "execution_count": null,
      "id": "7c37f3b8-06d6-47ea-b683-5b75051df474",
      "metadata": {
        "id": "7c37f3b8-06d6-47ea-b683-5b75051df474"
      },
      "outputs": [],
      "source": [
        "for idx, row in enumerate(sheet['H1:Q5']):\n",
        "    print(idx+1, [x.value for x in row])"
      ]
    },
    {
      "cell_type": "code",
      "execution_count": null,
      "id": "b81214a3-5c44-4376-99f6-a59cf052703b",
      "metadata": {
        "id": "b81214a3-5c44-4376-99f6-a59cf052703b"
      },
      "outputs": [],
      "source": [
        "# display image\n",
        "img = mpimg.imread('images/img_2.PNG')\n",
        "plt.rcParams['figure.figsize'] = [12, 10]\n",
        "plt.imshow(img)\n",
        "plt.axis('off')\n",
        "plt.show()"
      ]
    },
    {
      "cell_type": "markdown",
      "id": "010fa791",
      "metadata": {
        "id": "010fa791"
      },
      "source": [
        "## Net"
      ]
    },
    {
      "cell_type": "raw",
      "id": "68d44752-da76-4da9-b443-d336e9ff2fc5",
      "metadata": {
        "id": "68d44752-da76-4da9-b443-d336e9ff2fc5"
      },
      "source": [
        "We would like to add a new column \"Net\" at the end of the columns\n",
        "that would soubstract Total Exp from Total Exp"
      ]
    },
    {
      "cell_type": "code",
      "execution_count": null,
      "id": "f493ad31",
      "metadata": {
        "id": "f493ad31"
      },
      "outputs": [],
      "source": [
        "df.head()"
      ]
    },
    {
      "cell_type": "code",
      "execution_count": null,
      "id": "faf08ecf",
      "metadata": {
        "id": "faf08ecf"
      },
      "outputs": [],
      "source": [
        "# compute Net column in df\n",
        "df['Net']= df['Total Income'] - df['Total Expenditure']\n",
        "df.head()"
      ]
    },
    {
      "cell_type": "code",
      "execution_count": null,
      "id": "32dea0d1",
      "metadata": {
        "id": "32dea0d1"
      },
      "outputs": [],
      "source": [
        "# take values for column Net from df\n",
        "# and put them into a list cellrange\n",
        "\n",
        "cellrange = list(round(df['Net'], 2))\n",
        "cellrange[:10]"
      ]
    },
    {
      "cell_type": "code",
      "execution_count": null,
      "id": "2e7921e2",
      "metadata": {
        "id": "2e7921e2"
      },
      "outputs": [],
      "source": [
        "# insert header 'Net' at index 0 (1st position)\n",
        "cellrange.insert(0, 'Net')\n",
        "cellrange[:10]"
      ]
    },
    {
      "cell_type": "code",
      "execution_count": null,
      "id": "bfa7b667",
      "metadata": {
        "id": "bfa7b667"
      },
      "outputs": [],
      "source": [
        "# Net column idx in df\n",
        "net_col = df.columns.get_loc(\"Net\")\n",
        "print(net_col)"
      ]
    },
    {
      "cell_type": "code",
      "source": [
        "# Net column idx in excel\n",
        "\n",
        "net_col_xl = net_col + 1"
      ],
      "metadata": {
        "id": "hg12unC7NzxK"
      },
      "id": "hg12unC7NzxK",
      "execution_count": null,
      "outputs": []
    },
    {
      "cell_type": "code",
      "source": [
        "# add them to ws_loc\n",
        "\n",
        "ws_loc['net_col_df'] = net_col\n",
        "ws_loc['net_col_xl'] = net_col_xl\n",
        "ws_loc['net_col_letter'] = get_column_letter(net_col_xl)"
      ],
      "metadata": {
        "id": "PGtRUzjIMI2Z"
      },
      "id": "PGtRUzjIMI2Z",
      "execution_count": null,
      "outputs": []
    },
    {
      "cell_type": "code",
      "execution_count": null,
      "id": "1a36ba44",
      "metadata": {
        "id": "1a36ba44"
      },
      "outputs": [],
      "source": [
        "# from row 1\n",
        "row= 1\n",
        "# write  cellrange in excel at column net_col\n",
        "\n",
        "for i in range(0, len(cellrange)):\n",
        "    sheet.cell(row=row, column = net_col_xl).value= cellrange[i]\n",
        "    row=row+1\n",
        "\n",
        "# save\n",
        "wb.save('Budget_processed.xlsx') "
      ]
    },
    {
      "cell_type": "code",
      "source": [
        "for idx, row in enumerate(sheet['H1:R5']):\n",
        "    print(idx+1, [x.value for x in row])"
      ],
      "metadata": {
        "id": "-lQRuHvChuRp"
      },
      "id": "-lQRuHvChuRp",
      "execution_count": null,
      "outputs": []
    },
    {
      "cell_type": "code",
      "execution_count": null,
      "id": "72d77075-cb8b-456b-9a39-ce381f4ae1fa",
      "metadata": {
        "id": "72d77075-cb8b-456b-9a39-ce381f4ae1fa"
      },
      "outputs": [],
      "source": [
        "# display image\n",
        "img = mpimg.imread('images/img_3.PNG')\n",
        "plt.rcParams['figure.figsize'] = [12, 10]\n",
        "plt.imshow(img)\n",
        "plt.axis('off')\n",
        "plt.show()"
      ]
    },
    {
      "cell_type": "code",
      "execution_count": null,
      "id": "ad52de6e-2ca0-4726-ada6-6bc8b1674279",
      "metadata": {
        "id": "ad52de6e-2ca0-4726-ada6-6bc8b1674279"
      },
      "outputs": [],
      "source": [
        "# save\n",
        "wb.save('Budget_processed.xlsx') \n"
      ]
    },
    {
      "cell_type": "code",
      "source": [
        "# download file from Drive to your local machine\n",
        "\n",
        "# files.download(\"Budget_processed.xlsx\")"
      ],
      "metadata": {
        "id": "VQRezIIoF1IO"
      },
      "id": "VQRezIIoF1IO",
      "execution_count": null,
      "outputs": []
    },
    {
      "cell_type": "markdown",
      "source": [
        "Update ws_loc after modifications"
      ],
      "metadata": {
        "id": "7_57a4WFBK7r"
      },
      "id": "7_57a4WFBK7r"
    },
    {
      "cell_type": "code",
      "source": [
        "ws_loc"
      ],
      "metadata": {
        "id": "5ZbubkLXhxE3"
      },
      "id": "5ZbubkLXhxE3",
      "execution_count": null,
      "outputs": []
    },
    {
      "cell_type": "code",
      "source": [
        "# compute the range of the whole dataframe \n",
        "max_row, max_col = df.shape\n",
        "\n",
        "# the df range in excel \n",
        "ws_range = xl_range(0, # starting row\n",
        "                    0, # starting column\n",
        "                    max_row, \n",
        "                    max_col - 1)                 \n",
        "\n",
        "# end indices\n",
        "end_point = xl_rowcol_to_cell(max_row, max_col-1) # # coordinates of bottom right of df\n",
        "end_col = xl_col_to_name(max_col-1) # get the column letter for the last column\n",
        "end_col_idx = column_index_from_string(end_col)"
      ],
      "metadata": {
        "id": "oBJn899iBJvr"
      },
      "id": "oBJn899iBJvr",
      "execution_count": null,
      "outputs": []
    },
    {
      "cell_type": "code",
      "source": [
        "ws_loc['max_col']= max_col\n",
        "ws_loc['df_shape'] = df.shape\n",
        "ws_loc['ws_range'] = ws_range\n",
        "ws_loc['end_point'] = end_point\n",
        "ws_loc['end_col'] = end_col\n",
        "ws_loc['end_col_idx'] = end_col_idx\n",
        "\n",
        "ws_loc"
      ],
      "metadata": {
        "id": "4U38PgLCJUAt"
      },
      "id": "4U38PgLCJUAt",
      "execution_count": null,
      "outputs": []
    },
    {
      "cell_type": "markdown",
      "source": [
        "# Part 2: Overview"
      ],
      "metadata": {
        "id": "X4qIZ3bQjEzZ"
      },
      "id": "X4qIZ3bQjEzZ"
    },
    {
      "cell_type": "markdown",
      "id": "c8cf4628",
      "metadata": {
        "id": "c8cf4628"
      },
      "source": [
        "# 6.&nbsp;Overview"
      ]
    },
    {
      "cell_type": "raw",
      "id": "b10a0074-faa1-45b8-b798-dc717d762a77",
      "metadata": {
        "id": "b10a0074-faa1-45b8-b798-dc717d762a77"
      },
      "source": [
        "Now we'd like to work on the overview part"
      ]
    },
    {
      "cell_type": "markdown",
      "source": [
        "The OVERVIEW df will contain:\n",
        "\n",
        "1.  Row with months, by Income + 'Total' and Expenditure +  'Total'\n",
        "2.  Row with headers, wether it's Income or Exp\n",
        "3.  Rows for every **Business** (B2B, B2C1, B2C_2, Fleet) with totals for every month for Income and Expenditure + total of totals for Income and Expenditure\n",
        "4.  Row Monthly Total (Totals by month, accros all businesses), by Inc and Exp\n",
        "5.  Row with M2M evolution ( % evolution from month to month,  by Income and Expenditure\n",
        "6.  Row with a cell values of Previous Month Total for Inc and Exp + cells with string Prior\n",
        "7.  strings in the 1st column: Month, Motnhly total, M2M evoltion, each Business category\n",
        "8.  Insert the overview part in the sheet 'Data' at the top of the sheet\n"
      ],
      "metadata": {
        "id": "27Ki52Buvq8R"
      },
      "id": "27Ki52Buvq8R"
    },
    {
      "cell_type": "code",
      "execution_count": null,
      "id": "6d13e061-8cbd-4721-9c13-3c5137380116",
      "metadata": {
        "id": "6d13e061-8cbd-4721-9c13-3c5137380116"
      },
      "outputs": [],
      "source": [
        "# overview part\n",
        "img = mpimg.imread('images/img_4.PNG')\n",
        "plt.rcParams['figure.figsize'] = [18, 14]\n",
        "plt.imshow(img)\n",
        "\n",
        "plt.axis('off')\n",
        "plt.show()"
      ]
    },
    {
      "cell_type": "code",
      "source": [
        "# orange:  for header + month+ TOTAL\n",
        "# yellow: totals by month for each business\n",
        "# red:  totals by monhtù + total across businesses\n",
        "# blue: M2M ev ==> % change\n",
        "# purple+ green : eaders for rows\n",
        "\n",
        "img = mpimg.imread('images/img_6.PNG')\n",
        "plt.imshow(img)\n",
        "plt.rcParams['figure.figsize'] = [12, 10]\n",
        "plt.axis('off')\n",
        "plt.show()"
      ],
      "metadata": {
        "id": "DM0PR96uCFFF"
      },
      "id": "DM0PR96uCFFF",
      "execution_count": null,
      "outputs": []
    },
    {
      "cell_type": "raw",
      "id": "e87febd9-2d41-4d17-9efb-6355856623cc",
      "metadata": {
        "id": "e87febd9-2d41-4d17-9efb-6355856623cc"
      },
      "source": [
        "First, we'll create a new sheet \"Overview\" where we'll work on Overview part data\n",
        "\n",
        "Once it's done, we will copy / insert it above \"Data\" df, in the sheet 'Data'"
      ]
    },
    {
      "cell_type": "code",
      "source": [
        "# check the workbook sheet\n",
        "print(wb.sheetnames)"
      ],
      "metadata": {
        "id": "3BuR2ZOOn3OB"
      },
      "id": "3BuR2ZOOn3OB",
      "execution_count": null,
      "outputs": []
    },
    {
      "cell_type": "code",
      "source": [
        "# remove the sheet\n",
        "#rm = wb['Overview']\n",
        "#wb.remove(rm)"
      ],
      "metadata": {
        "id": "HjZpnmbnnn1f"
      },
      "id": "HjZpnmbnnn1f",
      "execution_count": null,
      "outputs": []
    },
    {
      "cell_type": "code",
      "execution_count": null,
      "id": "0de6cb42",
      "metadata": {
        "id": "0de6cb42"
      },
      "outputs": [],
      "source": [
        "# create sheet 'Overview'\n",
        "\n",
        "wb.create_sheet(title='Overview')\n",
        "\n",
        "overview= wb['Overview'] # create reference to the sheet# delete a sheet\n",
        "\n",
        "# check the workbook sheet\n",
        "print(wb.sheetnames)\n",
        "\n",
        "# save the new workbook \n",
        "wb.save('Budget_processed.xlsx')"
      ]
    },
    {
      "cell_type": "raw",
      "id": "56705758",
      "metadata": {
        "id": "56705758"
      },
      "source": [
        "## 6.1&nbsp;Months"
      ]
    },
    {
      "cell_type": "raw",
      "id": "40711ea1-0723-40ff-9c88-06622cf3b9c0",
      "metadata": {
        "id": "40711ea1-0723-40ff-9c88-06622cf3b9c0"
      },
      "source": [
        "Get all the months present in the df"
      ]
    },
    {
      "cell_type": "code",
      "execution_count": null,
      "id": "cab44d0a",
      "metadata": {
        "id": "cab44d0a"
      },
      "outputs": [],
      "source": [
        "# identify column index for column with Income\n",
        "months=[]\n",
        "for month in df.columns:\n",
        "    if 'Income' in month:\n",
        "        months.append(month)\n",
        "        \n",
        "print(months) # you can inspect all variables created to this point\n",
        "# by clicking icon Variables {x} in the Table of contents section"
      ]
    },
    {
      "cell_type": "markdown",
      "source": [
        "Remove \"Income' substring from months and total by using function map"
      ],
      "metadata": {
        "id": "JbrPlRbwthq8"
      },
      "id": "JbrPlRbwthq8"
    },
    {
      "cell_type": "code",
      "source": [
        "# map function allows to apply a function in an iteration\n",
        "\n",
        "def myfunc(a):\n",
        "  return len(a)\n",
        "\n",
        "x = map(myfunc, ('apple', 'banana', 'cherry'))\n",
        "\n",
        "print(x) # the output will be a map object\n",
        "\n",
        "# convert the map into a list, for readability:\n",
        "print(list(x))"
      ],
      "metadata": {
        "id": "Z_8RVIff3YuD"
      },
      "id": "Z_8RVIff3YuD",
      "execution_count": null,
      "outputs": []
    },
    {
      "cell_type": "code",
      "execution_count": null,
      "id": "8e640e56",
      "metadata": {
        "id": "8e640e56"
      },
      "outputs": [],
      "source": [
        "# remove the substring ' Income' from the list items \"months\"\n",
        "# then \"map\" them with months ==> apply the removing of 'Income' to the list <months>\n",
        "# convert it to a list\n",
        "\n",
        "months = list(map(lambda x: x.replace(' Income',''), months)) # map function allows to apply a function in an iteration\n",
        "print('nb of months: ', len(months))\n",
        "\n",
        "# save in variable nb_months the nb of monthe\n",
        "nb_months = len(months)\n",
        "\n",
        "print('')\n",
        "print('We will have the same months for in our Data for INcome, and Expenditure as well')\n",
        "months"
      ]
    },
    {
      "cell_type": "code",
      "source": [
        "# create a dictionary to store info about overview\n",
        "\n",
        "overview_dict = {'months' : months,\n",
        "                 'nb_months': nb_months             \n",
        "                }"
      ],
      "metadata": {
        "id": "SLAzkHIht9tI"
      },
      "id": "SLAzkHIht9tI",
      "execution_count": null,
      "outputs": []
    },
    {
      "cell_type": "markdown",
      "source": [
        "## 6.2&nbsp;Headers Income or Expenditure"
      ],
      "metadata": {
        "id": "gF8ZeCCT5aKx"
      },
      "id": "gF8ZeCCT5aKx"
    },
    {
      "cell_type": "raw",
      "id": "7473df3d",
      "metadata": {
        "id": "7473df3d"
      },
      "source": [
        "### Income"
      ]
    },
    {
      "cell_type": "code",
      "execution_count": null,
      "id": "468fc843",
      "metadata": {
        "id": "468fc843"
      },
      "outputs": [],
      "source": [
        "# create a list where the string \"INCOME\" will be repeated 7 times\n",
        "# we multiply ['INCOME'] by the length of months (here 7) \n",
        "\n",
        "list_income= ['INCOME']* (nb_months) # create a list that will contain the string Income x nb_months times\n",
        "print(len(list_income))\n",
        "list_income"
      ]
    },
    {
      "cell_type": "code",
      "execution_count": null,
      "id": "d4d19d27",
      "metadata": {
        "id": "d4d19d27"
      },
      "outputs": [],
      "source": [
        "# we'll do a nested list \"list_inc_2\" that will contain both lists:\n",
        "# list_income AND months + Total\n",
        "\n",
        "list_inc_2 = [list_income, months]\n",
        "print(len(list_inc_2[0])) # each sub_list will have 7 elements\n",
        "print(list_inc_2)"
      ]
    },
    {
      "cell_type": "raw",
      "id": "05890735",
      "metadata": {
        "id": "05890735"
      },
      "source": [
        "### Expenditure"
      ]
    },
    {
      "cell_type": "raw",
      "id": "b767f2ae-9a22-46d6-baea-b4410123c6ba",
      "metadata": {
        "id": "b767f2ae-9a22-46d6-baea-b4410123c6ba"
      },
      "source": [
        "Let's do the same for Expenditure.."
      ]
    },
    {
      "cell_type": "code",
      "execution_count": null,
      "id": "af1e057e",
      "metadata": {
        "id": "af1e057e"
      },
      "outputs": [],
      "source": [
        "list_expenditure= ['Expenditure']*(nb_months)\n",
        "list_exp_2 = [list_expenditure, months]\n",
        "print(len(list_exp_2[0])) # each sub_list will have 7 elements\n",
        "print(list_exp_2)"
      ]
    },
    {
      "cell_type": "markdown",
      "source": [
        "Combine the 2 nested lists with zip function"
      ],
      "metadata": {
        "id": "iuwYf6_DvgYd"
      },
      "id": "iuwYf6_DvgYd"
    },
    {
      "cell_type": "raw",
      "id": "4f3174df-3bd1-489e-bc62-60214e3b74f2",
      "metadata": {
        "id": "4f3174df-3bd1-489e-bc62-60214e3b74f2"
      },
      "source": [
        "**zip() function**\n",
        "\n",
        "\n",
        "The zip() function takes iterables (can be zero or more), aggregates them in a tuple, and returns it. (it's like combining items from both lists)"
      ]
    },
    {
      "cell_type": "code",
      "execution_count": null,
      "id": "cb75c72e-3b45-4934-afcd-8d08e247a81e",
      "metadata": {
        "id": "cb75c72e-3b45-4934-afcd-8d08e247a81e"
      },
      "outputs": [],
      "source": [
        "# example of zip() function\n",
        "languages = ['Expenditure', 'Expenditure']\n",
        "versions = ['Jan', 'Feb']\n",
        "\n",
        "result = zip(languages, versions)\n",
        "print(list(result)) # the output wil be a nested list containint tuples"
      ]
    },
    {
      "cell_type": "code",
      "execution_count": null,
      "id": "475ce104-cdf3-4fbf-85c5-0a2981209002",
      "metadata": {
        "id": "475ce104-cdf3-4fbf-85c5-0a2981209002"
      },
      "outputs": [],
      "source": [
        "# combine 2 nested lists list_inc_2 and list_exp_2\n",
        "# and put it in a list\n",
        "\n",
        "# the output of a zip is a tuple\n",
        "# but as we put it in a list..\n",
        "# the final output here will be a list, containing 2 tuples, each tuple containing 2 lists:...\n",
        "#  ...headers 'Income' and months + Total and headers Expenditure and months + Total\n",
        "list(zip(list_inc_2, list_exp_2))"
      ]
    },
    {
      "cell_type": "code",
      "execution_count": null,
      "id": "9331ae22",
      "metadata": {
        "id": "9331ae22"
      },
      "outputs": [],
      "source": [
        "# let's do the same with list_inc_2, list_exp_2\n",
        "# but will modify a little bit, so in final we'll have lists and not tuples\n",
        "# and also we will flatten/ merge to obtain a single list by tuple\n",
        "# finally we will obtain a nested list inc_exp\n",
        "\n",
        "inc_exp = [a + b for a, b in zip(list_inc_2, list_exp_2)]\n",
        "inc_exp #the final output a nested list, containing 2 sublist: ...\n",
        "# ...all headers INcome + Exp and all month + Total respectively"
      ]
    },
    {
      "cell_type": "raw",
      "id": "0da40b58",
      "metadata": {
        "id": "0da40b58"
      },
      "source": [
        "Add the Inc, Exp names rows and months rows to overview"
      ]
    },
    {
      "cell_type": "code",
      "execution_count": null,
      "id": "acc9b244",
      "metadata": {
        "id": "acc9b244"
      },
      "outputs": [],
      "source": [
        "# compute dimensions of the nested list inc_exp\n",
        "\n",
        "for subl in inc_exp:\n",
        "  print(subl)\n",
        "\n",
        "# how many itmes in nested list\n",
        "maxr = len(inc_exp) # the lenght of the nested list \n",
        "\n",
        "# how many subitmes in each sublist within the nested list\n",
        "maxc = len(inc_exp[0]) # the lenght of sublist in the nested list\n",
        "\n",
        "print('')\n",
        "print('dimensions of our nested list inc_exp: ... ')\n",
        "print(maxr , maxc)"
      ]
    },
    {
      "cell_type": "code",
      "source": [
        "# add them to overview dict\n",
        "\n",
        "overview_dict['list_income']= list_income\n",
        "overview_dict['list_expenditure']= list_expenditure\n",
        "overview_dict['nested list inc_exp']= inc_exp\n",
        "overview_dict['nb rows of nested inc_exp']= maxr\n",
        "overview_dict['nb cols of nested inc_exp']= maxc\n",
        "overview_dict"
      ],
      "metadata": {
        "id": "UvDsA463wXN5"
      },
      "id": "UvDsA463wXN5",
      "execution_count": null,
      "outputs": []
    },
    {
      "cell_type": "code",
      "execution_count": null,
      "id": "282a22fa",
      "metadata": {
        "id": "282a22fa"
      },
      "outputs": [],
      "source": [
        "# write this nested list to excel, in the sheet overview by iteration\n",
        "\n",
        "# iterate each rows\n",
        "for this_row in range (1, maxr + 1):# add + 1, beacause we want to include the upper limit\n",
        "    # for each row, iterate through each col \n",
        "    for this_column in range (1, maxc + 1): # add + 1, beacause we want to include the upper limit\n",
        "        #print(this_row) ==> at the first iteration will have the row 1\n",
        "        #print(this_column) => while the iteration of the 1st row will not be finisshed, we will iterate through columns, that will change incrementally\n",
        "        cellsource = inc_exp[this_row-1][this_column-1] # in the nested list <<inc_exp>> get the right indices (so in 1st iteration: inc_exp[0][0]....\n",
        "                                                       #  then this indices will increment [0][1] => [0][2] => ... [1][0], [1][1]...)   \n",
        "                                                       # so the var <<cellsource>> will get dynamically the values of inc_exp at respective indices\n",
        "        overview.cell(row = this_row+1, column = this_column+1).value = cellsource # then write this value in the ws \"overview\" at cell ref(row= +1, column= + 1)\n",
        "        # we're adding +1 for rows and cols because we want to leave space for 'Prior Month' row\n",
        "        # and + 1 for row, because we want to leave some space in the 1st col, where we will add some rowheaders later\n",
        "\n",
        "# see what was written\n",
        "for idx,row in enumerate(overview[\"A1:O3\"]):\n",
        "    print (idx+1, [x.value for x in row])"
      ]
    },
    {
      "cell_type": "code",
      "execution_count": null,
      "id": "fc20ce97-0988-47d0-ad37-36bf4189f723",
      "metadata": {
        "id": "fc20ce97-0988-47d0-ad37-36bf4189f723"
      },
      "outputs": [],
      "source": [
        "# we have added first 2 rows (headers Income + Exp and Months + Total) for the Overview part\n",
        "# row nb 2, col B\n",
        "\n",
        "img = mpimg.imread('images/img_5.PNG')\n",
        "plt.imshow(img)\n",
        "plt.rcParams['figure.figsize'] = [12, 10]\n",
        "plt.axis('off')\n",
        "plt.show()"
      ]
    },
    {
      "cell_type": "code",
      "execution_count": null,
      "id": "d9524503",
      "metadata": {
        "id": "d9524503"
      },
      "outputs": [],
      "source": [
        "# save the new workbook \n",
        "wb.save('Budget_processed.xlsx')"
      ]
    },
    {
      "cell_type": "code",
      "source": [
        "# download file from Drive to your local machine\n",
        "# files.download(\"Budget_processed.xlsx\")"
      ],
      "metadata": {
        "id": "Rz0NYIFTxeqB"
      },
      "id": "Rz0NYIFTxeqB",
      "execution_count": null,
      "outputs": []
    },
    {
      "cell_type": "markdown",
      "id": "76bae854",
      "metadata": {
        "id": "76bae854"
      },
      "source": [
        "## 6.3&nbsp;Monthly totals by business"
      ]
    },
    {
      "cell_type": "code",
      "execution_count": null,
      "id": "1041bbb6-c5ee-4c91-a97b-bf4b32bd4f04",
      "metadata": {
        "id": "1041bbb6-c5ee-4c91-a97b-bf4b32bd4f04"
      },
      "outputs": [],
      "source": [
        "# total by busines type by month (yellow), split afterwards by INCOME and EXP\n",
        "\n",
        "img = mpimg.imread('images/img_6.PNG')\n",
        "plt.imshow(img)\n",
        "plt.rcParams['figure.figsize'] = [12, 10]\n",
        "plt.axis('off')\n",
        "plt.show()"
      ]
    },
    {
      "cell_type": "raw",
      "id": "8e7b870b-d479-4206-8b76-8e982909b99b",
      "metadata": {
        "id": "8e7b870b-d479-4206-8b76-8e982909b99b"
      },
      "source": [
        "### Income by Business"
      ]
    },
    {
      "cell_type": "markdown",
      "source": [
        "To get Months Totals by Business, we'll do a groupby:\n",
        "\n",
        "\n",
        "*   First, for Income\n",
        "*   Compute Total Month for Income\n",
        "*   Second, for Expend\n",
        "*   Compute Total Month for Exp\n",
        "\n"
      ],
      "metadata": {
        "id": "j96HTQ1E6lEt"
      },
      "id": "j96HTQ1E6lEt"
    },
    {
      "cell_type": "code",
      "source": [
        "# columns name in df\n",
        "df.columns"
      ],
      "metadata": {
        "id": "uUuCtdyXOWwS"
      },
      "id": "uUuCtdyXOWwS",
      "execution_count": null,
      "outputs": []
    },
    {
      "cell_type": "code",
      "execution_count": null,
      "id": "fc1b74c5",
      "metadata": {
        "id": "fc1b74c5"
      },
      "outputs": [],
      "source": [
        "# In df, identify column index for column with Income, without Total\n",
        "\n",
        "# first all\n",
        "income_months=[]\n",
        "for month in df.columns:\n",
        "    if 'Income' in month:\n",
        "        income_months.append(month)\n",
        "print(income_months) # all Incomes\n"
      ]
    },
    {
      "cell_type": "code",
      "source": [
        "# remove 'Total Income' from the list\n",
        "income_months.remove('Total Income')\n",
        "print(income_months)"
      ],
      "metadata": {
        "id": "FAH69VQiOgs7"
      },
      "id": "FAH69VQiOgs7",
      "execution_count": null,
      "outputs": []
    },
    {
      "cell_type": "code",
      "source": [
        "# Distinct Business categories\n",
        "df.Business.unique()"
      ],
      "metadata": {
        "id": "tSVkPS83ENb1"
      },
      "id": "tSVkPS83ENb1",
      "execution_count": null,
      "outputs": []
    },
    {
      "cell_type": "code",
      "execution_count": null,
      "id": "b3a776c0",
      "metadata": {
        "id": "b3a776c0"
      },
      "outputs": [],
      "source": [
        "# comute totals by business group for income\n",
        "\n",
        "# first create a df= business_income where it will group by business for each month\n",
        "\n",
        "## use groupby method\n",
        "\n",
        "#### we want to group by criteria Business\n",
        "#### and all columns that are in list \"income_moths\"\n",
        "print('income_months:', income_months)\n",
        "print('')\n",
        "\n",
        "### and we want to use the aggregation sum()\n",
        "\n",
        "print('grouped df by Busines: ...')\n",
        "business_income = round(df.groupby(['Business'])[income_months].sum(), 2)\n",
        "\n",
        "# final df of grouping by BUsiness, and suming each month...for INCOME\n",
        "business_income"
      ]
    },
    {
      "cell_type": "code",
      "execution_count": null,
      "id": "5fbbb8ee-5c4e-49b3-b956-30537652e585",
      "metadata": {
        "id": "5fbbb8ee-5c4e-49b3-b956-30537652e585"
      },
      "outputs": [],
      "source": [
        "# add a columns where total for all months for income will be computed\n",
        "\n",
        "## in our df \"business_income\", add a new column \"Total Income\"\n",
        "## \"Total Income\" will be the sum of col 'Jan Income', 'Feb Income', 'Mar Income', 'Apr Income', 'May Income', 'Jun Income' for each row\n",
        "business_income['Total Income'] = round(business_income.sum(axis=1), 2) # axis=1 columns\n",
        "business_income"
      ]
    },
    {
      "cell_type": "raw",
      "id": "2824b8b0-b05c-4c30-813d-9ced2b0459f9",
      "metadata": {
        "id": "2824b8b0-b05c-4c30-813d-9ced2b0459f9"
      },
      "source": [
        "### Expenditure by Business"
      ]
    },
    {
      "cell_type": "code",
      "execution_count": null,
      "id": "d5874e3e",
      "metadata": {
        "id": "d5874e3e"
      },
      "outputs": [],
      "source": [
        "# identify column index for column with Income\n",
        "exp_months=[]\n",
        "for month in df.columns:\n",
        "    if 'Expenditure' in month:\n",
        "        exp_months.append(month)\n",
        "        \n",
        "# remove 'Total Income' from the list\n",
        "exp_months.remove('Total Expenditure')\n",
        "print(exp_months)"
      ]
    },
    {
      "cell_type": "code",
      "execution_count": null,
      "id": "2e2a1fd4",
      "metadata": {
        "id": "2e2a1fd4"
      },
      "outputs": [],
      "source": [
        "business_exp = round(df.groupby(['Business'])[exp_months].sum(), 2)\n",
        "business_exp['Total Expenditure'] = round(business_exp.sum(axis=1), 2)\n",
        "business_exp"
      ]
    },
    {
      "cell_type": "code",
      "execution_count": null,
      "id": "fe8459a3",
      "metadata": {
        "id": "fe8459a3"
      },
      "outputs": [],
      "source": [
        "# join the 2 df, side by side horizontally\n",
        "business_df = pd.concat([business_income, business_exp], axis=1) #axis=1 ==>columns\n",
        "business_df"
      ]
    },
    {
      "cell_type": "code",
      "execution_count": null,
      "id": "bf3c6c95-1c09-4dd3-9ee7-23cd1a1f732d",
      "metadata": {
        "id": "bf3c6c95-1c09-4dd3-9ee7-23cd1a1f732d"
      },
      "outputs": [],
      "source": [
        "# we groupby by busines (the yellow part)\n",
        "# review scrrenshot !!!!\n",
        "img = mpimg.imread('images/img_6.PNG')\n",
        "plt.rcParams['figure.figsize'] = [14, 14]\n",
        "plt.imshow(img)\n",
        "\n",
        "plt.axis('off')\n",
        "plt.show()"
      ]
    },
    {
      "cell_type": "markdown",
      "source": [
        "## 6.4&nbsp;Row Monthly Total"
      ],
      "metadata": {
        "id": "HsF9rBc_H7ha"
      },
      "id": "HsF9rBc_H7ha"
    },
    {
      "cell_type": "code",
      "source": [
        "# MonthlyTotal (red part)\n",
        "# review scrrenshot !!!!\n",
        "img = mpimg.imread('images/img_6.PNG')\n",
        "plt.imshow(img)\n",
        "plt.rcParams['figure.figsize'] = [14, 14]\n",
        "plt.axis('off')\n",
        "plt.show()"
      ],
      "metadata": {
        "id": "1WX76qc5JKjA"
      },
      "id": "1WX76qc5JKjA",
      "execution_count": null,
      "outputs": []
    },
    {
      "cell_type": "raw",
      "id": "5779ecbb-c205-41d7-b027-9c09ae3fccfe",
      "metadata": {
        "id": "5779ecbb-c205-41d7-b027-9c09ae3fccfe"
      },
      "source": [
        " Totals by month, accros all businesses, by Inc and Exp ==> Get the totals by rows for each columns of business_df (yellow part)"
      ]
    },
    {
      "cell_type": "code",
      "source": [
        "business_df.head(3)"
      ],
      "metadata": {
        "id": "uG4TVE-DIR_d"
      },
      "id": "uG4TVE-DIR_d",
      "execution_count": null,
      "outputs": []
    },
    {
      "cell_type": "code",
      "execution_count": null,
      "id": "7db9e434",
      "metadata": {
        "id": "7db9e434"
      },
      "outputs": [],
      "source": [
        "# get all col names in a list\n",
        "\n",
        "business_col = business_df.columns.to_list()\n",
        "business_col"
      ]
    },
    {
      "cell_type": "code",
      "execution_count": null,
      "id": "981e0d32",
      "metadata": {
        "id": "981e0d32"
      },
      "outputs": [],
      "source": [
        "# get Total by Month (in column)\n",
        "\n",
        "monthly_total = round(business_df[business_col].sum(axis=0), 2)\n",
        "print(len(monthly_total))\n",
        "monthly_total"
      ]
    },
    {
      "cell_type": "markdown",
      "source": [
        "## 6.5&nbsp;M2M evolution"
      ],
      "metadata": {
        "id": "bVtQVHIHJbl0"
      },
      "id": "bVtQVHIHJbl0"
    },
    {
      "cell_type": "code",
      "source": [
        "# M2m evolution (% change from month to month) ==> blue part\n",
        "\n",
        "img = mpimg.imread('images/img_6.PNG')\n",
        "plt.imshow(img)\n",
        "plt.rcParams['figure.figsize'] = [12, 10]\n",
        "plt.axis('off')\n",
        "plt.show()"
      ],
      "metadata": {
        "id": "yY7IfGelK7id"
      },
      "id": "yY7IfGelK7id",
      "execution_count": null,
      "outputs": []
    },
    {
      "cell_type": "code",
      "source": [
        "# reminder of our monthly total (red part)\n",
        "monthly_total"
      ],
      "metadata": {
        "id": "4KcWXM4hKFzj"
      },
      "id": "4KcWXM4hKFzj",
      "execution_count": null,
      "outputs": []
    },
    {
      "cell_type": "code",
      "source": [
        "# make a copy pf monthly_total and save it as ev\n",
        "\n",
        "ev = monthly_total.copy()\n",
        "\n",
        "# as we don't want to include in our pct change evo Total Income, and TOtal Exp\n",
        "# we will assign then None value\n",
        "\n",
        "ev['Total Income'] = None\n",
        "ev['Total Expenditure'] = None\n",
        "ev"
      ],
      "metadata": {
        "id": "PZH8Hf8XSmVE"
      },
      "id": "PZH8Hf8XSmVE",
      "execution_count": null,
      "outputs": []
    },
    {
      "cell_type": "code",
      "source": [
        "# compute % ev from M2M\n",
        "ev = round(ev.pct_change(fill_method='ffill'), 4)\n",
        "print(ev)\n",
        "# this will return Nan for the 1st item, and there where we had None, the output will be 0\n",
        "\n",
        "print('')\n",
        "print('it will compute the evolution in % from month to month ')\n",
        "print('')\n",
        "print('pay attention to Total Income, Jan Exp and Total Exp')\n",
        "\n"
      ],
      "metadata": {
        "id": "79PcI0MWTxx8"
      },
      "id": "79PcI0MWTxx8",
      "execution_count": null,
      "outputs": []
    },
    {
      "cell_type": "code",
      "execution_count": null,
      "id": "0fedf849",
      "metadata": {
        "id": "0fedf849"
      },
      "outputs": [],
      "source": [
        "# replace with None\n",
        "\n",
        "ev['Total Income'] = None\n",
        "ev['Jan Expenditure'] = None\n",
        "ev['Total Expenditure'] = None\n",
        "ev"
      ]
    },
    {
      "cell_type": "code",
      "execution_count": null,
      "id": "c4b619e4-e1a2-443a-ae78-8e12eecd1f89",
      "metadata": {
        "id": "c4b619e4-e1a2-443a-ae78-8e12eecd1f89"
      },
      "outputs": [],
      "source": [
        "# we have computed evolution from month to month, that further (when formating) will be formated as a %\n",
        "# the blue part\n",
        "\n",
        "img = mpimg.imread('images/img_6.PNG')\n",
        "plt.imshow(img)\n",
        "plt.rcParams['figure.figsize'] = [12, 10]\n",
        "plt.axis('off')\n",
        "plt.show()"
      ]
    },
    {
      "cell_type": "markdown",
      "metadata": {
        "id": "f4a5a4e2"
      },
      "source": [
        "## 6.5&nbsp;Previous Month "
      ],
      "id": "f4a5a4e2"
    },
    {
      "cell_type": "code",
      "execution_count": null,
      "metadata": {
        "id": "a8484a32-bdff-4ad2-a4c0-475f9f6386fd"
      },
      "outputs": [],
      "source": [
        "# Previous month lime color\n",
        "\n",
        "img = mpimg.imread('images/img_6.PNG')\n",
        "plt.imshow(img)\n",
        "plt.rcParams['figure.figsize'] = [12, 10]\n",
        "plt.axis('off')\n",
        "plt.show()"
      ],
      "id": "a8484a32-bdff-4ad2-a4c0-475f9f6386fd"
    },
    {
      "cell_type": "code",
      "execution_count": null,
      "metadata": {
        "id": "b56f0f48"
      },
      "outputs": [],
      "source": [
        "# compute previous month ....\n",
        "\n",
        "## find the previous month in the list <<months>>, knowing that 'Total' should be ommitted\n",
        "\n",
        "print(months)\n",
        "\n",
        "## if we ommit Total element (that has the index -1) , the last month has the index -2, than the previous month will have the index -3\n",
        "\n",
        "## save previous month in the variable previou_month\n",
        "previous_month = months[months.index(\"Total\")-2]\n",
        "previous_month\n",
        "#months.index(previous_month)"
      ],
      "id": "b56f0f48"
    },
    {
      "cell_type": "markdown",
      "source": [
        "### Income"
      ],
      "metadata": {
        "id": "mOKuy5fYO42c"
      },
      "id": "mOKuy5fYO42c"
    },
    {
      "cell_type": "code",
      "execution_count": null,
      "metadata": {
        "id": "58a51085"
      },
      "outputs": [],
      "source": [
        "# compute the range uptil the previous month for INCOME\n",
        "\n",
        "inc_idx= [] # create empty list where we will store indices where we're havine Income\n",
        "range_end = [] # create empty list where we will save the range_end of these indices\n",
        "\n",
        "# in the income columns\n",
        "for idx, col in enumerate(business_df.columns): # iterate df columns with enumaration to get the index and the iterable (col name)\n",
        "    if 'Income' in col: # if col has 'Income' in it\n",
        "        inc_idx.append(idx) # then add its index to inc_idx (index start at 0)\n",
        "        if previous_month in col: # if previous month is in col names\n",
        "              range_end= idx # then range_end value will be assigned with value of id\n",
        "                \n",
        "print(\"Income starts at index:\", min(inc_idx)) # 1st index of column that contain Income\n",
        "print(\"index for previous month for Income \",  range_end) # index where we get to previous month\n",
        "print('')\n",
        "\n",
        "# list that will contain 2 indices: 1st index for Income, 2nd Index of Income for Previous month\n",
        "range_prev_inc = [min(inc_idx), range_end]\n",
        "print(range_prev_inc) # uptil May"
      ],
      "id": "58a51085"
    },
    {
      "cell_type": "code",
      "execution_count": null,
      "metadata": {
        "id": "9d05e3f9"
      },
      "outputs": [],
      "source": [
        "# what we get up to May using the computed indices\n",
        "business_df.iloc[:, min(inc_idx):range_end+1] # +1 as in range do not include upper limit"
      ],
      "id": "9d05e3f9"
    },
    {
      "cell_type": "code",
      "execution_count": null,
      "metadata": {
        "id": "d9a8f380"
      },
      "outputs": [],
      "source": [
        "# first sum all columns\n",
        "# 2nd sum all rows\n",
        "\n",
        "previous_income = business_df.iloc[:, # all rows\n",
        "                                   # columns that start at inc_idx (0) and end at range_end+1 (5) ..we add + 1 because upper limit not included\n",
        "                                   min(inc_idx):range_end+1].sum(axis=1).sum() # sum of columns axis =1 ==> columns axis\n",
        "\n",
        "# the total Income till the previous month                                  \n",
        "previous_income"
      ],
      "id": "d9a8f380"
    },
    {
      "cell_type": "code",
      "execution_count": null,
      "metadata": {
        "id": "4b9e38a3"
      },
      "outputs": [],
      "source": [
        "# Write this value 'Prior' in excel\n",
        "\n",
        "# first we need to identify the coordinates where to copy the value\n",
        "# we know that this cell will be above Total Columns (Total Income and TOtal Expenditure)\n",
        "\n",
        "# Previous month lime color\n",
        "\n",
        "img = mpimg.imread('images/img_6.PNG')\n",
        "plt.imshow(img)\n",
        "plt.rcParams['figure.figsize'] = [12, 10]\n",
        "plt.axis('off')\n",
        "plt.show()"
      ],
      "id": "4b9e38a3"
    },
    {
      "cell_type": "code",
      "execution_count": null,
      "metadata": {
        "id": "d3b3514a"
      },
      "outputs": [],
      "source": [
        "# we want to write the value previous income above , in the column where we have TOtal\n",
        "\n",
        "# compute column indices where we have the string Total in overview sheet\n",
        "\n",
        "total_col = []\n",
        "# find column number of column that = Total\n",
        "for i in range(1, overview.max_column+1):# without + 1\n",
        "    ref = overview.cell(row=3, column=i)\n",
        "    if ref.value == 'Total':\n",
        "        total_col.append(ref.column)\n",
        "        print('the column nb for Total is: ', ref.column)\n",
        "\n",
        "# indices inf overview sheet where we're having Totals\n",
        "print(total_col)"
      ],
      "id": "d3b3514a"
    },
    {
      "cell_type": "code",
      "execution_count": null,
      "metadata": {
        "id": "0944c3de"
      },
      "outputs": [],
      "source": [
        "# find the cell reference where we'll add previous income\n",
        "\n",
        "# check the column letter for Previous Totals Income\n",
        "print('the column where to add Previous Total for INCOME', get_column_letter(total_col[0]))\n",
        "\n",
        "# check cell ref for value of Previous Total Income\n",
        "row = 1 # row nb where to paste previous income value\n",
        "ref = str(get_column_letter(total_col[0])) + str(row) # get the cell ref\n",
        "\n",
        "print('the cell reference where to add Previous Total for INCOME', ref)"
      ],
      "id": "0944c3de"
    },
    {
      "cell_type": "code",
      "execution_count": null,
      "metadata": {
        "id": "7369e3a9"
      },
      "outputs": [],
      "source": [
        "# write it in Excel using ref\n",
        "overview[ref] = round(previous_income,2)\n",
        "overview[ref].value"
      ],
      "id": "7369e3a9"
    },
    {
      "cell_type": "code",
      "source": [
        "# check excel\n",
        "for idx, row in enumerate(overview):\n",
        "   print(idx+1, [x.value for x in row])\n",
        "  "
      ],
      "metadata": {
        "id": "Zjt3P1mKUrzU"
      },
      "id": "Zjt3P1mKUrzU",
      "execution_count": null,
      "outputs": []
    },
    {
      "cell_type": "code",
      "execution_count": null,
      "metadata": {
        "id": "95fa4d5f"
      },
      "outputs": [],
      "source": [
        "# add string Prior month next to the value of Previous month of Income\n",
        "\n",
        "print(total_col) # columns that have Totals\n",
        "row = 1\n",
        "ref = str(get_column_letter(total_col[0]-1)) + str(row) # get the ref cel for row 1, and col = element with idx from total_col[0] -1\n",
        "print(ref)\n",
        "overview[ref] = 'Prior'\n",
        "overview[ref].value"
      ],
      "id": "95fa4d5f"
    },
    {
      "cell_type": "code",
      "execution_count": null,
      "metadata": {
        "id": "5caf1aea-34e2-41a8-a157-124b349b4cbf"
      },
      "outputs": [],
      "source": [
        "# see what was written\n",
        "# we have added next to the TOtal of previous month, the string Prior\n",
        "for idx,row in enumerate(overview):\n",
        "    print (idx+1, [x.value for x in row])\n"
      ],
      "id": "5caf1aea-34e2-41a8-a157-124b349b4cbf"
    },
    {
      "cell_type": "code",
      "execution_count": null,
      "metadata": {
        "id": "7cf49d36"
      },
      "outputs": [],
      "source": [
        "# save \n",
        "wb.save('Budget_processed.xlsx')  "
      ],
      "id": "7cf49d36"
    },
    {
      "cell_type": "code",
      "source": [
        "# download file from Drive to your local machine\n",
        "\n",
        "# files.download(\"Budget_processed.xlsx\")"
      ],
      "metadata": {
        "id": "45eVzkCV-wgf"
      },
      "id": "45eVzkCV-wgf",
      "execution_count": null,
      "outputs": []
    },
    {
      "cell_type": "raw",
      "metadata": {
        "id": "8aa48644-a9f1-4ce8-9429-26f5f007d5ca"
      },
      "source": [
        "### Expenditure"
      ],
      "id": "8aa48644-a9f1-4ce8-9429-26f5f007d5ca"
    },
    {
      "cell_type": "code",
      "execution_count": null,
      "metadata": {
        "id": "2f54e0bc-f474-4417-9ae3-eb0f49e700f7"
      },
      "outputs": [],
      "source": [
        "# compute the range uptil the previous month for expenditure to sum\n",
        "\n",
        "inc_idx= []\n",
        "range_end = []\n",
        "\n",
        "# in the exp columns\n",
        "for idx, col in enumerate(business_df.columns):\n",
        "    if 'Expenditure' in col:\n",
        "        inc_idx.append(idx)\n",
        "        if previous_month in col:\n",
        "              range_end= idx \n",
        "                \n",
        "range_prev_exp = [min(inc_idx), range_end]\n",
        "\n",
        "# compute all prior exp\n",
        "previous_exp = business_df.iloc[:, min(inc_idx):range_end+1].sum(axis=1).sum()\n",
        "\n",
        "# cell ref\n",
        "row = 1 # row nb where to paste previous income value\n",
        "ref = str(get_column_letter(total_col[1])) + str(row)\n",
        "\n",
        "# write it in Excel value\n",
        "overview[ref] = round(previous_exp,2)\n",
        "\n",
        "\n",
        "# string Prevous month\n",
        "ref = str(get_column_letter(total_col[1]-1)) + str(row)  # get the ref cel for row 1, and col = element with idx from total_col[1] -1\n",
        "overview[ref] = 'Prior'"
      ],
      "id": "2f54e0bc-f474-4417-9ae3-eb0f49e700f7"
    },
    {
      "cell_type": "code",
      "execution_count": null,
      "metadata": {
        "id": "30cada7f-3bf9-4a35-95ad-95ba48c3c3b5"
      },
      "outputs": [],
      "source": [
        "# see what was written in excel, overview sheet\n",
        "for idx,row in enumerate(overview):\n",
        "    print (idx+1, [x.value for x in row])"
      ],
      "id": "30cada7f-3bf9-4a35-95ad-95ba48c3c3b5"
    },
    {
      "cell_type": "code",
      "execution_count": null,
      "metadata": {
        "id": "0b3e8533"
      },
      "outputs": [],
      "source": [
        "wb.save('Budget_processed.xlsx')  "
      ],
      "id": "0b3e8533"
    },
    {
      "cell_type": "code",
      "source": [
        "# in excel all lime (Prior), orange: headers Income& Exp, Months + Total\n",
        "\n",
        "img = mpimg.imread('images/img_6.PNG')\n",
        "plt.imshow(img)\n",
        "plt.rcParams['figure.figsize'] = [12, 10]\n",
        "plt.axis('off')\n",
        "plt.show()"
      ],
      "metadata": {
        "id": "hS5tGm1QNZlM"
      },
      "id": "hS5tGm1QNZlM",
      "execution_count": null,
      "outputs": []
    },
    {
      "cell_type": "code",
      "source": [
        "# download file from Drive to your local machine\n",
        "# files.download(\"Budget_processed.xlsx\")"
      ],
      "metadata": {
        "id": "dVxr6lm3_HUi"
      },
      "id": "dVxr6lm3_HUi",
      "execution_count": null,
      "outputs": []
    },
    {
      "cell_type": "markdown",
      "source": [
        "## 6.6&nbsp;Write Monthly Total, M2M ev, Totals grouped by Business"
      ],
      "metadata": {
        "id": "MieMjHcyYQaT"
      },
      "id": "MieMjHcyYQaT"
    },
    {
      "cell_type": "markdown",
      "source": [
        "First, conctenate red (Monthly Total) + blue 5M2M ev) + yellow (total by busines by month df"
      ],
      "metadata": {
        "id": "oAHodbumb7KW"
      },
      "id": "oAHodbumb7KW"
    },
    {
      "cell_type": "code",
      "source": [
        "# up to ths point our computaions\n",
        "\n",
        "# red:  totals by month + total across businesses\n",
        "# blue: ev M2M blue\n",
        "# yellow: totals by month for each business\n",
        "\n",
        "\n",
        "\n",
        "img = mpimg.imread('images/img_6.PNG')\n",
        "plt.imshow(img)\n",
        "plt.rcParams['figure.figsize'] = [12, 10]\n",
        "plt.axis('off')\n",
        "plt.show()"
      ],
      "metadata": {
        "id": "xGScfHM6Ys1w"
      },
      "id": "xGScfHM6Ys1w",
      "execution_count": null,
      "outputs": []
    },
    {
      "cell_type": "code",
      "execution_count": null,
      "metadata": {
        "id": "f1aba2a1-28ce-454d-9bf9-f8373f0d1bbb"
      },
      "outputs": [],
      "source": [
        "# Till now we computed in df:\n",
        "\n",
        "# monthly_total (red part)\n",
        "print(len(monthly_total))\n",
        "print( monthly_total[:7])\n",
        "print('')\n",
        "\n",
        "# monthly evolution (blue part)\n",
        "print(len(ev))\n",
        "print( ev[:7])\n",
        "print('')\n",
        "\n",
        "# business_df (yellow part)\n",
        "print(business_df.shape)\n",
        "print(business_df.iloc[:, :7])\n",
        "print('')"
      ],
      "id": "f1aba2a1-28ce-454d-9bf9-f8373f0d1bbb"
    },
    {
      "cell_type": "code",
      "source": [
        "# copy business_df into a temporary df temp\n",
        "temp = business_df.copy()\n",
        "\n",
        "# reset index (this will add a new column => Business)\n",
        "temp = temp.reset_index()\n",
        "\n",
        "# drop this column 'Business from temp\n",
        "temp = temp.drop(['Business'], axis=1)\n",
        "\n",
        "# insert at row 0 Monthly Total\n",
        "temp = pd.DataFrame(np.insert(temp.values, 0, values=monthly_total, axis=0), columns= temp.columns)\n",
        "\n",
        "# insert at row 1 Monthly ev\n",
        "temp = pd.DataFrame(np.insert(temp.values, 1, values=ev, axis=0), columns= temp.columns)\n",
        "\n",
        "print(temp.shape)\n",
        "\n",
        "# values that we want to add to overview sheet\n",
        "temp.values\n"
      ],
      "metadata": {
        "id": "nN2wKtYOgt_b"
      },
      "id": "nN2wKtYOgt_b",
      "execution_count": null,
      "outputs": []
    },
    {
      "cell_type": "code",
      "source": [
        "# reminder of overview sheet\n",
        "\n",
        "for idx, row in enumerate(overview):\n",
        "  print(idx+1, [x.value for x in row])"
      ],
      "metadata": {
        "id": "9JAb8zLNiosz"
      },
      "id": "9JAb8zLNiosz",
      "execution_count": null,
      "outputs": []
    },
    {
      "cell_type": "code",
      "source": [
        "# the values of our df temp, is a nested list, each sublist being a row\n",
        "for subl in temp.values:\n",
        "  print(subl)\n"
      ],
      "metadata": {
        "id": "TG4XTASxqHAO"
      },
      "id": "TG4XTASxqHAO",
      "execution_count": null,
      "outputs": []
    },
    {
      "cell_type": "code",
      "source": [
        "# how many itmes in nested list\n",
        "tempr = len(temp.values) # the lenght of the nested list \n",
        "\n",
        "# how many subitmes in each sublist within the nested list\n",
        "tempc = len(temp.values[0]) # the lenght of sublist in the nested list\n",
        "\n",
        "print('')\n",
        "print('dimensions of our nested list inc_exp: ... ')\n",
        "print(tempr , tempc)"
      ],
      "metadata": {
        "id": "qaOjW9TGlM8u"
      },
      "id": "qaOjW9TGlM8u",
      "execution_count": null,
      "outputs": []
    },
    {
      "cell_type": "code",
      "source": [
        "# write this temp.values to  excel, in the sheet overview by iteration\n",
        "\n",
        "# iterate each rows\n",
        "for this_row in range (1, tempr + 1):# add + 1, beacause we want to include the upper limit\n",
        "    # for each row, iterate through each col \n",
        "    for this_column in range (1, tempc + 1): # add + 1, beacause we want to include the upper limit\n",
        "        #print(this_row) ==> at the first iteration will have the row 1\n",
        "        #print(this_column) => while the iteration of the 1st row will not be finisshed, we will iterate through columns, that will change incrementally\n",
        "        cellsource = temp.values[this_row-1][this_column-1] # in the temp.values get the right indices (so in 1st iteration: temp[0][0]....\n",
        "                                                       #  then this indices will increment [0][1] => [0][2] => ... [1][0], [1][1]...)   \n",
        "                                                       # so the var <<cellsource>> will get dynamically the values of temp.values at respective indices\n",
        "        overview.cell(row = this_row+3, column = this_column+1).value = cellsource # then write this value in the ws \"overview\" at cell ref(row= +3, column= + 1)\n",
        "        # we're adding +3 for rows and cols because we want to write the values starting row 4\n",
        "        # and + 1 for col, because we want to leave some space in the 1st col, where we will add some rowheaders later\n",
        "\n"
      ],
      "metadata": {
        "id": "BQh3h1oqkF7Y"
      },
      "id": "BQh3h1oqkF7Y",
      "execution_count": null,
      "outputs": []
    },
    {
      "cell_type": "code",
      "source": [
        "# see what was written\n",
        "for idx,row in enumerate(overview):\n",
        "    print (idx+1, [x.value for x in row])"
      ],
      "metadata": {
        "id": "StMxwkJGse7L"
      },
      "id": "StMxwkJGse7L",
      "execution_count": null,
      "outputs": []
    },
    {
      "cell_type": "code",
      "source": [
        "# save\n",
        "wb.save('Budget_processed.xlsx') "
      ],
      "metadata": {
        "id": "6epP1h9inMNT"
      },
      "id": "6epP1h9inMNT",
      "execution_count": null,
      "outputs": []
    },
    {
      "cell_type": "code",
      "source": [
        "# download file from Drive to your local machine\n",
        "# files.download(\"Budget_processed.xlsx\")"
      ],
      "metadata": {
        "id": "VRuZ5B0QAHK1"
      },
      "id": "VRuZ5B0QAHK1",
      "execution_count": null,
      "outputs": []
    },
    {
      "cell_type": "markdown",
      "source": [
        "## 6.7&nbsp;Row labels"
      ],
      "metadata": {
        "id": "E-6bTSQ1q5A7"
      },
      "id": "E-6bTSQ1q5A7"
    },
    {
      "cell_type": "markdown",
      "source": [
        "Write labels for row in col 1"
      ],
      "metadata": {
        "id": "3T-NRfCisE-Y"
      },
      "id": "3T-NRfCisE-Y"
    },
    {
      "cell_type": "code",
      "source": [
        "# row labels in 1st column\n",
        "img = mpimg.imread('images/img_6.PNG')\n",
        "plt.imshow(img)\n",
        "plt.rcParams['figure.figsize'] = [12, 10]\n",
        "plt.axis('off')\n",
        "plt.show()"
      ],
      "metadata": {
        "id": "6SX5F5utAmcX"
      },
      "id": "6SX5F5utAmcX",
      "execution_count": null,
      "outputs": []
    },
    {
      "cell_type": "code",
      "source": [
        "# labels we want to write\n",
        "cellrange= ['Month', 'MonthlyTotal', 'M2M ev', 'B2B', 'B2C_1', 'B2C_2', 'Fleet']\n",
        "cellrange"
      ],
      "metadata": {
        "id": "vwOAPTt4q3MM"
      },
      "id": "vwOAPTt4q3MM",
      "execution_count": null,
      "outputs": []
    },
    {
      "cell_type": "code",
      "source": [
        "# starting row\n",
        "row= 3\n",
        "# write  cellrange in excel at column 1\n",
        "\n",
        "for i in range(0, len(cellrange)):\n",
        "    overview.cell(row=row, column = 1).value= cellrange[i]\n",
        "    row=row+1\n",
        "\n"
      ],
      "metadata": {
        "id": "DQaLgMU-ka1N"
      },
      "id": "DQaLgMU-ka1N",
      "execution_count": null,
      "outputs": []
    },
    {
      "cell_type": "code",
      "source": [
        "# see what was written\n",
        "for idx,row in enumerate(overview):\n",
        "    print (idx+1, [x.value for x in row])"
      ],
      "metadata": {
        "id": "x9UHlZpLshJv"
      },
      "id": "x9UHlZpLshJv",
      "execution_count": null,
      "outputs": []
    },
    {
      "cell_type": "code",
      "source": [
        "# save\n",
        "wb.save('Budget_processed.xlsx') "
      ],
      "metadata": {
        "id": "Ois5RJeLsl6j"
      },
      "id": "Ois5RJeLsl6j",
      "execution_count": null,
      "outputs": []
    },
    {
      "cell_type": "code",
      "source": [
        "# download file from Drive to your local machine\n",
        "# files.download(\"Budget_processed.xlsx\")"
      ],
      "metadata": {
        "id": "1v0eHXG4A3IR"
      },
      "id": "1v0eHXG4A3IR",
      "execution_count": null,
      "outputs": []
    },
    {
      "cell_type": "markdown",
      "id": "7c565e0e",
      "metadata": {
        "id": "7c565e0e"
      },
      "source": [
        "# 7&nbsp;Insert overview sheet to Data sheet"
      ]
    },
    {
      "cell_type": "code",
      "source": [
        "# reminder of our sheets\n",
        "wb.sheetnames"
      ],
      "metadata": {
        "id": "RH3zL57_s5i2"
      },
      "id": "RH3zL57_s5i2",
      "execution_count": null,
      "outputs": []
    },
    {
      "cell_type": "code",
      "source": [
        "# the Data sheet was saved in var sheet\n",
        "sheet.title"
      ],
      "metadata": {
        "id": "zqJOKtUbs-KJ"
      },
      "id": "zqJOKtUbs-KJ",
      "execution_count": null,
      "outputs": []
    },
    {
      "cell_type": "markdown",
      "source": [
        "We want to copy/paste the overview_df from sheet 'Overvew' to sheet 'Data' on the top \n",
        "\n",
        "For this we'll need function to copyRange, pasteRange, function to define the dimensions of dfs"
      ],
      "metadata": {
        "id": "oakbpbA_BYWf"
      },
      "id": "oakbpbA_BYWf"
    },
    {
      "cell_type": "markdown",
      "source": [
        "## Functions def"
      ],
      "metadata": {
        "id": "3hpYA0sHtU5u"
      },
      "id": "3hpYA0sHtU5u"
    },
    {
      "cell_type": "code",
      "execution_count": null,
      "id": "fd23adee-9cb4-4221-ad76-3ebff9ba009c",
      "metadata": {
        "id": "fd23adee-9cb4-4221-ad76-3ebff9ba009c"
      },
      "outputs": [],
      "source": [
        "#define the function copyRange()\n",
        "\n",
        "def copyRange(startCol, startRow, endCol, endRow, sheet):\n",
        "    rangeSelected = []\n",
        "    # Loops through selected Rows\n",
        "    for i in range(\n",
        "      startRow,endRow + 1,1):\n",
        "        # Appends the row to a RowSelected list\n",
        "        rowSelected = []\n",
        "        for j in range(startCol,endCol+1,1):\n",
        "            rowSelected.append(sheet.cell(row = i, column = j).value)\n",
        "        # Adds the RowSelected List and nests inside the rangeSelected\n",
        "        rangeSelected.append(rowSelected)\n",
        "\n",
        "    return rangeSelected"
      ]
    },
    {
      "cell_type": "code",
      "execution_count": null,
      "id": "c4f60a9a-1d9a-4b08-affa-ac0e8e2c14f2",
      "metadata": {
        "id": "c4f60a9a-1d9a-4b08-affa-ac0e8e2c14f2"
      },
      "outputs": [],
      "source": [
        "# define the function pasteRange()\n",
        "def pasteRange(startCol, startRow, endCol, endRow, sheetReceiving, copiedData):\n",
        "    countRow = 0\n",
        "    for i in range(startRow,endRow+1,1):\n",
        "        countCol = 0\n",
        "        for j in range(startCol,endCol+1,1):\n",
        "            \n",
        "            sheetReceiving.cell(row = i, column = j).value = copiedData[countRow][countCol]\n",
        "            countCol += 1\n",
        "        countRow += 1"
      ]
    },
    {
      "cell_type": "code",
      "execution_count": null,
      "id": "12076063-5a60-468d-b99f-6b066664b693",
      "metadata": {
        "id": "12076063-5a60-468d-b99f-6b066664b693"
      },
      "outputs": [],
      "source": [
        "# write a function that will compute the accurate nb of rows by omitting blanks\n",
        "def get_maximum_rows_blank(*, sheet_object):\n",
        "    rows = 0\n",
        "    for max_row, row in enumerate(sheet_object, 1):\n",
        "        if  not all(col.value is None for col in row):\n",
        "            rows += 1\n",
        "        \n",
        "    return rows\n",
        "\n",
        "# call the new function\n",
        "get_maximum_rows_blank(sheet_object = overview) "
      ]
    },
    {
      "cell_type": "code",
      "execution_count": null,
      "id": "bf447b3c-48f7-4c0b-9a77-a8f1af043e70",
      "metadata": {
        "id": "bf447b3c-48f7-4c0b-9a77-a8f1af043e70"
      },
      "outputs": [],
      "source": [
        "# write a function that will compute the accurate nb of rows including the blanks, up to the last non blanks\n",
        "def get_maximum_rows(*, sheet_object):\n",
        "    df_range= 'A1:' + str(get_column_letter(sheet_object.max_column)) + str(sheet_object.max_row)\n",
        "    rows = 0\n",
        "    for idx, row in enumerate(sheet_object[df_range]): # values_only=True meanse we want to access the values\n",
        "        if not all(col.value is None for col in row):\n",
        "            rows += 1\n",
        "            last_row = idx+1\n",
        "    return last_row\n",
        "\n",
        "get_maximum_rows(sheet_object = overview) "
      ]
    },
    {
      "cell_type": "code",
      "execution_count": null,
      "id": "483c02a4-a6e0-4bb5-bf97-570c51dd8eb6",
      "metadata": {
        "id": "483c02a4-a6e0-4bb5-bf97-570c51dd8eb6"
      },
      "outputs": [],
      "source": [
        "def get_maximum_cols(sheet):\n",
        "    for i in range(2, 20000):\n",
        "        if sheet.cell(row=1, column= i).value == None:\n",
        "            max_col = i\n",
        "            break\n",
        "    return max_col-1"
      ]
    },
    {
      "cell_type": "raw",
      "id": "4e3a3384-daf7-4a5e-88cc-906184ee4b0b",
      "metadata": {
        "id": "4e3a3384-daf7-4a5e-88cc-906184ee4b0b"
      },
      "source": [
        "We want to copy/paste in the excel, sheet overview with function \n",
        "pasteRange() in the sheet Data\n",
        "\n",
        "But first, we need to compute the range where to paste\n",
        "\n"
      ]
    },
    {
      "cell_type": "code",
      "source": [
        "# dimensions of overview\n",
        "\n",
        "print('rows: ',get_maximum_rows(sheet_object = overview))\n",
        "print('columns: ', overview.max_column)"
      ],
      "metadata": {
        "id": "g8oLnLuouwe7"
      },
      "id": "g8oLnLuouwe7",
      "execution_count": null,
      "outputs": []
    },
    {
      "cell_type": "markdown",
      "id": "4819f3ca",
      "metadata": {
        "id": "4819f3ca"
      },
      "source": [
        "## Insert / Copy /  Paste overview "
      ]
    },
    {
      "cell_type": "code",
      "execution_count": null,
      "id": "e80de590",
      "metadata": {
        "id": "e80de590"
      },
      "outputs": [],
      "source": [
        "# we want to insert the data frame from overview sheet to Data sheet\n",
        "\n",
        "# Steps\n",
        "# Insert rows on Data sheet\n",
        "# Copy celrange from overview sheet\n",
        "# Paste copied cellrane to Datasheeet\n",
        "# delete overview sheet that we won't need anymore"
      ]
    },
    {
      "cell_type": "code",
      "execution_count": null,
      "id": "fd04a73e",
      "metadata": {
        "id": "fd04a73e"
      },
      "outputs": [],
      "source": [
        "# back to our sheet called Data\n",
        "sheet.title"
      ]
    },
    {
      "cell_type": "code",
      "source": [
        "# reminder of sheet\n",
        "for idx,row in enumerate(sheet['A1:R4']):\n",
        "    print (idx+1, [x.value for x in row])"
      ],
      "metadata": {
        "id": "dqHos1RGxd1J"
      },
      "id": "dqHos1RGxd1J",
      "execution_count": null,
      "outputs": []
    },
    {
      "cell_type": "markdown",
      "source": [
        "### Insert"
      ],
      "metadata": {
        "id": "ZzPWYT-9zxZr"
      },
      "id": "ZzPWYT-9zxZr"
    },
    {
      "cell_type": "code",
      "execution_count": null,
      "id": "800bfc0d",
      "metadata": {
        "id": "800bfc0d"
      },
      "outputs": [],
      "source": [
        "# insert +2 extra rows at the top of Data sheet , starting at row 1\n",
        "\n",
        "# insert rows\n",
        "\n",
        "sheet.insert_rows(idx=1, # row location\n",
        "                  amount=get_maximum_rows(sheet_object = overview) + 2) # how many rows to insert\n",
        "wb.save('Budget_processed.xlsx')                "
      ]
    },
    {
      "cell_type": "code",
      "source": [
        "# reminder of sheet\n",
        "for idx,row in enumerate(sheet['A1:R14']):\n",
        "    print (idx+1, [x.value for x in row])"
      ],
      "metadata": {
        "id": "HWtn5RT0yvoV"
      },
      "id": "HWtn5RT0yvoV",
      "execution_count": null,
      "outputs": []
    },
    {
      "cell_type": "code",
      "execution_count": null,
      "id": "b1ffac0f",
      "metadata": {
        "id": "b1ffac0f"
      },
      "outputs": [],
      "source": [
        "# inserted rows in Data sheet\n",
        "\n",
        "img = mpimg.imread('images/img_9.PNG')\n",
        "plt.imshow(img)\n",
        "plt.rcParams['figure.figsize'] = [12, 10]\n",
        "plt.axis('off')\n",
        "plt.show()"
      ]
    },
    {
      "cell_type": "markdown",
      "source": [
        "### Copy overview range"
      ],
      "metadata": {
        "id": "eaewefguz2-6"
      },
      "id": "eaewefguz2-6"
    },
    {
      "cell_type": "code",
      "source": [
        "print('rows: ',get_maximum_rows(sheet_object = overview))\n",
        "print('columns: ', overview.max_column)"
      ],
      "metadata": {
        "id": "JD0Z_uwvzjLM"
      },
      "id": "JD0Z_uwvzjLM",
      "execution_count": null,
      "outputs": []
    },
    {
      "cell_type": "code",
      "execution_count": null,
      "id": "237fdc2d-7227-4d18-a1eb-c6b65307b3b4",
      "metadata": {
        "id": "237fdc2d-7227-4d18-a1eb-c6b65307b3b4"
      },
      "outputs": [],
      "source": [
        "# copy the overview df\n",
        "\n",
        "selectedRange = copyRange(startCol =1,\n",
        "                          startRow= 1,\n",
        "                          endCol= overview.max_column+1 ,\n",
        "                          endRow = get_maximum_rows(sheet_object = overview),\n",
        "                          sheet = overview)\n",
        "\n",
        "print(len(selectedRange))\n",
        "\n",
        "for row in selectedRange:\n",
        "    print(row)"
      ]
    },
    {
      "cell_type": "markdown",
      "source": [
        "### Paste"
      ],
      "metadata": {
        "id": "PZNO2rNgz6Ev"
      },
      "id": "PZNO2rNgz6Ev"
    },
    {
      "cell_type": "code",
      "execution_count": null,
      "id": "65655025",
      "metadata": {
        "id": "65655025"
      },
      "outputs": [],
      "source": [
        "pasteRange(startCol = 1,\n",
        "           startRow = 2, \n",
        "           endCol= overview.max_column, \n",
        "           endRow = get_maximum_rows(sheet_object = overview)+1,\n",
        "           sheetReceiving= sheet,\n",
        "           copiedData = selectedRange)\n",
        "\n",
        "# see what was written\n",
        "for idx,row in enumerate(sheet[\"A1:R15\"]):\n",
        "    print (idx+1, [x.value for x in row])   "
      ]
    },
    {
      "cell_type": "code",
      "execution_count": null,
      "id": "2ac19531-feb1-43b5-aa52-85f5253593bb",
      "metadata": {
        "id": "2ac19531-feb1-43b5-aa52-85f5253593bb"
      },
      "outputs": [],
      "source": [
        "# past rows in Data sheet\n",
        "\n",
        "img = mpimg.imread('images/img_10.PNG')\n",
        "plt.imshow(img)\n",
        "plt.rcParams['figure.figsize'] = [12, 10]\n",
        "plt.axis('off')\n",
        "plt.show()"
      ]
    },
    {
      "cell_type": "code",
      "execution_count": null,
      "id": "673495e0-0a7a-4fbc-ad40-8a866698befe",
      "metadata": {
        "id": "673495e0-0a7a-4fbc-ad40-8a866698befe"
      },
      "outputs": [],
      "source": [
        "#save \n",
        "wb.save('Budget_processed.xlsx') "
      ]
    },
    {
      "cell_type": "code",
      "source": [
        "# download file from Drive to your local machine\n",
        "# files.download(\"Budget_processed.xlsx\")"
      ],
      "metadata": {
        "id": "u-ZyosVfDaj2"
      },
      "id": "u-ZyosVfDaj2",
      "execution_count": null,
      "outputs": []
    },
    {
      "cell_type": "code",
      "execution_count": null,
      "id": "6115ffe3-6f57-4b48-b648-265e13439658",
      "metadata": {
        "id": "6115ffe3-6f57-4b48-b648-265e13439658"
      },
      "outputs": [],
      "source": [
        "# remove autofilers\n",
        "\n",
        "sheet.auto_filter.ref = None\n",
        "for i in range(2, sheet.max_row + 1):\n",
        "    sheet.row_dimensions[i].hidden = False\n",
        "\n",
        "wb.save('Budget_processed.xlsx') "
      ]
    },
    {
      "cell_type": "code",
      "execution_count": null,
      "id": "cd08cd64-edeb-45bb-be91-3ebaa0d676b2",
      "metadata": {
        "id": "cd08cd64-edeb-45bb-be91-3ebaa0d676b2"
      },
      "outputs": [],
      "source": [
        "# after removing the autofilers\n",
        "\n",
        "img = mpimg.imread('images/img_11.PNG')\n",
        "plt.imshow(img)\n",
        "plt.rcParams['figure.figsize'] = [12, 10]\n",
        "plt.axis('off')\n",
        "plt.show()"
      ]
    },
    {
      "cell_type": "code",
      "execution_count": null,
      "id": "6809e228",
      "metadata": {
        "id": "6809e228"
      },
      "outputs": [],
      "source": [
        "# remove overview sheet\n",
        "wb.remove(overview) \n",
        "\n",
        "# remove 'Department' sheet\n",
        "wb.remove(wb[wb.sheetnames[1]]) \n",
        "\n",
        "print(wb.sheetnames)\n",
        "\n",
        "\n",
        "# save the new workbook \n",
        "wb.save('Budget_processed.xlsx')\n",
        "\n",
        "wb.close"
      ]
    },
    {
      "cell_type": "code",
      "execution_count": null,
      "id": "50b51c80-8748-4a62-9e6a-57ad7a9b75c4",
      "metadata": {
        "id": "50b51c80-8748-4a62-9e6a-57ad7a9b75c4"
      },
      "outputs": [],
      "source": [
        "# download file from Drive to your local machine\n",
        "# files.download(\"Budget_processed.xlsx\")"
      ]
    },
    {
      "cell_type": "markdown",
      "source": [
        "Now we're havig our processed excel Budget_processed.xlsx, and we can proceed to Formating: font color, borders, conditional formating + charts"
      ],
      "metadata": {
        "id": "KudYriyX1G0_"
      },
      "id": "KudYriyX1G0_"
    },
    {
      "cell_type": "markdown",
      "source": [
        "# Part 3: formating"
      ],
      "metadata": {
        "id": "KCjqZX2IEOxT"
      },
      "id": "KCjqZX2IEOxT"
    },
    {
      "cell_type": "markdown",
      "source": [
        "# 8&nbsp;Formatting"
      ],
      "metadata": {
        "id": "P7m1WWDQ1XBh"
      },
      "id": "P7m1WWDQ1XBh"
    },
    {
      "cell_type": "markdown",
      "source": [
        "## 8.1&nbsp;Load updated DF"
      ],
      "metadata": {
        "id": "C8QkQWcIHxSp"
      },
      "id": "C8QkQWcIHxSp"
    },
    {
      "cell_type": "code",
      "execution_count": null,
      "id": "78e32ff1-9aed-4673-a39a-3aa0ef2c725a",
      "metadata": {
        "id": "78e32ff1-9aed-4673-a39a-3aa0ef2c725a"
      },
      "outputs": [],
      "source": [
        "# load again the DF with updates \n",
        "df = pd.DataFrame(sheet.values)\n",
        "df.head(15)"
      ]
    },
    {
      "cell_type": "markdown",
      "source": [
        "Create a folder images_format where to store images of formating"
      ],
      "metadata": {
        "id": "LSgpwtl-eU2V"
      },
      "id": "LSgpwtl-eU2V"
    },
    {
      "cell_type": "code",
      "source": [
        "cwd"
      ],
      "metadata": {
        "id": "iKyDjoaJpX7z"
      },
      "id": "iKyDjoaJpX7z",
      "execution_count": null,
      "outputs": []
    },
    {
      "cell_type": "code",
      "source": [
        "# new folder: images_format\n",
        "folder = cwd + '/' + 'images_format'\n",
        "# create the folder at the indicated path\n",
        "os.makedirs(folder)\n",
        "os.listdir()"
      ],
      "metadata": {
        "id": "a4OKjWqxcacl"
      },
      "execution_count": null,
      "outputs": [],
      "id": "a4OKjWqxcacl"
    },
    {
      "cell_type": "code",
      "source": [
        "# upload from your local : images_format .png from your downloads\n",
        "uploaded = files.upload()"
      ],
      "metadata": {
        "id": "c9H_cEU2cR9C"
      },
      "execution_count": null,
      "outputs": [],
      "id": "c9H_cEU2cR9C"
    },
    {
      "cell_type": "code",
      "source": [
        "png_files=[]\n",
        "for file in os.listdir():\n",
        "    if file.endswith('.PNG'): # or '.csv' if your'looinkg for csv files\n",
        "            png_files.append(file)\n",
        "\n",
        "# move all images into folder MOdule_4/Images_format\n",
        "\n",
        "folder = '/content/gdrive/MyDrive/Module_4/images_format'\n",
        "\n",
        "for image in png_files:\n",
        "  shutil.move(image, # file/folder to cut\n",
        "              folder) # folder where to move \n"
      ],
      "metadata": {
        "id": "Xr99UXKGdylA"
      },
      "execution_count": null,
      "outputs": [],
      "id": "Xr99UXKGdylA"
    },
    {
      "cell_type": "code",
      "source": [
        "\n",
        "os.listdir('images_format')"
      ],
      "metadata": {
        "id": "x1l8dwMdiul0"
      },
      "execution_count": null,
      "outputs": [],
      "id": "x1l8dwMdiul0"
    },
    {
      "cell_type": "markdown",
      "source": [
        "## 8.2&nbsp;Overview_df"
      ],
      "metadata": {
        "id": "wzExtvgUH7rL"
      },
      "id": "wzExtvgUH7rL"
    },
    {
      "cell_type": "code",
      "source": [
        "# rows of overview\n",
        "over_rows = get_maximum_rows(sheet_object = overview) \n",
        "over_rows"
      ],
      "metadata": {
        "id": "X2P0BwFoIHNg"
      },
      "id": "X2P0BwFoIHNg",
      "execution_count": null,
      "outputs": []
    },
    {
      "cell_type": "code",
      "source": [
        "# overview df\n",
        "\n",
        "# from df, substract the overview_df\n",
        "overview_df = df.iloc[:over_rows+1, :]\n",
        "\n",
        "# drop None columns, rows\n",
        "\n",
        "# axis='columns' => for columns, if we want to take rows ==> axis='rows'\n",
        "# how=\"all\" => if all column is None \n",
        "\n",
        "print(overview_df.shape)\n",
        "overview_df = overview_df.dropna(axis='columns', how='all') \n",
        "overview_df = overview_df.dropna(axis='rows', how='all') \n",
        "print('after drop', overview_df.shape)\n",
        "\n",
        "overview_df"
      ],
      "metadata": {
        "id": "aClJez9cHELV"
      },
      "id": "aClJez9cHELV",
      "execution_count": null,
      "outputs": []
    },
    {
      "cell_type": "code",
      "source": [
        "\n",
        "# compute the range of the whole dataframe \n",
        "ov_max_row, ov_max_col = overview_df.shape\n",
        "print('nb of rows :', max_row, \n",
        "      'nb of cols :', max_col)\n",
        "\n",
        "# identify the cellrange for overview_df with .xl_range()\n",
        "\n",
        "overview_range = xl_range(1, # starting row \n",
        "                          # as there is an empty row, + row for last month\n",
        "                          0, # starting column\n",
        "                          ov_max_row , # endrow  \n",
        "                          ov_max_col - 1) # end col - 1\n",
        "print(overview_range)"
      ],
      "metadata": {
        "id": "pP63G3klJlA8"
      },
      "id": "pP63G3klJlA8",
      "execution_count": null,
      "outputs": []
    },
    {
      "cell_type": "code",
      "source": [
        "# To keep track of locations, dimensions of the overview_df\n",
        "# we'll add them into a dictionnary called locations\n",
        "# so we can keep track of all variables reflecting our locations of overviex_df\n",
        "\n",
        "locations = {'nb_rows' : ov_max_row, \n",
        "             'nb_cols': ov_max_col, \n",
        "             'overview_df_range': overview_range}\n",
        "locations"
      ],
      "metadata": {
        "id": "RFoCPKjYLM4x"
      },
      "id": "RFoCPKjYLM4x",
      "execution_count": null,
      "outputs": []
    },
    {
      "cell_type": "code",
      "source": [
        "stop"
      ],
      "metadata": {
        "id": "R7oxZZkrFJQh"
      },
      "id": "R7oxZZkrFJQh",
      "execution_count": null,
      "outputs": []
    },
    {
      "cell_type": "markdown",
      "source": [
        "#### Writer object"
      ],
      "metadata": {
        "id": "QTeAGD3WjihH"
      },
      "id": "QTeAGD3WjihH"
    },
    {
      "cell_type": "code",
      "source": [
        "# create an excel where we'll have previoous data formated\n",
        "\n",
        "# Create a Pandas Excel writer using XlsxWriter as the engine.\n",
        "writer = pd.ExcelWriter('Formating_Budget.xlsx', # the name of the new excel\n",
        "                        engine='xlsxwriter', # Engine to use for writing\n",
        "                        datetime_format='d mmm yy', # Format string for datetime objects written into Excel files\n",
        "                        date_format='d mmm yy',) # Format string for dates written into Excel files\n",
        "\n",
        "# Convert the dataframe to an XlsxWriter Excel object.\n",
        "overview_df.to_excel(writer, # excel object\n",
        "                     sheet_name= 'Formated' , # the name of the sheet where to copy the df\n",
        "                     header=False,# no headers\n",
        "                     index=False, # we don't want to have row indices in excel\n",
        "                     index_label = False, # we don't want to have column indices in excel\n",
        "                     startrow=1, # at what row to start copying\n",
        "                     startcol=0) # at what columns to start copying\n",
        "\n",
        "# Get the xlsxwriter objects from the dataframe writer object.\n",
        "workbook = writer.book\n",
        "worksheet = writer.sheets['Formated']\n",
        "\n",
        "#  resize the sheet by adjusting the zoom\n",
        "worksheet.set_zoom(50)"
      ],
      "metadata": {
        "id": "15I44AqOMOOm"
      },
      "id": "15I44AqOMOOm",
      "execution_count": null,
      "outputs": []
    },
    {
      "cell_type": "code",
      "source": [
        "# writer.save()\n",
        "# workbook.close() # uncomment to close the wb if you want to download it and open it\n",
        "# but if you close it, then you'll need to re-run the code for formating, from the creation of the writer object"
      ],
      "metadata": {
        "id": "9fKE1n1pNgDZ"
      },
      "id": "9fKE1n1pNgDZ",
      "execution_count": null,
      "outputs": []
    },
    {
      "cell_type": "code",
      "source": [
        "os.listdir()"
      ],
      "metadata": {
        "id": "r-6AlzE-M6kx"
      },
      "id": "r-6AlzE-M6kx",
      "execution_count": null,
      "outputs": []
    },
    {
      "cell_type": "code",
      "source": [
        "# download file from Drive to your local machine\n",
        "# files.download(\"Formating_Budget.xlsx\")"
      ],
      "metadata": {
        "id": "PEWcB2nNNHfy"
      },
      "id": "PEWcB2nNNHfy",
      "execution_count": null,
      "outputs": []
    },
    {
      "cell_type": "markdown",
      "source": [
        "### Income and Expenditure "
      ],
      "metadata": {
        "id": "K4d1RK5pOqjQ"
      },
      "id": "K4d1RK5pOqjQ"
    },
    {
      "cell_type": "markdown",
      "source": [
        "#### Merge Inc and Exp"
      ],
      "metadata": {
        "id": "HAdUs2GfO8SS"
      },
      "id": "HAdUs2GfO8SS"
    },
    {
      "cell_type": "markdown",
      "source": [
        "To apply a format to a cell or a range we need first to defin the format we want to apply\n",
        "\n",
        "Documentation\n",
        "https://xlsxwriter.readthedocs.io/format.html#format\n",
        "\n",
        "Tutorial adding a format:\n",
        "https://xlsxwriter.readthedocs.io/tutorial02.html"
      ],
      "metadata": {
        "id": "cWpB6iYmQaSS"
      },
      "id": "cWpB6iYmQaSS"
    },
    {
      "cell_type": "code",
      "source": [
        "# define merge  format \n",
        "merge_ft = workbook.add_format({'bold': True,\n",
        "                                'font_size': 14,    \n",
        "                                'font_color':'black',\n",
        "                                'font_name':'Colibri Light',    \n",
        "                                'align': 'center',\n",
        "                                'valign': 'vcenter' })\n",
        "\n",
        "# Increase the row size of the merged cells to highlight the formatting.\n",
        "worksheet.set_row(2, 20)"
      ],
      "metadata": {
        "id": "6GwrM9b1Qe_g"
      },
      "id": "6GwrM9b1Qe_g",
      "execution_count": null,
      "outputs": []
    },
    {
      "cell_type": "code",
      "source": [
        "'''\n",
        "writer.save()\n",
        "workbook.close()\n",
        "\n",
        "# download file from Drive to your local machine\n",
        "files.download(\"Formating_Budget.xlsx\")\n",
        "'''"
      ],
      "metadata": {
        "id": "0gqoFoSvZqSn"
      },
      "id": "0gqoFoSvZqSn",
      "execution_count": null,
      "outputs": []
    },
    {
      "cell_type": "code",
      "source": [
        "# the row we want to merge\n",
        "merge = overview_df.iloc[1, :] \n",
        "merge"
      ],
      "metadata": {
        "id": "E6Pe4WxiRP0q"
      },
      "id": "E6Pe4WxiRP0q",
      "execution_count": null,
      "outputs": []
    },
    {
      "cell_type": "code",
      "source": [
        "# identify columns letters for INCOME in Excel\n",
        "\n",
        "income_idx = [] # create an empty list where to store indices for INCOME\n",
        "\n",
        "# iterate through a loop with enumerate (where we'll have the index and the value)\n",
        "for idx, value in enumerate(merge, start=1):  # start the index from 1\n",
        "    if value == 'INCOME': # if value = INCOME\n",
        "           income_idx.append(idx) # the append in the income_idx list the index\n",
        "            \n",
        "print('the indices for INCOME in EXCEL are : ', income_idx)\n",
        "\n",
        "# store the INCOME range (in columns) in excel style\n",
        "\n",
        "income_col_range= get_column_letter(income_idx[0]) + str(':') + get_column_letter(income_idx[-1])\n",
        "print('the column range for income in excel: ', income_col_range)\n",
        "\n",
        "# add it to locations dictionnary so we can keep track of all identified locations\n",
        "\n",
        "locations['INCOME columns range in excel']=income_col_range\n",
        "locations"
      ],
      "metadata": {
        "id": "A3UrOMzSRX_K"
      },
      "id": "A3UrOMzSRX_K",
      "execution_count": null,
      "outputs": []
    },
    {
      "cell_type": "code",
      "source": [
        "# Identify the indices where the value changes\n",
        "\n",
        "# Create the list where we 'll capture the cells that appear for 1st time,\n",
        "# add the 1st index and start checking from 2nd index until end of df\n",
        "startCells = [0]\n",
        "for cell in range(2, len(merge)+1): # modify list if necessary\n",
        "    if (merge [cell-1] != merge[cell-2]):\n",
        "        startCells.append(cell-1)\n",
        "startCells"
      ],
      "metadata": {
        "id": "e96dXoFaRo5N"
      },
      "id": "e96dXoFaRo5N",
      "execution_count": null,
      "outputs": []
    },
    {
      "cell_type": "markdown",
      "source": [
        "Documentation for merginf cells with .merge_range() function\n",
        "\n",
        "https://xlsxwriter.readthedocs.io/worksheet.html?highlight=merge#merge_range"
      ],
      "metadata": {
        "id": "LRPOGY2qSWVz"
      },
      "id": "LRPOGY2qSWVz"
    },
    {
      "cell_type": "code",
      "source": [
        "# define row index wheere to merge\n",
        "row_index = 2 # row where to merge\n",
        "lastCol = len(merge) # last idx of the merge range\n",
        "\n",
        "\n",
        "# apply the merge as long the value remains the same\n",
        "for IDX in startCells:\n",
        "    try:\n",
        "        endCol = startCells[startCells.index(IDX)+1]-1\n",
        "        if IDX == endCol:\n",
        "            #print(IDX, merge_df.columns[IDX], '1')\n",
        "            worksheet.write(row_index, IDX, \n",
        "                            merge[IDX], # here the list to merge (merge)\n",
        "                            merge_ft) \n",
        "        else:\n",
        "            worksheet.merge_range(row_index, IDX, \n",
        "                                  row_index, endCol, \n",
        "                                  merge[IDX],  # here the list to merge\n",
        "                                  merge_ft)  \n",
        "    except IndexError:\n",
        "        if IDX == lastCol:\n",
        "            worksheet.write(row_index, IDX,\n",
        "                            merge[IDX], # here the list to merge\n",
        "                            merge_ft)\n",
        "        else:\n",
        "            worksheet.merge_range(row_index, IDX, row_index, lastCol-1,\n",
        "                                  merge[IDX], # # here the list to merge\n",
        "                                  merge_ft) # format to apply\n"
      ],
      "metadata": {
        "id": "OaWw3VhQSXE-"
      },
      "id": "OaWw3VhQSXE-",
      "execution_count": null,
      "outputs": []
    },
    {
      "cell_type": "code",
      "source": [
        "'''\n",
        "writer.save()\n",
        "workbook.close()\n",
        "\n",
        "# download file from Drive to your local machine\n",
        "files.download(\"Formating_Budget.xlsx\")\n",
        "'''"
      ],
      "metadata": {
        "id": "GhFKXIg3TlQ7"
      },
      "id": "GhFKXIg3TlQ7",
      "execution_count": null,
      "outputs": []
    },
    {
      "cell_type": "markdown",
      "source": [
        "#### Color for merged cells: Income and Expenditure"
      ],
      "metadata": {
        "id": "8P8N5-dHPJNm"
      },
      "id": "8P8N5-dHPJNm"
    },
    {
      "cell_type": "code",
      "source": [
        "# define format for for merged cells\n",
        "\n",
        "# Light red fill with dark red text for Expenditure\n",
        "format1 = workbook.add_format({'bg_color': '#FFC7CE',\n",
        "                               'font_color': '#9C0006'})\n",
        "\n",
        "# Green fill with dark green text for Income\n",
        "format2 = workbook.add_format({'bg_color': '#C6EFCE',\n",
        "                               'font_color': '#006100'})"
      ],
      "metadata": {
        "id": "ACX11XiuRVTl"
      },
      "id": "ACX11XiuRVTl",
      "execution_count": null,
      "outputs": []
    },
    {
      "cell_type": "code",
      "source": [
        "# write a dictionary to keep track of all formats\n",
        "formats = {'format1': 'Expenditure',\n",
        "           'format2': 'Income'\n",
        "          }\n",
        "\n",
        "formats"
      ],
      "metadata": {
        "id": "EMa_maW9TzC2"
      },
      "id": "EMa_maW9TzC2",
      "execution_count": null,
      "outputs": []
    },
    {
      "cell_type": "markdown",
      "source": [
        "To apply a format depending if it's Income or Expenditure we use conditional formatting\n",
        "\n",
        "Some documentation on conditional formating\n",
        "\n",
        "Conditional formating syntaxe and arguments:\n",
        "https://xlsxwriter.readthedocs.io/worksheet.html#conditional_format\n",
        "\n",
        "Conditional Formating method and their options:\n",
        "https://xlsxwriter.readthedocs.io/working_with_conditional_formats.html#\n",
        "\n",
        "Example of conditional formating:\n",
        "https://xlsxwriter.readthedocs.io/example_conditional_format.html#ex-cond-format   "
      ],
      "metadata": {
        "id": "40knYgV2UB1z"
      },
      "id": "40knYgV2UB1z"
    },
    {
      "cell_type": "code",
      "source": [
        "# identify merged cells range\n",
        "merge_range = xl_range(row_index, 1, row_index, lastCol-1)\n",
        "\n",
        "# add merge_range to our locations dictionnary \n",
        "locations['INCOME_EXP_row'] = merge_range\n",
        " \n",
        "# apply format 2 for cells that contain Income\n",
        "worksheet.conditional_format(merge_range, {'type': 'text', # type – are we formatting cells, \n",
        "        # numbers, text, ranking, average, duplicate or formula? See the picture below, \n",
        "                                           # the “type” refers to the “Rule Type”.\n",
        "                                       'criteria': 'containing', # do we want to find the “greater/less than”, \n",
        "                                           # “contain” certain text, top items, etc\n",
        "                                        'value': 'EXPENDITURE', # usually in conjuction with the criteria, “great than 7”, \n",
        "                                           # “between 5 and 7”, “above” average,\n",
        "                                        'format': format1})\n",
        "\n",
        "# apply format 2 for cells that contain Income\n",
        "worksheet.conditional_format(merge_range, {'type': 'text',\n",
        "                                       'criteria': 'containing',\n",
        "                                        'value': 'INCOME',\n",
        "                                        'format': format2})"
      ],
      "metadata": {
        "id": "O083IlT7T6yv"
      },
      "id": "O083IlT7T6yv",
      "execution_count": null,
      "outputs": []
    },
    {
      "cell_type": "code",
      "source": [
        "'''\n",
        "writer.save()\n",
        "workbook.close()\n",
        "\n",
        "# download file from Drive to your local machine\n",
        "files.download(\"Formating_Budget.xlsx\")\n",
        "'''\n"
      ],
      "metadata": {
        "id": "I8MWy_QzT67v"
      },
      "id": "I8MWy_QzT67v",
      "execution_count": null,
      "outputs": []
    },
    {
      "cell_type": "code",
      "source": [
        "# after removing the autofilers\n",
        "\n",
        "img = mpimg.imread('images_format/img_2.PNG')\n",
        "plt.imshow(img)\n",
        "plt.rcParams['figure.figsize'] = [12, 10]\n",
        "plt.axis('off')\n",
        "plt.show()"
      ],
      "metadata": {
        "id": "4frQnT2qT6_M"
      },
      "id": "4frQnT2qT6_M",
      "execution_count": null,
      "outputs": []
    },
    {
      "cell_type": "markdown",
      "source": [
        "### Month row "
      ],
      "metadata": {
        "id": "uPrajInTPZsc"
      },
      "id": "uPrajInTPZsc"
    },
    {
      "cell_type": "markdown",
      "source": [
        "Apply a format to \"Months row\"\n",
        "\n",
        "1. we want the whole row of 'Months' to be blue: we'll define the respective format \n",
        "2. we need to identify the cell location of this row without manual interviention\n",
        "3. apply the defined format o identified range location"
      ],
      "metadata": {
        "id": "46m1_hHte1yJ"
      },
      "id": "46m1_hHte1yJ"
    },
    {
      "cell_type": "markdown",
      "source": [
        "Format"
      ],
      "metadata": {
        "id": "TTD_Ic8me7GL"
      },
      "id": "TTD_Ic8me7GL"
    },
    {
      "cell_type": "code",
      "source": [
        "# format for Months Row\n",
        "format3 = workbook.add_format({'bg_color': 'white', # background color\n",
        "                               'font_color': 'blue'}) # font color"
      ],
      "metadata": {
        "id": "xhZyykTOO2lC"
      },
      "id": "xhZyykTOO2lC",
      "execution_count": null,
      "outputs": []
    },
    {
      "cell_type": "code",
      "source": [
        "# add to our new format to dictionnary \n",
        "formats['format3'] = 'Months_Row'\n",
        "formats"
      ],
      "metadata": {
        "id": "wSnle3-afBLt"
      },
      "id": "wSnle3-afBLt",
      "execution_count": null,
      "outputs": []
    },
    {
      "cell_type": "markdown",
      "source": [
        "Identify range location"
      ],
      "metadata": {
        "id": "i1PnnIyLfHtR"
      },
      "id": "i1PnnIyLfHtR"
    },
    {
      "cell_type": "code",
      "source": [
        "# reminder of overview_df\n",
        "print('the overview_df range is', overview_range)\n",
        "\n",
        "# reset_index\n",
        "overview_df.reset_index(inplace=True, drop=True)\n",
        "#overview_df = overview_df.drop('index', axis=1)\n",
        "overview_df.head(10)"
      ],
      "metadata": {
        "id": "PjqQRH6UfNdI"
      },
      "id": "PjqQRH6UfNdI",
      "execution_count": null,
      "outputs": []
    },
    {
      "cell_type": "code",
      "source": [
        "# .. We need to locate the row nb 3 that have the string 'Month' in it\n",
        "\n",
        "# write a function to compute automatically the location of a cell in a dataframe containing a specific string\n",
        "\n",
        "def FindPositionsInDataframe(dfIn,findme):\n",
        "    positions = []\n",
        "    irow =0\n",
        "    while ( irow < len(dfIn.index)):\n",
        "        list_colPositions=dfIn.columns[dfIn.iloc[irow,:]==findme].tolist()   \n",
        "        if list_colPositions != []:\n",
        "            colu_iloc = dfIn.columns.get_loc(list_colPositions[0])\n",
        "            positions.append([irow, colu_iloc])\n",
        "        irow +=1\n",
        "\n",
        "    return positions\n",
        "\n",
        "# check if the function works\n",
        "FindPositionsInDataframe(overview_df, 'Month')\n",
        "\n",
        "# the result is a nested list: 1st row, 2nd col"
      ],
      "metadata": {
        "id": "qA7ca00MfN1d"
      },
      "id": "qA7ca00MfN1d",
      "execution_count": null,
      "outputs": []
    },
    {
      "cell_type": "code",
      "source": [
        "# to be able to use this location we'll save it in a variable called loc\n",
        "\n",
        "loc = FindPositionsInDataframe(overview_df, 'Month')\n",
        "month_row = loc[0][0]\n",
        "month_row"
      ],
      "metadata": {
        "id": "XgUJI4ENfXHr"
      },
      "id": "XgUJI4ENfXHr",
      "execution_count": null,
      "outputs": []
    },
    {
      "cell_type": "code",
      "source": [
        "locations['Month_row'] = month_row\n",
        "locations"
      ],
      "metadata": {
        "id": "QgUgEW-shQRf"
      },
      "id": "QgUgEW-shQRf",
      "execution_count": null,
      "outputs": []
    },
    {
      "cell_type": "markdown",
      "source": [
        "Apply the defined format to the identified location"
      ],
      "metadata": {
        "id": "y25GsQachklR"
      },
      "id": "y25GsQachklR"
    },
    {
      "cell_type": "code",
      "source": [
        "# apply the form to row (in excel the 3rd row + 1 (because we have an additional row on the top))\n",
        "worksheet.set_row(month_row + 1, # row numer\n",
        "                  15, # row height\n",
        "                  format3) # the format to apply"
      ],
      "metadata": {
        "id": "LscgYRvYhWjB"
      },
      "id": "LscgYRvYhWjB",
      "execution_count": null,
      "outputs": []
    },
    {
      "cell_type": "code",
      "source": [
        "'''\n",
        "writer.save()\n",
        "workbook.close()\n",
        "\n",
        "# download file from Drive to your local machine\n",
        "files.download(\"Formating_Budget.xlsx\")\n",
        "\n",
        "'''\n"
      ],
      "metadata": {
        "id": "WfSEKcYqhmaF"
      },
      "id": "WfSEKcYqhmaF",
      "execution_count": null,
      "outputs": []
    },
    {
      "cell_type": "code",
      "source": [
        "#\n",
        "\n",
        "img = mpimg.imread('images_format/img_3.PNG')\n",
        "plt.imshow(img)\n",
        "plt.rcParams['figure.figsize'] = [12, 10]\n",
        "plt.axis('off')\n",
        "plt.show()"
      ],
      "metadata": {
        "id": "HOioRdLSiMdY"
      },
      "id": "HOioRdLSiMdY",
      "execution_count": null,
      "outputs": []
    },
    {
      "cell_type": "markdown",
      "source": [
        "### Monthly Total"
      ],
      "metadata": {
        "id": "ehHoIs_Wjywj"
      },
      "id": "ehHoIs_Wjywj"
    },
    {
      "cell_type": "markdown",
      "source": [
        "Conditional Formating steps\n",
        "\n",
        "1. Define conditional formats\n",
        "2. Identofy locations\n",
        "3. Apply formats to identified locations"
      ],
      "metadata": {
        "id": "Ko_-fp0lj_PX"
      },
      "id": "Ko_-fp0lj_PX"
    },
    {
      "cell_type": "markdown",
      "source": [
        "We want to format MonthlyTotal row from overview_df with conditional formating\n",
        "\n",
        "INCOME\n",
        "- if there Income  have a change between -0.4 and 0.4 from M2M ==> yellow\n",
        "- if there Income  have a change > 0.4 ==> green\n",
        "- if there Income  have a change < -0.4 ==> red\n",
        "\n",
        "EXPENDITURE (ooposite)\n",
        "- if there Income  have a change between -0.4 and 0.4 from M2M ==> yellow\n",
        "- if there Income  have a change > 0.4 ==> red\n",
        "- if there Income  have a change < -0.4 ==> green"
      ],
      "metadata": {
        "id": "s3QX1twSkFf-"
      },
      "id": "s3QX1twSkFf-"
    },
    {
      "cell_type": "markdown",
      "source": [
        "#### Conditional Format"
      ],
      "metadata": {
        "id": "g6JR4cwRj4PF"
      },
      "id": "g6JR4cwRj4PF"
    },
    {
      "cell_type": "code",
      "source": [
        "# 1. define the formats for contional formatting\n",
        "\n",
        "green_format = workbook.add_format({'bg_color': 'green'})\n",
        "red_format = workbook.add_format({'bg_color': 'red'})\n",
        "yellow_format = workbook.add_format({'bg_color': 'yellow'})\n",
        "\n",
        "# add the new format to the formats dictionary\n",
        "\n",
        "formats['green_format'] = 'if positive change in M2M ev'\n",
        "formats['yellow_format'] = 'not significative change in M2M ev'\n",
        "formats['red_format'] = 'if negative change in M2M ev'\n",
        "\n",
        "formats"
      ],
      "metadata": {
        "id": "X7l33fydkR90"
      },
      "id": "X7l33fydkR90",
      "execution_count": null,
      "outputs": []
    },
    {
      "cell_type": "markdown",
      "source": [
        "#### Range Location to apply the format"
      ],
      "metadata": {
        "id": "JvoI-Jezkd2i"
      },
      "id": "JvoI-Jezkd2i"
    },
    {
      "cell_type": "markdown",
      "source": [
        "Firstly, we'll use the above row where we have Income and Expenditure row in the overview_df\n",
        "Thanks to this row we'll be able to identify the range for INCOME / Expenditure columns ...\n",
        "And therefore, to delimitate the columns relative to Income / Expenditure \n",
        "\n",
        "STEPS:\n",
        "\n",
        "1. identify the row\n",
        "2. identify the columns\n",
        "3. compute at what index Income strings occur\n",
        "4. translate the location in Excel location format"
      ],
      "metadata": {
        "id": "Knnw8q1Rkkzu"
      },
      "id": "Knnw8q1Rkkzu"
    },
    {
      "cell_type": "markdown",
      "source": [
        "1. identify the row"
      ],
      "metadata": {
        "id": "HhYCBz3KkqbY"
      },
      "id": "HhYCBz3KkqbY"
    },
    {
      "cell_type": "code",
      "source": [
        "overview_df.head()"
      ],
      "metadata": {
        "id": "89ne374sl4Vs"
      },
      "id": "89ne374sl4Vs",
      "execution_count": null,
      "outputs": []
    },
    {
      "cell_type": "code",
      "source": [
        "# identofiy location in overview_df where string INCOME occurs for the 1st time\n",
        "\n",
        "# 1 : identify the row\n",
        "loc = FindPositionsInDataframe(overview_df, 'INCOME')\n",
        "print(loc)\n",
        "print('the row index in overview_df containing INCOME is: ', loc[0][0])\n",
        "print('the col index in overview_df containing INCOME is: ', loc[0][1])"
      ],
      "metadata": {
        "id": "Fdj0GAzbkW1T"
      },
      "id": "Fdj0GAzbkW1T",
      "execution_count": null,
      "outputs": []
    },
    {
      "cell_type": "markdown",
      "source": [
        "2. identify the columns"
      ],
      "metadata": {
        "id": "Mx44D04smLxK"
      },
      "id": "Mx44D04smLxK"
    },
    {
      "cell_type": "code",
      "source": [
        "# 2 Identify the columns\n",
        "\n",
        "# 2.1 : create a list where we'll see the  all INCOME, and indices of all Expenditure\n",
        "\n",
        "# select with .iloc method in the overview_df  the row =2 \n",
        "inc_exp_list = overview_df.iloc[loc[0][0], :] # we'll obtain all the values of the 2nd row from overview_df\n",
        "\n",
        "# store this row into a list 'inc_exp_list'\n",
        "inc_exp_list = list(inc_exp_list)\n",
        "inc_exp_list "
      ],
      "metadata": {
        "id": "Ghj01QA3l-j-"
      },
      "id": "Ghj01QA3l-j-",
      "execution_count": null,
      "outputs": []
    },
    {
      "cell_type": "markdown",
      "source": [
        "3. compute at what index Income strings occur"
      ],
      "metadata": {
        "id": "XqV1lBYNmcGp"
      },
      "id": "XqV1lBYNmcGp"
    },
    {
      "cell_type": "code",
      "source": [
        "# 3 : identify indices only for INCOME\n",
        "\n",
        "# identify the 'INCOME' column indices from this list \"inc_exp_list\"\n",
        "\n",
        "search_idx = [] # create an empty list where to store the indices\n",
        "\n",
        "# loop in the list inc_exp_list to identify cell containing the word INCOME\n",
        "for idx in range(2, len(inc_exp_list)):\n",
        "    if inc_exp_list[idx] == 'INCOME':  # if cell = INCOME\n",
        "        search_idx.append(idx) # apend the index in the indices list \n",
        "\n",
        "print(search_idx)      \n",
        "print('index where INCOME occures for the 1st time: ', search_idx[0])\n",
        "print('index where INCOME occures for the last time: ', search_idx[-1])"
      ],
      "metadata": {
        "id": "AyQamIFPmQRV"
      },
      "id": "AyQamIFPmQRV",
      "execution_count": null,
      "outputs": []
    },
    {
      "cell_type": "markdown",
      "source": [
        "4. translate the column index in Excel location format"
      ],
      "metadata": {
        "id": "tpQgPSzdmmN3"
      },
      "id": "tpQgPSzdmmN3"
    },
    {
      "cell_type": "code",
      "source": [
        "# use the identified locations to put them in excel format\n",
        "\n",
        "# for Total Months on the 1st cell (1st index corresponding to January) we don't need to apply a format \n",
        "# so we add +1 to the index as the first element is Month 0 and we have nothing to compare with\n",
        "\n",
        "print(search_idx[0]+1) # we'll get index 3\n",
        "\n",
        "# get the respective column letter of this column with index 3\n",
        "print(get_column_letter(search_idx[0]+1)) # column C\n",
        "\n",
        "# index where to end\n",
        "print(search_idx[-1]) # the last element of list with indices ==> we'll get 7\n",
        "\n",
        "# get the respective column letter of the last column\n",
        "print(get_column_letter(search_idx[-1])) # we'll get G"
      ],
      "metadata": {
        "id": "drvZmxwgmgfj"
      },
      "id": "drvZmxwgmgfj",
      "execution_count": null,
      "outputs": []
    },
    {
      "cell_type": "code",
      "source": [
        "# we have the column indices where to apply the conditional formating\n",
        "# now we need to find the row location of 'MonthlyTotal' row where we'll apply the condition formating\n",
        "\n",
        "FindPositionsInDataframe(overview_df, 'MonthlyTotal')[0][0] + 1 + 1 # because of the extra row"
      ],
      "metadata": {
        "id": "TcVk5Fb2mtR6"
      },
      "id": "TcVk5Fb2mtR6",
      "execution_count": null,
      "outputs": []
    },
    {
      "cell_type": "code",
      "source": [
        "# write the string that will represent the cell range in Excel style as 'C5:G5' named \"cellrange\"\n",
        "# for this we need to combine the indentified references to construct that range : \n",
        "  # get_column_letter(search_idx[0]+1) ==> for the start column , well get C\n",
        "  # FindPositionsInDataframe(overview_df, 'MonthlyTotal')[0][0] + 1) ==> for the start row ==> 5\n",
        "  # string \":\" ==> from C5:G5\n",
        "  # get_column_letter(search_idx[-1]) ==> ==> for the end column , well get G\n",
        "  # FindPositionsInDataframe(overview_df, 'MonthlyTotal')[0][0] + 1) ==> for the end row ==> the same 5\n",
        "# concatenate all sub_strings to get the cellrange string  with Excel style format as 'C5:G5'\n",
        "\n",
        "cellrange = str(get_column_letter(search_idx[0]+1)) +  \\\n",
        "str(FindPositionsInDataframe(overview_df, 'MonthlyTotal')[0][0] + 2)+  \\\n",
        "str(':') +  \\\n",
        "str(get_column_letter(search_idx[-1])) + \\\n",
        "str(FindPositionsInDataframe(overview_df, 'MonthlyTotal')[0][0] + 2) \n",
        "\n",
        "cellrange"
      ],
      "metadata": {
        "id": "kwpD83SCnDSe"
      },
      "id": "kwpD83SCnDSe",
      "execution_count": null,
      "outputs": []
    },
    {
      "cell_type": "code",
      "source": [
        "# add to lactions dictionnary\n",
        "\n",
        "locations['MonthlyTotal range for Income without Total']= cellrange\n",
        "locations"
      ],
      "metadata": {
        "id": "j7-q04yjnSAv"
      },
      "id": "j7-q04yjnSAv",
      "execution_count": null,
      "outputs": []
    },
    {
      "cell_type": "markdown",
      "source": [
        "Conditional Formatting Examples"
      ],
      "metadata": {
        "id": "cN6PTZjCnqGh"
      },
      "id": "cN6PTZjCnqGh"
    },
    {
      "cell_type": "markdown",
      "source": [
        "We want to apply conditional formating on identified range location... (named cellrange)\n",
        "\n",
        "Documentation for Conditional Formating:\n",
        "\n",
        "https://xlsxwriter.readthedocs.io/working_with_conditional_formats.html https://www.tutorialspoint.com/python_xlsxwriter/python_xlsxwriter_conditional_formatting.htm"
      ],
      "metadata": {
        "id": "s3NKH16tnwfI"
      },
      "id": "s3NKH16tnwfI"
    },
    {
      "cell_type": "markdown",
      "source": [
        "Syntax:\n",
        "Write a conditional format to range of cells....\n",
        "\n",
        "conditional_format(first_row, first_col, last_row, last_col,\n",
        "                   options)\n",
        "\n",
        "Parameters:\t\n",
        "\n",
        "..for location : \n",
        "\n",
        "first_row (int) – The first row of the range. (All zero indexed.)\n",
        "first_col (int) – The first column of the range.\n",
        "last_row (int) – The last row of the range.\n",
        "last_col (int) – The last col of the range.\n",
        "\n",
        "..for formatting\n",
        "\n",
        "options (dict) – Conditional formating options written with syntax as dictionnary {...}\n",
        "\n",
        "Returns:\t0: Success.\n",
        "Returns:   -1: Row or column is out of worksheet bounds.\n",
        "Returns:   -2: Incorrect parameter or option."
      ],
      "metadata": {
        "id": "2Al87v1_n2s2"
      },
      "id": "2Al87v1_n2s2"
    },
    {
      "cell_type": "code",
      "source": [
        "# Example 1 conditional formatting based on a simple formula\n",
        "\n",
        "# for the example create a workbook wb\n",
        "wb = xlsxwriter.Workbook('conditional_formatting_1.xlsx')\n",
        "# add a worksheet ws\n",
        "ws = wb.add_worksheet()\n",
        "\n",
        "# create dummy data for the example\n",
        "data=[56,95,63,34,81,47,74,5,99,12]\n",
        "row=0\n",
        "\n",
        "# write the data in worksheet\n",
        "for num in data:\n",
        "        ws.write(row,0,num)\n",
        "        row+=1\n",
        "\n",
        "# define format\n",
        "f1 = wb.add_format({'bg_color': '#D9D9D9', 'font_color': 'red'})\n",
        "\n",
        "# define format\n",
        "f1 = wb.add_format({'bg_color': '#D9D9D9', 'font_color': 'red'})\n",
        "\n",
        "# apply conditional formatting\n",
        "# We want to apply the format f1 to cells that are less then 50\n",
        "ws.conditional_format(\n",
        "   'A1:A10', # the range where to apply\n",
        "    # options\n",
        "    {'type':'cell', #  type option is a required. Possible values: cell, date, text, formula, etc\n",
        "    'criteria':'<', # Criteria is alike a formula, it sets the condition by which the cell data will be evaluated\n",
        "    'value':50, # Value parameter is the operand of the criteria that forms the rule \n",
        "    'format':f1 # format to apply\n",
        "    })\n",
        "    \n",
        "#close wb                       \n",
        "wb.close()\n",
        "\n",
        "# download file from Drive to your local machine\n",
        "# files.download(\"conditional_formatting_1.xlsx\")\n",
        "\n"
      ],
      "metadata": {
        "id": "0IgfOAo9ncgN"
      },
      "id": "0IgfOAo9ncgN",
      "execution_count": null,
      "outputs": []
    },
    {
      "cell_type": "code",
      "source": [
        "# Example 2 of conditional formatting based on formula:\n",
        "\n",
        "# for the example create a workbook wb\n",
        "wb = xlsxwriter.Workbook('conditional_formatting_2.xlsx') \n",
        "# add a worksheet ws\n",
        "ws = wb.add_worksheet()\n",
        "\n",
        "# create dummy data for the example\n",
        "data = [['Anil', 45, 55, 50], ['Ravi', 60, 70, 80],\n",
        "        ['Kiran', 65, 75, 85], ['Karishma', 55, 65, 45]]\n",
        "       \n",
        "# write the data in worksheet\n",
        "for row in range(len(data)):\n",
        "      ws.write_row(row,0, data[row])\n",
        "\n",
        "# define format\n",
        "f2 = wb.add_format({'font_color': 'blue', 'bold':True})\n",
        "\n",
        "\n",
        "# Apply conditional formatting\n",
        "# We want to apply the format f3  to cellrange where the row's average is > 60\n",
        "ws.conditional_format(\n",
        "   'A1:D4', # the range where to apply\n",
        "    # Conditional formating options \n",
        "    {'type':'formula', #  type option is a required. Possible values: cell, date, text, formula, etc\n",
        "    'criteria':'=AVERAGE($B1:$D1)>=60', # Criteria is like a formula, \n",
        "     # it sets the condition by which the cell data will be evaluated\n",
        "     # here the criteria stipulates if the row average is >=60\n",
        "      #  !!!! please take note of the formula used in criteria \n",
        "      #  we use $ operand as we want to fix the reference ONLY for column B and D, \n",
        "      # so that it remains unchanged no matter where the formula moves\n",
        "      # we do not fix row nb\n",
        "     'format':f2 # format we want to aply if the crietria is satisfied\n",
        "   })\n",
        "\n",
        "# close the workbook\n",
        "wb.close()\n",
        "\n",
        "# download file from Drive to your local machine\n",
        "# files.download(\"conditional_formatting_2.xlsx\")"
      ],
      "metadata": {
        "id": "yn2xnNgbootA"
      },
      "id": "yn2xnNgbootA",
      "execution_count": null,
      "outputs": []
    },
    {
      "cell_type": "markdown",
      "source": [
        "Back to our formatting..."
      ],
      "metadata": {
        "id": "W3ZcjoUMpdZy"
      },
      "id": "W3ZcjoUMpdZy"
    },
    {
      "cell_type": "markdown",
      "source": [
        "For our identified callrange we want to apply:\n",
        "\n",
        "1. yellow_format : if there Income have a change between [-0.4, 0.4] % from M2M\n",
        "2. green_format : if there Income have a change > 0.4 %\n",
        "3. red_format : if there Income have a change < 0.4 %"
      ],
      "metadata": {
        "id": "fC0t5jbMpj6Z"
      },
      "id": "fC0t5jbMpj6Z"
    },
    {
      "cell_type": "markdown",
      "source": [
        "For the **criteria** parameter, we have to write the formula from the criteria in Excel style\n",
        "\n",
        "...What we're looking for is to write the formula as a string as follow:\n",
        "\n",
        "1. green : '=(C5-B5)/B5 > 0.004' ==> if the change from previous month in % (calculated as (C5-B5)/B5 greater 0.004\n",
        "2. red: '=(C5-B5)/B5 < -0.004' ==> if the change from previous month in % (calculated as (C5-B5)/B5 less 0.004\n",
        "3. yellow :  '=AND((C5-B5)/B5 >= -0.004, (C5-B5)/B5 <= 0.004)' ==> if the change from previous month in % s between [-0.004, 0.004]"
      ],
      "metadata": {
        "id": "1ZWWCqmNpwfE"
      },
      "id": "1ZWWCqmNpwfE"
    },
    {
      "cell_type": "markdown",
      "source": [
        "What we need to do is to write in python the string of the formulas in Excel style:\n",
        "\n",
        "1. gather all location elements (C5, 'B5')\n",
        "2. concatenate them as a joined string : string = str1 + str2 +...\n",
        "3. write only a single time the formula on the 1st cell \n",
        "4. make sure the formula syntax is correct, as it has to adapt dynamically to the cell reference"
      ],
      "metadata": {
        "id": "RS32pgTeqDlN"
      },
      "id": "RS32pgTeqDlN"
    },
    {
      "cell_type": "markdown",
      "source": [
        "#### Location elements"
      ],
      "metadata": {
        "id": "4qYYXUJkqJFO"
      },
      "id": "4qYYXUJkqJFO"
    },
    {
      "cell_type": "markdown",
      "source": [
        "What we need to do is to write in python the string of the formulas in Excel style:\n",
        "\n",
        "1. gather all location elements (C5, 'B5')\n",
        "2. concatenate them as a joined string : string = str1 + str2 +...\n",
        "3. write only a single time the formula on the 1st cell \n",
        "4. make sure the formula syntax is correct, as it has to adapt dynamically to the cell reference"
      ],
      "metadata": {
        "id": "g0_ZTiGdqbie"
      },
      "id": "g0_ZTiGdqbie"
    },
    {
      "cell_type": "code",
      "source": [
        "# Concerning the row  Monthly Total, what locations we got so far ?? :\n",
        "\n",
        "print('the range: ', cellrange)\n",
        "print('indices of months where is Income: ', search_idx)\n",
        "print('the column letter for the second month (February): ', get_column_letter(search_idx[0]+1))\n",
        "print('the column letter for the last month: ', get_column_letter(search_idx[-1]))\n",
        "print('Excel row nb where to apply the format: ' ,FindPositionsInDataframe(overview_df, 'MonthlyTotal')[0][0] + 1)"
      ],
      "metadata": {
        "id": "fqPnaTQ6qUwe"
      },
      "id": "fqPnaTQ6qUwe",
      "execution_count": null,
      "outputs": []
    },
    {
      "cell_type": "markdown",
      "source": [
        "#### Formula string for criteria"
      ],
      "metadata": {
        "id": "5BiRaI13qlvc"
      },
      "id": "5BiRaI13qlvc"
    },
    {
      "cell_type": "code",
      "source": [
        "# Our formula for computing the change from M2M in % : \n",
        "### difference between the one month and the prior month\n",
        "### devided by prior month\n",
        "### dynamic formula will be (C5-B5)/B5\n",
        "\n",
        "# the month we start with is February that have in our excel is at column C\n",
        "# so the cell notation for our Income in February is:\n",
        "\n",
        "month_ref = get_column_letter(search_idx[0]+1) + \\\n",
        "           str(FindPositionsInDataframe(overview_df, 'MonthlyTotal')[0][0] + 2)\n",
        "print('Month Income ref: ', month_ref)\n",
        "\n",
        "# the prior month to February that we have in our excel is at column B \n",
        "# so we need to extract -1 from column index to shift to the left with one column\n",
        "# so the cell notation for our Income in January is:\n",
        "\n",
        "prior_month_ref = get_column_letter(search_idx[0]) + \\\n",
        "           str(FindPositionsInDataframe(overview_df, 'MonthlyTotal')[0][0] + 2)\n",
        "print('Month Income ref: ', prior_month_ref)\n",
        "\n",
        "# now that we have the necessary locations, we can concatenate them into a string\n",
        "\n",
        "change = '(' + month_ref + '-' + prior_month_ref + ')' + '/' + prior_month_ref\n",
        "print('formula for monthly change in %: ', change)"
      ],
      "metadata": {
        "id": "3PuhgRvVqVKk"
      },
      "id": "3PuhgRvVqVKk",
      "execution_count": null,
      "outputs": []
    },
    {
      "cell_type": "code",
      "source": [
        "# Example how to write dynamically strings\n",
        "\n",
        "# in quote marks write the text\n",
        "# in braces symbol insert the variables that will change dynamically\n",
        "# add .format() with variables \n",
        "my_string = \"{a} is prior to {b}\".format(a= 'January', b='February')\n",
        "my_string"
      ],
      "metadata": {
        "id": "6qxH7yOWqupn"
      },
      "id": "6qxH7yOWqupn",
      "execution_count": null,
      "outputs": []
    },
    {
      "cell_type": "code",
      "source": [
        "# Write dynamically the formula string for criteria\n",
        "\n",
        "                                                                           \n",
        "low_threshold = -0.004\n",
        "high_threshold = 0.004\n",
        " \n",
        "# reproduce '=(C5-B5)/B5 > 0.004'\n",
        "greater = \"={a} > {b}\".format(a= change, b=high_threshold)  \n",
        "# reproduce '=(C5-B5)/B5 < 0.004'\n",
        "lower = \"={a} < {b}\".format(a= change, b=high_threshold)  \n",
        "# reproduce '=AND((C5-B5)/B5 >= -0.004, (C5-B5)/B5 <= 0.004)'\n",
        "between = \"=AND({a} >= {b} , {a} <= {c})\".format(a= change, b=low_threshold,  c=high_threshold)\n",
        "\n",
        "print(greater)\n",
        "print(lower)\n",
        "print(between)"
      ],
      "metadata": {
        "id": "Bl4stDJaq0Lm"
      },
      "id": "Bl4stDJaq0Lm",
      "execution_count": null,
      "outputs": []
    },
    {
      "cell_type": "markdown",
      "source": [
        "#### Apply conditional formatting"
      ],
      "metadata": {
        "id": "XaJTKKoqrKmK"
      },
      "id": "XaJTKKoqrKmK"
    },
    {
      "cell_type": "code",
      "source": [
        "cellrange"
      ],
      "metadata": {
        "id": "HmZd9Ha4s1-6"
      },
      "id": "HmZd9Ha4s1-6",
      "execution_count": null,
      "outputs": []
    },
    {
      "cell_type": "code",
      "source": [
        "# apply the formatting for identified range (here Income)\n",
        "worksheet.conditional_format(cellrange, # the range where to apply\n",
        "                             {'type':   'formula', # apply to a cell that have formula\n",
        "                              # between formula\n",
        "                              'criteria': between,\n",
        "                             'format':   yellow_format}) # apply the respective format\n",
        "\n",
        "worksheet.conditional_format(cellrange,\n",
        "                             {'type':   'formula',\n",
        "                              # greater formula\n",
        "                              'criteria': greater,\n",
        "                              'format':   green_format})\n",
        "\n",
        "worksheet.conditional_format(cellrange,\n",
        "                             {'type':   'formula',\n",
        "                              # lower formula\n",
        "                              'criteria': lower,\n",
        "                              'format':   red_format})\n"
      ],
      "metadata": {
        "id": "Ni7YgXEFq6PP"
      },
      "id": "Ni7YgXEFq6PP",
      "execution_count": null,
      "outputs": []
    },
    {
      "cell_type": "code",
      "source": [
        "# conditional formating\n",
        "\n",
        "img = mpimg.imread('images_format/img_4.PNG')\n",
        "plt.imshow(img)\n",
        "plt.rcParams['figure.figsize'] = [12, 10]\n",
        "plt.axis('off')\n",
        "plt.show()"
      ],
      "metadata": {
        "id": "s-2NqVXFrQjj"
      },
      "id": "s-2NqVXFrQjj",
      "execution_count": null,
      "outputs": []
    },
    {
      "cell_type": "code",
      "source": [
        "'''\n",
        "writer.save()\n",
        "workbook.close()\n",
        "\n",
        "# download file from Drive to your local machine\n",
        "files.download(\"Formating_Budget.xlsx\")\n",
        "\n",
        "'''"
      ],
      "metadata": {
        "id": "-h4WelvPrhdr"
      },
      "id": "-h4WelvPrhdr",
      "execution_count": null,
      "outputs": []
    },
    {
      "cell_type": "markdown",
      "source": [
        "The same thing for Exp"
      ],
      "metadata": {
        "id": "ZvgSlaGrt33R"
      },
      "id": "ZvgSlaGrt33R"
    },
    {
      "cell_type": "code",
      "source": [
        "# 3 : identify indices only for Exp\n",
        "\n",
        "# identify the 'Exp' column indices from this list \"inc_exp_list\"\n",
        "\n",
        "search_idx = [] # create an empty list where to store the indices\n",
        "\n",
        "# loop in the list inc_exp_list to identify cell containing the word INCOME\n",
        "for idx in range(2, len(inc_exp_list)):\n",
        "    if inc_exp_list[idx] == 'Expenditure':  # if cell = EXPENDITURE\n",
        "        search_idx.append(idx) # apend the index in the indices list \n",
        "\n",
        "print(search_idx)      \n",
        "print('index where Exp occures for the 1st time: ', search_idx[0])\n",
        "print('index where EXP occures for the last time: ', search_idx[-1])"
      ],
      "metadata": {
        "id": "SGgOUwJqt2x_"
      },
      "id": "SGgOUwJqt2x_",
      "execution_count": null,
      "outputs": []
    },
    {
      "cell_type": "code",
      "source": [
        "# Our formula for computing the change from M2M in % : \n",
        "### difference between the one month and the prior month\n",
        "### devided by prior month\n",
        "### dynamic formula will be (I5-H5)/H5\n",
        "\n",
        "# the month we start with is February that have in our excel is at column C\n",
        "# so the cell notation for our Exp in February is:\n",
        "\n",
        "month_ref = get_column_letter(search_idx[0]+1) + \\\n",
        "           str(FindPositionsInDataframe(overview_df, 'MonthlyTotal')[0][0] + 2)\n",
        "print('Month Income ref: ', month_ref)\n",
        "\n",
        "# the prior month to February that we have in our excel is at column B \n",
        "# so we need to extract -1 from column index to shift to the left with one column\n",
        "# so the cell notation for our Exp in January is:\n",
        "\n",
        "prior_month_ref = get_column_letter(search_idx[0]) + \\\n",
        "           str(FindPositionsInDataframe(overview_df, 'MonthlyTotal')[0][0] + 2)\n",
        "print('Month Income ref: ', prior_month_ref)\n",
        "\n",
        "# now that we have the necessary locations, we can concatenate them into a string\n",
        "\n",
        "change = '(' + month_ref + '-' + prior_month_ref + ')' + '/' + prior_month_ref\n",
        "print('formula for monthly change in %: ', change)"
      ],
      "metadata": {
        "id": "EF_CAb8Dt-vc"
      },
      "id": "EF_CAb8Dt-vc",
      "execution_count": null,
      "outputs": []
    },
    {
      "cell_type": "code",
      "source": [
        "# Write dynamically the formula string for criteria\n",
        "\n",
        "                                                                           \n",
        "low_threshold = -0.004\n",
        "high_threshold = 0.004\n",
        " \n",
        "# reproduce '=(I5-H5)/H5 > 0.004'\n",
        "greater = \"={a} > {b}\".format(a= change, b=high_threshold)  \n",
        "# reproduce '=(I5-H5)/H5 < 0.004'\n",
        "lower = \"={a} < {b}\".format(a= change, b=high_threshold)  \n",
        "# reproduce '=AND((I5-H5)/H5 >= -0.004, ((I5-H5)/H5 <= 0.004)'\n",
        "between = \"=AND({a} >= {b} , {a} <= {c})\".format(a= change, b=low_threshold,  c=high_threshold)\n",
        "\n",
        "print(greater)\n",
        "print(lower)\n",
        "print(between)"
      ],
      "metadata": {
        "id": "bQcYkKkNuYX7"
      },
      "id": "bQcYkKkNuYX7",
      "execution_count": null,
      "outputs": []
    },
    {
      "cell_type": "code",
      "source": [
        "# cellrange for Exp\n",
        "cellrange = str(get_column_letter(search_idx[0]+1)) +  \\\n",
        "str(FindPositionsInDataframe(overview_df, 'MonthlyTotal')[0][0] + 2)+  \\\n",
        "str(':') +  \\\n",
        "str(get_column_letter(search_idx[-1])) + \\\n",
        "str(FindPositionsInDataframe(overview_df, 'MonthlyTotal')[0][0] + 2) \n",
        "\n",
        "cellrange"
      ],
      "metadata": {
        "id": "V7qHHkkGutY_"
      },
      "id": "V7qHHkkGutY_",
      "execution_count": null,
      "outputs": []
    },
    {
      "cell_type": "code",
      "source": [
        "# apply conditional formating for Exp\n",
        "worksheet.conditional_format(cellrange, # the range where to apply\n",
        "                             {'type':   'formula', # apply to a cell that have formula\n",
        "                              # between formula\n",
        "                              'criteria': between,\n",
        "                             'format':   yellow_format}) # apply the respective format\n",
        "\n",
        "worksheet.conditional_format(cellrange,\n",
        "                             {'type':   'formula',\n",
        "                              # greater formula\n",
        "                              'criteria': greater,\n",
        "                              'format':   green_format})\n",
        "\n",
        "worksheet.conditional_format(cellrange,\n",
        "                             {'type':   'formula',\n",
        "                              # lower formula\n",
        "                              'criteria': lower,\n",
        "                              'format':   red_format})"
      ],
      "metadata": {
        "id": "VDuCgIQquzp-"
      },
      "id": "VDuCgIQquzp-",
      "execution_count": null,
      "outputs": []
    },
    {
      "cell_type": "code",
      "source": [
        "# conditional formating Exp\n",
        "\n",
        "img = mpimg.imread('images_format/img_5.PNG')\n",
        "plt.imshow(img)\n",
        "plt.rcParams['figure.figsize'] = [12, 10]\n",
        "plt.axis('off')\n",
        "plt.show()"
      ],
      "metadata": {
        "id": "zeS_aBkgvPt6"
      },
      "id": "zeS_aBkgvPt6",
      "execution_count": null,
      "outputs": []
    },
    {
      "cell_type": "code",
      "source": [
        "'''\n",
        "writer.save()\n",
        "workbook.close()\n",
        "\n",
        "# download file from Drive to your local machine\n",
        "files.download(\"Formating_Budget.xlsx\")\n",
        "\n",
        "'''"
      ],
      "metadata": {
        "id": "D1hCVH7fvVqU"
      },
      "id": "D1hCVH7fvVqU",
      "execution_count": null,
      "outputs": []
    },
    {
      "cell_type": "markdown",
      "source": [
        "### M2M evol % format "
      ],
      "metadata": {
        "id": "qJauaPM2v7dh"
      },
      "id": "qJauaPM2v7dh"
    },
    {
      "cell_type": "code",
      "source": [
        "# define pct formating formatting\n",
        "pct_format = workbook.add_format({'num_format': '0.00%', #the format of the %\n",
        "                                  'font_size': 12, \n",
        "                                  'italic': True,\n",
        "                                  'align': 'center', # horizontal align\n",
        "                                  'valign': 'vcenter' }) # vertical align\n",
        "\n",
        "# add new format to our formats dictionary\n",
        "formats['pct_format'] = 'percentage'\n",
        "formats"
      ],
      "metadata": {
        "id": "xKr4UFuxvcTO"
      },
      "id": "xKr4UFuxvcTO",
      "execution_count": null,
      "outputs": []
    },
    {
      "cell_type": "code",
      "source": [
        "# identify the row with M2M evol using the function FindPositionsInDataframe\n",
        "\n",
        "loc = FindPositionsInDataframe(overview_df, 'M2M ev')\n",
        "print('the row nb of M2M evol is: ', loc[0][0]+2)\n",
        "\n",
        "# add to location dictionary\n",
        "\n",
        "locations['M2M evol row'] = loc[0][0]+2\n",
        "locations"
      ],
      "metadata": {
        "id": "w1kUT3Ulv9mB"
      },
      "id": "w1kUT3Ulv9mB",
      "execution_count": null,
      "outputs": []
    },
    {
      "cell_type": "code",
      "source": [
        "# apply the percentage format to row with set_row(row, height, format) \n",
        "# documentation : https://cxn03651.github.io/write_xlsx/worksheet.html#set_row\n",
        "\n",
        "# apply the format on the whole row with .set_row() function\n",
        "worksheet.set_row(loc[0][0] + 1 , # row numer in excel\n",
        "                  None, # None do not change the row height\n",
        "                  pct_format) # the format to apply"
      ],
      "metadata": {
        "id": "H1jhKU1v3dLw"
      },
      "id": "H1jhKU1v3dLw",
      "execution_count": null,
      "outputs": []
    },
    {
      "cell_type": "code",
      "source": [
        "# conditional formating Exp\n",
        "\n",
        "img = mpimg.imread('images_format/img_6.PNG')\n",
        "plt.imshow(img)\n",
        "plt.rcParams['figure.figsize'] = [12, 10]\n",
        "plt.axis('off')\n",
        "plt.show()"
      ],
      "metadata": {
        "id": "SqoHlzN04CZP"
      },
      "id": "SqoHlzN04CZP",
      "execution_count": null,
      "outputs": []
    },
    {
      "cell_type": "code",
      "source": [
        "'''\n",
        "writer.save()\n",
        "workbook.close()\n",
        "\n",
        "# download file from Drive to your local machine\n",
        "files.download(\"Formating_Budget.xlsx\")\n",
        "'''\n"
      ],
      "metadata": {
        "id": "RsfzWG7kv9tD"
      },
      "id": "RsfzWG7kv9tD",
      "execution_count": null,
      "outputs": []
    },
    {
      "cell_type": "markdown",
      "source": [
        "### Format numbers: separate thousands"
      ],
      "metadata": {
        "id": "5nWirWbz7-u6"
      },
      "id": "5nWirWbz7-u6"
    },
    {
      "cell_type": "code",
      "source": [
        "overview_df.head(7)"
      ],
      "metadata": {
        "id": "uflNUAEM7yxW"
      },
      "id": "uflNUAEM7yxW",
      "execution_count": null,
      "outputs": []
    },
    {
      "cell_type": "code",
      "source": [
        "# Set a number format for all columns between B:S\n",
        "format4 = workbook.add_format({'num_format': '#,##0', # number format: no decimal, thousands separted by ,\n",
        "                                   'font_size': 10})\n",
        "\n",
        "# set the column width with set_column = 14, and apply the numeric format to thses columns\n",
        "worksheet.set_column('B:O', 14, format4)\n",
        "\n",
        "# add the format to our formats dictionary\n",
        "\n",
        "formats['format4'] = 'numeric format for col B:O'\n",
        "formats"
      ],
      "metadata": {
        "id": "n1tyUvvq5W8c"
      },
      "id": "n1tyUvvq5W8c",
      "execution_count": null,
      "outputs": []
    },
    {
      "cell_type": "code",
      "source": [
        "# find the row where business_df starts\n",
        "business_row = FindPositionsInDataframe(overview_df, 'B2B')[0][0] + 1\n",
        "business_row"
      ],
      "metadata": {
        "id": "UYi2EVlk8X0e"
      },
      "id": "UYi2EVlk8X0e",
      "execution_count": null,
      "outputs": []
    },
    {
      "cell_type": "code",
      "source": [
        "# compute the range of the whole dataframe \n",
        "business_col = overview_df.shape[1]\n",
        "business_row_last = business_df.shape[0]\n",
        "\n",
        "# the df range in excel \n",
        "business_range = xl_range(business_row, # starting row\n",
        "                    1, # starting column\n",
        "                    business_row_last + 2, \n",
        "                    business_col - 1)                 \n",
        "business_range"
      ],
      "metadata": {
        "id": "TPxYAQQG5ZBh"
      },
      "id": "TPxYAQQG5ZBh",
      "execution_count": null,
      "outputs": []
    },
    {
      "cell_type": "code",
      "source": [
        "# business_df = business_df.set_index('Business')\n",
        "business_df"
      ],
      "metadata": {
        "id": "k_87imjJAWVp"
      },
      "id": "k_87imjJAWVp",
      "execution_count": null,
      "outputs": []
    },
    {
      "cell_type": "code",
      "source": [
        "# apply the format with conditional formating if no blanks\n",
        "worksheet.conditional_format(business_range, {'type': 'no_blanks',\n",
        "                                     'format': format4})"
      ],
      "metadata": {
        "id": "LIkz8PCL_N-J"
      },
      "id": "LIkz8PCL_N-J",
      "execution_count": null,
      "outputs": []
    },
    {
      "cell_type": "code",
      "source": [
        "'''\n",
        "writer.save()\n",
        "workbook.close()\n",
        "\n",
        "# download file from Drive to your local machine\n",
        "files.download(\"Formating_Budget.xlsx\")\n",
        "\n",
        "'''"
      ],
      "metadata": {
        "id": "k7E_gCWS5ZKX"
      },
      "id": "k7E_gCWS5ZKX",
      "execution_count": null,
      "outputs": []
    },
    {
      "cell_type": "markdown",
      "source": [
        "### Borders "
      ],
      "metadata": {
        "id": "EA9ua9_HCBos"
      },
      "id": "EA9ua9_HCBos"
    },
    {
      "cell_type": "markdown",
      "source": [
        "#### Example of Borders "
      ],
      "metadata": {
        "id": "dZhhe8pKCP2T"
      },
      "id": "dZhhe8pKCP2T"
    },
    {
      "cell_type": "code",
      "source": [
        "# Example of Borders formating:\n",
        "\n",
        "# for the example create a workbook wb\n",
        "wb = xlsxwriter.Workbook('Borders.xlsx') \n",
        "# add a worksheet ws\n",
        "ws = wb.add_worksheet()\n",
        "\n",
        "# create dummy data for the example\n",
        "data = [['Anil', 45, 55, 50], ['Ravi', 60, 70, 80], ['Rajish', None, None, 35],\n",
        "        ['Kiran', None, None, 59], ['Karishma', 55, 65, 45]]\n",
        "       \n",
        "# write the data in worksheet (dataframe from row=2, and col=2)\n",
        "for row in range(len(data)): # in the loop, first value assigned to row is 0, the last will be 3\n",
        "      ws.write_row(row + 1,  # we add +1 because we want to write data starting the 2nd row\n",
        "                   1, # starting column where we write data\n",
        "                   data[row]) # item from data : ['Anil', 45, 55, 50], ['Ravi', 60, 70, 80]..\n",
        "\n",
        "# close the workbook\n",
        "wb.close()\n",
        "\n",
        "# download file from Drive to your local machine\n",
        "# files.download(\"Borders.xlsx\")"
      ],
      "metadata": {
        "id": "wDwy6EdTBnX9"
      },
      "id": "wDwy6EdTBnX9",
      "execution_count": null,
      "outputs": []
    },
    {
      "cell_type": "markdown",
      "source": [
        "To add borders to a cellrange already containing values we have to use conditional formatting"
      ],
      "metadata": {
        "id": "JgVLYSsECykb"
      },
      "id": "JgVLYSsECykb"
    },
    {
      "cell_type": "markdown",
      "source": [
        "To add borders is like adding a  <i>format</i>   with main parameters:\n",
        "<ol>\n",
        "    <li>top</li>\n",
        "    <li>bottom</li>\n",
        "    <li>right</li>\n",
        "    <li>left</li>\n",
        "     ....\n",
        "    <li> border_colors</li>\n",
        "</ol>"
      ],
      "metadata": {
        "id": "8tmVSuXnCyyA"
      },
      "id": "8tmVSuXnCyyA"
    },
    {
      "cell_type": "markdown",
      "source": [
        "BORDERS WITH NO BLANKS"
      ],
      "metadata": {
        "id": "QjMsKY-BCy_C"
      },
      "id": "QjMsKY-BCy_C"
    },
    {
      "cell_type": "code",
      "source": [
        "# for the example create a workbook wb\n",
        "wb = xlsxwriter.Workbook('Borders.xlsx') \n",
        "# add a worksheet ws\n",
        "ws = wb.add_worksheet()\n",
        "\n",
        "# write the data in worksheet (dataframe from row=2, and col=2)\n",
        "for row in range(len(data)):\n",
        "      ws.write_row(row + 1,1, data[row])\n",
        "        \n",
        "ws.conditional_format('B2:E6', # the range where to apply borders\n",
        "                              {'type': 'no_blanks', # apply borders for cells that are type no_blanks\n",
        "                               'format': wb.add_format({'top': 1, #  apply top border with width 1\n",
        "                                                        'bottom':1, #  apply bottom border with width 1\n",
        "                                                         'right': 2, #  apply right border with width 2\n",
        "                                                         'left' : 2, #  apply left border with width 2\n",
        "                                                         'border_color': 'red'}) # border color red\n",
        "                               })\n",
        "\n",
        "# close the workbook\n",
        "wb.close()\n",
        "\n",
        "# download file from Drive to your local machine\n",
        "# files.download(\"Borders.xlsx\")"
      ],
      "metadata": {
        "id": "ty5EKXMcDHG6"
      },
      "id": "ty5EKXMcDHG6",
      "execution_count": null,
      "outputs": []
    },
    {
      "cell_type": "markdown",
      "source": [
        "BORDERS WITH BLANKS"
      ],
      "metadata": {
        "id": "mRxZMfDPCzLV"
      },
      "id": "mRxZMfDPCzLV"
    },
    {
      "cell_type": "code",
      "source": [
        "# for the example create a workbook wb\n",
        "wb = xlsxwriter.Workbook('Borders.xlsx') \n",
        "# add a worksheet ws\n",
        "ws = wb.add_worksheet()\n",
        "\n",
        "# write the data in worksheet (dataframe from row=2, and col=2)\n",
        "for row in range(len(data)):\n",
        "      ws.write_row(row + 1,1, data[row])\n",
        "        \n",
        "                        \n",
        "ws.conditional_format('A1:E6', # the range where to apply borders, # enlarge the cellrange\n",
        "                              {'type': 'blanks', # apply borders for cells of type \"blanks\"\n",
        "                               'format': wb.add_format({'top':1, # apply top border with width 1\n",
        "                                                        'bottom':1,\n",
        "                                                        'right': 1,\n",
        "                                                         'left' : 1,\n",
        "                                                         'border_color': 'blue'})\n",
        "                               })\n",
        "\n",
        "# close the workbook\n",
        "wb.close()\n",
        "# files.download(\"Borders.xlsx\")"
      ],
      "metadata": {
        "id": "XIpiBnW6Dbpb"
      },
      "id": "XIpiBnW6Dbpb",
      "execution_count": null,
      "outputs": []
    },
    {
      "cell_type": "markdown",
      "source": [
        "TOP Border"
      ],
      "metadata": {
        "id": "MSRdKKgeDsSX"
      },
      "id": "MSRdKKgeDsSX"
    },
    {
      "cell_type": "code",
      "source": [
        "# top border\n",
        "\n",
        "# for the example create a workbook wb\n",
        "wb = xlsxwriter.Workbook('Borders.xlsx') \n",
        "# add a worksheet ws\n",
        "ws = wb.add_worksheet()\n",
        "\n",
        "# write the data in worksheet (dataframe from row=2, and col=2)\n",
        "for row in range(len(data)):\n",
        "      ws.write_row(row + 1,1, data[row])\n",
        "\n",
        "ws.conditional_format('B2:E2',\n",
        "                              {'type': 'formula', 'criteria': 'True',\n",
        "                               'format': wb.add_format({'top': 2, \n",
        "                                                       'border_color': 'red'})\n",
        "                               })\n",
        "\n",
        "# close the workbook\n",
        "wb.close()\n",
        "# files.download(\"Borders.xlsx\")"
      ],
      "metadata": {
        "id": "_K48bM2SCckq"
      },
      "id": "_K48bM2SCckq",
      "execution_count": null,
      "outputs": []
    },
    {
      "cell_type": "markdown",
      "source": [
        "BOTTOM Border"
      ],
      "metadata": {
        "id": "_VZDai4NFiBU"
      },
      "id": "_VZDai4NFiBU"
    },
    {
      "cell_type": "code",
      "source": [
        "# bottom border\n",
        "\n",
        "# for the example create a workbook wb\n",
        "wb = xlsxwriter.Workbook('Borders.xlsx') \n",
        "# add a worksheet ws\n",
        "ws = wb.add_worksheet()\n",
        "\n",
        "# write the data in worksheet (dataframe from row=2, and col=2)\n",
        "for row in range(len(data)):\n",
        "      ws.write_row(row + 1,1, data[row])\n",
        "\n",
        "ws.conditional_format('B6:E6',\n",
        "                              {'type': 'formula', 'criteria': 'True',\n",
        "                               'format': wb.add_format({'bottom': 2, \n",
        "                                                       'border_color': 'green'})\n",
        "                               })\n",
        "\n",
        "# close the workbook\n",
        "wb.close()\n",
        "# files.download(\"Borders.xlsx\")"
      ],
      "metadata": {
        "id": "0x5Bk84sFqpS"
      },
      "id": "0x5Bk84sFqpS",
      "execution_count": null,
      "outputs": []
    },
    {
      "cell_type": "markdown",
      "source": [
        "LEFT Bordert"
      ],
      "metadata": {
        "id": "3t4ekw2YFz1r"
      },
      "id": "3t4ekw2YFz1r"
    },
    {
      "cell_type": "code",
      "source": [
        "# for the example create a workbook wb\n",
        "wb = xlsxwriter.Workbook('Borders.xlsx') \n",
        "# add a worksheet ws\n",
        "ws = wb.add_worksheet()\n",
        "\n",
        "# write the data in worksheet (dataframe from row=2, and col=2)\n",
        "for row in range(len(data)):\n",
        "      ws.write_row(row + 1,1, data[row])\n",
        "\n",
        "ws.conditional_format('B2:B6',\n",
        "                              {'type': 'formula', 'criteria': 'True',\n",
        "                               'format': wb.add_format({'left': 2, \n",
        "                                                       'border_color': 'blue'})\n",
        "                               })\n",
        "\n",
        "# close the workbook\n",
        "wb.close()\n",
        "# files.download(\"Borders.xlsx\")"
      ],
      "metadata": {
        "id": "hLu-jh8wD2Zh"
      },
      "id": "hLu-jh8wD2Zh",
      "execution_count": null,
      "outputs": []
    },
    {
      "cell_type": "markdown",
      "source": [
        "RIGHT Border"
      ],
      "metadata": {
        "id": "Fj4MAjdJGEm-"
      },
      "id": "Fj4MAjdJGEm-"
    },
    {
      "cell_type": "code",
      "source": [
        "# for the example create a workbook wb\n",
        "wb = xlsxwriter.Workbook('Borders.xlsx') \n",
        "# add a worksheet ws\n",
        "ws = wb.add_worksheet()\n",
        "\n",
        "# write the data in worksheet (dataframe from row=2, and col=2)\n",
        "for row in range(len(data)):\n",
        "      ws.write_row(row + 1,1, data[row])\n",
        "\n",
        "ws.conditional_format('E2:E6',\n",
        "                              {'type': 'formula', 'criteria': 'True',\n",
        "                               'format': wb.add_format({'right': 2, \n",
        "                                                       'border_color': 'black'})\n",
        "                               })\n",
        "\n",
        "# close the workbook\n",
        "wb.close()\n",
        "# files.download(\"Borders.xlsx\")"
      ],
      "metadata": {
        "id": "Jj9GWcP-GCXw"
      },
      "id": "Jj9GWcP-GCXw",
      "execution_count": null,
      "outputs": []
    },
    {
      "cell_type": "markdown",
      "source": [
        "TOP + BOTTOM + LEFT + RIGHT"
      ],
      "metadata": {
        "id": "gb_0V__sHI3i"
      },
      "id": "gb_0V__sHI3i"
    },
    {
      "cell_type": "code",
      "source": [
        "# we want to superimpose a new format on another (add a newformat on the top of other)\n",
        "# top + bottom border\n",
        "\n",
        "# for the example create a workbook wb\n",
        "wb = xlsxwriter.Workbook('Borders.xlsx') \n",
        "# add a worksheet ws\n",
        "ws = wb.add_worksheet()\n",
        "\n",
        "# write the data in worksheet (dataframe from row=2, and col=2)\n",
        "for row in range(len(data)):\n",
        "      ws.write_row(row + 1,1, data[row])\n",
        "\n",
        "\n",
        "# top\n",
        "ws.conditional_format('B2:E2',\n",
        "                              {'type': 'formula', 'criteria': 'True',\n",
        "                               'format': wb.add_format({'top': 1, \n",
        "                                                       'border_color': 'red'})\n",
        "                               })\n",
        "\n",
        "# bottom\n",
        "\n",
        "ws.conditional_format('B6:E6',\n",
        "                              {'type': 'formula', 'criteria': 'True',\n",
        "                               'format': wb.add_format({'bottom': 1, \n",
        "                                                       'border_color': 'green'})\n",
        "                               })\n",
        "\n",
        "\n",
        "# right\n",
        "\n",
        "ws.conditional_format('E2:E6',\n",
        "                              {'type': 'formula', 'criteria': 'True',\n",
        "                               'format': wb.add_format({'right': 1, \n",
        "                                                       'border_color': 'black'})\n",
        "                               })\n",
        "\n",
        "\n",
        "# left\n",
        "\n",
        "ws.conditional_format('B2:B6',\n",
        "                              {'type': 'formula', 'criteria': 'True',\n",
        "                               'format': wb.add_format({'left': 1, \n",
        "                                                       'border_color': 'blue'})\n",
        "                               })\n",
        "\n",
        "\n",
        "# close the workbook\n",
        "wb.close()\n",
        "\n",
        "# files.download(\"Borders.xlsx\")\n",
        "\n",
        "# !!!! you CAN NOT ADD a NEW FORMAT ON AN EXISTING FORMAT !!!! It will ignore the corners"
      ],
      "metadata": {
        "id": "M3gJLryTG9t2"
      },
      "id": "M3gJLryTG9t2",
      "execution_count": null,
      "outputs": []
    },
    {
      "cell_type": "markdown",
      "source": [
        "Function to drow a frame border"
      ],
      "metadata": {
        "id": "IWf_e7p8H3gq"
      },
      "id": "IWf_e7p8H3gq"
    },
    {
      "cell_type": "code",
      "source": [
        "# Function to drow a frame border\n",
        "\n",
        "# draw a frame around an existing range of values \n",
        "\n",
        "# !!! this function is 0 indexed !!! (meaning the 1st row and column have index 0\n",
        "\n",
        "def draw_frame_border(workbook, worksheet, first_row, first_col, rows_count, cols_count):\n",
        "\n",
        "    # top left corner\n",
        "    worksheet.conditional_format(first_row, first_col,\n",
        "                                 first_row, first_col,\n",
        "                                 {'type': 'formula', 'criteria': 'True',\n",
        "                                  'format': workbook.add_format({'top': 1, 'left': 1})})\n",
        "    # top right corner\n",
        "    worksheet.conditional_format(first_row, first_col + cols_count - 1,\n",
        "                                 first_row, first_col + cols_count - 1,\n",
        "                                 {'type': 'formula', 'criteria': 'True',\n",
        "                                  'format': workbook.add_format({'top': 1, 'right': 1})})\n",
        "    # bottom left corner\n",
        "    worksheet.conditional_format(first_row + rows_count - 1, first_col,\n",
        "                                 first_row + rows_count - 1, first_col,\n",
        "                                 {'type': 'formula', 'criteria': 'True',\n",
        "                                  'format': workbook.add_format({'bottom': 1, 'left': 1})})\n",
        "    # bottom right corner\n",
        "    worksheet.conditional_format(first_row + rows_count - 1, first_col + cols_count - 1,\n",
        "                                 first_row + rows_count - 1, first_col + cols_count - 1,\n",
        "                                 {'type': 'formula', 'criteria': 'True',\n",
        "                                  'format': workbook.add_format({'bottom': 1, 'right': 1})})\n",
        "\n",
        "    # top\n",
        "    worksheet.conditional_format(first_row, first_col + 1,\n",
        "                                 first_row, first_col + cols_count - 2,\n",
        "                                 {'type': 'formula', 'criteria': 'True', 'format': workbook.add_format({'top': 1})})\n",
        "    \n",
        "    # left\n",
        "    worksheet.conditional_format(first_row + 1,              first_col,\n",
        "                                 first_row + rows_count - 2, first_col,\n",
        "                                 {'type': 'formula', 'criteria': 'True', 'format': workbook.add_format({'left': 1})})\n",
        "    # bottom\n",
        "    worksheet.conditional_format(first_row + rows_count - 1, first_col + 1,\n",
        "                                 first_row + rows_count - 1, first_col + cols_count - 2,\n",
        "                                 {'type': 'formula', 'criteria': 'True', 'format': workbook.add_format({'bottom': 1})})\n",
        "    # right\n",
        "    worksheet.conditional_format(first_row + 1,              first_col + cols_count - 1,\n",
        "                                 first_row + rows_count - 2, first_col + cols_count - 1,\n",
        "                                 {'type': 'formula', 'criteria': 'True', 'format': workbook.add_format({'right': 1})})"
      ],
      "metadata": {
        "id": "uaVbByDIHisb"
      },
      "id": "uaVbByDIHisb",
      "execution_count": null,
      "outputs": []
    },
    {
      "cell_type": "code",
      "source": [
        "# for the example create a workbook wb\n",
        "wb = xlsxwriter.Workbook('Borders.xlsx') \n",
        "# add a worksheet ws\n",
        "ws = wb.add_worksheet()\n",
        "\n",
        "# write the data in worksheet (dataframe from row=2, and col=2)\n",
        "for row in range(len(data)):\n",
        "      ws.write_row(row + 1,1, data[row])\n",
        "\n",
        "# B2:E5 cellrange\n",
        "draw_frame_border(workbook= wb,\n",
        "             worksheet= ws, \n",
        "             first_row = 1, # starting row (beacause is indexed 0, it will mean 2nd row)\n",
        "             first_col = 1, # starting column (beacause is indexed 0, it will mean 2nd column)\n",
        "             rows_count = 5 , # nb of rows to add, or last row (rows indexed from 0)\n",
        "             cols_count = 4) # nb of columns to add, or last column (tcolumns indexed from 0)\n",
        "\n",
        "# check that the range location is that we expect\n",
        "print(xl_range(1,1, 5,4))\n",
        "\n",
        "# close the workbook\n",
        "wb.close()\n",
        "\n",
        "# files.download(\"Borders.xlsx\")"
      ],
      "metadata": {
        "id": "7RdSJY45In0Z"
      },
      "id": "7RdSJY45In0Z",
      "execution_count": null,
      "outputs": []
    },
    {
      "cell_type": "markdown",
      "source": [
        "#### Frame border OVERVIEW_df"
      ],
      "metadata": {
        "id": "LDtfUBrtJIaM"
      },
      "id": "LDtfUBrtJIaM"
    },
    {
      "cell_type": "code",
      "source": [
        "locations['overview_range'] = overview_range\n",
        "locations"
      ],
      "metadata": {
        "id": "zZ_F5X_yJahY"
      },
      "id": "zZ_F5X_yJahY",
      "execution_count": null,
      "outputs": []
    },
    {
      "cell_type": "markdown",
      "source": [
        "Utility functions helpful for cell, range location\n",
        "<ol>\n",
        "    <li>xl_rowcol_to_cell(1, 2) ===> C2, converts a zero indexed to an C2 style string: </li>\n",
        "    <li> xl_cell_to_rowcol('A1') ===> (0, 0), from Excel ref. converts to row nb and col nb</li>\n",
        "    <li> xl_col_to_name(0) ===> A, converts number to column letter </li> \n",
        "    <li> xl_range(0, 0, 9, 0) ===> A1:A10, convert from sarting row, col to ending row, col to Excel reference\n",
        "    <li>get_column_letter </li> \n",
        "     <li>column_index_from_string</li> \n",
        "\n",
        "</ol>"
      ],
      "metadata": {
        "id": "CZOzHHfYJ3Ze"
      },
      "id": "CZOzHHfYJ3Ze"
    },
    {
      "cell_type": "markdown",
      "source": [
        "INCOME"
      ],
      "metadata": {
        "id": "oiJa0NsaNNpT"
      },
      "id": "oiJa0NsaNNpT"
    },
    {
      "cell_type": "code",
      "source": [
        "#### Compute the range for the frame border for INCOME\n",
        "\n",
        "# ROWS\n",
        "\n",
        "# 1st row\n",
        "first_row = FindPositionsInDataframe(overview_df, 'INCOME')[0][0]\n",
        "print(first_row)\n",
        "\n",
        "# rows count\n",
        "rows_count  = max_row- first_row + 1\n",
        "print(rows_count)\n",
        "\n",
        "# COLUMNS\n",
        "\n",
        "# for column indices we're going to use inc_exp_list\n",
        "print(inc_exp_list)\n",
        "\n",
        "# columns\n",
        "\n",
        "search_idx = [] # create an empty list where to store the indices\n",
        "# loop in the list inc_exp_list to identify cell containing the word INCOME\n",
        "for el in range(0, len(inc_exp_list)):\n",
        "    if inc_exp_list[el] == 'INCOME':  # if cell = INCOME\n",
        "        search_idx.append(el) # apend the index in the indices list \n",
        "print(search_idx)\n",
        "print('index where INCOME occures for the 1st time: ', search_idx[0])\n",
        "print('index where INCOME occures for the last time: ', search_idx[-1])\n",
        "\n",
        "first_col = search_idx[0]\n",
        "cols_count = search_idx[-1] - first_col + 1\n",
        "\n",
        "#rows\n",
        "print('start row', first_row)\n",
        "print('rows to add', rows_count)\n",
        "\n",
        "# columns\n",
        "print('first col', first_col) #1st col\n",
        "print('cols to add', cols_count) # last col\n",
        "\n",
        "# check if he have the right coordinates\n",
        "\n",
        "xl_range(first_row, # start row\n",
        "         first_col, # start col\n",
        "         rows_count, # rows count\n",
        "         cols_count) # cols c\n"
      ],
      "metadata": {
        "id": "YJ1a1zQsI4Zw"
      },
      "id": "YJ1a1zQsI4Zw",
      "execution_count": null,
      "outputs": []
    },
    {
      "cell_type": "code",
      "source": [
        "# Income Borders\n",
        "\n",
        "draw_frame_border(workbook= workbook,\n",
        "                  worksheet= worksheet, \n",
        "                  first_row = first_row, \n",
        "                  first_col = first_col,\n",
        "                  rows_count = rows_count, \n",
        "                  cols_count = cols_count) "
      ],
      "metadata": {
        "id": "closW5O5JHaO"
      },
      "id": "closW5O5JHaO",
      "execution_count": null,
      "outputs": []
    },
    {
      "cell_type": "code",
      "source": [
        "# Frame Border Income\n",
        "\n",
        "img = mpimg.imread('images_format/img_10.PNG')\n",
        "plt.imshow(img)\n",
        "plt.rcParams['figure.figsize'] = [12, 10]\n",
        "plt.axis('off')\n",
        "plt.show()"
      ],
      "metadata": {
        "id": "sriSVMPtMgeM"
      },
      "id": "sriSVMPtMgeM",
      "execution_count": null,
      "outputs": []
    },
    {
      "cell_type": "code",
      "source": [
        "'''\n",
        "writer.save()\n",
        "workbook.close()\n",
        "\n",
        "# download file from Drive to your local machine\n",
        "files.download(\"Formating_Budget.xlsx\")\n",
        "\n",
        "'''\n"
      ],
      "metadata": {
        "id": "RCM6nRhgMWj0"
      },
      "id": "RCM6nRhgMWj0",
      "execution_count": null,
      "outputs": []
    },
    {
      "cell_type": "code",
      "source": [],
      "metadata": {
        "id": "LLt7rfsPNTKJ"
      },
      "id": "LLt7rfsPNTKJ",
      "execution_count": null,
      "outputs": []
    },
    {
      "cell_type": "markdown",
      "source": [
        "EXPENDITURE"
      ],
      "metadata": {
        "id": "ZTJHtjecNTdL"
      },
      "id": "ZTJHtjecNTdL"
    },
    {
      "cell_type": "code",
      "source": [
        "#### Compute the range for the frame border for INCOME\n",
        "\n",
        "# ROWS\n",
        "\n",
        "# 1st row\n",
        "first_row = FindPositionsInDataframe(overview_df, 'Expenditure')[0][0]\n",
        "print(first_row)\n",
        "\n",
        "# rows count\n",
        "rows_count  = max_row- first_row + 1\n",
        "print(rows_count)\n",
        "\n",
        "# COLUMNS\n",
        "\n",
        "# for column indices we're going to use inc_exp_list\n",
        "print(inc_exp_list)\n",
        "\n",
        "# columns\n",
        "\n",
        "search_idx = [] # create an empty list where to store the indices\n",
        "# loop in the list inc_exp_list to identify cell containing the word Exp\n",
        "for el in range(0, len(inc_exp_list)):\n",
        "    if inc_exp_list[el] == 'Expenditure':  # if cell = Exp\n",
        "        search_idx.append(el) # apend the index in the indices list \n",
        "print(search_idx)\n",
        "print('index where INCOME occures for the 1st time: ', search_idx[0])\n",
        "print('index where INCOME occures for the last time: ', search_idx[-1])\n",
        "\n",
        "first_col = search_idx[0]\n",
        "cols_count = search_idx[-1] - first_col + 1\n",
        "\n",
        "#rows\n",
        "print('start row', first_row)\n",
        "print('rows to add', rows_count)\n",
        "\n",
        "# columns\n",
        "print('first col', first_col) #1st col\n",
        "print('cols to add', cols_count) # last col\n",
        "\n",
        "# check if he have the right coordinates\n",
        "\n",
        "xl_range(first_row, # start row\n",
        "         first_col, # start col\n",
        "         rows_count, # rows count\n",
        "         cols_count) # cols c\n"
      ],
      "metadata": {
        "id": "QMATdPd7NTdL"
      },
      "execution_count": null,
      "outputs": [],
      "id": "QMATdPd7NTdL"
    },
    {
      "cell_type": "code",
      "source": [
        "# EXP Borders\n",
        "\n",
        "draw_frame_border(workbook= workbook,\n",
        "                  worksheet= worksheet, \n",
        "                  first_row = first_row, \n",
        "                  first_col = first_col,\n",
        "                  rows_count = rows_count, \n",
        "                  cols_count = cols_count) "
      ],
      "metadata": {
        "id": "WMicFWN2NTdM"
      },
      "execution_count": null,
      "outputs": [],
      "id": "WMicFWN2NTdM"
    },
    {
      "cell_type": "code",
      "source": [
        "# Frame Border Income\n",
        "\n",
        "img = mpimg.imread('images_format/img_11.PNG')\n",
        "plt.imshow(img)\n",
        "plt.rcParams['figure.figsize'] = [12, 10]\n",
        "plt.axis('off')\n",
        "plt.show()"
      ],
      "metadata": {
        "id": "A5Aez1WdNTdM"
      },
      "execution_count": null,
      "outputs": [],
      "id": "A5Aez1WdNTdM"
    },
    {
      "cell_type": "code",
      "source": [
        "'''\n",
        "writer.save()\n",
        "workbook.close()\n",
        "\n",
        "# download file from Drive to your local machine\n",
        "files.download(\"Formating_Budget.xlsx\")\n",
        "\n",
        "'''\n"
      ],
      "metadata": {
        "id": "4f1NTXkrNTdN"
      },
      "execution_count": null,
      "outputs": [],
      "id": "4f1NTXkrNTdN"
    },
    {
      "cell_type": "markdown",
      "source": [
        "### ROW Labels"
      ],
      "metadata": {
        "id": "hSF2wGfpOQei"
      },
      "id": "hSF2wGfpOQei"
    },
    {
      "cell_type": "code",
      "source": [
        "# column with indices as Month, Monthly Total Ev. M2M, ...\n",
        "\n",
        "# nd_col_range == > 'A3:A10'\n",
        "ind_col_range = xl_range(row_index  , # start row\n",
        "                         0, # start com\n",
        "                         max_row, # end row\n",
        "                         0) # end col\n",
        "ind_col_range"
      ],
      "metadata": {
        "id": "uDk3DIodOUaE"
      },
      "id": "uDk3DIodOUaE",
      "execution_count": null,
      "outputs": []
    },
    {
      "cell_type": "code",
      "source": [
        "# format for indices\n",
        "format5 = workbook.add_format({'bg_color': 'white', # background color\n",
        "                               'font_color': 'blue', \n",
        "                                'bold': True\n",
        "                              }) #font col"
      ],
      "metadata": {
        "id": "SqG382ZqOksd"
      },
      "id": "SqG382ZqOksd",
      "execution_count": null,
      "outputs": []
    },
    {
      "cell_type": "code",
      "source": [
        "# Write the column headers with the defined format.\n",
        "for row, value in enumerate(overview_df.iloc[:,0]):\n",
        "    worksheet.write(row + 1, # on what row\n",
        "                    0, # which column\n",
        "                    value, # value to write\n",
        "                    format5) # format to apply\n"
      ],
      "metadata": {
        "id": "7jNcwvXTOvSV"
      },
      "id": "7jNcwvXTOvSV",
      "execution_count": null,
      "outputs": []
    },
    {
      "cell_type": "code",
      "source": [
        "for row, value in enumerate(overview_df.iloc[:,0]):\n",
        "  print(row+ 1, value)\n",
        "\n"
      ],
      "metadata": {
        "id": "GvbjHYJFPzQX"
      },
      "id": "GvbjHYJFPzQX",
      "execution_count": null,
      "outputs": []
    },
    {
      "cell_type": "code",
      "source": [
        "# apply the form to cellrange (here is the column with range 'A4:A10')\n",
        "worksheet.set_column('A:A', # row to apply\n",
        "                     18, # column width\n",
        "                     None) # the format we want to apply"
      ],
      "metadata": {
        "id": "oqShvlUdO29p"
      },
      "id": "oqShvlUdO29p",
      "execution_count": null,
      "outputs": []
    },
    {
      "cell_type": "code",
      "source": [
        "# Rows labels\n",
        "\n",
        "img = mpimg.imread('images_format/img_11.PNG')\n",
        "plt.imshow(img)\n",
        "plt.rcParams['figure.figsize'] = [12, 10]\n",
        "plt.axis('off')\n",
        "plt.show()"
      ],
      "metadata": {
        "id": "_Y2PJn5lPU1Z"
      },
      "id": "_Y2PJn5lPU1Z",
      "execution_count": null,
      "outputs": []
    },
    {
      "cell_type": "code",
      "source": [
        "'''\n",
        "writer.save()\n",
        "workbook.close()\n",
        "\n",
        "# download file from Drive to your local machine\n",
        "files.download(\"Formating_Budget.xlsx\")\n",
        "\n",
        "'''\n"
      ],
      "metadata": {
        "id": "E3HzBn_OPNcm"
      },
      "id": "E3HzBn_OPNcm",
      "execution_count": null,
      "outputs": []
    },
    {
      "cell_type": "markdown",
      "source": [
        "## 8.3&nbsp;RAW DF processed "
      ],
      "metadata": {
        "id": "B0zkwVcPRXrP"
      },
      "id": "B0zkwVcPRXrP"
    },
    {
      "cell_type": "code",
      "source": [
        "# Put all sheet into a df\n",
        "\n",
        "df.head(15)"
      ],
      "metadata": {
        "id": "4Wf5EXRERikb"
      },
      "id": "4Wf5EXRERikb",
      "execution_count": null,
      "outputs": []
    },
    {
      "cell_type": "markdown",
      "source": [
        "### Add raw_df to excel"
      ],
      "metadata": {
        "id": "7JdFOlQRTQoE"
      },
      "id": "7JdFOlQRTQoE"
    },
    {
      "cell_type": "code",
      "source": [
        "# find location of cell containing Month string\n",
        "\n",
        "print('location of reasearch word in df is...')\n",
        "FindPositionsInDataframe(df, 'Business')"
      ],
      "metadata": {
        "id": "gFJVr3GhScKK"
      },
      "id": "gFJVr3GhScKK",
      "execution_count": null,
      "outputs": []
    },
    {
      "cell_type": "code",
      "source": [
        "raw_ind = FindPositionsInDataframe(df, 'Business')[0][0] \n",
        "# add raw_ind to locations dictionary\n",
        "\n",
        "locations['starting row for raw_df'] = raw_ind\n",
        "locations"
      ],
      "metadata": {
        "id": "sSnUd8gPSpdk"
      },
      "id": "sSnUd8gPSpdk",
      "execution_count": null,
      "outputs": []
    },
    {
      "cell_type": "code",
      "source": [
        "# create new df only with raw data ==> raw_df\n",
        "\n",
        "# from initial, big df (with all data), select only data containing raw data\n",
        "# raw data start at row 12 (variable raw_ind)\n",
        "raw_df = df.iloc[raw_ind:,:] # slice df with .iloc from 12th row\n",
        "print(raw_df.shape)\n",
        "raw_df.head() "
      ],
      "metadata": {
        "id": "qOTTser9Tx7s"
      },
      "id": "qOTTser9Tx7s",
      "execution_count": null,
      "outputs": []
    },
    {
      "cell_type": "code",
      "source": [
        "# Convert the dataframe to an XlsxWriter Excel object.\n",
        "raw_df.to_excel(writer, # excel object\n",
        "                     sheet_name= 'Formated' , # the name of the sheet where to copy the df\n",
        "                     header=False,# no headers\n",
        "                     index=False, # we don't want to have row indices in excel\n",
        "                     index_label = False, # we don't want to have column indices in excel\n",
        "                     startrow=raw_ind, # at what row to start copying (it will be at row 12)\n",
        "                     startcol=0) # at what columns to start copying"
      ],
      "metadata": {
        "id": "kP9SHSF4S88Y"
      },
      "id": "kP9SHSF4S88Y",
      "execution_count": null,
      "outputs": []
    },
    {
      "cell_type": "code",
      "source": [
        "'''\n",
        "writer.save()\n",
        "workbook.close()\n",
        "\n",
        "# download file from Drive to your local machine\n",
        "files.download(\"Formating_Budget.xlsx\")\n",
        "\n",
        "'''"
      ],
      "metadata": {
        "id": "5SziTI_WTnRe"
      },
      "id": "5SziTI_WTnRe",
      "execution_count": null,
      "outputs": []
    },
    {
      "cell_type": "markdown",
      "source": [
        "### Format Total Income"
      ],
      "metadata": {
        "id": "Aje_qtt2U0DP"
      },
      "id": "Aje_qtt2U0DP"
    },
    {
      "cell_type": "code",
      "source": [
        "# define the format\n",
        "\n",
        "# format for indices\n",
        "format6 = workbook.add_format({'bg_color': '#AFFF80', # background color\n",
        "                               'font_color': 'black', \n",
        "                               'font_size' : 10,\n",
        "                                'bold': True,\n",
        "                               'align': 'center',\n",
        "                               'valign': 'vcenter',\n",
        "                               'text_wrap': True # Text wrap option\n",
        "                              }) \n",
        "\n",
        "formats['format6'] = 'format for Total Income col'"
      ],
      "metadata": {
        "id": "8xtLFgCwVAg_"
      },
      "id": "8xtLFgCwVAg_",
      "execution_count": null,
      "outputs": []
    },
    {
      "cell_type": "code",
      "source": [
        "# locate column for Total Income\n",
        "print(FindPositionsInDataframe(raw_df, 'Total Income'))\n",
        "\n",
        "# save the data of Total Income column\n",
        "inc_total_col  = FindPositionsInDataframe(raw_df, 'Total Income')[0][1]\n",
        "print(inc_total_col)\n",
        "\n",
        "# check that the col is rightly located\n",
        "raw_df.iloc[:, inc_total_col]"
      ],
      "metadata": {
        "id": "53vd4g3sVBQJ"
      },
      "id": "53vd4g3sVBQJ",
      "execution_count": null,
      "outputs": []
    },
    {
      "cell_type": "code",
      "source": [
        "# re-write the column for total Incom and apply in the same time the defined format6.\n",
        "\n",
        "for row, value in enumerate(raw_df.iloc[:,inc_total_col]):\n",
        "    worksheet.write(row + raw_ind, # on what row\n",
        "                    inc_total_col, # which column\n",
        "                    value, # value to write\n",
        "                    format6) # format to apply"
      ],
      "metadata": {
        "id": "gZ1qyxgiVWUd"
      },
      "id": "gZ1qyxgiVWUd",
      "execution_count": null,
      "outputs": []
    },
    {
      "cell_type": "code",
      "source": [
        "'''\n",
        "writer.save()\n",
        "workbook.close()\n",
        "\n",
        "# download file from Drive to your local machine\n",
        "files.download(\"Formating_Budget.xlsx\")\n",
        "\n",
        "'''\n"
      ],
      "metadata": {
        "id": "GfsqGFGgVXdJ"
      },
      "id": "GfsqGFGgVXdJ",
      "execution_count": null,
      "outputs": []
    },
    {
      "cell_type": "markdown",
      "source": [
        "### Format Total Expenditure"
      ],
      "metadata": {
        "id": "7rqxCqDjU3Fh"
      },
      "id": "7rqxCqDjU3Fh"
    },
    {
      "cell_type": "code",
      "source": [
        "# define the format\n",
        "\n",
        "# format for indices\n",
        "format7 = workbook.add_format({'bg_color': '#FF7377', # background color\n",
        "                               'font_color': 'black', \n",
        "                               'font_size' : 10,\n",
        "                                'bold': True,\n",
        "                               'align': 'center',\n",
        "                               'valign': 'vcenter',\n",
        "                               'text_wrap': True # Text wrap option\n",
        "                              }) \n",
        "\n",
        "formats['format7'] = 'format for Total Expenditure col'"
      ],
      "metadata": {
        "id": "DLF9updUV2Pq"
      },
      "id": "DLF9updUV2Pq",
      "execution_count": null,
      "outputs": []
    },
    {
      "cell_type": "code",
      "source": [
        "# locate column for Total Income\n",
        "print(FindPositionsInDataframe(raw_df, 'Total Expenditure'))\n",
        "exp_total_col  = FindPositionsInDataframe(raw_df, 'Total Expenditure')[0][1]\n",
        "print(exp_total_col)\n",
        "\n",
        "# check that the col is rightly located\n",
        "raw_df.iloc[:, exp_total_col]"
      ],
      "metadata": {
        "id": "n3oEZCZGV2a6"
      },
      "id": "n3oEZCZGV2a6",
      "execution_count": null,
      "outputs": []
    },
    {
      "cell_type": "code",
      "source": [
        "# Write the column for total Incom with the defined format.\n",
        "\n",
        "for row, value in enumerate(raw_df.iloc[:,exp_total_col]):\n",
        "    worksheet.write(row + raw_ind, # on what row\n",
        "                    exp_total_col, # which column\n",
        "                    value, # value to write\n",
        "                    format7) # format to apply\n"
      ],
      "metadata": {
        "id": "4rx2fJ0pV3BD"
      },
      "id": "4rx2fJ0pV3BD",
      "execution_count": null,
      "outputs": []
    },
    {
      "cell_type": "code",
      "source": [
        "'''\n",
        "writer.save()\n",
        "workbook.close()\n",
        "\n",
        "# download file from Drive to your local machine\n",
        "files.download(\"Formating_Budget.xlsx\")\n",
        "\n",
        "'''"
      ],
      "metadata": {
        "id": "nFcN5phEWEeY"
      },
      "id": "nFcN5phEWEeY",
      "execution_count": null,
      "outputs": []
    },
    {
      "cell_type": "markdown",
      "source": [
        "### Format Net"
      ],
      "metadata": {
        "id": "mw2G0pGuU8yX"
      },
      "id": "mw2G0pGuU8yX"
    },
    {
      "cell_type": "code",
      "source": [
        "# locate column for Total Income\n",
        "print(FindPositionsInDataframe(raw_df, 'Net'))\n",
        "net_col  = FindPositionsInDataframe(raw_df, 'Net')[0][1]\n",
        "print(net_col)\n",
        "\n",
        "# check that the col is rightly located\n",
        "raw_df.iloc[:, net_col]"
      ],
      "metadata": {
        "id": "Ne41tbyfWItn"
      },
      "id": "Ne41tbyfWItn",
      "execution_count": null,
      "outputs": []
    },
    {
      "cell_type": "code",
      "source": [
        "# conditional formating criteria (if less then 0)\n",
        "\n",
        "excel_col_letter = get_column_letter(net_col+1)\n",
        "print(excel_col_letter)\n",
        "\n",
        "criteria = '=' + excel_col_letter + str(raw_ind+1) + ' < 0'\n",
        "print(criteria)"
      ],
      "metadata": {
        "id": "5HcWLV9LWI9b"
      },
      "id": "5HcWLV9LWI9b",
      "execution_count": null,
      "outputs": []
    },
    {
      "cell_type": "code",
      "source": [
        "overview_df"
      ],
      "metadata": {
        "id": "mJfnnUdCX2ry"
      },
      "id": "mJfnnUdCX2ry",
      "execution_count": null,
      "outputs": []
    },
    {
      "cell_type": "code",
      "source": [
        "# net range\n",
        "print(raw_ind)\n",
        "print(raw_df.shape[0] + raw_ind)\n",
        "net_range = excel_col_letter + str(raw_ind+1) + ':' + excel_col_letter + str(raw_df.shape[0] + raw_ind)\n",
        "\n",
        "net_range"
      ],
      "metadata": {
        "id": "NualUqo0XVky"
      },
      "id": "NualUqo0XVky",
      "execution_count": null,
      "outputs": []
    },
    {
      "cell_type": "code",
      "source": [
        "# define formats\n",
        "\n",
        "# format for indices\n",
        "negative_format = workbook.add_format({'bg_color': '#ee9a9c', # background color\n",
        "                               'font_color': 'black', \n",
        "                               'font_size' : 10,\n",
        "                                'bold': True\n",
        "                              }) #font color"
      ],
      "metadata": {
        "id": "YQIhFgs3T-Se"
      },
      "id": "YQIhFgs3T-Se",
      "execution_count": null,
      "outputs": []
    },
    {
      "cell_type": "code",
      "source": [
        "# apply the formatting for identified range \n",
        "\n",
        "worksheet.conditional_format(net_range, ## R12:R1949\n",
        "                             {'type':   'formula',\n",
        "                              'criteria': criteria,\n",
        "                              'format':   negative_format})\n"
      ],
      "metadata": {
        "id": "VFdZGqcrW4FA"
      },
      "id": "VFdZGqcrW4FA",
      "execution_count": null,
      "outputs": []
    },
    {
      "cell_type": "code",
      "source": [
        "'''\n",
        "writer.save()\n",
        "workbook.close()\n",
        "\n",
        "# download file from Drive to your local machine\n",
        "files.download(\"Formating_Budget.xlsx\")\n",
        "\n",
        "'''\n"
      ],
      "metadata": {
        "id": "v5rV8bf0Ydis"
      },
      "id": "v5rV8bf0Ydis",
      "execution_count": null,
      "outputs": []
    },
    {
      "cell_type": "markdown",
      "source": [
        "### Filters on headers"
      ],
      "metadata": {
        "id": "O36Ya9sdgfm5"
      },
      "id": "O36Ya9sdgfm5"
    },
    {
      "cell_type": "markdown",
      "source": [
        "Apply Filter and format headers for raw_df, we want to have a dropdown row at headers level"
      ],
      "metadata": {
        "id": "bUtpZnWSgyKZ"
      },
      "id": "bUtpZnWSgyKZ"
    },
    {
      "cell_type": "code",
      "source": [
        "# set the row height for headers\n",
        "worksheet.set_row(raw_ind, 20) # raw_ind 11"
      ],
      "metadata": {
        "id": "grDiAymrgmo3"
      },
      "id": "grDiAymrgmo3",
      "execution_count": null,
      "outputs": []
    },
    {
      "cell_type": "code",
      "source": [
        "# define the format\n",
        "dropdown_ft = workbook.add_format({\n",
        "                     'italic': True,\n",
        "                     'bg_color': 'gray',\n",
        "                     'font_size': 10,    \n",
        "                     'font_color':'white',\n",
        "                     'align': 'center',\n",
        "                     'valign': 'vcenter',\n",
        "                     'text_wrap': True, # Text wrap option\n",
        "                     'font_name':'Calibri Light'\n",
        "})\n",
        "\n",
        "# add format to formats\n",
        "\n",
        "formats['dropdown'] = 'headers of row_df with dropdown'"
      ],
      "metadata": {
        "id": "lkb1F5oqgm20"
      },
      "id": "lkb1F5oqgm20",
      "execution_count": null,
      "outputs": []
    },
    {
      "cell_type": "code",
      "source": [
        "# copy the values of the 1st row of raw_df\n",
        "dropdown = raw_df.iloc[0,:]\n",
        "dropdown"
      ],
      "metadata": {
        "id": "Q58HAU_vhNCM"
      },
      "id": "Q58HAU_vhNCM",
      "execution_count": null,
      "outputs": []
    },
    {
      "cell_type": "code",
      "source": [
        "# rewrite the values of dropdown in excel, and in same time apply the defined formats\n",
        "\n",
        "for col_num, data in enumerate(dropdown):\n",
        "    worksheet.write(raw_ind, col_num, data, dropdown_ft)"
      ],
      "metadata": {
        "id": "DPZhLiNOhO3T"
      },
      "id": "DPZhLiNOhO3T",
      "execution_count": null,
      "outputs": []
    },
    {
      "cell_type": "code",
      "source": [
        "# Apply the autofilter (dopdrown) based on the dimensions of the dataframe.\n",
        "worksheet.autofilter(raw_ind,\n",
        "                     0, \n",
        "                     raw_ind + raw_df.shape[0], \n",
        "                     raw_df.shape[1]-1)"
      ],
      "metadata": {
        "id": "qNLDeH68hlRE"
      },
      "id": "qNLDeH68hlRE",
      "execution_count": null,
      "outputs": []
    },
    {
      "cell_type": "code",
      "source": [
        "'''\n",
        "writer.save()\n",
        "workbook.close()\n",
        "\n",
        "# download file from Drive to your local machine\n",
        "files.download(\"Formating_Budget.xlsx\")\n",
        "\n",
        "'''"
      ],
      "metadata": {
        "id": "Fr5QHlMXgnFi"
      },
      "id": "Fr5QHlMXgnFi",
      "execution_count": null,
      "outputs": []
    },
    {
      "cell_type": "markdown",
      "source": [
        "# Part 4: Charts "
      ],
      "metadata": {
        "id": "RBNQUng7dV1V"
      },
      "id": "RBNQUng7dV1V"
    },
    {
      "cell_type": "markdown",
      "source": [
        "# 9&nbsp;Charts "
      ],
      "metadata": {
        "id": "mqEIL8Y0dhiU"
      },
      "id": "mqEIL8Y0dhiU"
    },
    {
      "cell_type": "code",
      "source": [
        "# we want to insert the chart 2 columns further the last col of overview_df\n",
        "\n",
        "max_row, max_col = overview_df.shape\n",
        "print(max_row)\n",
        "get_column_letter(max_col + 2)"
      ],
      "metadata": {
        "id": "RmFf-PleuKda"
      },
      "id": "RmFf-PleuKda",
      "execution_count": null,
      "outputs": []
    },
    {
      "cell_type": "code",
      "source": [
        "# cell where o insert the chart\n",
        "\n",
        "cell_insertion = str(get_column_letter(max_col + 2)) + str(1)\n",
        "cell_insertion"
      ],
      "metadata": {
        "id": "jv-DXKAxn2xQ"
      },
      "id": "jv-DXKAxn2xQ",
      "execution_count": null,
      "outputs": []
    },
    {
      "cell_type": "markdown",
      "source": [
        "## Bar Chart"
      ],
      "metadata": {
        "id": "4YGICpXGeW-g"
      },
      "id": "4YGICpXGeW-g"
    },
    {
      "cell_type": "code",
      "source": [
        "overview_df.head()"
      ],
      "metadata": {
        "id": "QGmorVEOzbaC"
      },
      "id": "QGmorVEOzbaC",
      "execution_count": null,
      "outputs": []
    },
    {
      "cell_type": "markdown",
      "source": [
        "Utility functions helpful for cell, range location\n",
        "<ol>\n",
        "    <li>xl_rowcol_to_cell(1, 2) ===> C2, converts a zero indexed to an C2 style string: </li>\n",
        "    <li> xl_cell_to_rowcol('A1') ===> (0, 0), from Excel ref. converts to row nb and col nb</li>\n",
        "    <li> xl_col_to_name(0) ===> A, converts number to column letter </li> \n",
        "    <li> xl_range(0, 0, 9, 0) ===> A1:A10, convert from sarting row, col to ending row, col to Excel reference\n",
        "    <li>get_column_letter </li> \n",
        "     <li>column_index_from_string</li> \n",
        "\n",
        "</ol>"
      ],
      "metadata": {
        "id": "kZhBEduq1PGq"
      },
      "id": "kZhBEduq1PGq"
    },
    {
      "cell_type": "code",
      "source": [
        "# looking to find cel ref for Total Income ==> H5\n",
        "print('coordinateds for total Income ', FindPositionsInDataframe(overview_df, 'Total'))\n",
        "\n",
        "total_inc_row= FindPositionsInDataframe(overview_df, 'Total')[0][0] + 2\n",
        "total_inc_col= FindPositionsInDataframe(overview_df, 'Total')[0][1] \n",
        "\n",
        "print('row idx for Total Income', total_inc_row)\n",
        "print('col idx for Total Income', total_inc_col)\n",
        "print('cel ref Total Income', xl_rowcol_to_cell(total_inc_row, total_inc_col))"
      ],
      "metadata": {
        "id": "b05QwDvnzCh2"
      },
      "id": "b05QwDvnzCh2",
      "execution_count": null,
      "outputs": []
    },
    {
      "cell_type": "code",
      "source": [
        "values_total_income= xl_rowcol_to_cell(total_inc_row, total_inc_col)\n",
        "print(values_total_income)\n",
        "\n",
        "# cel ref with sheet name\n",
        "values_total_income_ref =  \"Formated!${a}${b}\".format(a= values_total_income[0], b= values_total_income[1])\n",
        "values_total_income_ref"
      ],
      "metadata": {
        "id": "jcPuHzaQy2Ot"
      },
      "id": "jcPuHzaQy2Ot",
      "execution_count": null,
      "outputs": []
    },
    {
      "cell_type": "code",
      "source": [
        "get_column_letter(overview_df.shape[1])"
      ],
      "metadata": {
        "id": "a7YeOOxO62Tz"
      },
      "id": "a7YeOOxO62Tz",
      "execution_count": null,
      "outputs": []
    },
    {
      "cell_type": "code",
      "source": [
        "# looking to find cel ref for Total Exp ==> O5\n",
        "print('coordinateds for total Income ', FindPositionsInDataframe(overview_df, 'Total'))\n",
        "\n",
        "total_exp_row= FindPositionsInDataframe(overview_df, 'Total')[0][0] + 2\n",
        "total_exp_col= overview_df.shape[1] -1\n",
        "\n",
        "print('row idx for Total Exp', total_exp_row)\n",
        "print('col idx for Total Exp', total_exp_col)\n",
        "print('cel ref Total Exp', xl_rowcol_to_cell(total_exp_row, total_exp_col))\n",
        "\n",
        "\n",
        "values_total_exp= xl_rowcol_to_cell(total_exp_row, total_exp_col)\n",
        "print(values_total_exp)\n",
        "\n",
        "# cel ref with sheet name\n",
        "values_total_exp_ref =  \"Formated!${a}${b}\".format(a= values_total_exp[0], b= values_total_exp[1])\n",
        "values_total_exp_ref"
      ],
      "metadata": {
        "id": "jafou0rF4pKj"
      },
      "id": "jafou0rF4pKj",
      "execution_count": null,
      "outputs": []
    },
    {
      "cell_type": "code",
      "source": [
        "# bar chart \n",
        "chart_1 = workbook.add_chart({'type': 'column'})\n",
        "\n",
        "# series for Income\n",
        "chart_1.add_series({\n",
        "   'name': '=Formated!$B$3',\n",
        "   'categories': 'Formated!$A$5',\n",
        "   'values': values_total_income_ref,\n",
        "   'data_labels': {'value':True},\n",
        "})\n",
        "# series for Exp\n",
        "chart_1.add_series({\n",
        "   'name': '=Formated!$I$3',\n",
        "   'categories': '=Formated!$A$6',\n",
        "   'values': values_total_exp_ref,\n",
        "   'data_labels': {'value':True},\n",
        "})\n",
        "\n",
        "\n",
        "worksheet.insert_chart(cell_insertion, # cell where to insert Q1\n",
        "                       chart_1, \n",
        "                       chart_1.set_size({'width': 400, 'height': 220}))\n",
        "\n",
        "# The default chart width x height is 480 x 288 pixels\n",
        "# Same as:\n",
        "#chart.set_size({'x_scale': 1, 'y_scale': 1})\n",
        "\n",
        "chart_1.set_y_axis({'visible': False, \n",
        "                    'major_gridlines': {'visible': False}\n",
        "                   })\n",
        "\n",
        "# Add a chart title and some axis labels.\n",
        "chart_1.set_title ({'name': 'Inc & Exp'})\n",
        "\n",
        "# Turn off the X axis line.\n",
        "chart_1.set_x_axis({'line': {'none': True}})\n",
        "\n",
        "# legend position\n",
        "chart_1.set_legend({'position': 'right'})\n",
        "\n",
        "\n",
        "# Set an Excel chart style.\n",
        "chart_1.set_style(10) # An index representing the chart style.(from 1 to 48 styles)"
      ],
      "metadata": {
        "id": "IP2BBH2RdZpI"
      },
      "id": "IP2BBH2RdZpI",
      "execution_count": null,
      "outputs": []
    },
    {
      "cell_type": "code",
      "source": [
        "\n",
        "writer.save()\n",
        "workbook.close()\n",
        "\n",
        "# download file from Drive to your local machine\n",
        "files.download(\"Formating_Budget.xlsx\")\n"
      ],
      "metadata": {
        "id": "Jiyq0djtvv-h"
      },
      "id": "Jiyq0djtvv-h",
      "execution_count": null,
      "outputs": []
    },
    {
      "cell_type": "code",
      "source": [
        "stop"
      ],
      "metadata": {
        "id": "5AOD1gWmCwLY"
      },
      "id": "5AOD1gWmCwLY",
      "execution_count": null,
      "outputs": []
    },
    {
      "cell_type": "markdown",
      "source": [
        "## Pie Chart"
      ],
      "metadata": {
        "id": "OeG_YM4deaKB"
      },
      "id": "OeG_YM4deaKB"
    },
    {
      "cell_type": "markdown",
      "source": [
        "### Income pie chart by depart"
      ],
      "metadata": {
        "id": "AQ78UJlO84VD"
      },
      "id": "AQ78UJlO84VD"
    },
    {
      "cell_type": "code",
      "source": [
        "# cell where o insert grapg\n",
        "\n",
        "cell_insertion = str(get_column_letter(max_col + 9)) + str(1)\n",
        "cell_insertion"
      ],
      "metadata": {
        "id": "duw-uCUqejGD"
      },
      "id": "duw-uCUqejGD",
      "execution_count": null,
      "outputs": []
    },
    {
      "cell_type": "code",
      "source": [
        "# looking to find cel ref for Total Income ==> H5\n",
        "print('coordinateds for total Income ', FindPositionsInDataframe(overview_df, 'Total'))\n",
        "\n",
        "total_inc_row= FindPositionsInDataframe(overview_df, 'Total')[0][0] + 2\n",
        "total_inc_col= FindPositionsInDataframe(overview_df, 'Total')[0][1] \n",
        "\n",
        "print('row idx for Total Income', total_inc_row)\n",
        "print('col idx for Total Income', total_inc_col)\n",
        "print('cel ref Total Income', xl_rowcol_to_cell(total_inc_row, total_inc_col))"
      ],
      "metadata": {
        "id": "_Pth01xpA7hH"
      },
      "id": "_Pth01xpA7hH",
      "execution_count": null,
      "outputs": []
    },
    {
      "cell_type": "code",
      "source": [
        "# Create a new chart object.\n",
        "#\n",
        "chart_2 = workbook.add_chart({'type': 'pie'})\n",
        "\n",
        "# Configure the series. Note the use of the list syntax to define ranges:\n",
        "chart_2.add_series({'name': '=Formated!$B$3',\n",
        "                   'categories': 'Formated!$A$7:$A$10',\n",
        "                   'values': '=Formated!$O$7:$O$10',\n",
        "                   'data_labels': {'value':True}\n",
        "                   \n",
        "                    })\n",
        "\n",
        "chart_2.set_y_axis({'visible': False, \n",
        "                    'major_gridlines': {'visible': False}\n",
        "                   })\n",
        "\n",
        "# Add a chart title and some axis labels.\n",
        "chart_2.set_title ({'name': 'Income by Business'})\n",
        "\n",
        "# Turn off the X axis line.\n",
        "chart_2.set_x_axis({'line': {'none': True}})\n",
        "\n",
        "# legend position\n",
        "chart_2.set_legend({'position': 'bottom'})\n",
        "\n",
        "# Set an Excel chart style. Colors with white outline and shadow.\n",
        "chart_2.set_style(11)\n",
        "\n",
        "# Insert the chart into the worksheet (with an offset).\n",
        "worksheet.insert_chart(cell_insertion, chart_2, chart_2.set_size({'width': 380, 'height': 290}))"
      ],
      "metadata": {
        "id": "M5YEQ-fU9ZGC"
      },
      "id": "M5YEQ-fU9ZGC",
      "execution_count": null,
      "outputs": []
    },
    {
      "cell_type": "markdown",
      "source": [
        "## Line Chart"
      ],
      "metadata": {
        "id": "jm-Dmm6_ej4m"
      },
      "id": "jm-Dmm6_ej4m"
    },
    {
      "cell_type": "code",
      "source": [],
      "metadata": {
        "id": "3kJB2qYielOa"
      },
      "id": "3kJB2qYielOa",
      "execution_count": null,
      "outputs": []
    },
    {
      "cell_type": "code",
      "source": [],
      "metadata": {
        "id": "lQXhuGqjxWF5"
      },
      "id": "lQXhuGqjxWF5",
      "execution_count": null,
      "outputs": []
    },
    {
      "cell_type": "code",
      "source": [
        "\n",
        "# if you we want to name the sheet with the date of the processed\n",
        "# get reports report date\n",
        "from datetime import datetime\n",
        "\n",
        "# compute todays date\n",
        "report_DT = datetime.today().strftime('%d-%b-%y')\n",
        "print(report_DT)\n",
        "\n",
        "# rename worksheet\n",
        "\n",
        "worksheet.name = report_DT"
      ],
      "metadata": {
        "id": "zU0Tw5jkxWWU"
      },
      "id": "zU0Tw5jkxWWU",
      "execution_count": null,
      "outputs": []
    }
  ],
  "metadata": {
    "kernelspec": {
      "display_name": "Python 3 (ipykernel)",
      "language": "python",
      "name": "python3"
    },
    "language_info": {
      "codemirror_mode": {
        "name": "ipython",
        "version": 3
      },
      "file_extension": ".py",
      "mimetype": "text/x-python",
      "name": "python",
      "nbconvert_exporter": "python",
      "pygments_lexer": "ipython3",
      "version": "3.9.7"
    },
    "toc-autonumbering": true,
    "colab": {
      "provenance": [],
      "toc_visible": true,
      "include_colab_link": true
    }
  },
  "nbformat": 4,
  "nbformat_minor": 5
}