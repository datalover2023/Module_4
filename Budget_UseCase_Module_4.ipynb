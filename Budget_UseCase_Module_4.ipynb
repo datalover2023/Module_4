{
  "cells": [
    {
      "cell_type": "markdown",
      "metadata": {
        "id": "view-in-github",
        "colab_type": "text"
      },
      "source": [
        "<a href=\"https://colab.research.google.com/github/datalover2023/Module_4/blob/main/Budget_UseCase_Module_4.ipynb\" target=\"_parent\"><img src=\"https://colab.research.google.com/assets/colab-badge.svg\" alt=\"Open In Colab\"/></a>"
      ]
    },
    {
      "cell_type": "raw",
      "id": "c6838cb6",
      "metadata": {
        "id": "c6838cb6"
      },
      "source": [
        "Libraries"
      ]
    },
    {
      "cell_type": "code",
      "execution_count": 1,
      "id": "75ed5e8b",
      "metadata": {
        "id": "75ed5e8b",
        "colab": {
          "base_uri": "https://localhost:8080/"
        },
        "outputId": "c7d18b57-07f7-47c3-c498-a3fae7f6dde3"
      },
      "outputs": [
        {
          "output_type": "stream",
          "name": "stdout",
          "text": [
            "Looking in indexes: https://pypi.org/simple, https://us-python.pkg.dev/colab-wheels/public/simple/\n",
            "Collecting xlsxwriter\n",
            "  Downloading XlsxWriter-3.0.8-py3-none-any.whl (152 kB)\n",
            "\u001b[2K     \u001b[90m━━━━━━━━━━━━━━━━━━━━━━━━━━━━━━━━━━━━━━━\u001b[0m \u001b[32m152.8/152.8 KB\u001b[0m \u001b[31m2.7 MB/s\u001b[0m eta \u001b[36m0:00:00\u001b[0m\n",
            "\u001b[?25hInstalling collected packages: xlsxwriter\n",
            "Successfully installed xlsxwriter-3.0.8\n"
          ]
        }
      ],
      "source": [
        "import pandas as pd\n",
        "import numpy as np\n",
        "\n",
        "import os\n",
        "import glob\n",
        "import shutil\n",
        "import sys\n",
        "from pathlib import Path\n",
        "\n",
        "import matplotlib.pyplot as plt\n",
        "import matplotlib.image as mpimg\n",
        "\n",
        "from openpyxl import load_workbook # necesserry library\n",
        "\n",
        "# utility functions for cells locations\n",
        "!pip install xlsxwriter  # uncomment if necessary\n",
        "import xlsxwriter\n",
        "from xlsxwriter.utility import xl_rowcol_to_cell\n",
        "from xlsxwriter.utility import xl_col_to_name\n",
        "from xlsxwriter.utility import xl_range, xl_range_abs\n",
        "from openpyxl.utils import get_column_letter, column_index_from_string\n"
      ]
    },
    {
      "cell_type": "code",
      "execution_count": 2,
      "id": "bb9706df",
      "metadata": {
        "id": "bb9706df"
      },
      "outputs": [],
      "source": [
        "# set visible all columns\n",
        "pd.set_option('display.max_columns', None)"
      ]
    },
    {
      "cell_type": "markdown",
      "source": [
        "# 1.&nbsp;Settings"
      ],
      "metadata": {
        "id": "wEeggyEvpjcu"
      },
      "id": "wEeggyEvpjcu"
    },
    {
      "cell_type": "markdown",
      "source": [
        "## Drive and cwd"
      ],
      "metadata": {
        "id": "P2N66YgSpeRi"
      },
      "id": "P2N66YgSpeRi"
    },
    {
      "cell_type": "code",
      "source": [
        "# Accessing Google Drive from Google Colab\n",
        "\n",
        "from google.colab import drive \n",
        "drive.mount('/content/gdrive')"
      ],
      "metadata": {
        "id": "C6pEMfEUpYgk",
        "colab": {
          "base_uri": "https://localhost:8080/"
        },
        "outputId": "518ae687-73da-4717-ec42-38a86701c698"
      },
      "id": "C6pEMfEUpYgk",
      "execution_count": 3,
      "outputs": [
        {
          "output_type": "stream",
          "name": "stdout",
          "text": [
            "Mounted at /content/gdrive\n"
          ]
        }
      ]
    },
    {
      "cell_type": "code",
      "execution_count": 4,
      "id": "a66cc482",
      "metadata": {
        "id": "a66cc482",
        "colab": {
          "base_uri": "https://localhost:8080/",
          "height": 36
        },
        "outputId": "b9b7f5f3-4fca-49b8-d2bc-a446d85bc915"
      },
      "outputs": [
        {
          "output_type": "execute_result",
          "data": {
            "text/plain": [
              "'/content'"
            ],
            "application/vnd.google.colaboratory.intrinsic+json": {
              "type": "string"
            }
          },
          "metadata": {},
          "execution_count": 4
        }
      ],
      "source": [
        "# assing current working directory (`cwd`)\n",
        "cwd = os.getcwd()\n",
        "cwd"
      ]
    },
    {
      "cell_type": "code",
      "execution_count": 5,
      "id": "fa051a39",
      "metadata": {
        "id": "fa051a39",
        "colab": {
          "base_uri": "https://localhost:8080/"
        },
        "outputId": "a2d397e4-7e39-415e-cfe9-d7d159205d9d"
      },
      "outputs": [
        {
          "output_type": "execute_result",
          "data": {
            "text/plain": [
              "['.config', 'gdrive', 'sample_data']"
            ]
          },
          "metadata": {},
          "execution_count": 5
        }
      ],
      "source": [
        "# containing of /content directory\n",
        "os.listdir()"
      ]
    },
    {
      "cell_type": "markdown",
      "source": [
        "## Import Files"
      ],
      "metadata": {
        "id": "So7LYJgEpw5U"
      },
      "id": "So7LYJgEpw5U"
    },
    {
      "cell_type": "code",
      "source": [
        "# import files into google Colab\n",
        "from google.colab import files"
      ],
      "metadata": {
        "id": "HbStdxO2ptoC"
      },
      "id": "HbStdxO2ptoC",
      "execution_count": 6,
      "outputs": []
    },
    {
      "cell_type": "code",
      "source": [
        "# upload from your local : images .png from your downloads\n",
        "uploaded = files.upload()"
      ],
      "metadata": {
        "id": "GeQfoaIWp1KM",
        "colab": {
          "base_uri": "https://localhost:8080/",
          "height": 420
        },
        "outputId": "83a41c41-1adc-4613-dcce-2f6357d36bbc"
      },
      "id": "GeQfoaIWp1KM",
      "execution_count": 7,
      "outputs": [
        {
          "output_type": "display_data",
          "data": {
            "text/plain": [
              "<IPython.core.display.HTML object>"
            ],
            "text/html": [
              "\n",
              "     <input type=\"file\" id=\"files-a76eb6c6-2b6b-4d84-9b43-e1ddee8308c1\" name=\"files[]\" multiple disabled\n",
              "        style=\"border:none\" />\n",
              "     <output id=\"result-a76eb6c6-2b6b-4d84-9b43-e1ddee8308c1\">\n",
              "      Upload widget is only available when the cell has been executed in the\n",
              "      current browser session. Please rerun this cell to enable.\n",
              "      </output>\n",
              "      <script>// Copyright 2017 Google LLC\n",
              "//\n",
              "// Licensed under the Apache License, Version 2.0 (the \"License\");\n",
              "// you may not use this file except in compliance with the License.\n",
              "// You may obtain a copy of the License at\n",
              "//\n",
              "//      http://www.apache.org/licenses/LICENSE-2.0\n",
              "//\n",
              "// Unless required by applicable law or agreed to in writing, software\n",
              "// distributed under the License is distributed on an \"AS IS\" BASIS,\n",
              "// WITHOUT WARRANTIES OR CONDITIONS OF ANY KIND, either express or implied.\n",
              "// See the License for the specific language governing permissions and\n",
              "// limitations under the License.\n",
              "\n",
              "/**\n",
              " * @fileoverview Helpers for google.colab Python module.\n",
              " */\n",
              "(function(scope) {\n",
              "function span(text, styleAttributes = {}) {\n",
              "  const element = document.createElement('span');\n",
              "  element.textContent = text;\n",
              "  for (const key of Object.keys(styleAttributes)) {\n",
              "    element.style[key] = styleAttributes[key];\n",
              "  }\n",
              "  return element;\n",
              "}\n",
              "\n",
              "// Max number of bytes which will be uploaded at a time.\n",
              "const MAX_PAYLOAD_SIZE = 100 * 1024;\n",
              "\n",
              "function _uploadFiles(inputId, outputId) {\n",
              "  const steps = uploadFilesStep(inputId, outputId);\n",
              "  const outputElement = document.getElementById(outputId);\n",
              "  // Cache steps on the outputElement to make it available for the next call\n",
              "  // to uploadFilesContinue from Python.\n",
              "  outputElement.steps = steps;\n",
              "\n",
              "  return _uploadFilesContinue(outputId);\n",
              "}\n",
              "\n",
              "// This is roughly an async generator (not supported in the browser yet),\n",
              "// where there are multiple asynchronous steps and the Python side is going\n",
              "// to poll for completion of each step.\n",
              "// This uses a Promise to block the python side on completion of each step,\n",
              "// then passes the result of the previous step as the input to the next step.\n",
              "function _uploadFilesContinue(outputId) {\n",
              "  const outputElement = document.getElementById(outputId);\n",
              "  const steps = outputElement.steps;\n",
              "\n",
              "  const next = steps.next(outputElement.lastPromiseValue);\n",
              "  return Promise.resolve(next.value.promise).then((value) => {\n",
              "    // Cache the last promise value to make it available to the next\n",
              "    // step of the generator.\n",
              "    outputElement.lastPromiseValue = value;\n",
              "    return next.value.response;\n",
              "  });\n",
              "}\n",
              "\n",
              "/**\n",
              " * Generator function which is called between each async step of the upload\n",
              " * process.\n",
              " * @param {string} inputId Element ID of the input file picker element.\n",
              " * @param {string} outputId Element ID of the output display.\n",
              " * @return {!Iterable<!Object>} Iterable of next steps.\n",
              " */\n",
              "function* uploadFilesStep(inputId, outputId) {\n",
              "  const inputElement = document.getElementById(inputId);\n",
              "  inputElement.disabled = false;\n",
              "\n",
              "  const outputElement = document.getElementById(outputId);\n",
              "  outputElement.innerHTML = '';\n",
              "\n",
              "  const pickedPromise = new Promise((resolve) => {\n",
              "    inputElement.addEventListener('change', (e) => {\n",
              "      resolve(e.target.files);\n",
              "    });\n",
              "  });\n",
              "\n",
              "  const cancel = document.createElement('button');\n",
              "  inputElement.parentElement.appendChild(cancel);\n",
              "  cancel.textContent = 'Cancel upload';\n",
              "  const cancelPromise = new Promise((resolve) => {\n",
              "    cancel.onclick = () => {\n",
              "      resolve(null);\n",
              "    };\n",
              "  });\n",
              "\n",
              "  // Wait for the user to pick the files.\n",
              "  const files = yield {\n",
              "    promise: Promise.race([pickedPromise, cancelPromise]),\n",
              "    response: {\n",
              "      action: 'starting',\n",
              "    }\n",
              "  };\n",
              "\n",
              "  cancel.remove();\n",
              "\n",
              "  // Disable the input element since further picks are not allowed.\n",
              "  inputElement.disabled = true;\n",
              "\n",
              "  if (!files) {\n",
              "    return {\n",
              "      response: {\n",
              "        action: 'complete',\n",
              "      }\n",
              "    };\n",
              "  }\n",
              "\n",
              "  for (const file of files) {\n",
              "    const li = document.createElement('li');\n",
              "    li.append(span(file.name, {fontWeight: 'bold'}));\n",
              "    li.append(span(\n",
              "        `(${file.type || 'n/a'}) - ${file.size} bytes, ` +\n",
              "        `last modified: ${\n",
              "            file.lastModifiedDate ? file.lastModifiedDate.toLocaleDateString() :\n",
              "                                    'n/a'} - `));\n",
              "    const percent = span('0% done');\n",
              "    li.appendChild(percent);\n",
              "\n",
              "    outputElement.appendChild(li);\n",
              "\n",
              "    const fileDataPromise = new Promise((resolve) => {\n",
              "      const reader = new FileReader();\n",
              "      reader.onload = (e) => {\n",
              "        resolve(e.target.result);\n",
              "      };\n",
              "      reader.readAsArrayBuffer(file);\n",
              "    });\n",
              "    // Wait for the data to be ready.\n",
              "    let fileData = yield {\n",
              "      promise: fileDataPromise,\n",
              "      response: {\n",
              "        action: 'continue',\n",
              "      }\n",
              "    };\n",
              "\n",
              "    // Use a chunked sending to avoid message size limits. See b/62115660.\n",
              "    let position = 0;\n",
              "    do {\n",
              "      const length = Math.min(fileData.byteLength - position, MAX_PAYLOAD_SIZE);\n",
              "      const chunk = new Uint8Array(fileData, position, length);\n",
              "      position += length;\n",
              "\n",
              "      const base64 = btoa(String.fromCharCode.apply(null, chunk));\n",
              "      yield {\n",
              "        response: {\n",
              "          action: 'append',\n",
              "          file: file.name,\n",
              "          data: base64,\n",
              "        },\n",
              "      };\n",
              "\n",
              "      let percentDone = fileData.byteLength === 0 ?\n",
              "          100 :\n",
              "          Math.round((position / fileData.byteLength) * 100);\n",
              "      percent.textContent = `${percentDone}% done`;\n",
              "\n",
              "    } while (position < fileData.byteLength);\n",
              "  }\n",
              "\n",
              "  // All done.\n",
              "  yield {\n",
              "    response: {\n",
              "      action: 'complete',\n",
              "    }\n",
              "  };\n",
              "}\n",
              "\n",
              "scope.google = scope.google || {};\n",
              "scope.google.colab = scope.google.colab || {};\n",
              "scope.google.colab._files = {\n",
              "  _uploadFiles,\n",
              "  _uploadFilesContinue,\n",
              "};\n",
              "})(self);\n",
              "</script> "
            ]
          },
          "metadata": {}
        },
        {
          "output_type": "stream",
          "name": "stdout",
          "text": [
            "Saving img_1.PNG to img_1.PNG\n",
            "Saving img_2.PNG to img_2.PNG\n",
            "Saving img_3.PNG to img_3.PNG\n",
            "Saving img_4.PNG to img_4.PNG\n",
            "Saving img_5.PNG to img_5.PNG\n",
            "Saving img_6.PNG to img_6.PNG\n",
            "Saving img_7.PNG to img_7.PNG\n",
            "Saving img_8.PNG to img_8.PNG\n",
            "Saving img_9.PNG to img_9.PNG\n",
            "Saving img_10.PNG to img_10.PNG\n",
            "Saving img_11.PNG to img_11.PNG\n"
          ]
        }
      ]
    },
    {
      "cell_type": "code",
      "source": [
        "# containing of /content directory, see if images were uploaded\n",
        "os.listdir()"
      ],
      "metadata": {
        "id": "xKavUInFp4y1",
        "colab": {
          "base_uri": "https://localhost:8080/"
        },
        "outputId": "7c876696-9098-4ae7-9609-cbe6407902c3"
      },
      "id": "xKavUInFp4y1",
      "execution_count": 8,
      "outputs": [
        {
          "output_type": "execute_result",
          "data": {
            "text/plain": [
              "['.config',\n",
              " 'gdrive',\n",
              " 'img_6.PNG',\n",
              " 'img_3.PNG',\n",
              " 'img_9.PNG',\n",
              " 'img_1.PNG',\n",
              " 'img_4.PNG',\n",
              " 'img_7.PNG',\n",
              " 'img_11.PNG',\n",
              " 'img_8.PNG',\n",
              " 'img_5.PNG',\n",
              " 'img_2.PNG',\n",
              " 'img_10.PNG',\n",
              " 'sample_data']"
            ]
          },
          "metadata": {},
          "execution_count": 8
        }
      ]
    },
    {
      "cell_type": "markdown",
      "source": [
        "## Module_4 folder"
      ],
      "metadata": {
        "id": "Yr6x9tRSp_xU"
      },
      "id": "Yr6x9tRSp_xU"
    },
    {
      "cell_type": "code",
      "source": [
        "# uncoment if you want to reinitilize Module_4\n",
        "\n",
        "# delete folder Model_3 with all containing\n",
        "# shutil.rmtree('/content/gdrive/MyDrive/Module_4')"
      ],
      "metadata": {
        "id": "pexycv2JqCAc"
      },
      "id": "pexycv2JqCAc",
      "execution_count": null,
      "outputs": []
    },
    {
      "cell_type": "code",
      "source": [
        "# create a floder Module_4 where you'll store files\n",
        "\n",
        "# create a new folder called \"Module_4\"\n",
        "\n",
        "# First: \n",
        "# write the path to the \"Module_4\" sub_directory\n",
        "folder = cwd + '/' + 'gdrive/MyDrive/Module_4/images' # == > /content/gdrive/MyDrive/Module_3/images\n",
        "print(folder)\n",
        "\n",
        "# Second:\n",
        "# create the folder at the indicated path\n",
        "os.makedirs(folder) # create an empty folder"
      ],
      "metadata": {
        "id": "jMiWI-gMqEdf",
        "colab": {
          "base_uri": "https://localhost:8080/"
        },
        "outputId": "29f23305-64f8-4dd4-917d-7f42a76df077"
      },
      "id": "jMiWI-gMqEdf",
      "execution_count": 9,
      "outputs": [
        {
          "output_type": "stream",
          "name": "stdout",
          "text": [
            "/content/gdrive/MyDrive/Module_4/images\n"
          ]
        }
      ]
    },
    {
      "cell_type": "code",
      "source": [
        "# check files in Module_4 directory\n",
        "os.listdir('/content/gdrive/MyDrive/Module_4')"
      ],
      "metadata": {
        "id": "XYKCVNowqEgZ",
        "colab": {
          "base_uri": "https://localhost:8080/"
        },
        "outputId": "c4f70861-94b7-4b33-d649-b9512eab4516"
      },
      "id": "XYKCVNowqEgZ",
      "execution_count": 10,
      "outputs": [
        {
          "output_type": "execute_result",
          "data": {
            "text/plain": [
              "['images']"
            ]
          },
          "metadata": {},
          "execution_count": 10
        }
      ]
    },
    {
      "cell_type": "code",
      "source": [
        "# containing of folder images\n",
        "os.listdir('/content/gdrive/MyDrive/Module_4/images')"
      ],
      "metadata": {
        "id": "fNzHU6p0qEj7",
        "colab": {
          "base_uri": "https://localhost:8080/"
        },
        "outputId": "7b639dc7-2414-4b30-9324-23492024455e"
      },
      "id": "fNzHU6p0qEj7",
      "execution_count": 11,
      "outputs": [
        {
          "output_type": "execute_result",
          "data": {
            "text/plain": [
              "[]"
            ]
          },
          "metadata": {},
          "execution_count": 11
        }
      ]
    },
    {
      "cell_type": "code",
      "source": [
        "# select all .png and move them to folder Module_3/Images\n",
        "\n",
        "# searchin for all files with extention .png\n",
        "# and store the into a list png_files\n",
        "\n",
        "png_files=[]\n",
        "for file in os.listdir():\n",
        "    if file.endswith('.PNG'): # or '.csv' if your'looinkg for csv files\n",
        "            png_files.append(file)\n",
        "            \n",
        "# it will print out excel names present in current directory folder = 'Basics_Python\"\n",
        "print( 'there are', len(png_files), \"png files \")\n",
        "print(png_files[:4])"
      ],
      "metadata": {
        "id": "FaBCTmGRqTtE",
        "colab": {
          "base_uri": "https://localhost:8080/"
        },
        "outputId": "04e37625-a4f3-4111-a06f-4aee55b012d6"
      },
      "id": "FaBCTmGRqTtE",
      "execution_count": 12,
      "outputs": [
        {
          "output_type": "stream",
          "name": "stdout",
          "text": [
            "there are 11 png files \n",
            "['img_6.PNG', 'img_3.PNG', 'img_9.PNG', 'img_1.PNG']\n"
          ]
        }
      ]
    },
    {
      "cell_type": "code",
      "source": [
        "# move all images into folder MOdule_4/Images\n",
        "\n",
        "folder = '/content/gdrive/MyDrive/Module_4/images'\n",
        "\n",
        "for image in png_files:\n",
        "  shutil.move(image, # file/folder to cut\n",
        "              folder) # folder where to move "
      ],
      "metadata": {
        "id": "6BvQiRFsqYuz"
      },
      "id": "6BvQiRFsqYuz",
      "execution_count": 13,
      "outputs": []
    },
    {
      "cell_type": "code",
      "source": [
        "# checl if images were moved from cwd\n",
        "os.listdir()"
      ],
      "metadata": {
        "id": "HNcrKwLrqYxp",
        "colab": {
          "base_uri": "https://localhost:8080/"
        },
        "outputId": "2f73c053-899d-48d2-a37e-4749d8229921"
      },
      "id": "HNcrKwLrqYxp",
      "execution_count": 14,
      "outputs": [
        {
          "output_type": "execute_result",
          "data": {
            "text/plain": [
              "['.config', 'gdrive', 'sample_data']"
            ]
          },
          "metadata": {},
          "execution_count": 14
        }
      ]
    },
    {
      "cell_type": "code",
      "source": [
        "# check files in Module_4\n",
        "os.listdir('gdrive/MyDrive/Module_4')"
      ],
      "metadata": {
        "id": "pc2DL7GkqY0k",
        "colab": {
          "base_uri": "https://localhost:8080/"
        },
        "outputId": "386417a8-af1c-4b27-c19a-4f2493075200"
      },
      "id": "pc2DL7GkqY0k",
      "execution_count": 15,
      "outputs": [
        {
          "output_type": "execute_result",
          "data": {
            "text/plain": [
              "['images']"
            ]
          },
          "metadata": {},
          "execution_count": 15
        }
      ]
    },
    {
      "cell_type": "code",
      "source": [
        "# check files present in Module_3/Images, all the images were transfered to Module_3/images\n",
        "os.listdir('/content/gdrive/MyDrive/Module_4/images')"
      ],
      "metadata": {
        "id": "-gfH2wp5q4Dl",
        "colab": {
          "base_uri": "https://localhost:8080/"
        },
        "outputId": "22403ac3-08aa-4afd-a051-1ddcec06fee4"
      },
      "id": "-gfH2wp5q4Dl",
      "execution_count": 16,
      "outputs": [
        {
          "output_type": "execute_result",
          "data": {
            "text/plain": [
              "['img_6.PNG',\n",
              " 'img_3.PNG',\n",
              " 'img_9.PNG',\n",
              " 'img_1.PNG',\n",
              " 'img_4.PNG',\n",
              " 'img_7.PNG',\n",
              " 'img_11.PNG',\n",
              " 'img_8.PNG',\n",
              " 'img_5.PNG',\n",
              " 'img_2.PNG',\n",
              " 'img_10.PNG']"
            ]
          },
          "metadata": {},
          "execution_count": 16
        }
      ]
    },
    {
      "cell_type": "code",
      "source": [
        "# change cwd to Module_4\n",
        "os.chdir('gdrive/MyDrive/Module_4')\n",
        "# check the new current working directory now\n",
        "cwd = os.getcwd()\n",
        "cwd # folder MOdule_3 will be from now on our cwd"
      ],
      "metadata": {
        "id": "VM_8_tN_q7Ub",
        "colab": {
          "base_uri": "https://localhost:8080/",
          "height": 36
        },
        "outputId": "4a159795-0e2c-4573-c549-25f2fc9e5c76"
      },
      "id": "VM_8_tN_q7Ub",
      "execution_count": 17,
      "outputs": [
        {
          "output_type": "execute_result",
          "data": {
            "text/plain": [
              "'/content/gdrive/MyDrive/Module_4'"
            ],
            "application/vnd.google.colaboratory.intrinsic+json": {
              "type": "string"
            }
          },
          "metadata": {},
          "execution_count": 17
        }
      ]
    },
    {
      "cell_type": "code",
      "source": [
        "# upload from your local : 'Budget_raw.xlsx'\n",
        "uploaded = files.upload()"
      ],
      "metadata": {
        "id": "Ehitv-IOrAfr",
        "colab": {
          "base_uri": "https://localhost:8080/",
          "height": 73
        },
        "outputId": "0e8607a7-567a-48f3-cba5-08e8c7dba627"
      },
      "id": "Ehitv-IOrAfr",
      "execution_count": 18,
      "outputs": [
        {
          "output_type": "display_data",
          "data": {
            "text/plain": [
              "<IPython.core.display.HTML object>"
            ],
            "text/html": [
              "\n",
              "     <input type=\"file\" id=\"files-2ee268ad-ebc0-44df-aecd-f892f0272a14\" name=\"files[]\" multiple disabled\n",
              "        style=\"border:none\" />\n",
              "     <output id=\"result-2ee268ad-ebc0-44df-aecd-f892f0272a14\">\n",
              "      Upload widget is only available when the cell has been executed in the\n",
              "      current browser session. Please rerun this cell to enable.\n",
              "      </output>\n",
              "      <script>// Copyright 2017 Google LLC\n",
              "//\n",
              "// Licensed under the Apache License, Version 2.0 (the \"License\");\n",
              "// you may not use this file except in compliance with the License.\n",
              "// You may obtain a copy of the License at\n",
              "//\n",
              "//      http://www.apache.org/licenses/LICENSE-2.0\n",
              "//\n",
              "// Unless required by applicable law or agreed to in writing, software\n",
              "// distributed under the License is distributed on an \"AS IS\" BASIS,\n",
              "// WITHOUT WARRANTIES OR CONDITIONS OF ANY KIND, either express or implied.\n",
              "// See the License for the specific language governing permissions and\n",
              "// limitations under the License.\n",
              "\n",
              "/**\n",
              " * @fileoverview Helpers for google.colab Python module.\n",
              " */\n",
              "(function(scope) {\n",
              "function span(text, styleAttributes = {}) {\n",
              "  const element = document.createElement('span');\n",
              "  element.textContent = text;\n",
              "  for (const key of Object.keys(styleAttributes)) {\n",
              "    element.style[key] = styleAttributes[key];\n",
              "  }\n",
              "  return element;\n",
              "}\n",
              "\n",
              "// Max number of bytes which will be uploaded at a time.\n",
              "const MAX_PAYLOAD_SIZE = 100 * 1024;\n",
              "\n",
              "function _uploadFiles(inputId, outputId) {\n",
              "  const steps = uploadFilesStep(inputId, outputId);\n",
              "  const outputElement = document.getElementById(outputId);\n",
              "  // Cache steps on the outputElement to make it available for the next call\n",
              "  // to uploadFilesContinue from Python.\n",
              "  outputElement.steps = steps;\n",
              "\n",
              "  return _uploadFilesContinue(outputId);\n",
              "}\n",
              "\n",
              "// This is roughly an async generator (not supported in the browser yet),\n",
              "// where there are multiple asynchronous steps and the Python side is going\n",
              "// to poll for completion of each step.\n",
              "// This uses a Promise to block the python side on completion of each step,\n",
              "// then passes the result of the previous step as the input to the next step.\n",
              "function _uploadFilesContinue(outputId) {\n",
              "  const outputElement = document.getElementById(outputId);\n",
              "  const steps = outputElement.steps;\n",
              "\n",
              "  const next = steps.next(outputElement.lastPromiseValue);\n",
              "  return Promise.resolve(next.value.promise).then((value) => {\n",
              "    // Cache the last promise value to make it available to the next\n",
              "    // step of the generator.\n",
              "    outputElement.lastPromiseValue = value;\n",
              "    return next.value.response;\n",
              "  });\n",
              "}\n",
              "\n",
              "/**\n",
              " * Generator function which is called between each async step of the upload\n",
              " * process.\n",
              " * @param {string} inputId Element ID of the input file picker element.\n",
              " * @param {string} outputId Element ID of the output display.\n",
              " * @return {!Iterable<!Object>} Iterable of next steps.\n",
              " */\n",
              "function* uploadFilesStep(inputId, outputId) {\n",
              "  const inputElement = document.getElementById(inputId);\n",
              "  inputElement.disabled = false;\n",
              "\n",
              "  const outputElement = document.getElementById(outputId);\n",
              "  outputElement.innerHTML = '';\n",
              "\n",
              "  const pickedPromise = new Promise((resolve) => {\n",
              "    inputElement.addEventListener('change', (e) => {\n",
              "      resolve(e.target.files);\n",
              "    });\n",
              "  });\n",
              "\n",
              "  const cancel = document.createElement('button');\n",
              "  inputElement.parentElement.appendChild(cancel);\n",
              "  cancel.textContent = 'Cancel upload';\n",
              "  const cancelPromise = new Promise((resolve) => {\n",
              "    cancel.onclick = () => {\n",
              "      resolve(null);\n",
              "    };\n",
              "  });\n",
              "\n",
              "  // Wait for the user to pick the files.\n",
              "  const files = yield {\n",
              "    promise: Promise.race([pickedPromise, cancelPromise]),\n",
              "    response: {\n",
              "      action: 'starting',\n",
              "    }\n",
              "  };\n",
              "\n",
              "  cancel.remove();\n",
              "\n",
              "  // Disable the input element since further picks are not allowed.\n",
              "  inputElement.disabled = true;\n",
              "\n",
              "  if (!files) {\n",
              "    return {\n",
              "      response: {\n",
              "        action: 'complete',\n",
              "      }\n",
              "    };\n",
              "  }\n",
              "\n",
              "  for (const file of files) {\n",
              "    const li = document.createElement('li');\n",
              "    li.append(span(file.name, {fontWeight: 'bold'}));\n",
              "    li.append(span(\n",
              "        `(${file.type || 'n/a'}) - ${file.size} bytes, ` +\n",
              "        `last modified: ${\n",
              "            file.lastModifiedDate ? file.lastModifiedDate.toLocaleDateString() :\n",
              "                                    'n/a'} - `));\n",
              "    const percent = span('0% done');\n",
              "    li.appendChild(percent);\n",
              "\n",
              "    outputElement.appendChild(li);\n",
              "\n",
              "    const fileDataPromise = new Promise((resolve) => {\n",
              "      const reader = new FileReader();\n",
              "      reader.onload = (e) => {\n",
              "        resolve(e.target.result);\n",
              "      };\n",
              "      reader.readAsArrayBuffer(file);\n",
              "    });\n",
              "    // Wait for the data to be ready.\n",
              "    let fileData = yield {\n",
              "      promise: fileDataPromise,\n",
              "      response: {\n",
              "        action: 'continue',\n",
              "      }\n",
              "    };\n",
              "\n",
              "    // Use a chunked sending to avoid message size limits. See b/62115660.\n",
              "    let position = 0;\n",
              "    do {\n",
              "      const length = Math.min(fileData.byteLength - position, MAX_PAYLOAD_SIZE);\n",
              "      const chunk = new Uint8Array(fileData, position, length);\n",
              "      position += length;\n",
              "\n",
              "      const base64 = btoa(String.fromCharCode.apply(null, chunk));\n",
              "      yield {\n",
              "        response: {\n",
              "          action: 'append',\n",
              "          file: file.name,\n",
              "          data: base64,\n",
              "        },\n",
              "      };\n",
              "\n",
              "      let percentDone = fileData.byteLength === 0 ?\n",
              "          100 :\n",
              "          Math.round((position / fileData.byteLength) * 100);\n",
              "      percent.textContent = `${percentDone}% done`;\n",
              "\n",
              "    } while (position < fileData.byteLength);\n",
              "  }\n",
              "\n",
              "  // All done.\n",
              "  yield {\n",
              "    response: {\n",
              "      action: 'complete',\n",
              "    }\n",
              "  };\n",
              "}\n",
              "\n",
              "scope.google = scope.google || {};\n",
              "scope.google.colab = scope.google.colab || {};\n",
              "scope.google.colab._files = {\n",
              "  _uploadFiles,\n",
              "  _uploadFilesContinue,\n",
              "};\n",
              "})(self);\n",
              "</script> "
            ]
          },
          "metadata": {}
        },
        {
          "output_type": "stream",
          "name": "stdout",
          "text": [
            "Saving Budget_raw.xlsx to Budget_raw.xlsx\n"
          ]
        }
      ]
    },
    {
      "cell_type": "code",
      "source": [
        "# check if Budget_raw.xlsx is on cwd ==> Module_4\n",
        "os.listdir()"
      ],
      "metadata": {
        "id": "nSXj3cOHrAxn",
        "colab": {
          "base_uri": "https://localhost:8080/"
        },
        "outputId": "a2ac193f-c499-48fd-bcc9-2d21f0c70829"
      },
      "id": "nSXj3cOHrAxn",
      "execution_count": 19,
      "outputs": [
        {
          "output_type": "execute_result",
          "data": {
            "text/plain": [
              "['images', 'Budget_raw.xlsx']"
            ]
          },
          "metadata": {},
          "execution_count": 19
        }
      ]
    },
    {
      "cell_type": "code",
      "source": [
        "# check the notebook in your Colab Notebooks\n",
        "\n",
        "os.listdir('/content/gdrive/MyDrive/Colab Notebooks')"
      ],
      "metadata": {
        "id": "5Cg1Algsq7Xo",
        "colab": {
          "base_uri": "https://localhost:8080/"
        },
        "outputId": "23153a97-964c-4ad4-a671-acd15f6778b7"
      },
      "id": "5Cg1Algsq7Xo",
      "execution_count": 22,
      "outputs": [
        {
          "output_type": "execute_result",
          "data": {
            "text/plain": [
              "['Files_Manipulation_Module_2.ipynb',\n",
              " 'Excel_processing_Basics_Colab_Module_3.ipynb',\n",
              " 'Budget_UseCase_Module_4.ipynb']"
            ]
          },
          "metadata": {},
          "execution_count": 22
        }
      ]
    },
    {
      "cell_type": "code",
      "source": [
        "# copy notebook \"Excel_processing_Basics_Colab_Module_4\" in your cwd MOdule_4\n",
        "\n",
        "folder = '/content/gdrive/MyDrive/Module_4' # path to were to move\n",
        "notebook = '/content/gdrive/MyDrive/Colab Notebooks/Budget_UseCase_Module_4.ipynb' # path from the where to get the notebook\n",
        "\n",
        "# copy (or move) from google colab to module_3, if you like to move ==> .move\n",
        "shutil.copy(notebook, # file/folder to cut/copy\n",
        "            folder) # folder where to move"
      ],
      "metadata": {
        "id": "OdtpC7mtrJ6d",
        "colab": {
          "base_uri": "https://localhost:8080/",
          "height": 36
        },
        "outputId": "63b24466-1b40-4d0b-a92e-3ee6c0583d05"
      },
      "id": "OdtpC7mtrJ6d",
      "execution_count": 23,
      "outputs": [
        {
          "output_type": "execute_result",
          "data": {
            "text/plain": [
              "'/content/gdrive/MyDrive/Module_4/Budget_UseCase_Module_4.ipynb'"
            ],
            "application/vnd.google.colaboratory.intrinsic+json": {
              "type": "string"
            }
          },
          "metadata": {},
          "execution_count": 23
        }
      ]
    },
    {
      "cell_type": "markdown",
      "id": "ff90bf43-6195-411c-a519-4464e3f1e354",
      "metadata": {
        "id": "ff90bf43-6195-411c-a519-4464e3f1e354"
      },
      "source": [
        "# 2.&nbsp;DF, read Excel"
      ]
    },
    {
      "cell_type": "code",
      "execution_count": 28,
      "id": "47818957",
      "metadata": {
        "id": "47818957",
        "colab": {
          "base_uri": "https://localhost:8080/",
          "height": 362
        },
        "outputId": "074f7189-05f6-4c6d-cb41-edfa43bdfce6"
      },
      "outputs": [
        {
          "output_type": "execute_result",
          "data": {
            "text/plain": [
              "  Business Department Region  Jan Income  Feb Income  Mar Income  Apr Income  \\\n",
              "0    B2C_1      Loans     AT     5924.95     4680.71     7406.19     7169.19   \n",
              "1    B2C_1      Loans     AT     5924.95     7346.94     6872.94     4739.96   \n",
              "2    B2C_1      Loans     AT     5924.95     7406.19     6043.45     6161.95   \n",
              "3    B2C_1   Services     AT     5924.95     5865.70     7406.19     4858.46   \n",
              "4    B2C_1      Loans     AT     5924.95     6280.45     6102.70     6339.70   \n",
              "5    B2C_1      Loans     AT     5867.90     7334.88     6102.62     4987.72   \n",
              "6    B2C_1      Loans     AT     5824.70     6814.90     6989.64     4543.27   \n",
              "7    B2C_1      Loans     AT     5924.95     5391.70     4976.96     7346.94   \n",
              "\n",
              "   May Income  Jun Income  Jan Expenditure  Feb Expenditure  Mar Expenditure  \\\n",
              "0     7406.19     5213.96          5178.13          3883.60          3534.08   \n",
              "1     6280.45     6576.69          3913.87          3835.59          4410.93   \n",
              "2     6161.95     5924.95          4386.71          3377.77          3411.55   \n",
              "3     5984.20     7169.19          4840.73          4743.92          5692.70   \n",
              "4     5865.70     6458.20          5875.00          5698.75          5983.69   \n",
              "5     6043.94     6396.01          2229.34          2162.46          2551.70   \n",
              "6     6465.42     5649.96          2199.00          1737.21          2015.16   \n",
              "7     6102.70     5806.45          3924.12          3767.16          4068.53   \n",
              "\n",
              "   Apr Expenditure  May Expenditure  Jun Expenditure  \n",
              "0          4240.90          3731.99          4217.15  \n",
              "1          4058.06          4220.38          5064.46  \n",
              "2          3206.86          3399.27          3229.31  \n",
              "3          5123.43          4867.26          5500.00  \n",
              "4          6701.73          7505.94          8481.71  \n",
              "5          2908.94          3112.57          3237.07  \n",
              "6          2115.92          1883.17          1977.33  \n",
              "7          3987.16          4505.49          3964.83  "
            ],
            "text/html": [
              "\n",
              "  <div id=\"df-83afdc60-8efa-4651-9225-0b312cdd6b5a\">\n",
              "    <div class=\"colab-df-container\">\n",
              "      <div>\n",
              "<style scoped>\n",
              "    .dataframe tbody tr th:only-of-type {\n",
              "        vertical-align: middle;\n",
              "    }\n",
              "\n",
              "    .dataframe tbody tr th {\n",
              "        vertical-align: top;\n",
              "    }\n",
              "\n",
              "    .dataframe thead th {\n",
              "        text-align: right;\n",
              "    }\n",
              "</style>\n",
              "<table border=\"1\" class=\"dataframe\">\n",
              "  <thead>\n",
              "    <tr style=\"text-align: right;\">\n",
              "      <th></th>\n",
              "      <th>Business</th>\n",
              "      <th>Department</th>\n",
              "      <th>Region</th>\n",
              "      <th>Jan Income</th>\n",
              "      <th>Feb Income</th>\n",
              "      <th>Mar Income</th>\n",
              "      <th>Apr Income</th>\n",
              "      <th>May Income</th>\n",
              "      <th>Jun Income</th>\n",
              "      <th>Jan Expenditure</th>\n",
              "      <th>Feb Expenditure</th>\n",
              "      <th>Mar Expenditure</th>\n",
              "      <th>Apr Expenditure</th>\n",
              "      <th>May Expenditure</th>\n",
              "      <th>Jun Expenditure</th>\n",
              "    </tr>\n",
              "  </thead>\n",
              "  <tbody>\n",
              "    <tr>\n",
              "      <th>0</th>\n",
              "      <td>B2C_1</td>\n",
              "      <td>Loans</td>\n",
              "      <td>AT</td>\n",
              "      <td>5924.95</td>\n",
              "      <td>4680.71</td>\n",
              "      <td>7406.19</td>\n",
              "      <td>7169.19</td>\n",
              "      <td>7406.19</td>\n",
              "      <td>5213.96</td>\n",
              "      <td>5178.13</td>\n",
              "      <td>3883.60</td>\n",
              "      <td>3534.08</td>\n",
              "      <td>4240.90</td>\n",
              "      <td>3731.99</td>\n",
              "      <td>4217.15</td>\n",
              "    </tr>\n",
              "    <tr>\n",
              "      <th>1</th>\n",
              "      <td>B2C_1</td>\n",
              "      <td>Loans</td>\n",
              "      <td>AT</td>\n",
              "      <td>5924.95</td>\n",
              "      <td>7346.94</td>\n",
              "      <td>6872.94</td>\n",
              "      <td>4739.96</td>\n",
              "      <td>6280.45</td>\n",
              "      <td>6576.69</td>\n",
              "      <td>3913.87</td>\n",
              "      <td>3835.59</td>\n",
              "      <td>4410.93</td>\n",
              "      <td>4058.06</td>\n",
              "      <td>4220.38</td>\n",
              "      <td>5064.46</td>\n",
              "    </tr>\n",
              "    <tr>\n",
              "      <th>2</th>\n",
              "      <td>B2C_1</td>\n",
              "      <td>Loans</td>\n",
              "      <td>AT</td>\n",
              "      <td>5924.95</td>\n",
              "      <td>7406.19</td>\n",
              "      <td>6043.45</td>\n",
              "      <td>6161.95</td>\n",
              "      <td>6161.95</td>\n",
              "      <td>5924.95</td>\n",
              "      <td>4386.71</td>\n",
              "      <td>3377.77</td>\n",
              "      <td>3411.55</td>\n",
              "      <td>3206.86</td>\n",
              "      <td>3399.27</td>\n",
              "      <td>3229.31</td>\n",
              "    </tr>\n",
              "    <tr>\n",
              "      <th>3</th>\n",
              "      <td>B2C_1</td>\n",
              "      <td>Services</td>\n",
              "      <td>AT</td>\n",
              "      <td>5924.95</td>\n",
              "      <td>5865.70</td>\n",
              "      <td>7406.19</td>\n",
              "      <td>4858.46</td>\n",
              "      <td>5984.20</td>\n",
              "      <td>7169.19</td>\n",
              "      <td>4840.73</td>\n",
              "      <td>4743.92</td>\n",
              "      <td>5692.70</td>\n",
              "      <td>5123.43</td>\n",
              "      <td>4867.26</td>\n",
              "      <td>5500.00</td>\n",
              "    </tr>\n",
              "    <tr>\n",
              "      <th>4</th>\n",
              "      <td>B2C_1</td>\n",
              "      <td>Loans</td>\n",
              "      <td>AT</td>\n",
              "      <td>5924.95</td>\n",
              "      <td>6280.45</td>\n",
              "      <td>6102.70</td>\n",
              "      <td>6339.70</td>\n",
              "      <td>5865.70</td>\n",
              "      <td>6458.20</td>\n",
              "      <td>5875.00</td>\n",
              "      <td>5698.75</td>\n",
              "      <td>5983.69</td>\n",
              "      <td>6701.73</td>\n",
              "      <td>7505.94</td>\n",
              "      <td>8481.71</td>\n",
              "    </tr>\n",
              "    <tr>\n",
              "      <th>5</th>\n",
              "      <td>B2C_1</td>\n",
              "      <td>Loans</td>\n",
              "      <td>AT</td>\n",
              "      <td>5867.90</td>\n",
              "      <td>7334.88</td>\n",
              "      <td>6102.62</td>\n",
              "      <td>4987.72</td>\n",
              "      <td>6043.94</td>\n",
              "      <td>6396.01</td>\n",
              "      <td>2229.34</td>\n",
              "      <td>2162.46</td>\n",
              "      <td>2551.70</td>\n",
              "      <td>2908.94</td>\n",
              "      <td>3112.57</td>\n",
              "      <td>3237.07</td>\n",
              "    </tr>\n",
              "    <tr>\n",
              "      <th>6</th>\n",
              "      <td>B2C_1</td>\n",
              "      <td>Loans</td>\n",
              "      <td>AT</td>\n",
              "      <td>5824.70</td>\n",
              "      <td>6814.90</td>\n",
              "      <td>6989.64</td>\n",
              "      <td>4543.27</td>\n",
              "      <td>6465.42</td>\n",
              "      <td>5649.96</td>\n",
              "      <td>2199.00</td>\n",
              "      <td>1737.21</td>\n",
              "      <td>2015.16</td>\n",
              "      <td>2115.92</td>\n",
              "      <td>1883.17</td>\n",
              "      <td>1977.33</td>\n",
              "    </tr>\n",
              "    <tr>\n",
              "      <th>7</th>\n",
              "      <td>B2C_1</td>\n",
              "      <td>Loans</td>\n",
              "      <td>AT</td>\n",
              "      <td>5924.95</td>\n",
              "      <td>5391.70</td>\n",
              "      <td>4976.96</td>\n",
              "      <td>7346.94</td>\n",
              "      <td>6102.70</td>\n",
              "      <td>5806.45</td>\n",
              "      <td>3924.12</td>\n",
              "      <td>3767.16</td>\n",
              "      <td>4068.53</td>\n",
              "      <td>3987.16</td>\n",
              "      <td>4505.49</td>\n",
              "      <td>3964.83</td>\n",
              "    </tr>\n",
              "  </tbody>\n",
              "</table>\n",
              "</div>\n",
              "      <button class=\"colab-df-convert\" onclick=\"convertToInteractive('df-83afdc60-8efa-4651-9225-0b312cdd6b5a')\"\n",
              "              title=\"Convert this dataframe to an interactive table.\"\n",
              "              style=\"display:none;\">\n",
              "        \n",
              "  <svg xmlns=\"http://www.w3.org/2000/svg\" height=\"24px\"viewBox=\"0 0 24 24\"\n",
              "       width=\"24px\">\n",
              "    <path d=\"M0 0h24v24H0V0z\" fill=\"none\"/>\n",
              "    <path d=\"M18.56 5.44l.94 2.06.94-2.06 2.06-.94-2.06-.94-.94-2.06-.94 2.06-2.06.94zm-11 1L8.5 8.5l.94-2.06 2.06-.94-2.06-.94L8.5 2.5l-.94 2.06-2.06.94zm10 10l.94 2.06.94-2.06 2.06-.94-2.06-.94-.94-2.06-.94 2.06-2.06.94z\"/><path d=\"M17.41 7.96l-1.37-1.37c-.4-.4-.92-.59-1.43-.59-.52 0-1.04.2-1.43.59L10.3 9.45l-7.72 7.72c-.78.78-.78 2.05 0 2.83L4 21.41c.39.39.9.59 1.41.59.51 0 1.02-.2 1.41-.59l7.78-7.78 2.81-2.81c.8-.78.8-2.07 0-2.86zM5.41 20L4 18.59l7.72-7.72 1.47 1.35L5.41 20z\"/>\n",
              "  </svg>\n",
              "      </button>\n",
              "      \n",
              "  <style>\n",
              "    .colab-df-container {\n",
              "      display:flex;\n",
              "      flex-wrap:wrap;\n",
              "      gap: 12px;\n",
              "    }\n",
              "\n",
              "    .colab-df-convert {\n",
              "      background-color: #E8F0FE;\n",
              "      border: none;\n",
              "      border-radius: 50%;\n",
              "      cursor: pointer;\n",
              "      display: none;\n",
              "      fill: #1967D2;\n",
              "      height: 32px;\n",
              "      padding: 0 0 0 0;\n",
              "      width: 32px;\n",
              "    }\n",
              "\n",
              "    .colab-df-convert:hover {\n",
              "      background-color: #E2EBFA;\n",
              "      box-shadow: 0px 1px 2px rgba(60, 64, 67, 0.3), 0px 1px 3px 1px rgba(60, 64, 67, 0.15);\n",
              "      fill: #174EA6;\n",
              "    }\n",
              "\n",
              "    [theme=dark] .colab-df-convert {\n",
              "      background-color: #3B4455;\n",
              "      fill: #D2E3FC;\n",
              "    }\n",
              "\n",
              "    [theme=dark] .colab-df-convert:hover {\n",
              "      background-color: #434B5C;\n",
              "      box-shadow: 0px 1px 3px 1px rgba(0, 0, 0, 0.15);\n",
              "      filter: drop-shadow(0px 1px 2px rgba(0, 0, 0, 0.3));\n",
              "      fill: #FFFFFF;\n",
              "    }\n",
              "  </style>\n",
              "\n",
              "      <script>\n",
              "        const buttonEl =\n",
              "          document.querySelector('#df-83afdc60-8efa-4651-9225-0b312cdd6b5a button.colab-df-convert');\n",
              "        buttonEl.style.display =\n",
              "          google.colab.kernel.accessAllowed ? 'block' : 'none';\n",
              "\n",
              "        async function convertToInteractive(key) {\n",
              "          const element = document.querySelector('#df-83afdc60-8efa-4651-9225-0b312cdd6b5a');\n",
              "          const dataTable =\n",
              "            await google.colab.kernel.invokeFunction('convertToInteractive',\n",
              "                                                     [key], {});\n",
              "          if (!dataTable) return;\n",
              "\n",
              "          const docLinkHtml = 'Like what you see? Visit the ' +\n",
              "            '<a target=\"_blank\" href=https://colab.research.google.com/notebooks/data_table.ipynb>data table notebook</a>'\n",
              "            + ' to learn more about interactive tables.';\n",
              "          element.innerHTML = '';\n",
              "          dataTable['output_type'] = 'display_data';\n",
              "          await google.colab.output.renderOutput(dataTable, element);\n",
              "          const docLink = document.createElement('div');\n",
              "          docLink.innerHTML = docLinkHtml;\n",
              "          element.appendChild(docLink);\n",
              "        }\n",
              "      </script>\n",
              "    </div>\n",
              "  </div>\n",
              "  "
            ]
          },
          "metadata": {},
          "execution_count": 28
        }
      ],
      "source": [
        "# read excel 'Budget_raw.xlsx' and load it in a dataframe\n",
        "\n",
        "filename='Budget_raw.xlsx'\n",
        "# read the excel\n",
        "df = pd.read_excel(filename, \n",
        "                   header=0) # the row 0 will be as our headers\n",
        "df = pd.DataFrame(df)\n",
        "# df = df.set_index(['Region', 'Business', 'Department'])\n",
        "\n",
        "# display first 8 rows\n",
        "df.head(8)"
      ]
    },
    {
      "cell_type": "markdown",
      "source": [
        "Explore df"
      ],
      "metadata": {
        "id": "ml-o8zAzRsub"
      },
      "id": "ml-o8zAzRsub"
    },
    {
      "cell_type": "code",
      "source": [
        "# dimensions and column names\n",
        "\n",
        "print('df dimensions: ', df.shape)\n",
        "print('df lengh: ', len(df))\n",
        "print('df columns: ', df.columns)"
      ],
      "metadata": {
        "colab": {
          "base_uri": "https://localhost:8080/"
        },
        "id": "MpF0c1LnR2GW",
        "outputId": "d06c27dc-91b2-4f74-b015-c3371ce7d298"
      },
      "id": "MpF0c1LnR2GW",
      "execution_count": 29,
      "outputs": [
        {
          "output_type": "stream",
          "name": "stdout",
          "text": [
            "df dimensions:  (1937, 15)\n",
            "df lengh:  1937\n",
            "df columns:  Index(['Business', 'Department', 'Region', 'Jan Income', 'Feb Income',\n",
            "       'Mar Income', 'Apr Income', 'May Income', 'Jun Income',\n",
            "       'Jan Expenditure', 'Feb Expenditure', 'Mar Expenditure',\n",
            "       'Apr Expenditure', 'May Expenditure', 'Jun Expenditure'],\n",
            "      dtype='object')\n"
          ]
        }
      ]
    },
    {
      "cell_type": "code",
      "execution_count": 27,
      "id": "98b14cbc",
      "metadata": {
        "id": "98b14cbc",
        "colab": {
          "base_uri": "https://localhost:8080/"
        },
        "outputId": "5a98770f-42fb-447e-aadd-4137f8a47dc6"
      },
      "outputs": [
        {
          "output_type": "stream",
          "name": "stdout",
          "text": [
            "<class 'pandas.core.frame.DataFrame'>\n",
            "RangeIndex: 1937 entries, 0 to 1936\n",
            "Data columns (total 15 columns):\n",
            " #   Column           Non-Null Count  Dtype  \n",
            "---  ------           --------------  -----  \n",
            " 0   Business         1937 non-null   object \n",
            " 1   Department       1937 non-null   object \n",
            " 2   Region           1937 non-null   object \n",
            " 3   Jan Income       1937 non-null   float64\n",
            " 4   Feb Income       1937 non-null   float64\n",
            " 5   Mar Income       1937 non-null   float64\n",
            " 6   Apr Income       1937 non-null   float64\n",
            " 7   May Income       1937 non-null   float64\n",
            " 8   Jun Income       1937 non-null   float64\n",
            " 9   Jan Expenditure  1937 non-null   float64\n",
            " 10  Feb Expenditure  1937 non-null   float64\n",
            " 11  Mar Expenditure  1937 non-null   float64\n",
            " 12  Apr Expenditure  1937 non-null   float64\n",
            " 13  May Expenditure  1937 non-null   float64\n",
            " 14  Jun Expenditure  1937 non-null   float64\n",
            "dtypes: float64(12), object(3)\n",
            "memory usage: 227.1+ KB\n"
          ]
        }
      ],
      "source": [
        "# check data dypes for each column\n",
        "df.info()"
      ]
    },
    {
      "cell_type": "code",
      "source": [
        "# how many Business categories\n",
        "\n",
        "df['Business'].unique()"
      ],
      "metadata": {
        "colab": {
          "base_uri": "https://localhost:8080/"
        },
        "id": "YsA2N-hBR6ai",
        "outputId": "f6d4c0a0-59c6-4ccf-a362-b4912c894777"
      },
      "id": "YsA2N-hBR6ai",
      "execution_count": 30,
      "outputs": [
        {
          "output_type": "execute_result",
          "data": {
            "text/plain": [
              "array(['B2C_1', 'B2B', 'Fleet', 'B2C_2'], dtype=object)"
            ]
          },
          "metadata": {},
          "execution_count": 30
        }
      ]
    },
    {
      "cell_type": "code",
      "source": [
        "# how many Departmens categories\n",
        "\n",
        "df['Department'].unique()"
      ],
      "metadata": {
        "colab": {
          "base_uri": "https://localhost:8080/"
        },
        "id": "YtBIqMm0SDwk",
        "outputId": "eade926f-64c2-49d1-e81b-5901d3d73ee7"
      },
      "id": "YtBIqMm0SDwk",
      "execution_count": 31,
      "outputs": [
        {
          "output_type": "execute_result",
          "data": {
            "text/plain": [
              "array(['Loans', 'Services', 'Assistance', 'Maintenance', 'Fees'],\n",
              "      dtype=object)"
            ]
          },
          "metadata": {},
          "execution_count": 31
        }
      ]
    },
    {
      "cell_type": "code",
      "source": [
        "# how many Regions categories\n",
        "\n",
        "df['Region'].unique()"
      ],
      "metadata": {
        "colab": {
          "base_uri": "https://localhost:8080/"
        },
        "id": "2rFWE1LISJr6",
        "outputId": "87755460-06be-47a8-c9ec-c4590bf0fc88"
      },
      "id": "2rFWE1LISJr6",
      "execution_count": 33,
      "outputs": [
        {
          "output_type": "execute_result",
          "data": {
            "text/plain": [
              "array(['AT', 'BE', 'DE', 'DK', 'FR', 'IE', 'IT', 'NL', 'PL', 'PT', 'UK'],\n",
              "      dtype=object)"
            ]
          },
          "metadata": {},
          "execution_count": 33
        }
      ]
    },
    {
      "cell_type": "markdown",
      "id": "eeee9a1d-f96b-428f-b053-d3bb993d46cd",
      "metadata": {
        "id": "eeee9a1d-f96b-428f-b053-d3bb993d46cd"
      },
      "source": [
        "# 3.&nbsp;Excel workbook"
      ]
    },
    {
      "cell_type": "markdown",
      "source": [
        "## Load workbook"
      ],
      "metadata": {
        "id": "2Jmx--vLS5M3"
      },
      "id": "2Jmx--vLS5M3"
    },
    {
      "cell_type": "code",
      "execution_count": 34,
      "id": "b864f82b",
      "metadata": {
        "id": "b864f82b"
      },
      "outputs": [],
      "source": [
        "# load a workbook in wb var\n",
        "# be carefull, the excel file should be closed on your computer in order to access it\n",
        "\n",
        "# load Budget_raw.xlsx workbook\n",
        "filename = 'Budget_raw.xlsx'\n",
        "wb = load_workbook(filename= filename, #relative path\n",
        "                   #read_only=True, # optimised for reading, content cannot be edited\n",
        "                   data_only =True) # controls whether cells with formulae have either the formula (default) or the value stored the last time Excel read the sheet"
      ]
    },
    {
      "cell_type": "code",
      "execution_count": 35,
      "id": "76200526",
      "metadata": {
        "id": "76200526",
        "colab": {
          "base_uri": "https://localhost:8080/"
        },
        "outputId": "7f311b52-5b7f-4cdc-c8a2-6443b59d538b"
      },
      "outputs": [
        {
          "output_type": "execute_result",
          "data": {
            "text/plain": [
              "['Data', 'Department']"
            ]
          },
          "metadata": {},
          "execution_count": 35
        }
      ],
      "source": [
        "# get sheetnames of the workbook\n",
        "wb.sheetnames"
      ]
    },
    {
      "cell_type": "raw",
      "id": "5c4ee9a7-a527-40df-a7c5-fbd8783d0f52",
      "metadata": {
        "id": "5c4ee9a7-a527-40df-a7c5-fbd8783d0f52"
      },
      "source": [
        "## Metadata"
      ]
    },
    {
      "cell_type": "code",
      "execution_count": null,
      "id": "625867b7-dc01-4c50-aaf1-355ba56235f5",
      "metadata": {
        "id": "625867b7-dc01-4c50-aaf1-355ba56235f5"
      },
      "outputs": [],
      "source": [
        "# Metadata\n",
        "wb.properties"
      ]
    },
    {
      "cell_type": "code",
      "execution_count": null,
      "id": "6989f6fc-5b0f-4c4d-aa6e-4769d3ee310b",
      "metadata": {
        "id": "6989f6fc-5b0f-4c4d-aa6e-4769d3ee310b"
      },
      "outputs": [],
      "source": [
        "# add some metadata\n",
        "\n",
        "wb.properties.title  = 'Budget_Processed Excel Automation'\n",
        "wb.properties.creator  = 'Cristina Teleuca'\n",
        "wb.properties.description  = 'Excel Manipulation with Python openpyxl' \n",
        "wb.properties.keywords  = ['Excel', 'Automation', 'Python', 'openpyxl']\n",
        "\n",
        "wb.properties"
      ]
    },
    {
      "cell_type": "raw",
      "id": "3c80fd15-8bd1-4133-a993-0b7cb6cacd19",
      "metadata": {
        "id": "3c80fd15-8bd1-4133-a993-0b7cb6cacd19"
      },
      "source": [
        "## Worksheet"
      ]
    },
    {
      "cell_type": "code",
      "execution_count": 37,
      "id": "7eaa5af7",
      "metadata": {
        "id": "7eaa5af7",
        "colab": {
          "base_uri": "https://localhost:8080/",
          "height": 36
        },
        "outputId": "fa2439cd-4163-4b84-bf9d-d0ce56e2f0cc"
      },
      "outputs": [
        {
          "output_type": "execute_result",
          "data": {
            "text/plain": [
              "'Data'"
            ],
            "application/vnd.google.colaboratory.intrinsic+json": {
              "type": "string"
            }
          },
          "metadata": {},
          "execution_count": 37
        }
      ],
      "source": [
        "# assign sheet for sheetname 'Data' the sheet we'll work with\n",
        "sheet = wb['Data']\n",
        "sheet.title"
      ]
    },
    {
      "cell_type": "code",
      "execution_count": 38,
      "id": "2d0a9c82",
      "metadata": {
        "id": "2d0a9c82",
        "colab": {
          "base_uri": "https://localhost:8080/"
        },
        "outputId": "d8082031-d025-42d7-8ce2-004db7413f67"
      },
      "outputs": [
        {
          "output_type": "stream",
          "name": "stdout",
          "text": [
            "1938\n",
            "15\n"
          ]
        }
      ],
      "source": [
        "# get nb of rows of a sheet\n",
        "print(sheet.max_row)\n",
        "\n",
        "# get nb of columns of a sheet\n",
        "print(sheet.max_column)"
      ]
    },
    {
      "cell_type": "code",
      "execution_count": 39,
      "id": "65ba7731",
      "metadata": {
        "id": "65ba7731",
        "colab": {
          "base_uri": "https://localhost:8080/"
        },
        "outputId": "3df9617a-2ed6-48a7-86b6-ff2a56f5f1d3"
      },
      "outputs": [
        {
          "output_type": "execute_result",
          "data": {
            "text/plain": [
              "['images',\n",
              " 'Budget_raw.xlsx',\n",
              " 'Budget_UseCase_Module_4.ipynb',\n",
              " 'Budget_processed.xlsx']"
            ]
          },
          "metadata": {},
          "execution_count": 39
        }
      ],
      "source": [
        "# save the workbook into another excel \"Budget_processed.xlsx\" \n",
        "wb.save('Budget_processed.xlsx') # just to have 2 versions: the original one and the processed one with modifications\n",
        "# check if the new excel file was created\n",
        "os.listdir()"
      ]
    },
    {
      "cell_type": "markdown",
      "id": "8f1997df",
      "metadata": {
        "id": "8f1997df"
      },
      "source": [
        "# 4.&nbsp;Excel exploration with openpyxl"
      ]
    },
    {
      "cell_type": "markdown",
      "source": [
        "## df range"
      ],
      "metadata": {
        "id": "l0Po1IbaUW8d"
      },
      "id": "l0Po1IbaUW8d"
    },
    {
      "cell_type": "code",
      "execution_count": 41,
      "id": "851dd70a",
      "metadata": {
        "id": "851dd70a",
        "colab": {
          "base_uri": "https://localhost:8080/"
        },
        "outputId": "35373d3c-f8fa-43ea-fe24-302a6921ee62"
      },
      "outputs": [
        {
          "output_type": "stream",
          "name": "stdout",
          "text": [
            "df shape:  1937 15\n",
            "in excel the df cellrange is :  A1:O1938\n"
          ]
        }
      ],
      "source": [
        "# compute the range of the whole dataframe \n",
        "max_row, max_col = df.shape\n",
        "print('df shape: ', max_row, max_col) #df.shape method start at o indexing\n",
        "\n",
        "# the df range in excel (A1:O1938)\n",
        "df_range = xl_range(0, # starting row\n",
        "                    0, # starting column\n",
        "                    max_row, # last row index\n",
        "                    max_col - 1) # last column -1 as the index starts a 0\n",
        "print('in excel the df cellrange is : ', df_range)"
      ]
    },
    {
      "cell_type": "code",
      "execution_count": 42,
      "id": "ddf52aa7",
      "metadata": {
        "id": "ddf52aa7",
        "colab": {
          "base_uri": "https://localhost:8080/"
        },
        "outputId": "5d5f5cbd-7c51-4556-aab0-94b5c85de919"
      },
      "outputs": [
        {
          "output_type": "stream",
          "name": "stdout",
          "text": [
            "1 ['Business', 'Department', 'Region', 'Jan Income', 'Feb Income', 'Mar Income', 'Apr Income', 'May Income', 'Jun Income', 'Jan Expenditure', 'Feb Expenditure', 'Mar Expenditure', 'Apr Expenditure', 'May Expenditure', 'Jun Expenditure']\n",
            "2 ['B2C_1', 'Loans', 'AT', 5924.95, 4680.71, 7406.19, 7169.19, 7406.19, 5213.96, 5178.13, 3883.6, 3534.08, 4240.9, 3731.99, 4217.15]\n",
            "3 ['B2C_1', 'Loans', 'AT', 5924.95, 7346.94, 6872.94, 4739.96, 6280.45, 6576.69, 3913.87, 3835.59, 4410.93, 4058.06, 4220.38, 5064.46]\n",
            "4 ['B2C_1', 'Loans', 'AT', 5924.95, 7406.19, 6043.45, 6161.95, 6161.95, 5924.95, 4386.71, 3377.77, 3411.55, 3206.86, 3399.27, 3229.31]\n",
            "5 ['B2C_1', 'Services', 'AT', 5924.95, 5865.7, 7406.19, 4858.46, 5984.2, 7169.19, 4840.73, 4743.92, 5692.7, 5123.43, 4867.26, 5500]\n"
          ]
        }
      ],
      "source": [
        "# Access all cells from A1 to 05\n",
        "for idx, row in enumerate(sheet['A1:O5']):\n",
        "    print(idx+1, [x.value for x in row])"
      ]
    },
    {
      "cell_type": "markdown",
      "source": [
        "## Upper left corner"
      ],
      "metadata": {
        "id": "EUBwv6TCUc7B"
      },
      "id": "EUBwv6TCUc7B"
    },
    {
      "cell_type": "code",
      "execution_count": 43,
      "id": "966ceb25",
      "metadata": {
        "id": "966ceb25",
        "colab": {
          "base_uri": "https://localhost:8080/"
        },
        "outputId": "95586be0-ccf3-421d-e9de-45f9612c3f1b"
      },
      "outputs": [
        {
          "output_type": "stream",
          "name": "stdout",
          "text": [
            "start point: A1 start col: A\n"
          ]
        }
      ],
      "source": [
        "# start indices\n",
        "start_point = xl_rowcol_to_cell(0,0) # coordinates of top lef of df\n",
        "start_col = xl_col_to_name(0)# # get the column letter for first column\n",
        "print(\"start point:\", start_point,     \n",
        "      \"start col:\", start_col)"
      ]
    },
    {
      "cell_type": "markdown",
      "source": [
        "## Lower right corner"
      ],
      "metadata": {
        "id": "Wm7Gsp73UiCk"
      },
      "id": "Wm7Gsp73UiCk"
    },
    {
      "cell_type": "code",
      "execution_count": 44,
      "id": "19cc3305",
      "metadata": {
        "id": "19cc3305",
        "colab": {
          "base_uri": "https://localhost:8080/"
        },
        "outputId": "6470f352-1edb-434f-8d27-2f1650c9d0c1"
      },
      "outputs": [
        {
          "output_type": "stream",
          "name": "stdout",
          "text": [
            "end point: O1938 end_row: 1938 end col: O\n"
          ]
        }
      ],
      "source": [
        "# end indices\n",
        "end_point = xl_rowcol_to_cell(max_row, max_col-1) # # coordinates of bottom right of df\n",
        "end_col = xl_col_to_name(max_col-1) # get the column letter for the last column\n",
        "end_row = max_row + 1 # last row in excel (+1)\n",
        "print(\"end point:\", end_point, \n",
        "      \"end_row:\", end_row,      \n",
        "      \"end col:\", end_col)"
      ]
    },
    {
      "cell_type": "markdown",
      "source": [
        "## Columns"
      ],
      "metadata": {
        "id": "EGBFKC2NUp-Z"
      },
      "id": "EGBFKC2NUp-Z"
    },
    {
      "cell_type": "markdown",
      "source": [
        "Iterate through columns to get a beeter feeling of columns values"
      ],
      "metadata": {
        "id": "h-WHpMziWXbo"
      },
      "id": "h-WHpMziWXbo"
    },
    {
      "cell_type": "code",
      "execution_count": 45,
      "id": "a5a9ae9f",
      "metadata": {
        "id": "a5a9ae9f",
        "colab": {
          "base_uri": "https://localhost:8080/"
        },
        "outputId": "13e57a17-2ecc-4f0c-ed41-c99b527b1fb1"
      },
      "outputs": [
        {
          "output_type": "execute_result",
          "data": {
            "text/plain": [
              "15"
            ]
          },
          "metadata": {},
          "execution_count": 45
        }
      ],
      "source": [
        "# get the index nb of column O\n",
        "column_index_from_string('O')"
      ]
    },
    {
      "cell_type": "code",
      "execution_count": 46,
      "id": "5be43be4",
      "metadata": {
        "id": "5be43be4",
        "colab": {
          "base_uri": "https://localhost:8080/",
          "height": 36
        },
        "outputId": "f0b8bd65-88a3-4a5c-e687-b2c220dfa395"
      },
      "outputs": [
        {
          "output_type": "execute_result",
          "data": {
            "text/plain": [
              "'O'"
            ],
            "application/vnd.google.colaboratory.intrinsic+json": {
              "type": "string"
            }
          },
          "metadata": {},
          "execution_count": 46
        }
      ],
      "source": [
        "# reverse\n",
        "get_column_letter(15)"
      ]
    },
    {
      "cell_type": "code",
      "execution_count": 47,
      "id": "f67b0236",
      "metadata": {
        "id": "f67b0236",
        "colab": {
          "base_uri": "https://localhost:8080/"
        },
        "outputId": "1fd15d9b-3429-4872-d605-c54cf80cdd0e"
      },
      "outputs": [
        {
          "output_type": "stream",
          "name": "stdout",
          "text": [
            "nb of rows:  1938\n",
            "nb of columns:  15\n",
            "1 Business\n",
            "2 Department\n",
            "3 Region\n",
            "4 Jan Income\n",
            "5 Feb Income\n",
            "6 Mar Income\n",
            "7 Apr Income\n",
            "8 May Income\n",
            "9 Jun Income\n",
            "10 Jan Expenditure\n",
            "11 Feb Expenditure\n",
            "12 Mar Expenditure\n",
            "13 Apr Expenditure\n",
            "14 May Expenditure\n",
            "15 Jun Expenditure\n"
          ]
        }
      ],
      "source": [
        "# read all values from 1st row\n",
        "print('nb of rows: ' , sheet.max_row)\n",
        "print('nb of columns: ' , sheet.max_column)\n",
        "\n",
        "# iterate the 1st row values of the sheet, to see the col nb in excel and it's name\n",
        "for i in range(1, sheet.max_column+1): # add + 1, as the range function 2nd argument is not inclusive\n",
        "    ref = sheet.cell(row=1, column=i)\n",
        "    print(ref.column, ref.value)"
      ]
    },
    {
      "cell_type": "code",
      "execution_count": 48,
      "id": "3d81869c",
      "metadata": {
        "tags": [],
        "id": "3d81869c",
        "colab": {
          "base_uri": "https://localhost:8080/"
        },
        "outputId": "a73a0a6d-27dd-4e3d-d8e0-f12dad7371e5"
      },
      "outputs": [
        {
          "output_type": "stream",
          "name": "stdout",
          "text": [
            "1 Business\n",
            "1 B2C_1\n",
            "1 B2C_1\n",
            "1 B2C_1\n",
            "1 B2C_1\n",
            "1 B2C_1\n",
            "1 B2C_1\n",
            "1 B2C_1\n",
            "1 B2C_1\n",
            "1 B2C_1\n"
          ]
        }
      ],
      "source": [
        "# iterate the 1 Column values of the sheet of the sheet up tp 10th row\n",
        "for i in range(1, 10 + 1): # add + 1, as the range function 2nd argument is not inclusive\n",
        "    ref = sheet.cell(row=i, column=1)\n",
        "    print(ref.column, ref.value)"
      ]
    },
    {
      "cell_type": "code",
      "execution_count": 49,
      "id": "66fb383a-8d1a-43a8-81a5-672146c3b386",
      "metadata": {
        "id": "66fb383a-8d1a-43a8-81a5-672146c3b386",
        "colab": {
          "base_uri": "https://localhost:8080/"
        },
        "outputId": "59e891eb-5ec6-472b-f483-de1bd8d4dcb8"
      },
      "outputs": [
        {
          "output_type": "stream",
          "name": "stdout",
          "text": [
            "2 Department\n",
            "2 Loans\n",
            "2 Loans\n",
            "2 Loans\n",
            "2 Services\n",
            "2 Loans\n",
            "2 Loans\n",
            "2 Loans\n",
            "2 Loans\n",
            "2 Loans\n"
          ]
        }
      ],
      "source": [
        "# iterate the 2nd Column values of the sheet of the sheet up tp 10th row\n",
        "for i in range(1, 10 + 1): # add + 1, as the range function 2nd argument is not inclusive\n",
        "    ref = sheet.cell(row=i, column=2)\n",
        "    print(ref.column, ref.value)"
      ]
    },
    {
      "cell_type": "code",
      "execution_count": 50,
      "id": "5f2aaae6-85ec-435c-b132-f91636d5850a",
      "metadata": {
        "id": "5f2aaae6-85ec-435c-b132-f91636d5850a",
        "colab": {
          "base_uri": "https://localhost:8080/"
        },
        "outputId": "40a3e054-b339-44eb-a099-248581dad150"
      },
      "outputs": [
        {
          "output_type": "stream",
          "name": "stdout",
          "text": [
            "15 Jun Expenditure\n",
            "15 4217.15\n",
            "15 5064.46\n",
            "15 3229.31\n",
            "15 5500\n",
            "15 8481.71\n",
            "15 3237.07\n",
            "15 1977.33\n",
            "15 3964.83\n",
            "15 2583\n"
          ]
        }
      ],
      "source": [
        "# iterate the last_column values of the sheet up tp 10th row\n",
        "last_column = sheet.max_column\n",
        "\n",
        "for i in range(1, 10 + 1): # add + 1, as the range function 2nd argument is not inclusive\n",
        "    ref = sheet.cell(row=i, column=last_column)\n",
        "    print(ref.column, ref.value)"
      ]
    },
    {
      "cell_type": "markdown",
      "id": "911b1a4b",
      "metadata": {
        "id": "911b1a4b"
      },
      "source": [
        "# 5.&nbsp;Add columns: Income, Expenditure, Net"
      ]
    },
    {
      "cell_type": "markdown",
      "source": [
        "We want to add 3 columns to our df:\n",
        "\n",
        "1.   Total Income (sum of all months with Income)\n",
        "2.   Total Expenditure (sum of all months with Expenditure)\n",
        "3.   Net (Net revenue = TOtal Income - Total Expenditure)\n",
        "\n"
      ],
      "metadata": {
        "id": "cC_tHkYNU24p"
      },
      "id": "cC_tHkYNU24p"
    },
    {
      "cell_type": "markdown",
      "id": "3c3b0557",
      "metadata": {
        "id": "3c3b0557"
      },
      "source": [
        "## Total Income "
      ]
    },
    {
      "cell_type": "raw",
      "id": "f9843a0b-5c73-4362-b965-961e529b6166",
      "metadata": {
        "id": "f9843a0b-5c73-4362-b965-961e529b6166"
      },
      "source": [
        "We want to add a column **'Total Income'** that will sum up all income columns **from Jan to June**\n",
        "\n",
        "\n",
        "\n",
        "1.   Identify columns that have the string Income in it\n",
        "2.   Sum up Income columns row by row\n",
        "3.   Order columns\n",
        "\n"
      ]
    },
    {
      "cell_type": "markdown",
      "source": [
        "**1.**   Identify columns that have the string Income in it"
      ],
      "metadata": {
        "id": "u9iIFTmlWjlG"
      },
      "id": "u9iIFTmlWjlG"
    },
    {
      "cell_type": "code",
      "execution_count": null,
      "id": "08478a84",
      "metadata": {
        "id": "08478a84"
      },
      "outputs": [],
      "source": [
        "# how to find a substring in a string\n",
        "\n",
        "fullstring = \"StackAbuse\"\n",
        "substring = \"tack\"\n",
        "\n",
        "if substring in fullstring:\n",
        "    print(\"Found!\")\n",
        "else:\n",
        "    print(\"Not found!\")"
      ]
    },
    {
      "cell_type": "code",
      "execution_count": 55,
      "id": "a78652a1",
      "metadata": {
        "id": "a78652a1",
        "colab": {
          "base_uri": "https://localhost:8080/"
        },
        "outputId": "70238abd-1cc6-4b41-c282-cc1d9d8a85e8"
      },
      "outputs": [
        {
          "output_type": "stream",
          "name": "stdout",
          "text": [
            "columns with Income: [3, 4, 5, 6, 7, 8]\n",
            "first: 3 last: 8\n"
          ]
        }
      ],
      "source": [
        "# 1. Identify columns that have the string Income in it\n",
        "\n",
        "## create an empty lis where we'll store column names that heve the string \"Income\" in it\n",
        "income_col=[]\n",
        "## iterate through column indices\n",
        "for col in range(0, len(df.columns)):\n",
        "    if 'Income' in df.columns[col]: #  identify column index for column with Income\n",
        "        income_col.append(col) # if column is identify store its index in the income_col list\n",
        "\n",
        "# the indices of columns that have sustring Income in it\n",
        "print('columns with Income:', income_col) # the list with column indices that have Income in columns\n",
        "\n",
        "# assign variables with the start column index and the end column index\n",
        "income_start= income_col[0] # 1st element in the list\n",
        "income_end= income_col[-1] # last element in the list\n",
        "\n",
        "# the 1st and the last col that have Income in it\n",
        "print('first:', income_start, 'last:', income_end)"
      ]
    },
    {
      "cell_type": "code",
      "execution_count": 56,
      "id": "6e85f173",
      "metadata": {
        "id": "6e85f173",
        "colab": {
          "base_uri": "https://localhost:8080/",
          "height": 424
        },
        "outputId": "df9d131f-145c-48c6-d919-eeb40fad138e"
      },
      "outputs": [
        {
          "output_type": "execute_result",
          "data": {
            "text/plain": [
              "      Jan Income  Feb Income  Mar Income  Apr Income  May Income  Jun Income\n",
              "0        5924.95     4680.71     7406.19     7169.19     7406.19     5213.96\n",
              "1        5924.95     7346.94     6872.94     4739.96     6280.45     6576.69\n",
              "2        5924.95     7406.19     6043.45     6161.95     6161.95     5924.95\n",
              "3        5924.95     5865.70     7406.19     4858.46     5984.20     7169.19\n",
              "4        5924.95     6280.45     6102.70     6339.70     5865.70     6458.20\n",
              "...          ...         ...         ...         ...         ...         ...\n",
              "1932      562.75      512.10      664.05      478.34      619.03      472.71\n",
              "1933     5924.95     6991.44     7169.19     4443.71     4858.46     7406.19\n",
              "1934      480.00      393.60      470.40      412.80      384.00      600.00\n",
              "1935      400.00      464.00      448.00      424.00      420.00      384.00\n",
              "1936       20.21       19.81       15.36       15.56       22.64       22.03\n",
              "\n",
              "[1937 rows x 6 columns]"
            ],
            "text/html": [
              "\n",
              "  <div id=\"df-5f325596-6fcb-4030-9832-d10ca5fdca46\">\n",
              "    <div class=\"colab-df-container\">\n",
              "      <div>\n",
              "<style scoped>\n",
              "    .dataframe tbody tr th:only-of-type {\n",
              "        vertical-align: middle;\n",
              "    }\n",
              "\n",
              "    .dataframe tbody tr th {\n",
              "        vertical-align: top;\n",
              "    }\n",
              "\n",
              "    .dataframe thead th {\n",
              "        text-align: right;\n",
              "    }\n",
              "</style>\n",
              "<table border=\"1\" class=\"dataframe\">\n",
              "  <thead>\n",
              "    <tr style=\"text-align: right;\">\n",
              "      <th></th>\n",
              "      <th>Jan Income</th>\n",
              "      <th>Feb Income</th>\n",
              "      <th>Mar Income</th>\n",
              "      <th>Apr Income</th>\n",
              "      <th>May Income</th>\n",
              "      <th>Jun Income</th>\n",
              "    </tr>\n",
              "  </thead>\n",
              "  <tbody>\n",
              "    <tr>\n",
              "      <th>0</th>\n",
              "      <td>5924.95</td>\n",
              "      <td>4680.71</td>\n",
              "      <td>7406.19</td>\n",
              "      <td>7169.19</td>\n",
              "      <td>7406.19</td>\n",
              "      <td>5213.96</td>\n",
              "    </tr>\n",
              "    <tr>\n",
              "      <th>1</th>\n",
              "      <td>5924.95</td>\n",
              "      <td>7346.94</td>\n",
              "      <td>6872.94</td>\n",
              "      <td>4739.96</td>\n",
              "      <td>6280.45</td>\n",
              "      <td>6576.69</td>\n",
              "    </tr>\n",
              "    <tr>\n",
              "      <th>2</th>\n",
              "      <td>5924.95</td>\n",
              "      <td>7406.19</td>\n",
              "      <td>6043.45</td>\n",
              "      <td>6161.95</td>\n",
              "      <td>6161.95</td>\n",
              "      <td>5924.95</td>\n",
              "    </tr>\n",
              "    <tr>\n",
              "      <th>3</th>\n",
              "      <td>5924.95</td>\n",
              "      <td>5865.70</td>\n",
              "      <td>7406.19</td>\n",
              "      <td>4858.46</td>\n",
              "      <td>5984.20</td>\n",
              "      <td>7169.19</td>\n",
              "    </tr>\n",
              "    <tr>\n",
              "      <th>4</th>\n",
              "      <td>5924.95</td>\n",
              "      <td>6280.45</td>\n",
              "      <td>6102.70</td>\n",
              "      <td>6339.70</td>\n",
              "      <td>5865.70</td>\n",
              "      <td>6458.20</td>\n",
              "    </tr>\n",
              "    <tr>\n",
              "      <th>...</th>\n",
              "      <td>...</td>\n",
              "      <td>...</td>\n",
              "      <td>...</td>\n",
              "      <td>...</td>\n",
              "      <td>...</td>\n",
              "      <td>...</td>\n",
              "    </tr>\n",
              "    <tr>\n",
              "      <th>1932</th>\n",
              "      <td>562.75</td>\n",
              "      <td>512.10</td>\n",
              "      <td>664.05</td>\n",
              "      <td>478.34</td>\n",
              "      <td>619.03</td>\n",
              "      <td>472.71</td>\n",
              "    </tr>\n",
              "    <tr>\n",
              "      <th>1933</th>\n",
              "      <td>5924.95</td>\n",
              "      <td>6991.44</td>\n",
              "      <td>7169.19</td>\n",
              "      <td>4443.71</td>\n",
              "      <td>4858.46</td>\n",
              "      <td>7406.19</td>\n",
              "    </tr>\n",
              "    <tr>\n",
              "      <th>1934</th>\n",
              "      <td>480.00</td>\n",
              "      <td>393.60</td>\n",
              "      <td>470.40</td>\n",
              "      <td>412.80</td>\n",
              "      <td>384.00</td>\n",
              "      <td>600.00</td>\n",
              "    </tr>\n",
              "    <tr>\n",
              "      <th>1935</th>\n",
              "      <td>400.00</td>\n",
              "      <td>464.00</td>\n",
              "      <td>448.00</td>\n",
              "      <td>424.00</td>\n",
              "      <td>420.00</td>\n",
              "      <td>384.00</td>\n",
              "    </tr>\n",
              "    <tr>\n",
              "      <th>1936</th>\n",
              "      <td>20.21</td>\n",
              "      <td>19.81</td>\n",
              "      <td>15.36</td>\n",
              "      <td>15.56</td>\n",
              "      <td>22.64</td>\n",
              "      <td>22.03</td>\n",
              "    </tr>\n",
              "  </tbody>\n",
              "</table>\n",
              "<p>1937 rows × 6 columns</p>\n",
              "</div>\n",
              "      <button class=\"colab-df-convert\" onclick=\"convertToInteractive('df-5f325596-6fcb-4030-9832-d10ca5fdca46')\"\n",
              "              title=\"Convert this dataframe to an interactive table.\"\n",
              "              style=\"display:none;\">\n",
              "        \n",
              "  <svg xmlns=\"http://www.w3.org/2000/svg\" height=\"24px\"viewBox=\"0 0 24 24\"\n",
              "       width=\"24px\">\n",
              "    <path d=\"M0 0h24v24H0V0z\" fill=\"none\"/>\n",
              "    <path d=\"M18.56 5.44l.94 2.06.94-2.06 2.06-.94-2.06-.94-.94-2.06-.94 2.06-2.06.94zm-11 1L8.5 8.5l.94-2.06 2.06-.94-2.06-.94L8.5 2.5l-.94 2.06-2.06.94zm10 10l.94 2.06.94-2.06 2.06-.94-2.06-.94-.94-2.06-.94 2.06-2.06.94z\"/><path d=\"M17.41 7.96l-1.37-1.37c-.4-.4-.92-.59-1.43-.59-.52 0-1.04.2-1.43.59L10.3 9.45l-7.72 7.72c-.78.78-.78 2.05 0 2.83L4 21.41c.39.39.9.59 1.41.59.51 0 1.02-.2 1.41-.59l7.78-7.78 2.81-2.81c.8-.78.8-2.07 0-2.86zM5.41 20L4 18.59l7.72-7.72 1.47 1.35L5.41 20z\"/>\n",
              "  </svg>\n",
              "      </button>\n",
              "      \n",
              "  <style>\n",
              "    .colab-df-container {\n",
              "      display:flex;\n",
              "      flex-wrap:wrap;\n",
              "      gap: 12px;\n",
              "    }\n",
              "\n",
              "    .colab-df-convert {\n",
              "      background-color: #E8F0FE;\n",
              "      border: none;\n",
              "      border-radius: 50%;\n",
              "      cursor: pointer;\n",
              "      display: none;\n",
              "      fill: #1967D2;\n",
              "      height: 32px;\n",
              "      padding: 0 0 0 0;\n",
              "      width: 32px;\n",
              "    }\n",
              "\n",
              "    .colab-df-convert:hover {\n",
              "      background-color: #E2EBFA;\n",
              "      box-shadow: 0px 1px 2px rgba(60, 64, 67, 0.3), 0px 1px 3px 1px rgba(60, 64, 67, 0.15);\n",
              "      fill: #174EA6;\n",
              "    }\n",
              "\n",
              "    [theme=dark] .colab-df-convert {\n",
              "      background-color: #3B4455;\n",
              "      fill: #D2E3FC;\n",
              "    }\n",
              "\n",
              "    [theme=dark] .colab-df-convert:hover {\n",
              "      background-color: #434B5C;\n",
              "      box-shadow: 0px 1px 3px 1px rgba(0, 0, 0, 0.15);\n",
              "      filter: drop-shadow(0px 1px 2px rgba(0, 0, 0, 0.3));\n",
              "      fill: #FFFFFF;\n",
              "    }\n",
              "  </style>\n",
              "\n",
              "      <script>\n",
              "        const buttonEl =\n",
              "          document.querySelector('#df-5f325596-6fcb-4030-9832-d10ca5fdca46 button.colab-df-convert');\n",
              "        buttonEl.style.display =\n",
              "          google.colab.kernel.accessAllowed ? 'block' : 'none';\n",
              "\n",
              "        async function convertToInteractive(key) {\n",
              "          const element = document.querySelector('#df-5f325596-6fcb-4030-9832-d10ca5fdca46');\n",
              "          const dataTable =\n",
              "            await google.colab.kernel.invokeFunction('convertToInteractive',\n",
              "                                                     [key], {});\n",
              "          if (!dataTable) return;\n",
              "\n",
              "          const docLinkHtml = 'Like what you see? Visit the ' +\n",
              "            '<a target=\"_blank\" href=https://colab.research.google.com/notebooks/data_table.ipynb>data table notebook</a>'\n",
              "            + ' to learn more about interactive tables.';\n",
              "          element.innerHTML = '';\n",
              "          dataTable['output_type'] = 'display_data';\n",
              "          await google.colab.output.renderOutput(dataTable, element);\n",
              "          const docLink = document.createElement('div');\n",
              "          docLink.innerHTML = docLinkHtml;\n",
              "          element.appendChild(docLink);\n",
              "        }\n",
              "      </script>\n",
              "    </div>\n",
              "  </div>\n",
              "  "
            ]
          },
          "metadata": {},
          "execution_count": 56
        }
      ],
      "source": [
        "# check those columns at found indices in df with .iloc\n",
        "df.iloc[:, income_start:income_end+1] # we need to add +1 to income_end as the upper limit is not included,\n",
        "# .... and we want to make sure the last col is included (Jun)"
      ]
    },
    {
      "cell_type": "markdown",
      "source": [
        "**2.**   Identify columns that have the string Income in it"
      ],
      "metadata": {
        "id": "7-nBXZKUX8bJ"
      },
      "id": "7-nBXZKUX8bJ"
    },
    {
      "cell_type": "code",
      "execution_count": null,
      "id": "e7a54401",
      "metadata": {
        "id": "e7a54401"
      },
      "outputs": [],
      "source": [
        "# 2.compute the total income and assign it in a new column in the df\n",
        "# and add a new column 'Total Income' that will store the some of columns\n",
        "\n",
        "df['Total Income'] = df.iloc[:, income_start:income_end].sum(axis=1) # axis=1 is  the column axis\n",
        "df.head() #the column was added at the the end"
      ]
    },
    {
      "cell_type": "code",
      "execution_count": null,
      "id": "2b0c6a19-a425-431f-b612-67594e9cf19b",
      "metadata": {
        "id": "2b0c6a19-a425-431f-b612-67594e9cf19b"
      },
      "outputs": [],
      "source": [
        "income_end"
      ]
    },
    {
      "cell_type": "code",
      "execution_count": null,
      "id": "687a6abf",
      "metadata": {
        "id": "687a6abf"
      },
      "outputs": [],
      "source": [
        "# order: we want to order columns so Total Income would follof the Income columns\n",
        "# cut and insert the column after all Income months columns\n",
        "\n",
        "df.insert(income_end + 1, # at what index to insesrt\n",
        "          'Total Income', # Label of the inserted column.\n",
        "          df.pop('Total Income')) # Return item and drop from frame\n",
        "df.head()"
      ]
    },
    {
      "cell_type": "raw",
      "id": "0a9723dc-f0e9-4f82-a9c5-bce05271dadd",
      "metadata": {
        "id": "0a9723dc-f0e9-4f82-a9c5-bce05271dadd"
      },
      "source": [
        "Let's have look where Income stands in the excel"
      ]
    },
    {
      "cell_type": "code",
      "execution_count": null,
      "id": "73e87268",
      "metadata": {
        "id": "73e87268"
      },
      "outputs": [],
      "source": [
        "# find column number of column Jan Income in Excel\n",
        "for i in range(1, sheet.max_column+1):# without + 1\n",
        "    ref = sheet.cell(row=1, column=i)\n",
        "    if ref.value == 'Jan Income':\n",
        "        print('in EXCEL the column nb for Jan Income is: ', ref.column)"
      ]
    },
    {
      "cell_type": "code",
      "execution_count": null,
      "id": "89722399",
      "metadata": {
        "id": "89722399"
      },
      "outputs": [],
      "source": [
        "# find column number that have Income months\n",
        "\n",
        "income_col = []\n",
        "for i in range(1, sheet.max_column+1):# without + 1\n",
        "    ref = sheet.cell(row=1, column=i)\n",
        "    if 'Income' in ref.value:\n",
        "        income_col.append(ref.column)\n",
        "\n",
        "print(income_col)"
      ]
    },
    {
      "cell_type": "code",
      "execution_count": null,
      "id": "3e4452c4",
      "metadata": {
        "id": "3e4452c4"
      },
      "outputs": [],
      "source": [
        "income_start= income_col[0] - 1\n",
        "print(income_start)\n",
        "income_end= income_col[-1] -1 \n",
        "print(income_end)\n",
        "print('')\n",
        "\n",
        "# find the letters corespondin to this columns\n",
        "print('income starts at column: ', xl_col_to_name(income_start),\n",
        "      'income end at column: ', xl_col_to_name(income_end))"
      ]
    },
    {
      "cell_type": "code",
      "execution_count": null,
      "id": "b08f561c-094d-4a92-9586-2a3c411697fb",
      "metadata": {
        "id": "b08f561c-094d-4a92-9586-2a3c411697fb"
      },
      "outputs": [],
      "source": [
        "income_col"
      ]
    },
    {
      "cell_type": "code",
      "execution_count": null,
      "id": "6ab6fdc3",
      "metadata": {
        "id": "6ab6fdc3"
      },
      "outputs": [],
      "source": [
        "# compute where to copy/past the total for expenditure\n",
        "total_inc_col = income_col[-1] + 1\n",
        "# we would like to insert the column Total Income at column 10\n",
        "print(total_inc_col)"
      ]
    },
    {
      "cell_type": "code",
      "execution_count": null,
      "id": "be86bd65",
      "metadata": {
        "id": "be86bd65"
      },
      "outputs": [],
      "source": [
        "# insert columns\n",
        "sheet.insert_cols(idx= total_inc_col, # column location\n",
        "                  amount=1) # how many columns to insert\n",
        "\n",
        "\n",
        "wb.save('Budget_processed.xlsx') "
      ]
    },
    {
      "cell_type": "code",
      "execution_count": null,
      "id": "75523c8c-63c4-40f3-8ea1-c5f5933cfa05",
      "metadata": {
        "id": "75523c8c-63c4-40f3-8ea1-c5f5933cfa05"
      },
      "outputs": [],
      "source": [
        "# in updated excel, we inserted an empty column (after June Income)\n",
        "\n",
        "for idx, row in enumerate(sheet['A1:L5']):\n",
        "    print(idx+1, [x.value for x in row])                               \n"
      ]
    },
    {
      "cell_type": "code",
      "execution_count": null,
      "id": "9dba5b92",
      "metadata": {
        "id": "9dba5b92"
      },
      "outputs": [],
      "source": [
        "# save the column 'Total Income' from df computed with pandas in list cellrange\n",
        "\n",
        "cellrange = df['Total Income']\n",
        "\n",
        "# the column index (in excel) where we want to write\n",
        "print(total_inc_col)\n",
        "\n",
        "# starting row 2\n",
        "row= 2\n",
        "\n",
        "# copy the elements from cellrange in excel\n",
        "for i in range(0, len(cellrange)):\n",
        "    sheet.cell(row=row, column = total_inc_col).value= cellrange[i]\n",
        "    row=row+1\n",
        "\n",
        "# save the modifications\n",
        "wb.save('Budget_processed.xlsx') "
      ]
    },
    {
      "cell_type": "code",
      "execution_count": null,
      "id": "5676bb52-09d2-4b77-8391-c35f1d9e0f4c",
      "metadata": {
        "id": "5676bb52-09d2-4b77-8391-c35f1d9e0f4c"
      },
      "outputs": [],
      "source": [
        "print(total_inc_col)\n",
        "# in updated excel, we wrote the cellrange datas in the column 10\n",
        "\n",
        "for idx, row in enumerate(sheet['A1:L5']):\n",
        "    print(idx+1, [x.value for x in row]) "
      ]
    },
    {
      "cell_type": "code",
      "execution_count": null,
      "id": "db229de0",
      "metadata": {
        "id": "db229de0"
      },
      "outputs": [],
      "source": [
        "# write column name for Total expenditure as a header\n",
        "# compute this location...\n",
        "total_inc_col_letter = get_column_letter(total_inc_col)\n",
        "total_inc_row = 1\n",
        "total_inc_cel_ref = str(total_inc_col_letter) + str(total_inc_row)\n",
        "total_inc_cel_ref"
      ]
    },
    {
      "cell_type": "code",
      "execution_count": null,
      "id": "e8fc0a1e",
      "metadata": {
        "id": "e8fc0a1e"
      },
      "outputs": [],
      "source": [
        "# write it in excel \n",
        "sheet[total_inc_cel_ref]= 'Total Income'\n",
        "wb.save('Budget_processed.xlsx') \n",
        "\n",
        "for idx, row in enumerate(sheet['A1:L3']):\n",
        "    print(idx+1, [x.value for x in row])"
      ]
    },
    {
      "cell_type": "code",
      "execution_count": null,
      "id": "06836c32-7039-43e7-99dd-e3269b06f9a7",
      "metadata": {
        "id": "06836c32-7039-43e7-99dd-e3269b06f9a7"
      },
      "outputs": [],
      "source": [
        "# display image\n",
        "img = mpimg.imread('images/img_1.PNG')\n",
        "plt.imshow(img)\n",
        "plt.rcParams['figure.figsize'] = [12, 10]\n",
        "plt.axis('off')\n",
        "plt.show()"
      ]
    },
    {
      "cell_type": "markdown",
      "id": "85bdf63a",
      "metadata": {
        "id": "85bdf63a"
      },
      "source": [
        "## Expenditure "
      ]
    },
    {
      "cell_type": "markdown",
      "id": "abce2e1d",
      "metadata": {
        "id": "abce2e1d"
      },
      "source": [
        "Total Expenditure"
      ]
    },
    {
      "cell_type": "code",
      "execution_count": null,
      "id": "18a96bc5",
      "metadata": {
        "id": "18a96bc5"
      },
      "outputs": [],
      "source": [
        "# first compute total income for all months in df\n",
        "\n",
        "# identify column index for column with Income\n",
        "expenditure_col=[]\n",
        "for col in range(0, len(df.columns)):\n",
        "    if 'Expenditure' in df.columns[col]:\n",
        "        expenditure_col.append(col)\n",
        "\n",
        "print(expenditure_col)\n",
        "\n",
        "expenditure_start= expenditure_col[0]\n",
        "expenditure_end= expenditure_col[-1]"
      ]
    },
    {
      "cell_type": "code",
      "execution_count": null,
      "id": "b18d7544",
      "metadata": {
        "id": "b18d7544"
      },
      "outputs": [],
      "source": [
        "#check those columns at found indices \n",
        "df.iloc[:, expenditure_start:expenditure_end+1]"
      ]
    },
    {
      "cell_type": "code",
      "execution_count": null,
      "id": "3c270f39",
      "metadata": {
        "id": "3c270f39"
      },
      "outputs": [],
      "source": [
        "# compute the total income and assign it in a new column in the df\n",
        "df['Total Expenditure'] = df.iloc[:, expenditure_start:expenditure_end].sum(axis=1)\n",
        "df.head() #the column was added at the the end"
      ]
    },
    {
      "cell_type": "code",
      "execution_count": null,
      "id": "e2b83cb2",
      "metadata": {
        "id": "e2b83cb2"
      },
      "outputs": [],
      "source": [
        "# find column number of column Jan Income\n",
        "for i in range(1, sheet.max_column+1):# without + 1\n",
        "    ref = sheet.cell(row=1, column=i)\n",
        "    if ref.value == 'Jan Expenditure':\n",
        "        print('the column nb for Jan Expenditure is: ', ref.column)"
      ]
    },
    {
      "cell_type": "code",
      "execution_count": null,
      "id": "05a12e00",
      "metadata": {
        "id": "05a12e00"
      },
      "outputs": [],
      "source": [
        "# find column number that have Income months\n",
        "\n",
        "expenditure_col = []\n",
        "for i in range(1, sheet.max_column+1):# without + 1\n",
        "    ref = sheet.cell(row=1, column=i)\n",
        "    if 'Expenditure' in ref.value:\n",
        "        expenditure_col.append(ref.column)\n",
        "\n",
        "print(expenditure_col)"
      ]
    },
    {
      "cell_type": "code",
      "execution_count": null,
      "id": "2eb0ee26",
      "metadata": {
        "id": "2eb0ee26"
      },
      "outputs": [],
      "source": [
        "expenditure_start= expenditure_col[0] - 1\n",
        "expenditure_end= expenditure_col[-1] -1 \n",
        "\n",
        "print('expenditure starts at column: ', xl_col_to_name(expenditure_start),\n",
        "      'expenditure end at column: ', xl_col_to_name(expenditure_end))"
      ]
    },
    {
      "cell_type": "code",
      "execution_count": null,
      "id": "93d255ba-462b-4428-ad1f-c31950de0632",
      "metadata": {
        "id": "93d255ba-462b-4428-ad1f-c31950de0632"
      },
      "outputs": [],
      "source": [
        "# display image\n",
        "img = mpimg.imread('images/img_1.PNG')\n",
        "plt.imshow(img)\n",
        "plt.rcParams['figure.figsize'] = [12, 10]\n",
        "plt.axis('off')\n",
        "plt.show()"
      ]
    },
    {
      "cell_type": "code",
      "execution_count": null,
      "id": "c122492c",
      "metadata": {
        "id": "c122492c"
      },
      "outputs": [],
      "source": [
        "# compute where to copy/past the total for expenditure\n",
        "total_exp_col = expenditure_col[-1] + 1\n",
        "total_exp_col"
      ]
    },
    {
      "cell_type": "code",
      "execution_count": null,
      "id": "3c4219df",
      "metadata": {
        "id": "3c4219df"
      },
      "outputs": [],
      "source": [
        "cellrange = df['Total Expenditure']\n",
        "row= 2\n",
        "for i in range(0, len(cellrange)):\n",
        "    sheet.cell(row=row, column = total_exp_col).value= cellrange[i]\n",
        "    row=row+1\n",
        "\n",
        "wb.save('Budget_processed.xlsx') "
      ]
    },
    {
      "cell_type": "code",
      "execution_count": null,
      "id": "f4c19256",
      "metadata": {
        "id": "f4c19256"
      },
      "outputs": [],
      "source": [
        "# write column name for Total expenditure\n",
        "total_exp_col_letter = get_column_letter(total_exp_col)\n",
        "total_exp_row = 1\n",
        "total_exp_cel_ref = str(total_exp_col_letter) + str(total_exp_row)\n",
        "total_exp_cel_ref"
      ]
    },
    {
      "cell_type": "code",
      "execution_count": null,
      "id": "edca15a8",
      "metadata": {
        "id": "edca15a8"
      },
      "outputs": [],
      "source": [
        "sheet[total_exp_cel_ref]= 'Total Expenditure'\n",
        "wb.save('Budget_processed.xlsx') "
      ]
    },
    {
      "cell_type": "code",
      "execution_count": null,
      "id": "7c37f3b8-06d6-47ea-b683-5b75051df474",
      "metadata": {
        "id": "7c37f3b8-06d6-47ea-b683-5b75051df474"
      },
      "outputs": [],
      "source": [
        "for idx, row in enumerate(sheet['H1:Q5']):\n",
        "    print(idx+1, [x.value for x in row])"
      ]
    },
    {
      "cell_type": "code",
      "execution_count": null,
      "id": "b81214a3-5c44-4376-99f6-a59cf052703b",
      "metadata": {
        "id": "b81214a3-5c44-4376-99f6-a59cf052703b"
      },
      "outputs": [],
      "source": [
        "# display image\n",
        "img = mpimg.imread('images/img_2.PNG')\n",
        "plt.imshow(img)\n",
        "plt.rcParams['figure.figsize'] = [12, 10]\n",
        "plt.axis('off')\n",
        "plt.show()"
      ]
    },
    {
      "cell_type": "markdown",
      "id": "010fa791",
      "metadata": {
        "id": "010fa791"
      },
      "source": [
        "# Net"
      ]
    },
    {
      "cell_type": "raw",
      "id": "68d44752-da76-4da9-b443-d336e9ff2fc5",
      "metadata": {
        "id": "68d44752-da76-4da9-b443-d336e9ff2fc5"
      },
      "source": [
        "We would like to add a new column \"Net\" at the end of the columns\n",
        "that would soubstract Total Exp from Total Exp"
      ]
    },
    {
      "cell_type": "code",
      "execution_count": null,
      "id": "f493ad31",
      "metadata": {
        "id": "f493ad31"
      },
      "outputs": [],
      "source": [
        "df.head()"
      ]
    },
    {
      "cell_type": "code",
      "execution_count": null,
      "id": "faf08ecf",
      "metadata": {
        "id": "faf08ecf"
      },
      "outputs": [],
      "source": [
        "# compute Net column in df\n",
        "df['Net']= df['Total Income'] - df['Total Expenditure']\n",
        "df.head()"
      ]
    },
    {
      "cell_type": "code",
      "execution_count": null,
      "id": "32dea0d1",
      "metadata": {
        "id": "32dea0d1"
      },
      "outputs": [],
      "source": [
        "# take values for column Net from df\n",
        "# and put them into a list cellrange\n",
        "\n",
        "cellrange = list(df['Net'])\n",
        "cellrange[:10]"
      ]
    },
    {
      "cell_type": "code",
      "execution_count": null,
      "id": "2e7921e2",
      "metadata": {
        "id": "2e7921e2"
      },
      "outputs": [],
      "source": [
        "# insert 'Net' iat index 0 (1st position)\n",
        "cellrange.insert(0, 'Net')\n",
        "cellrange[:10]"
      ]
    },
    {
      "cell_type": "code",
      "execution_count": null,
      "id": "bfa7b667",
      "metadata": {
        "id": "bfa7b667"
      },
      "outputs": [],
      "source": [
        "# column where to paste Net column\n",
        "net_col = df.shape[1]\n",
        "print(net_col)"
      ]
    },
    {
      "cell_type": "code",
      "execution_count": null,
      "id": "1a36ba44",
      "metadata": {
        "id": "1a36ba44"
      },
      "outputs": [],
      "source": [
        "print(net_col)\n",
        "\n",
        "# from row 1\n",
        "row= 1\n",
        "# write  cellrange in excel at column net_col\n",
        "\n",
        "for i in range(0, len(cellrange)):\n",
        "    sheet.cell(row=row, column = net_col).value= cellrange[i]\n",
        "    row=row+1\n",
        "\n",
        "# save\n",
        "wb.save('Budget_processed.xlsx') "
      ]
    },
    {
      "cell_type": "code",
      "execution_count": null,
      "id": "72d77075-cb8b-456b-9a39-ce381f4ae1fa",
      "metadata": {
        "id": "72d77075-cb8b-456b-9a39-ce381f4ae1fa"
      },
      "outputs": [],
      "source": [
        "# display image\n",
        "img = mpimg.imread('images/img_3.PNG')\n",
        "plt.imshow(img)\n",
        "plt.rcParams['figure.figsize'] = [12, 10]\n",
        "plt.axis('off')\n",
        "plt.show()"
      ]
    },
    {
      "cell_type": "code",
      "execution_count": null,
      "id": "ad52de6e-2ca0-4726-ada6-6bc8b1674279",
      "metadata": {
        "id": "ad52de6e-2ca0-4726-ada6-6bc8b1674279"
      },
      "outputs": [],
      "source": [
        "'''\n",
        "writer.save()\n",
        "workbook.close()\n",
        "\n",
        "'''"
      ]
    },
    {
      "cell_type": "markdown",
      "id": "c8cf4628",
      "metadata": {
        "id": "c8cf4628"
      },
      "source": [
        "# Overview"
      ]
    },
    {
      "cell_type": "raw",
      "id": "b10a0074-faa1-45b8-b798-dc717d762a77",
      "metadata": {
        "id": "b10a0074-faa1-45b8-b798-dc717d762a77"
      },
      "source": [
        "Now we'd like to work on the overview part"
      ]
    },
    {
      "cell_type": "code",
      "execution_count": null,
      "id": "6d13e061-8cbd-4721-9c13-3c5137380116",
      "metadata": {
        "id": "6d13e061-8cbd-4721-9c13-3c5137380116"
      },
      "outputs": [],
      "source": [
        "# overview part\n",
        "img = mpimg.imread('images/img_4.PNG')\n",
        "plt.imshow(img)\n",
        "plt.rcParams['figure.figsize'] = [12, 10]\n",
        "plt.axis('off')\n",
        "plt.show()"
      ]
    },
    {
      "cell_type": "raw",
      "id": "e87febd9-2d41-4d17-9efb-6355856623cc",
      "metadata": {
        "id": "e87febd9-2d41-4d17-9efb-6355856623cc"
      },
      "source": [
        "First, we'll create a new sheet \"OVerview\" where we'll work on Overview part data"
      ]
    },
    {
      "cell_type": "code",
      "execution_count": null,
      "id": "0de6cb42",
      "metadata": {
        "id": "0de6cb42"
      },
      "outputs": [],
      "source": [
        "# create sheet 'Overview'\n",
        "wb.create_sheet(title='Overview')\n",
        "\n",
        "overview= wb['Overview'] # create reference to the sheet# delete a sheet\n",
        "\n",
        "# check the workbook sheet\n",
        "print(wb.sheetnames)\n",
        "\n",
        "# save the new workbook \n",
        "wb.save('Budget_processed.xlsx')"
      ]
    },
    {
      "cell_type": "markdown",
      "id": "33276476",
      "metadata": {
        "id": "33276476"
      },
      "source": [
        "## Income & Expenditure names & Months "
      ]
    },
    {
      "cell_type": "raw",
      "id": "56705758",
      "metadata": {
        "id": "56705758"
      },
      "source": [
        "Months"
      ]
    },
    {
      "cell_type": "raw",
      "id": "40711ea1-0723-40ff-9c88-06622cf3b9c0",
      "metadata": {
        "id": "40711ea1-0723-40ff-9c88-06622cf3b9c0"
      },
      "source": [
        "Get all the months present in the excel"
      ]
    },
    {
      "cell_type": "code",
      "execution_count": null,
      "id": "cab44d0a",
      "metadata": {
        "id": "cab44d0a"
      },
      "outputs": [],
      "source": [
        "# identify column index for column with Income\n",
        "months=[]\n",
        "for month in df.columns:\n",
        "    if 'Income' in month:\n",
        "        months.append(month)\n",
        "print(months)"
      ]
    },
    {
      "cell_type": "raw",
      "id": "59843fcb-af65-4fc4-a4c9-ebd84e101d61",
      "metadata": {
        "id": "59843fcb-af65-4fc4-a4c9-ebd84e101d61"
      },
      "source": [
        "# remove 'Total Income' from the list\n",
        "months.remove('Total Income')\n",
        "months"
      ]
    },
    {
      "cell_type": "code",
      "execution_count": null,
      "id": "8e640e56",
      "metadata": {
        "id": "8e640e56"
      },
      "outputs": [],
      "source": [
        "# remove the substring ' Income' from the list items\n",
        "\n",
        "months = list(map(lambda x: x.replace(' Income',''), months))\n",
        "print('nb of months: ', len(months))\n",
        "\n",
        "# save in variable nb_months the nb of monthe\n",
        "nb_months = len(months)\n",
        "\n",
        "print('')\n",
        "print('will have the same months for INcome, and Expenditure as well')\n",
        "months\n"
      ]
    },
    {
      "cell_type": "raw",
      "id": "7473df3d",
      "metadata": {
        "id": "7473df3d"
      },
      "source": [
        "Income"
      ]
    },
    {
      "cell_type": "code",
      "execution_count": null,
      "id": "468fc843",
      "metadata": {
        "id": "468fc843"
      },
      "outputs": [],
      "source": [
        "# create a list where the string \"INCOME\" will be repeated 7 times\n",
        "# we multiply ['INCOME'] by the length of months (here 7) \n",
        "\n",
        "list_income= ['INCOME']* (nb_months)\n",
        "list_income"
      ]
    },
    {
      "cell_type": "code",
      "execution_count": null,
      "id": "d4d19d27",
      "metadata": {
        "id": "d4d19d27"
      },
      "outputs": [],
      "source": [
        "# we'll do a nested list \"list_inc_2\" that will contain both lists:\n",
        "# list_income AND months\n",
        "\n",
        "list_inc_2 = [list_income, months]\n",
        "print(list_inc_2)"
      ]
    },
    {
      "cell_type": "code",
      "execution_count": null,
      "id": "81ca5ae7-764d-479b-b993-bdae0fba7157",
      "metadata": {
        "id": "81ca5ae7-764d-479b-b993-bdae0fba7157"
      },
      "outputs": [],
      "source": []
    },
    {
      "cell_type": "raw",
      "id": "05890735",
      "metadata": {
        "id": "05890735"
      },
      "source": [
        "Expenditure"
      ]
    },
    {
      "cell_type": "raw",
      "id": "b767f2ae-9a22-46d6-baea-b4410123c6ba",
      "metadata": {
        "id": "b767f2ae-9a22-46d6-baea-b4410123c6ba"
      },
      "source": [
        "Let's do the same for Expenditure.."
      ]
    },
    {
      "cell_type": "code",
      "execution_count": null,
      "id": "af1e057e",
      "metadata": {
        "id": "af1e057e"
      },
      "outputs": [],
      "source": [
        "list_expenditure= ['Expenditure']*(nb_months)\n",
        "list_exp_2 = [list_expenditure, months]\n",
        "print(list_exp_2)"
      ]
    },
    {
      "cell_type": "raw",
      "id": "4f3174df-3bd1-489e-bc62-60214e3b74f2",
      "metadata": {
        "id": "4f3174df-3bd1-489e-bc62-60214e3b74f2"
      },
      "source": [
        "zip() function"
      ]
    },
    {
      "cell_type": "raw",
      "id": "fcdd1897-4341-4be6-a5cb-abf6e86bfcf4",
      "metadata": {
        "id": "fcdd1897-4341-4be6-a5cb-abf6e86bfcf4"
      },
      "source": [
        "The zip() function takes iterables (can be zero or more), aggregates them in a tuple, and returns it. (it's like combining items from both lists)"
      ]
    },
    {
      "cell_type": "code",
      "execution_count": null,
      "id": "cb75c72e-3b45-4934-afcd-8d08e247a81e",
      "metadata": {
        "id": "cb75c72e-3b45-4934-afcd-8d08e247a81e"
      },
      "outputs": [],
      "source": [
        "languages = ['Java', 'Python']\n",
        "versions = [14, 3]\n",
        "\n",
        "result = zip(languages, versions)\n",
        "print(list(result))"
      ]
    },
    {
      "cell_type": "code",
      "execution_count": null,
      "id": "475ce104-cdf3-4fbf-85c5-0a2981209002",
      "metadata": {
        "id": "475ce104-cdf3-4fbf-85c5-0a2981209002"
      },
      "outputs": [],
      "source": [
        "list(zip(list_inc_2, list_exp_2))"
      ]
    },
    {
      "cell_type": "code",
      "execution_count": null,
      "id": "9331ae22",
      "metadata": {
        "id": "9331ae22"
      },
      "outputs": [],
      "source": [
        "# let's do the same with list_inc_2, list_exp_2\n",
        "# but will modify a little bit, so in final we'll have lists and not tuples\n",
        "# and also we will flatten/ merge to obtain a single list by tuple\n",
        "# finally we will obtain a nested list inc_exp\n",
        "\n",
        "inc_exp = [a + b for a, b in zip(list_inc_2, list_exp_2)]\n",
        "inc_exp"
      ]
    },
    {
      "cell_type": "raw",
      "id": "0da40b58",
      "metadata": {
        "id": "0da40b58"
      },
      "source": [
        "Add the Inc, Exp names rows and months rows to overview"
      ]
    },
    {
      "cell_type": "code",
      "execution_count": null,
      "id": "acc9b244",
      "metadata": {
        "id": "acc9b244"
      },
      "outputs": [],
      "source": [
        "# compute dimensions of the nested list\n",
        "\n",
        "print(inc_exp)\n",
        "# how many itmes in nested list\n",
        "maxr = len(inc_exp)\n",
        "\n",
        "# how many subitmes in nested list\n",
        "maxc = len(inc_exp[0])\n",
        "\n",
        "print('')\n",
        "print(maxr , maxc)"
      ]
    },
    {
      "cell_type": "code",
      "execution_count": null,
      "id": "282a22fa",
      "metadata": {
        "id": "282a22fa"
      },
      "outputs": [],
      "source": [
        "# copy to excel\n",
        "for this_row in range (1, maxr + 1):\n",
        "    for this_column in range (1, maxc + 1):\n",
        "        #print(this_row)\n",
        "       # print(this_column)\n",
        "        cellsource = inc_exp[this_row-1][this_column-1]        \n",
        "        overview.cell(row = this_row+1, column = this_column+1).value = cellsource \n",
        "        # !!!! (should be 10)\n",
        "\n",
        "# see what was written\n",
        "for idx,row in enumerate(overview[\"A1:O3\"]):\n",
        "    print (idx+1, [x.value for x in row])"
      ]
    },
    {
      "cell_type": "code",
      "execution_count": null,
      "id": "fc20ce97-0988-47d0-ad37-36bf4189f723",
      "metadata": {
        "id": "fc20ce97-0988-47d0-ad37-36bf4189f723"
      },
      "outputs": [],
      "source": [
        "# we have added first to rows  of the Overview part\n",
        "# row nb 2, col B\n",
        "\n",
        "img = mpimg.imread('images/img_5.PNG')\n",
        "plt.imshow(img)\n",
        "plt.rcParams['figure.figsize'] = [12, 10]\n",
        "plt.axis('off')\n",
        "plt.show()"
      ]
    },
    {
      "cell_type": "code",
      "execution_count": null,
      "id": "d9524503",
      "metadata": {
        "id": "d9524503"
      },
      "outputs": [],
      "source": [
        "# save the new workbook \n",
        "wb.save('Budget_processed.xlsx')"
      ]
    },
    {
      "cell_type": "markdown",
      "id": "76bae854",
      "metadata": {
        "id": "76bae854"
      },
      "source": [
        "## Monthly totals by business"
      ]
    },
    {
      "cell_type": "code",
      "execution_count": null,
      "id": "ff180f61-6a31-4c04-95a3-b945f71bdce5",
      "metadata": {
        "id": "ff180f61-6a31-4c04-95a3-b945f71bdce5"
      },
      "outputs": [],
      "source": [
        "# compute... :\n",
        "\n",
        "# Groupby by Business category (yellow part)\n",
        "# Monthly Total (red part)\n",
        "# monthly evolution (blue part)\n",
        "\n",
        "\n"
      ]
    },
    {
      "cell_type": "code",
      "execution_count": null,
      "id": "1041bbb6-c5ee-4c91-a97b-bf4b32bd4f04",
      "metadata": {
        "id": "1041bbb6-c5ee-4c91-a97b-bf4b32bd4f04"
      },
      "outputs": [],
      "source": [
        "# total by busines type, split afterwards by INCOME and EXP\n",
        "\n",
        "img = mpimg.imread('images/img_6.PNG')\n",
        "plt.imshow(img)\n",
        "plt.rcParams['figure.figsize'] = [12, 10]\n",
        "plt.axis('off')\n",
        "plt.show()"
      ]
    },
    {
      "cell_type": "raw",
      "id": "2f5707a5-f715-4f11-b346-61294a664e4d",
      "metadata": {
        "id": "2f5707a5-f715-4f11-b346-61294a664e4d"
      },
      "source": [
        "Total by busines"
      ]
    },
    {
      "cell_type": "raw",
      "id": "8e7b870b-d479-4206-8b76-8e982909b99b",
      "metadata": {
        "id": "8e7b870b-d479-4206-8b76-8e982909b99b"
      },
      "source": [
        "Income"
      ]
    },
    {
      "cell_type": "code",
      "execution_count": null,
      "id": "fc1b74c5",
      "metadata": {
        "id": "fc1b74c5"
      },
      "outputs": [],
      "source": [
        "# identify column index for column with Income\n",
        "income_months=[]\n",
        "for month in df.columns:\n",
        "    if 'Income' in month:\n",
        "        income_months.append(month)\n",
        "        \n",
        "# remove 'Total Income' from the list\n",
        "income_months.remove('Total Income')\n",
        "print(income_months)"
      ]
    },
    {
      "cell_type": "code",
      "execution_count": null,
      "id": "b3a776c0",
      "metadata": {
        "id": "b3a776c0"
      },
      "outputs": [],
      "source": [
        "# comute totals by business group for income\n",
        "\n",
        "# first create a df= business_income where it will group by business for each month\n",
        "business_income = round(df.groupby(['Business'])[income_months].sum(), 2)\n",
        "business_income"
      ]
    },
    {
      "cell_type": "code",
      "execution_count": null,
      "id": "5fbbb8ee-5c4e-49b3-b956-30537652e585",
      "metadata": {
        "id": "5fbbb8ee-5c4e-49b3-b956-30537652e585"
      },
      "outputs": [],
      "source": [
        "# add a columns where total for all months for income will be comutes\n",
        "business_income['Total Income'] = round(business_income.sum(axis=1), 2)\n",
        "business_income"
      ]
    },
    {
      "cell_type": "raw",
      "id": "2824b8b0-b05c-4c30-813d-9ced2b0459f9",
      "metadata": {
        "id": "2824b8b0-b05c-4c30-813d-9ced2b0459f9"
      },
      "source": [
        "Expenditure"
      ]
    },
    {
      "cell_type": "code",
      "execution_count": null,
      "id": "d5874e3e",
      "metadata": {
        "id": "d5874e3e"
      },
      "outputs": [],
      "source": [
        "# identify column index for column with Income\n",
        "exp_months=[]\n",
        "for month in df.columns:\n",
        "    if 'Expenditure' in month:\n",
        "        exp_months.append(month)\n",
        "        \n",
        "# remove 'Total Income' from the list\n",
        "exp_months.remove('Total Expenditure')\n",
        "print(exp_months)"
      ]
    },
    {
      "cell_type": "code",
      "execution_count": null,
      "id": "2e2a1fd4",
      "metadata": {
        "id": "2e2a1fd4"
      },
      "outputs": [],
      "source": [
        "business_exp = round(df.groupby(['Business'])[exp_months].sum(), 2)\n",
        "business_exp['Total Expenditure'] = round(business_exp.sum(axis=1), 2)\n",
        "business_exp"
      ]
    },
    {
      "cell_type": "code",
      "execution_count": null,
      "id": "fe8459a3",
      "metadata": {
        "id": "fe8459a3"
      },
      "outputs": [],
      "source": [
        "# join the 2 df horizontally\n",
        "business_df = pd.concat([business_income, business_exp], axis=1)\n",
        "business_df"
      ]
    },
    {
      "cell_type": "code",
      "execution_count": null,
      "id": "bf3c6c95-1c09-4dd3-9ee7-23cd1a1f732d",
      "metadata": {
        "id": "bf3c6c95-1c09-4dd3-9ee7-23cd1a1f732d"
      },
      "outputs": [],
      "source": [
        "# we groupby by busines (the yellow part)\n",
        "# review scrrenshot !!!!\n",
        "img = mpimg.imread('images/img_6.PNG')\n",
        "plt.imshow(img)\n",
        "plt.rcParams['figure.figsize'] = [12, 10]\n",
        "plt.axis('off')\n",
        "plt.show()"
      ]
    },
    {
      "cell_type": "raw",
      "id": "5779ecbb-c205-41d7-b027-9c09ae3fccfe",
      "metadata": {
        "id": "5779ecbb-c205-41d7-b027-9c09ae3fccfe"
      },
      "source": [
        "Get the totals by columns of business_df"
      ]
    },
    {
      "cell_type": "code",
      "execution_count": null,
      "id": "7db9e434",
      "metadata": {
        "id": "7db9e434"
      },
      "outputs": [],
      "source": [
        "business_col = business_df.columns.to_list()\n",
        "#business_col.remove('Total Income')\n",
        "#business_col.remove('Total Expenditure')\n",
        "business_col"
      ]
    },
    {
      "cell_type": "code",
      "execution_count": null,
      "id": "981e0d32",
      "metadata": {
        "id": "981e0d32"
      },
      "outputs": [],
      "source": [
        "# get Total by Month (in column)\n",
        "\n",
        "monthly_total = round(business_df[business_col].sum(), 2)\n",
        "print(len(monthly_total))\n",
        "monthly_total"
      ]
    },
    {
      "cell_type": "code",
      "execution_count": null,
      "id": "a2d23538-badf-43d0-b495-07cd29bbb6bd",
      "metadata": {
        "id": "a2d23538-badf-43d0-b495-07cd29bbb6bd"
      },
      "outputs": [],
      "source": [
        "# total by columns for business_df (the red part)\n",
        "# review screenshot !!!\n",
        "\n",
        "img = mpimg.imread('images/img_6.PNG')\n",
        "plt.imshow(img)\n",
        "plt.rcParams['figure.figsize'] = [12, 10]\n",
        "plt.axis('off')\n",
        "plt.show()"
      ]
    },
    {
      "cell_type": "code",
      "execution_count": null,
      "id": "0fedf849",
      "metadata": {
        "id": "0fedf849"
      },
      "outputs": [],
      "source": [
        "ev = round(monthly_total.pct_change(), 5)\n",
        "ev['Total Income'] = None\n",
        "ev['Jan Expenditure'] = None\n",
        "ev['Total Expenditure'] = None\n",
        "ev"
      ]
    },
    {
      "cell_type": "code",
      "execution_count": null,
      "id": "c4b619e4-e1a2-443a-ae78-8e12eecd1f89",
      "metadata": {
        "id": "c4b619e4-e1a2-443a-ae78-8e12eecd1f89"
      },
      "outputs": [],
      "source": [
        "# evolution from month to month, that afterwords will be formated as a %\n",
        "# the blue part\n",
        "\n",
        "# review screenshot !!!\n",
        "img = mpimg.imread('images/img_6.PNG')\n",
        "plt.imshow(img)\n",
        "plt.rcParams['figure.figsize'] = [12, 10]\n",
        "plt.axis('off')\n",
        "plt.show()"
      ]
    },
    {
      "cell_type": "code",
      "execution_count": null,
      "id": "f1aba2a1-28ce-454d-9bf9-f8373f0d1bbb",
      "metadata": {
        "id": "f1aba2a1-28ce-454d-9bf9-f8373f0d1bbb"
      },
      "outputs": [],
      "source": [
        "# Till now we computed:\n",
        "\n",
        "# business_df\n",
        "print(business_df.shape, business_df.iloc[:, :5])\n",
        "print('')\n",
        "\n",
        "# monthly_total\n",
        "print(len(monthly_total), monthly_total[:5])\n",
        "print('')\n",
        "\n",
        "# monthly evolution\n",
        "print(len(ev), ev[:5])"
      ]
    },
    {
      "cell_type": "raw",
      "id": "c67e6be8-f5fb-4021-abd6-c5bb41722b81",
      "metadata": {
        "id": "c67e6be8-f5fb-4021-abd6-c5bb41722b81"
      },
      "source": [
        "We would like to write them all in our excel, sheet overview"
      ]
    },
    {
      "cell_type": "code",
      "execution_count": null,
      "id": "89df2900-6a7b-4aa1-ae19-bdc4c1701a83",
      "metadata": {
        "id": "89df2900-6a7b-4aa1-ae19-bdc4c1701a83"
      },
      "outputs": [],
      "source": [
        "# in our excel in the sheet Overview we have\n",
        "\n",
        "img = mpimg.imread('images/img_5.PNG')\n",
        "plt.imshow(img)\n",
        "plt.rcParams['figure.figsize'] = [12, 10]\n",
        "plt.axis('off')\n",
        "plt.show()"
      ]
    },
    {
      "cell_type": "markdown",
      "id": "7c565e0e",
      "metadata": {
        "id": "7c565e0e"
      },
      "source": [
        "### Copy new data to excel overview"
      ]
    },
    {
      "cell_type": "code",
      "execution_count": null,
      "id": "fd23adee-9cb4-4221-ad76-3ebff9ba009c",
      "metadata": {
        "id": "fd23adee-9cb4-4221-ad76-3ebff9ba009c"
      },
      "outputs": [],
      "source": [
        "def copyRange(startCol, startRow, endCol, endRow, sheet):\n",
        "    rangeSelected = []\n",
        "    # Loops through selected Rows\n",
        "    for i in range(\n",
        "      startRow,endRow + 1,1):\n",
        "        # Appends the row to a RowSelected list\n",
        "        rowSelected = []\n",
        "        for j in range(startCol,endCol+1,1):\n",
        "            rowSelected.append(sheet.cell(row = i, column = j).value)\n",
        "        # Adds the RowSelected List and nests inside the rangeSelected\n",
        "        rangeSelected.append(rowSelected)\n",
        "\n",
        "    return rangeSelected"
      ]
    },
    {
      "cell_type": "code",
      "execution_count": null,
      "id": "c4f60a9a-1d9a-4b08-affa-ac0e8e2c14f2",
      "metadata": {
        "id": "c4f60a9a-1d9a-4b08-affa-ac0e8e2c14f2"
      },
      "outputs": [],
      "source": [
        "# Paste data from copyRange into template sheet\n",
        "def pasteRange(startCol, startRow, endCol, endRow, sheetReceiving, copiedData):\n",
        "    countRow = 0\n",
        "    for i in range(startRow,endRow+1,1):\n",
        "        countCol = 0\n",
        "        for j in range(startCol,endCol+1,1):\n",
        "            \n",
        "            sheetReceiving.cell(row = i, column = j).value = copiedData[countRow][countCol]\n",
        "            countCol += 1\n",
        "        countRow += 1"
      ]
    },
    {
      "cell_type": "raw",
      "id": "e708bc15",
      "metadata": {
        "id": "e708bc15"
      },
      "source": [
        "cell notation with xl_rowcol_to_cell\n",
        "\n",
        "(0, 0)      # Row-column notation.\n",
        "('A1')      # The same cell in A1 notation.\n",
        "\n",
        "(6, 2)      # Row-column notation.\n",
        "('C7')      # The same cell in A1 notation"
      ]
    },
    {
      "cell_type": "code",
      "execution_count": null,
      "id": "019f95ac-1daa-470f-8268-4b12de343289",
      "metadata": {
        "id": "019f95ac-1daa-470f-8268-4b12de343289"
      },
      "outputs": [],
      "source": [
        "# cell notation with xl_rowcol_to_cell\n",
        "\n",
        "print(xl_rowcol_to_cell(6,2)) # always add + 1\n",
        "print(xl_rowcol_to_cell(0,0))\n",
        "print(xl_rowcol_to_cell(9,3))"
      ]
    },
    {
      "cell_type": "code",
      "execution_count": null,
      "id": "e9cae3c5-ba91-458f-a4a1-a0ab084ef4eb",
      "metadata": {
        "id": "e9cae3c5-ba91-458f-a4a1-a0ab084ef4eb"
      },
      "outputs": [],
      "source": [
        "print(business_df.shape)\n",
        "\n",
        "# get only the values of the business_df (omit indices)\n",
        "business_values = business_df.values\n",
        "print(len(business_values))\n",
        "print(len(business_values[0]))"
      ]
    },
    {
      "cell_type": "raw",
      "id": "4e3a3384-daf7-4a5e-88cc-906184ee4b0b",
      "metadata": {
        "id": "4e3a3384-daf7-4a5e-88cc-906184ee4b0b"
      },
      "source": [
        "We want to paste in the excel, sheet overview with function \n",
        "pasteRange()\n",
        "\n",
        "But first, we need to compute the range where to pasted\n",
        "\n"
      ]
    },
    {
      "cell_type": "code",
      "execution_count": null,
      "id": "12076063-5a60-468d-b99f-6b066664b693",
      "metadata": {
        "id": "12076063-5a60-468d-b99f-6b066664b693"
      },
      "outputs": [],
      "source": [
        "# write a function that will compute the accurate nb of rows by omitting blanks\n",
        "def get_maximum_rows_blank(*, sheet_object):\n",
        "    rows = 0\n",
        "    for max_row, row in enumerate(sheet_object, 1):\n",
        "        if  not all(col.value is None for col in row):\n",
        "            rows += 1\n",
        "        \n",
        "    return rows\n",
        "\n",
        "# call the new function\n",
        "get_maximum_rows_blank(sheet_object = overview) "
      ]
    },
    {
      "cell_type": "code",
      "execution_count": null,
      "id": "bf447b3c-48f7-4c0b-9a77-a8f1af043e70",
      "metadata": {
        "id": "bf447b3c-48f7-4c0b-9a77-a8f1af043e70"
      },
      "outputs": [],
      "source": [
        "# write a function that will compute the accurate nb of rows including the blanks, up to the last non blanks\n",
        "def get_maximum_rows(*, sheet_object):\n",
        "    df_range= 'A1:' + str(get_column_letter(sheet_object.max_column)) + str(sheet_object.max_row)\n",
        "    rows = 0\n",
        "    for idx, row in enumerate(sheet_object[df_range]): # values_only=True meanse we want to access the values\n",
        "        if not all(col.value is None for col in row):\n",
        "            rows += 1\n",
        "            last_row = idx+1\n",
        "    return last_row\n",
        "\n",
        "get_maximum_rows(sheet_object = overview) "
      ]
    },
    {
      "cell_type": "code",
      "execution_count": null,
      "id": "483c02a4-a6e0-4bb5-bf97-570c51dd8eb6",
      "metadata": {
        "id": "483c02a4-a6e0-4bb5-bf97-570c51dd8eb6"
      },
      "outputs": [],
      "source": [
        "def get_maximum_cols(sheet):\n",
        "    for i in range(2, 20000):\n",
        "        if sheet.cell(row=1, column= i).value == None:\n",
        "            max_col = i\n",
        "            break\n",
        "    return max_col-1"
      ]
    },
    {
      "cell_type": "code",
      "execution_count": null,
      "id": "6a6c8bc1-b59f-4514-a000-e89f0fd5ae5d",
      "metadata": {
        "id": "6a6c8bc1-b59f-4514-a000-e89f0fd5ae5d"
      },
      "outputs": [],
      "source": [
        "# so will use the last non blank row with funct get_maximum_rows, which give us 3\n",
        "# we know that we want to add business_df values under this row\n",
        "\n",
        "img = mpimg.imread('images/img_5.PNG')\n",
        "plt.imshow(img)\n",
        "plt.rcParams['figure.figsize'] = [12, 10]\n",
        "plt.axis('off')\n",
        "plt.show()"
      ]
    },
    {
      "cell_type": "code",
      "execution_count": null,
      "id": "9d3b2772-dd74-48a0-86cc-041b42c88ade",
      "metadata": {
        "id": "9d3b2772-dd74-48a0-86cc-041b42c88ade"
      },
      "outputs": [],
      "source": [
        "# compute the coordianted for the range where to paste\n",
        "\n",
        "start_row = get_maximum_rows(sheet_object = overview)\n",
        "print(start_row)\n",
        "start_col = 1\n",
        "print(start_col)\n",
        "end_row = get_maximum_rows(sheet_object = overview) + business_df.shape[0] -1\n",
        "print(end_row)\n",
        "end_col = business_df.shape[1] \n",
        "print(end_col)"
      ]
    },
    {
      "cell_type": "code",
      "execution_count": null,
      "id": "d704ca22-0979-4ed8-8f88-c449b444abf5",
      "metadata": {
        "id": "d704ca22-0979-4ed8-8f88-c449b444abf5"
      },
      "outputs": [],
      "source": [
        "# the range where we want to paste the data B4:O7\n",
        "\n",
        "# check if we computed correctly the range whe we want to paste business_df values\n",
        "xl_range(start_row , # starting row # 4\n",
        "         start_col, # start_col B\n",
        "         end_row , # end_row 0\n",
        "         end_col) # end_col"
      ]
    },
    {
      "cell_type": "code",
      "execution_count": null,
      "id": "3dcdca69-f2db-4a0c-911d-30c30ef03401",
      "metadata": {
        "id": "3dcdca69-f2db-4a0c-911d-30c30ef03401"
      },
      "outputs": [],
      "source": [
        "# be carefull the paste range has to have the same dimensions as the selected range\n",
        "\n",
        "pasteRange(startCol = start_col+1,\n",
        "           startRow = start_row + 1, \n",
        "           endCol= end_col+1, \n",
        "           endRow = end_row +1, \n",
        "           sheetReceiving= overview,\n",
        "           copiedData = business_values)"
      ]
    },
    {
      "cell_type": "code",
      "execution_count": null,
      "id": "3f3d0ef4-7e42-4fc4-ae9b-451a9c1c0c3e",
      "metadata": {
        "id": "3f3d0ef4-7e42-4fc4-ae9b-451a9c1c0c3e"
      },
      "outputs": [],
      "source": [
        "# save the new workbook \n",
        "wb.save('Budget_processed.xlsx')"
      ]
    },
    {
      "cell_type": "raw",
      "id": "51047575",
      "metadata": {
        "id": "51047575"
      },
      "source": [
        "Insert Monthly total row"
      ]
    },
    {
      "cell_type": "code",
      "execution_count": null,
      "id": "b0853186",
      "metadata": {
        "id": "b0853186"
      },
      "outputs": [],
      "source": [
        "# insert 2 rowsat row 4 (after row INCOME/EXPEND and row with month)\n",
        "\n",
        "overview.insert_rows(idx=4, # row location\n",
        "                  amount=2) # how many rows to insert\n",
        "wb.save('Budget_processed.xlsx')  "
      ]
    },
    {
      "cell_type": "code",
      "execution_count": null,
      "id": "f67cca4b-a24f-42d6-a3e7-35e0158d1b6c",
      "metadata": {
        "id": "f67cca4b-a24f-42d6-a3e7-35e0158d1b6c"
      },
      "outputs": [],
      "source": [
        "# see what was written\n",
        "for idx,row in enumerate(overview[\"A1:O7\"]):\n",
        "    print (idx+1, [x.value for x in row])"
      ]
    },
    {
      "cell_type": "raw",
      "id": "a16e5c7e-fa10-4945-92c5-3f0b26bdc37a",
      "metadata": {
        "id": "a16e5c7e-fa10-4945-92c5-3f0b26bdc37a"
      },
      "source": [
        "Write monthly_total in excel"
      ]
    },
    {
      "cell_type": "code",
      "execution_count": null,
      "id": "2b6fb708",
      "metadata": {
        "id": "2b6fb708"
      },
      "outputs": [],
      "source": [
        "# copy monthly total row at 4th row\n",
        "\n",
        "cellrange= monthly_total \n",
        "target_row= 4\n",
        "for i in range(0, len(cellrange)): \n",
        "    overview.cell(row=target_row, column = i+2).value= cellrange[i]\n",
        "    # + 1 because we have data shifted by 1 column in excel\n",
        "\n",
        "# see what was written\n",
        "for idx,row in enumerate(overview[\"A1:O7\"]):\n",
        "    print (idx+1, [x.value for x in row])    \n",
        "\n",
        "wb.save('Budget_processed.xlsx')  "
      ]
    },
    {
      "cell_type": "markdown",
      "id": "b3417767",
      "metadata": {
        "id": "b3417767"
      },
      "source": [
        "Insert monthly evolution"
      ]
    },
    {
      "cell_type": "raw",
      "id": "4c1f379e-e911-416f-8ea6-c5dd5c4314cf",
      "metadata": {
        "id": "4c1f379e-e911-416f-8ea6-c5dd5c4314cf"
      },
      "source": [
        "Evolution"
      ]
    },
    {
      "cell_type": "code",
      "execution_count": null,
      "id": "16a4a157",
      "metadata": {
        "id": "16a4a157"
      },
      "outputs": [],
      "source": [
        "# copy monthly evolution total row at 4th row\n",
        "\n",
        "cellrange= ev\n",
        "target_row= 5\n",
        "for i in range(0, len(cellrange)): \n",
        "    overview.cell(row=target_row, column = i+2).value= cellrange[i]\n",
        "    # + 2 because we have data shifted by 1 column in excel\n",
        "\n",
        "# see what was written\n",
        "for idx,row in enumerate(overview[\"A1:O7\"]):\n",
        "    print (idx+1, [x.value for x in row])\n",
        "    \n",
        "wb.save('Budget_processed.xlsx')  "
      ]
    },
    {
      "cell_type": "raw",
      "id": "15223dac-5a0a-4476-a8a2-dd9a4bc8271a",
      "metadata": {
        "id": "15223dac-5a0a-4476-a8a2-dd9a4bc8271a"
      },
      "source": [
        "Add list : \n",
        "[ Month, MonthlyTotal, M2M evol, \n",
        "  B2B, B2C_1, B2C_2, Fleet]\n",
        "\n",
        "in the 1st column ['A4:A10]"
      ]
    },
    {
      "cell_type": "code",
      "execution_count": null,
      "id": "46c2815d-8456-4954-a5fa-351ac1ffd7dd",
      "metadata": {
        "id": "46c2815d-8456-4954-a5fa-351ac1ffd7dd"
      },
      "outputs": [],
      "source": [
        "# to obtain this list...\n",
        "# we neetd to contatenate the strings Month, MonthlyTotal, M2M evol\n",
        "# B2B, B2C_1, B2C_2, Fleet from business_df\n",
        "\n",
        "l1 = ['Month', 'MonthlyTotal', 'M2M evol']\n",
        "l2 = list(business_df.index)\n",
        "col_1 = l1 + l2\n",
        "col_1"
      ]
    },
    {
      "cell_type": "code",
      "execution_count": null,
      "id": "a1c57394-0ea6-4f7c-a825-bcefe61e782f",
      "metadata": {
        "id": "a1c57394-0ea6-4f7c-a825-bcefe61e782f"
      },
      "outputs": [],
      "source": [
        "# write it to the excel\n",
        "\n",
        "starting_row = 3\n",
        "\n",
        "for r in col_1:\n",
        "    overview.cell(row=starting_row, column=1).value = r\n",
        "    # 3.3 increment the counter\n",
        "    starting_row= starting_row + 1\n",
        "    \n",
        "# see what was written\n",
        "for idx,row in enumerate(overview[\"A1:O7\"]):\n",
        "    print (idx+1, [x.value for x in row])\n",
        "\n",
        "# !!!! Don't forget to save the modification\n",
        "wb.save('Budget_processed.xlsx')"
      ]
    },
    {
      "cell_type": "code",
      "execution_count": null,
      "id": "d7ebeee1-f6e3-4b5d-be83-3ee5a9f0d35d",
      "metadata": {
        "id": "d7ebeee1-f6e3-4b5d-be83-3ee5a9f0d35d"
      },
      "outputs": [],
      "source": [
        "# review screenshot !!\n",
        "img = mpimg.imread('images/img_7.PNG')\n",
        "plt.imshow(img)\n",
        "plt.rcParams['figure.figsize'] = [12, 10]\n",
        "plt.axis('off')\n",
        "plt.show()"
      ]
    },
    {
      "cell_type": "markdown",
      "id": "f4a5a4e2",
      "metadata": {
        "id": "f4a5a4e2"
      },
      "source": [
        "## Previous Month "
      ]
    },
    {
      "cell_type": "code",
      "execution_count": null,
      "id": "a8484a32-bdff-4ad2-a4c0-475f9f6386fd",
      "metadata": {
        "id": "a8484a32-bdff-4ad2-a4c0-475f9f6386fd"
      },
      "outputs": [],
      "source": [
        "# Previous month lime color\n",
        "# review screenshot !!\n",
        "img = mpimg.imread('images/img_6.PNG')\n",
        "plt.imshow(img)\n",
        "plt.rcParams['figure.figsize'] = [12, 10]\n",
        "plt.axis('off')\n",
        "plt.show()"
      ]
    },
    {
      "cell_type": "code",
      "execution_count": null,
      "id": "b56f0f48",
      "metadata": {
        "id": "b56f0f48"
      },
      "outputs": [],
      "source": [
        "print(months)\n",
        "previous_month = months[-3]\n",
        "previous_month\n",
        "#months.index(previous_month)"
      ]
    },
    {
      "cell_type": "code",
      "execution_count": null,
      "id": "492ddfc0",
      "metadata": {
        "id": "492ddfc0"
      },
      "outputs": [],
      "source": [
        "business_df.columns"
      ]
    },
    {
      "cell_type": "code",
      "execution_count": null,
      "id": "58a51085",
      "metadata": {
        "id": "58a51085"
      },
      "outputs": [],
      "source": [
        "# compute the range uptil the previous month for INCOME\n",
        "\n",
        "inc_idx= []\n",
        "range_end = []\n",
        "\n",
        "# in the incomu columns\n",
        "for idx, col in enumerate(business_df.columns):\n",
        "    if 'Income' in col:\n",
        "        inc_idx.append(idx)\n",
        "        if previous_month in col:\n",
        "              range_end= idx \n",
        "                \n",
        "print(min(inc_idx)) \n",
        "print(range_end)\n",
        "\n",
        "range_prev_inc = [min(inc_idx), range_end]\n",
        "print(range_prev_inc) # uptil May"
      ]
    },
    {
      "cell_type": "code",
      "execution_count": null,
      "id": "9d05e3f9",
      "metadata": {
        "id": "9d05e3f9"
      },
      "outputs": [],
      "source": [
        "# what we get up to May\n",
        "business_df.iloc[:, min(inc_idx):range_end+1] # +1 as in range the interval is open"
      ]
    },
    {
      "cell_type": "code",
      "execution_count": null,
      "id": "d9a8f380",
      "metadata": {
        "id": "d9a8f380"
      },
      "outputs": [],
      "source": [
        "# first sum all columns\n",
        "# 2nd sum all rows\n",
        "\n",
        "previous_income = business_df.iloc[:, min(inc_idx):range_end+1].sum(axis=1).sum()\n",
        "previous_income"
      ]
    },
    {
      "cell_type": "code",
      "execution_count": null,
      "id": "4b9e38a3",
      "metadata": {
        "id": "4b9e38a3"
      },
      "outputs": [],
      "source": [
        "# copy the value in excel\n",
        "# first we need to identify the coordinates where to copy the valye\n",
        "# we know that this cell will be above Total Columns"
      ]
    },
    {
      "cell_type": "code",
      "execution_count": null,
      "id": "d3b3514a",
      "metadata": {
        "id": "d3b3514a"
      },
      "outputs": [],
      "source": [
        "# columns nb where we have totals\n",
        "\n",
        "total_col = []\n",
        "# find column number of column that = Total\n",
        "for i in range(1, overview.max_column+1):# without + 1\n",
        "    ref = overview.cell(row=3, column=i)\n",
        "    if ref.value == 'Total':\n",
        "        total_col.append(ref.column)\n",
        "        print('the column nb for Total is: ', ref.column)\n",
        "        \n",
        "print(total_col)"
      ]
    },
    {
      "cell_type": "code",
      "execution_count": null,
      "id": "0944c3de",
      "metadata": {
        "id": "0944c3de"
      },
      "outputs": [],
      "source": [
        "print('the column where to add Previous Total for INCOME', get_column_letter(total_col[0]))\n",
        "row = 1 # row nb where to paste previous income value\n",
        "ref = str(get_column_letter(total_col[0])) + str(row)\n",
        "\n",
        "\n",
        "print('the cell reference where to add Previous Total for INCOME', ref)"
      ]
    },
    {
      "cell_type": "code",
      "execution_count": null,
      "id": "7369e3a9",
      "metadata": {
        "id": "7369e3a9"
      },
      "outputs": [],
      "source": [
        "# write it in Excel \n",
        "overview[ref] = round(previous_income,2)\n",
        "overview[ref].value"
      ]
    },
    {
      "cell_type": "code",
      "execution_count": null,
      "id": "95fa4d5f",
      "metadata": {
        "id": "95fa4d5f"
      },
      "outputs": [],
      "source": [
        "# string Prevous month\n",
        "ref = str(get_column_letter(total_col[0]-1)) + str(row)\n",
        "print(ref)\n",
        "overview[ref] = 'Prior'\n",
        "overview[ref].value"
      ]
    },
    {
      "cell_type": "code",
      "execution_count": null,
      "id": "5caf1aea-34e2-41a8-a157-124b349b4cbf",
      "metadata": {
        "id": "5caf1aea-34e2-41a8-a157-124b349b4cbf"
      },
      "outputs": [],
      "source": [
        "# see what was written\n",
        "for idx,row in enumerate(overview[\"A1:O2\"]):\n",
        "    print (idx+1, [x.value for x in row])\n"
      ]
    },
    {
      "cell_type": "code",
      "execution_count": null,
      "id": "7cf49d36",
      "metadata": {
        "id": "7cf49d36"
      },
      "outputs": [],
      "source": [
        "# save \n",
        "wb.save('Budget_processed.xlsx')  "
      ]
    },
    {
      "cell_type": "raw",
      "id": "8aa48644-a9f1-4ce8-9429-26f5f007d5ca",
      "metadata": {
        "id": "8aa48644-a9f1-4ce8-9429-26f5f007d5ca"
      },
      "source": [
        "now the same for expenditure previous month"
      ]
    },
    {
      "cell_type": "code",
      "execution_count": null,
      "id": "4b0a9d00-eb3b-4399-9ba1-fa2cc736117f",
      "metadata": {
        "id": "4b0a9d00-eb3b-4399-9ba1-fa2cc736117f"
      },
      "outputs": [],
      "source": [
        "\n",
        "\n",
        "# string Prevous month\n",
        "ref = str(get_column_letter(total_col[1]-1)) + str(row)\n",
        "ref\n",
        "#overview[ref] = 'Prior'"
      ]
    },
    {
      "cell_type": "code",
      "execution_count": null,
      "id": "2f54e0bc-f474-4417-9ae3-eb0f49e700f7",
      "metadata": {
        "id": "2f54e0bc-f474-4417-9ae3-eb0f49e700f7"
      },
      "outputs": [],
      "source": [
        "# compute the range uptil the previous month for expenditure\n",
        "\n",
        "inc_idx= []\n",
        "range_end = []\n",
        "\n",
        "# in the exp columns\n",
        "for idx, col in enumerate(business_df.columns):\n",
        "    if 'Expenditure' in col:\n",
        "        inc_idx.append(idx)\n",
        "        if previous_month in col:\n",
        "              range_end= idx \n",
        "                \n",
        "range_prev_exp = [min(inc_idx), range_end]\n",
        "\n",
        "# compute all prior exp\n",
        "previous_exp = business_df.iloc[:, min(inc_idx):range_end+1].sum(axis=1).sum()\n",
        "\n",
        "# cell ref\n",
        "row = 1 # row nb where to paste previous income value\n",
        "ref = str(get_column_letter(total_col[1])) + str(row)\n",
        "\n",
        "# write it in Excel value\n",
        "overview[ref] = round(previous_exp,2)\n",
        "\n",
        "\n",
        "# string Prevous month\n",
        "ref = str(get_column_letter(total_col[1]-1)) + str(row)\n",
        "overview[ref] = 'Prior'"
      ]
    },
    {
      "cell_type": "code",
      "execution_count": null,
      "id": "30cada7f-3bf9-4a35-95ad-95ba48c3c3b5",
      "metadata": {
        "id": "30cada7f-3bf9-4a35-95ad-95ba48c3c3b5"
      },
      "outputs": [],
      "source": [
        "# see what was written\n",
        "for idx,row in enumerate(overview[\"A1:O2\"]):\n",
        "    print (idx+1, [x.value for x in row])"
      ]
    },
    {
      "cell_type": "code",
      "execution_count": null,
      "id": "0b3e8533",
      "metadata": {
        "id": "0b3e8533"
      },
      "outputs": [],
      "source": [
        "wb.save('Budget_processed.xlsx')  "
      ]
    },
    {
      "cell_type": "code",
      "execution_count": null,
      "id": "d38afa3b-8150-421f-8c1d-86889136c3f3",
      "metadata": {
        "id": "d38afa3b-8150-421f-8c1d-86889136c3f3"
      },
      "outputs": [],
      "source": [
        "# Previous month \n",
        "# review screenshot !!\n",
        "img = mpimg.imread('images/img_8.PNG')\n",
        "plt.imshow(img)\n",
        "plt.rcParams['figure.figsize'] = [12, 10]\n",
        "plt.axis('off')\n",
        "plt.show()"
      ]
    },
    {
      "cell_type": "markdown",
      "id": "4819f3ca",
      "metadata": {
        "id": "4819f3ca"
      },
      "source": [
        "## Copy / Insert/ Paste overview "
      ]
    },
    {
      "cell_type": "code",
      "execution_count": null,
      "id": "e80de590",
      "metadata": {
        "id": "e80de590"
      },
      "outputs": [],
      "source": [
        "# we want to insert the data frame from overview sheet to Data sheet\n",
        "\n",
        "# Steps\n",
        "# Insert rows on Data sheet\n",
        "# Copy celrange from overview sheet\n",
        "# Paste copied cellrane to Datasheeet\n",
        "# delete overview sheet that we wont need anymore"
      ]
    },
    {
      "cell_type": "code",
      "execution_count": null,
      "id": "fd04a73e",
      "metadata": {
        "id": "fd04a73e"
      },
      "outputs": [],
      "source": [
        "# back to our sheet called Data\n",
        "sheet.title"
      ]
    },
    {
      "cell_type": "code",
      "execution_count": null,
      "id": "800bfc0d",
      "metadata": {
        "id": "800bfc0d"
      },
      "outputs": [],
      "source": [
        "# insert 12 rows, starting at row 1\n",
        "\n",
        "# insert rows\n",
        "\n",
        "sheet.insert_rows(idx=1, # row location\n",
        "                  amount=12) # how many rows to insert\n",
        "wb.save('Budget_processed.xlsx')                "
      ]
    },
    {
      "cell_type": "code",
      "execution_count": null,
      "id": "b1ffac0f",
      "metadata": {
        "id": "b1ffac0f"
      },
      "outputs": [],
      "source": [
        "# inserted rows in Data sheet\n",
        "\n",
        "img = mpimg.imread('images/img_9.PNG')\n",
        "plt.imshow(img)\n",
        "plt.rcParams['figure.figsize'] = [12, 10]\n",
        "plt.axis('off')\n",
        "plt.show()"
      ]
    },
    {
      "cell_type": "code",
      "execution_count": null,
      "id": "237fdc2d-7227-4d18-a1eb-c6b65307b3b4",
      "metadata": {
        "id": "237fdc2d-7227-4d18-a1eb-c6b65307b3b4"
      },
      "outputs": [],
      "source": [
        "# copy the overview df\n",
        "\n",
        "selectedRange = copyRange(startCol =1,\n",
        "                          startRow= 1,\n",
        "                          endCol= business_df.shape[1]+1 ,\n",
        "                          endRow = get_maximum_rows_blank(sheet_object = overview),\n",
        "                          sheet = overview)\n",
        "\n",
        "print(len(selectedRange))\n",
        "for row in selectedRange:\n",
        "    print(row)"
      ]
    },
    {
      "cell_type": "code",
      "execution_count": null,
      "id": "65655025",
      "metadata": {
        "id": "65655025"
      },
      "outputs": [],
      "source": [
        "pasteRange(startCol = 1,\n",
        "           startRow = 2, \n",
        "           endCol= business_df.shape[1]+1, \n",
        "           endRow = get_maximum_rows_blank(sheet_object = overview),\n",
        "           sheetReceiving= sheet,\n",
        "           copiedData = selectedRange)\n",
        "\n",
        "# see what was written\n",
        "for idx,row in enumerate(overview[\"A1:O14\"]):\n",
        "    print (idx+1, [x.value for x in row])\n",
        "\n",
        "   "
      ]
    },
    {
      "cell_type": "code",
      "execution_count": null,
      "id": "2ac19531-feb1-43b5-aa52-85f5253593bb",
      "metadata": {
        "id": "2ac19531-feb1-43b5-aa52-85f5253593bb"
      },
      "outputs": [],
      "source": [
        "# past rows in Data sheet\n",
        "\n",
        "img = mpimg.imread('images/img_10.PNG')\n",
        "plt.imshow(img)\n",
        "plt.rcParams['figure.figsize'] = [12, 10]\n",
        "plt.axis('off')\n",
        "plt.show()"
      ]
    },
    {
      "cell_type": "code",
      "execution_count": null,
      "id": "673495e0-0a7a-4fbc-ad40-8a866698befe",
      "metadata": {
        "id": "673495e0-0a7a-4fbc-ad40-8a866698befe"
      },
      "outputs": [],
      "source": [
        "wb.save('Budget_processed.xlsx') "
      ]
    },
    {
      "cell_type": "code",
      "execution_count": null,
      "id": "6115ffe3-6f57-4b48-b648-265e13439658",
      "metadata": {
        "id": "6115ffe3-6f57-4b48-b648-265e13439658"
      },
      "outputs": [],
      "source": [
        "# remove autofilers\n",
        "\n",
        "sheet.auto_filter.ref = None\n",
        "for i in range(2, sheet.max_row + 1):\n",
        "    sheet.row_dimensions[i].hidden = False\n",
        "\n",
        "wb.save('Budget_processed.xlsx') "
      ]
    },
    {
      "cell_type": "code",
      "execution_count": null,
      "id": "cd08cd64-edeb-45bb-be91-3ebaa0d676b2",
      "metadata": {
        "id": "cd08cd64-edeb-45bb-be91-3ebaa0d676b2"
      },
      "outputs": [],
      "source": [
        "# after removing the autofilers\n",
        "\n",
        "img = mpimg.imread('images/img_11.PNG')\n",
        "plt.imshow(img)\n",
        "plt.rcParams['figure.figsize'] = [12, 10]\n",
        "plt.axis('off')\n",
        "plt.show()"
      ]
    },
    {
      "cell_type": "code",
      "execution_count": null,
      "id": "6809e228",
      "metadata": {
        "id": "6809e228"
      },
      "outputs": [],
      "source": [
        "# remove overview sheet\n",
        "wb.remove(overview) \n",
        "\n",
        "# remove 'Department' sheet\n",
        "wb.remove(wb[wb.sheetnames[1]]) \n",
        "\n",
        "print(wb.sheetnames)\n",
        "\n",
        "\n",
        "# save the new workbook \n",
        "wb.save('Budget_processed.xlsx')"
      ]
    },
    {
      "cell_type": "code",
      "execution_count": null,
      "id": "50b51c80-8748-4a62-9e6a-57ad7a9b75c4",
      "metadata": {
        "id": "50b51c80-8748-4a62-9e6a-57ad7a9b75c4"
      },
      "outputs": [],
      "source": [
        "# close  workbokk\n",
        "wb.close()"
      ]
    },
    {
      "cell_type": "code",
      "execution_count": null,
      "id": "36d9cded-7990-4110-bd46-8d307292f305",
      "metadata": {
        "id": "36d9cded-7990-4110-bd46-8d307292f305"
      },
      "outputs": [],
      "source": []
    },
    {
      "cell_type": "code",
      "execution_count": null,
      "id": "78e32ff1-9aed-4673-a39a-3aa0ef2c725a",
      "metadata": {
        "id": "78e32ff1-9aed-4673-a39a-3aa0ef2c725a"
      },
      "outputs": [],
      "source": []
    }
  ],
  "metadata": {
    "kernelspec": {
      "display_name": "Python 3 (ipykernel)",
      "language": "python",
      "name": "python3"
    },
    "language_info": {
      "codemirror_mode": {
        "name": "ipython",
        "version": 3
      },
      "file_extension": ".py",
      "mimetype": "text/x-python",
      "name": "python",
      "nbconvert_exporter": "python",
      "pygments_lexer": "ipython3",
      "version": "3.9.7"
    },
    "toc-autonumbering": true,
    "colab": {
      "provenance": [],
      "toc_visible": true,
      "include_colab_link": true
    }
  },
  "nbformat": 4,
  "nbformat_minor": 5
}