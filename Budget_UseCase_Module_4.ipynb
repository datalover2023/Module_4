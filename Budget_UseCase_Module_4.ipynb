{
  "cells": [
    {
      "cell_type": "markdown",
      "metadata": {
        "id": "view-in-github",
        "colab_type": "text"
      },
      "source": [
        "<a href=\"https://colab.research.google.com/github/datalover2023/Module_4/blob/main/Budget_UseCase_Module_4.ipynb\" target=\"_parent\"><img src=\"https://colab.research.google.com/assets/colab-badge.svg\" alt=\"Open In Colab\"/></a>"
      ]
    },
    {
      "cell_type": "raw",
      "id": "c6838cb6",
      "metadata": {
        "id": "c6838cb6"
      },
      "source": [
        "Libraries\n",
        "\n",
        "---\n",
        "\n"
      ]
    },
    {
      "cell_type": "code",
      "execution_count": 1,
      "id": "75ed5e8b",
      "metadata": {
        "id": "75ed5e8b",
        "colab": {
          "base_uri": "https://localhost:8080/"
        },
        "outputId": "acbc3310-2c72-4249-b14b-f2c7ffe71dc7"
      },
      "outputs": [
        {
          "output_type": "stream",
          "name": "stdout",
          "text": [
            "Looking in indexes: https://pypi.org/simple, https://us-python.pkg.dev/colab-wheels/public/simple/\n",
            "Collecting xlsxwriter\n",
            "  Downloading XlsxWriter-3.0.8-py3-none-any.whl (152 kB)\n",
            "\u001b[2K     \u001b[90m━━━━━━━━━━━━━━━━━━━━━━━━━━━━━━━━━━━━━━\u001b[0m \u001b[32m152.8/152.8 KB\u001b[0m \u001b[31m11.7 MB/s\u001b[0m eta \u001b[36m0:00:00\u001b[0m\n",
            "\u001b[?25hInstalling collected packages: xlsxwriter\n",
            "Successfully installed xlsxwriter-3.0.8\n"
          ]
        }
      ],
      "source": [
        "import pandas as pd\n",
        "import numpy as np\n",
        "\n",
        "import os\n",
        "import glob\n",
        "import shutil\n",
        "import sys\n",
        "from pathlib import Path\n",
        "\n",
        "import datetime\n",
        "\n",
        "import matplotlib.pyplot as plt\n",
        "import matplotlib.image as mpimg\n",
        "\n",
        "from openpyxl import load_workbook # necesserry library\n",
        "\n",
        "# utility functions for cells locations\n",
        "!pip install xlsxwriter  # uncomment if necessary\n",
        "import xlsxwriter\n",
        "from xlsxwriter.utility import xl_rowcol_to_cell\n",
        "from xlsxwriter.utility import xl_col_to_name\n",
        "from xlsxwriter.utility import xl_range, xl_range_abs\n",
        "from openpyxl.utils import get_column_letter, column_index_from_string\n"
      ]
    },
    {
      "cell_type": "code",
      "execution_count": 2,
      "id": "bb9706df",
      "metadata": {
        "id": "bb9706df"
      },
      "outputs": [],
      "source": [
        "# set visible all columns\n",
        "pd.set_option('display.max_columns', None)"
      ]
    },
    {
      "cell_type": "markdown",
      "source": [
        "# 1.&nbsp;Settings"
      ],
      "metadata": {
        "id": "wEeggyEvpjcu"
      },
      "id": "wEeggyEvpjcu"
    },
    {
      "cell_type": "markdown",
      "source": [
        "## Drive and cwd"
      ],
      "metadata": {
        "id": "P2N66YgSpeRi"
      },
      "id": "P2N66YgSpeRi"
    },
    {
      "cell_type": "code",
      "source": [
        "# Accessing Google Drive from Google Colab\n",
        "\n",
        "from google.colab import drive \n",
        "drive.mount('/content/gdrive')"
      ],
      "metadata": {
        "id": "C6pEMfEUpYgk",
        "colab": {
          "base_uri": "https://localhost:8080/"
        },
        "outputId": "c472bf60-e6ca-46ea-fb52-6aa03dbba7d4"
      },
      "id": "C6pEMfEUpYgk",
      "execution_count": 3,
      "outputs": [
        {
          "output_type": "stream",
          "name": "stdout",
          "text": [
            "Mounted at /content/gdrive\n"
          ]
        }
      ]
    },
    {
      "cell_type": "code",
      "execution_count": 4,
      "id": "a66cc482",
      "metadata": {
        "id": "a66cc482",
        "colab": {
          "base_uri": "https://localhost:8080/",
          "height": 36
        },
        "outputId": "fccc17f6-a64f-4f54-d538-a3a791fd75e0"
      },
      "outputs": [
        {
          "output_type": "execute_result",
          "data": {
            "text/plain": [
              "'/content'"
            ],
            "application/vnd.google.colaboratory.intrinsic+json": {
              "type": "string"
            }
          },
          "metadata": {},
          "execution_count": 4
        }
      ],
      "source": [
        "# assing current working directory (`cwd`)\n",
        "cwd = os.getcwd()\n",
        "cwd"
      ]
    },
    {
      "cell_type": "code",
      "execution_count": 5,
      "id": "fa051a39",
      "metadata": {
        "id": "fa051a39",
        "colab": {
          "base_uri": "https://localhost:8080/"
        },
        "outputId": "af3f4ec1-63e9-4601-d42d-b2f43ea486e0"
      },
      "outputs": [
        {
          "output_type": "execute_result",
          "data": {
            "text/plain": [
              "['.config', 'gdrive', 'sample_data']"
            ]
          },
          "metadata": {},
          "execution_count": 5
        }
      ],
      "source": [
        "# containing of /content directory\n",
        "os.listdir()"
      ]
    },
    {
      "cell_type": "markdown",
      "source": [
        "## Import Files"
      ],
      "metadata": {
        "id": "So7LYJgEpw5U"
      },
      "id": "So7LYJgEpw5U"
    },
    {
      "cell_type": "code",
      "source": [
        "# import files into google Colab\n",
        "from google.colab import files"
      ],
      "metadata": {
        "id": "HbStdxO2ptoC"
      },
      "id": "HbStdxO2ptoC",
      "execution_count": 6,
      "outputs": []
    },
    {
      "cell_type": "code",
      "source": [
        "# upload from your local : images .png from your downloads\n",
        "uploaded = files.upload()"
      ],
      "metadata": {
        "id": "GeQfoaIWp1KM",
        "colab": {
          "base_uri": "https://localhost:8080/",
          "height": 420
        },
        "outputId": "b6c4a6d4-1b99-4860-ccf3-ca93b36edb4f"
      },
      "id": "GeQfoaIWp1KM",
      "execution_count": 7,
      "outputs": [
        {
          "output_type": "display_data",
          "data": {
            "text/plain": [
              "<IPython.core.display.HTML object>"
            ],
            "text/html": [
              "\n",
              "     <input type=\"file\" id=\"files-59ea3479-4d0b-481d-aff1-8f10410105f2\" name=\"files[]\" multiple disabled\n",
              "        style=\"border:none\" />\n",
              "     <output id=\"result-59ea3479-4d0b-481d-aff1-8f10410105f2\">\n",
              "      Upload widget is only available when the cell has been executed in the\n",
              "      current browser session. Please rerun this cell to enable.\n",
              "      </output>\n",
              "      <script>// Copyright 2017 Google LLC\n",
              "//\n",
              "// Licensed under the Apache License, Version 2.0 (the \"License\");\n",
              "// you may not use this file except in compliance with the License.\n",
              "// You may obtain a copy of the License at\n",
              "//\n",
              "//      http://www.apache.org/licenses/LICENSE-2.0\n",
              "//\n",
              "// Unless required by applicable law or agreed to in writing, software\n",
              "// distributed under the License is distributed on an \"AS IS\" BASIS,\n",
              "// WITHOUT WARRANTIES OR CONDITIONS OF ANY KIND, either express or implied.\n",
              "// See the License for the specific language governing permissions and\n",
              "// limitations under the License.\n",
              "\n",
              "/**\n",
              " * @fileoverview Helpers for google.colab Python module.\n",
              " */\n",
              "(function(scope) {\n",
              "function span(text, styleAttributes = {}) {\n",
              "  const element = document.createElement('span');\n",
              "  element.textContent = text;\n",
              "  for (const key of Object.keys(styleAttributes)) {\n",
              "    element.style[key] = styleAttributes[key];\n",
              "  }\n",
              "  return element;\n",
              "}\n",
              "\n",
              "// Max number of bytes which will be uploaded at a time.\n",
              "const MAX_PAYLOAD_SIZE = 100 * 1024;\n",
              "\n",
              "function _uploadFiles(inputId, outputId) {\n",
              "  const steps = uploadFilesStep(inputId, outputId);\n",
              "  const outputElement = document.getElementById(outputId);\n",
              "  // Cache steps on the outputElement to make it available for the next call\n",
              "  // to uploadFilesContinue from Python.\n",
              "  outputElement.steps = steps;\n",
              "\n",
              "  return _uploadFilesContinue(outputId);\n",
              "}\n",
              "\n",
              "// This is roughly an async generator (not supported in the browser yet),\n",
              "// where there are multiple asynchronous steps and the Python side is going\n",
              "// to poll for completion of each step.\n",
              "// This uses a Promise to block the python side on completion of each step,\n",
              "// then passes the result of the previous step as the input to the next step.\n",
              "function _uploadFilesContinue(outputId) {\n",
              "  const outputElement = document.getElementById(outputId);\n",
              "  const steps = outputElement.steps;\n",
              "\n",
              "  const next = steps.next(outputElement.lastPromiseValue);\n",
              "  return Promise.resolve(next.value.promise).then((value) => {\n",
              "    // Cache the last promise value to make it available to the next\n",
              "    // step of the generator.\n",
              "    outputElement.lastPromiseValue = value;\n",
              "    return next.value.response;\n",
              "  });\n",
              "}\n",
              "\n",
              "/**\n",
              " * Generator function which is called between each async step of the upload\n",
              " * process.\n",
              " * @param {string} inputId Element ID of the input file picker element.\n",
              " * @param {string} outputId Element ID of the output display.\n",
              " * @return {!Iterable<!Object>} Iterable of next steps.\n",
              " */\n",
              "function* uploadFilesStep(inputId, outputId) {\n",
              "  const inputElement = document.getElementById(inputId);\n",
              "  inputElement.disabled = false;\n",
              "\n",
              "  const outputElement = document.getElementById(outputId);\n",
              "  outputElement.innerHTML = '';\n",
              "\n",
              "  const pickedPromise = new Promise((resolve) => {\n",
              "    inputElement.addEventListener('change', (e) => {\n",
              "      resolve(e.target.files);\n",
              "    });\n",
              "  });\n",
              "\n",
              "  const cancel = document.createElement('button');\n",
              "  inputElement.parentElement.appendChild(cancel);\n",
              "  cancel.textContent = 'Cancel upload';\n",
              "  const cancelPromise = new Promise((resolve) => {\n",
              "    cancel.onclick = () => {\n",
              "      resolve(null);\n",
              "    };\n",
              "  });\n",
              "\n",
              "  // Wait for the user to pick the files.\n",
              "  const files = yield {\n",
              "    promise: Promise.race([pickedPromise, cancelPromise]),\n",
              "    response: {\n",
              "      action: 'starting',\n",
              "    }\n",
              "  };\n",
              "\n",
              "  cancel.remove();\n",
              "\n",
              "  // Disable the input element since further picks are not allowed.\n",
              "  inputElement.disabled = true;\n",
              "\n",
              "  if (!files) {\n",
              "    return {\n",
              "      response: {\n",
              "        action: 'complete',\n",
              "      }\n",
              "    };\n",
              "  }\n",
              "\n",
              "  for (const file of files) {\n",
              "    const li = document.createElement('li');\n",
              "    li.append(span(file.name, {fontWeight: 'bold'}));\n",
              "    li.append(span(\n",
              "        `(${file.type || 'n/a'}) - ${file.size} bytes, ` +\n",
              "        `last modified: ${\n",
              "            file.lastModifiedDate ? file.lastModifiedDate.toLocaleDateString() :\n",
              "                                    'n/a'} - `));\n",
              "    const percent = span('0% done');\n",
              "    li.appendChild(percent);\n",
              "\n",
              "    outputElement.appendChild(li);\n",
              "\n",
              "    const fileDataPromise = new Promise((resolve) => {\n",
              "      const reader = new FileReader();\n",
              "      reader.onload = (e) => {\n",
              "        resolve(e.target.result);\n",
              "      };\n",
              "      reader.readAsArrayBuffer(file);\n",
              "    });\n",
              "    // Wait for the data to be ready.\n",
              "    let fileData = yield {\n",
              "      promise: fileDataPromise,\n",
              "      response: {\n",
              "        action: 'continue',\n",
              "      }\n",
              "    };\n",
              "\n",
              "    // Use a chunked sending to avoid message size limits. See b/62115660.\n",
              "    let position = 0;\n",
              "    do {\n",
              "      const length = Math.min(fileData.byteLength - position, MAX_PAYLOAD_SIZE);\n",
              "      const chunk = new Uint8Array(fileData, position, length);\n",
              "      position += length;\n",
              "\n",
              "      const base64 = btoa(String.fromCharCode.apply(null, chunk));\n",
              "      yield {\n",
              "        response: {\n",
              "          action: 'append',\n",
              "          file: file.name,\n",
              "          data: base64,\n",
              "        },\n",
              "      };\n",
              "\n",
              "      let percentDone = fileData.byteLength === 0 ?\n",
              "          100 :\n",
              "          Math.round((position / fileData.byteLength) * 100);\n",
              "      percent.textContent = `${percentDone}% done`;\n",
              "\n",
              "    } while (position < fileData.byteLength);\n",
              "  }\n",
              "\n",
              "  // All done.\n",
              "  yield {\n",
              "    response: {\n",
              "      action: 'complete',\n",
              "    }\n",
              "  };\n",
              "}\n",
              "\n",
              "scope.google = scope.google || {};\n",
              "scope.google.colab = scope.google.colab || {};\n",
              "scope.google.colab._files = {\n",
              "  _uploadFiles,\n",
              "  _uploadFilesContinue,\n",
              "};\n",
              "})(self);\n",
              "</script> "
            ]
          },
          "metadata": {}
        },
        {
          "output_type": "stream",
          "name": "stdout",
          "text": [
            "Saving img_1.PNG to img_1.PNG\n",
            "Saving img_2.PNG to img_2.PNG\n",
            "Saving img_3.PNG to img_3.PNG\n",
            "Saving img_4.PNG to img_4.PNG\n",
            "Saving img_5.PNG to img_5.PNG\n",
            "Saving img_6.PNG to img_6.PNG\n",
            "Saving img_7.PNG to img_7.PNG\n",
            "Saving img_8.PNG to img_8.PNG\n",
            "Saving img_9.PNG to img_9.PNG\n",
            "Saving img_10.PNG to img_10.PNG\n",
            "Saving img_11.PNG to img_11.PNG\n"
          ]
        }
      ]
    },
    {
      "cell_type": "code",
      "source": [
        "# containing of /content directory, see if images were uploaded\n",
        "os.listdir()"
      ],
      "metadata": {
        "id": "xKavUInFp4y1",
        "colab": {
          "base_uri": "https://localhost:8080/"
        },
        "outputId": "c856c648-035d-44ad-cccd-c31a20f754f8"
      },
      "id": "xKavUInFp4y1",
      "execution_count": 8,
      "outputs": [
        {
          "output_type": "execute_result",
          "data": {
            "text/plain": [
              "['.config',\n",
              " 'img_4.PNG',\n",
              " 'img_5.PNG',\n",
              " 'img_8.PNG',\n",
              " 'img_9.PNG',\n",
              " 'img_6.PNG',\n",
              " 'img_10.PNG',\n",
              " 'gdrive',\n",
              " 'img_11.PNG',\n",
              " 'img_2.PNG',\n",
              " 'img_1.PNG',\n",
              " 'img_3.PNG',\n",
              " 'img_7.PNG',\n",
              " 'sample_data']"
            ]
          },
          "metadata": {},
          "execution_count": 8
        }
      ]
    },
    {
      "cell_type": "markdown",
      "source": [
        "## Module_4 folder"
      ],
      "metadata": {
        "id": "Yr6x9tRSp_xU"
      },
      "id": "Yr6x9tRSp_xU"
    },
    {
      "cell_type": "code",
      "source": [
        "# uncoment if you want to reinitilize Module_4\n",
        "\n",
        "# delete folder Model_4 with all containing\n",
        "# shutil.rmtree('/content/gdrive/MyDrive/Module_4')"
      ],
      "metadata": {
        "id": "pexycv2JqCAc"
      },
      "id": "pexycv2JqCAc",
      "execution_count": 10,
      "outputs": []
    },
    {
      "cell_type": "code",
      "source": [
        "# create a floder Module_4 where you'll store files\n",
        "\n",
        "# create a new folder called \"Module_4\"\n",
        "\n",
        "# First: \n",
        "# write the path to the \"Module_4\" sub_directory\n",
        "folder = cwd + '/' + 'gdrive/MyDrive/Module_4/images' # == > /content/gdrive/MyDrive/Module_4/images\n",
        "print(folder)\n",
        "\n",
        "# Second:\n",
        "# create the folder at the indicated path\n",
        "os.makedirs(folder) # create an empty folder, if you're getting an error [Errno 17] File exists, then delete it with shutil.rmtree\n"
      ],
      "metadata": {
        "id": "jMiWI-gMqEdf",
        "colab": {
          "base_uri": "https://localhost:8080/"
        },
        "outputId": "85a9101f-77fa-4eac-9052-20cced0dce22"
      },
      "id": "jMiWI-gMqEdf",
      "execution_count": 11,
      "outputs": [
        {
          "output_type": "stream",
          "name": "stdout",
          "text": [
            "/content/gdrive/MyDrive/Module_4/images\n"
          ]
        }
      ]
    },
    {
      "cell_type": "code",
      "source": [
        "# check files in Module_4 directory\n",
        "os.listdir('/content/gdrive/MyDrive/Module_4')"
      ],
      "metadata": {
        "id": "XYKCVNowqEgZ",
        "colab": {
          "base_uri": "https://localhost:8080/"
        },
        "outputId": "109123d5-5365-40c7-ae50-18085fe12779"
      },
      "id": "XYKCVNowqEgZ",
      "execution_count": 12,
      "outputs": [
        {
          "output_type": "execute_result",
          "data": {
            "text/plain": [
              "['images']"
            ]
          },
          "metadata": {},
          "execution_count": 12
        }
      ]
    },
    {
      "cell_type": "code",
      "source": [
        "# containing of folder images\n",
        "os.listdir('/content/gdrive/MyDrive/Module_4/images')"
      ],
      "metadata": {
        "id": "fNzHU6p0qEj7",
        "colab": {
          "base_uri": "https://localhost:8080/"
        },
        "outputId": "99612b4b-d9fc-4b0f-b4b2-db345968d667"
      },
      "id": "fNzHU6p0qEj7",
      "execution_count": 13,
      "outputs": [
        {
          "output_type": "execute_result",
          "data": {
            "text/plain": [
              "[]"
            ]
          },
          "metadata": {},
          "execution_count": 13
        }
      ]
    },
    {
      "cell_type": "code",
      "source": [
        "# select all .png and move them to folder Module_3/Images\n",
        "\n",
        "# searchin for all files with extention .png\n",
        "# and store the into a list png_files\n",
        "\n",
        "png_files=[]\n",
        "for file in os.listdir():\n",
        "    if file.endswith('.PNG'): # or '.csv' if your'looinkg for csv files\n",
        "            png_files.append(file)\n",
        "            \n",
        "# it will print out excel names present in current directory folder = 'Basics_Python\"\n",
        "print( 'there are', len(png_files), \"png files \")\n",
        "print(png_files[:4])"
      ],
      "metadata": {
        "id": "FaBCTmGRqTtE",
        "colab": {
          "base_uri": "https://localhost:8080/"
        },
        "outputId": "06639d7a-4c5c-4c14-ea8e-56f6a441e12f"
      },
      "id": "FaBCTmGRqTtE",
      "execution_count": 14,
      "outputs": [
        {
          "output_type": "stream",
          "name": "stdout",
          "text": [
            "there are 11 png files \n",
            "['img_4.PNG', 'img_5.PNG', 'img_8.PNG', 'img_9.PNG']\n"
          ]
        }
      ]
    },
    {
      "cell_type": "code",
      "source": [
        "# move all images into folder MOdule_4/Images\n",
        "\n",
        "folder = '/content/gdrive/MyDrive/Module_4/images'\n",
        "\n",
        "for image in png_files:\n",
        "  shutil.move(image, # file/folder to cut\n",
        "              folder) # folder where to move "
      ],
      "metadata": {
        "id": "6BvQiRFsqYuz"
      },
      "id": "6BvQiRFsqYuz",
      "execution_count": 15,
      "outputs": []
    },
    {
      "cell_type": "code",
      "source": [
        "# check if images were moved from cwd\n",
        "os.listdir()"
      ],
      "metadata": {
        "id": "HNcrKwLrqYxp",
        "colab": {
          "base_uri": "https://localhost:8080/"
        },
        "outputId": "be6fffc2-eec8-475a-9db4-d0baa07dc66b"
      },
      "id": "HNcrKwLrqYxp",
      "execution_count": 16,
      "outputs": [
        {
          "output_type": "execute_result",
          "data": {
            "text/plain": [
              "['.config', 'gdrive', 'sample_data']"
            ]
          },
          "metadata": {},
          "execution_count": 16
        }
      ]
    },
    {
      "cell_type": "code",
      "source": [
        "# check files in Module_4\n",
        "os.listdir('gdrive/MyDrive/Module_4')"
      ],
      "metadata": {
        "id": "pc2DL7GkqY0k",
        "colab": {
          "base_uri": "https://localhost:8080/"
        },
        "outputId": "5604f8d1-5a19-46c8-9815-16d04564b191"
      },
      "id": "pc2DL7GkqY0k",
      "execution_count": 17,
      "outputs": [
        {
          "output_type": "execute_result",
          "data": {
            "text/plain": [
              "['images']"
            ]
          },
          "metadata": {},
          "execution_count": 17
        }
      ]
    },
    {
      "cell_type": "code",
      "source": [
        "# check files present in Module_4/Images, all the images were transfered to Module_4/images\n",
        "os.listdir('/content/gdrive/MyDrive/Module_4/images')"
      ],
      "metadata": {
        "id": "-gfH2wp5q4Dl",
        "colab": {
          "base_uri": "https://localhost:8080/"
        },
        "outputId": "9973b851-d771-438c-8395-9364bcbb4ccf"
      },
      "id": "-gfH2wp5q4Dl",
      "execution_count": 18,
      "outputs": [
        {
          "output_type": "execute_result",
          "data": {
            "text/plain": [
              "['img_4.PNG',\n",
              " 'img_5.PNG',\n",
              " 'img_8.PNG',\n",
              " 'img_9.PNG',\n",
              " 'img_6.PNG',\n",
              " 'img_10.PNG',\n",
              " 'img_11.PNG',\n",
              " 'img_2.PNG',\n",
              " 'img_1.PNG',\n",
              " 'img_3.PNG',\n",
              " 'img_7.PNG']"
            ]
          },
          "metadata": {},
          "execution_count": 18
        }
      ]
    },
    {
      "cell_type": "code",
      "source": [
        "# change cwd to Module_4\n",
        "os.chdir('gdrive/MyDrive/Module_4')\n",
        "# check the new current working directory now\n",
        "cwd = os.getcwd()\n",
        "cwd # folder MOdule_3 will be from now on our cwd"
      ],
      "metadata": {
        "id": "VM_8_tN_q7Ub",
        "colab": {
          "base_uri": "https://localhost:8080/",
          "height": 36
        },
        "outputId": "b0e359e7-91d9-42fc-d358-60bbc25a7e69"
      },
      "id": "VM_8_tN_q7Ub",
      "execution_count": 19,
      "outputs": [
        {
          "output_type": "execute_result",
          "data": {
            "text/plain": [
              "'/content/gdrive/MyDrive/Module_4'"
            ],
            "application/vnd.google.colaboratory.intrinsic+json": {
              "type": "string"
            }
          },
          "metadata": {},
          "execution_count": 19
        }
      ]
    },
    {
      "cell_type": "code",
      "source": [
        "# upload from your local : 'Budget_raw.xlsx'\n",
        "uploaded = files.upload()"
      ],
      "metadata": {
        "id": "Ehitv-IOrAfr",
        "colab": {
          "base_uri": "https://localhost:8080/",
          "height": 73
        },
        "outputId": "f2d52253-1f03-4b41-81df-42cd40a98bbb"
      },
      "id": "Ehitv-IOrAfr",
      "execution_count": 20,
      "outputs": [
        {
          "output_type": "display_data",
          "data": {
            "text/plain": [
              "<IPython.core.display.HTML object>"
            ],
            "text/html": [
              "\n",
              "     <input type=\"file\" id=\"files-9e4f6393-91a0-48a1-aa34-6fa7e38e7cec\" name=\"files[]\" multiple disabled\n",
              "        style=\"border:none\" />\n",
              "     <output id=\"result-9e4f6393-91a0-48a1-aa34-6fa7e38e7cec\">\n",
              "      Upload widget is only available when the cell has been executed in the\n",
              "      current browser session. Please rerun this cell to enable.\n",
              "      </output>\n",
              "      <script>// Copyright 2017 Google LLC\n",
              "//\n",
              "// Licensed under the Apache License, Version 2.0 (the \"License\");\n",
              "// you may not use this file except in compliance with the License.\n",
              "// You may obtain a copy of the License at\n",
              "//\n",
              "//      http://www.apache.org/licenses/LICENSE-2.0\n",
              "//\n",
              "// Unless required by applicable law or agreed to in writing, software\n",
              "// distributed under the License is distributed on an \"AS IS\" BASIS,\n",
              "// WITHOUT WARRANTIES OR CONDITIONS OF ANY KIND, either express or implied.\n",
              "// See the License for the specific language governing permissions and\n",
              "// limitations under the License.\n",
              "\n",
              "/**\n",
              " * @fileoverview Helpers for google.colab Python module.\n",
              " */\n",
              "(function(scope) {\n",
              "function span(text, styleAttributes = {}) {\n",
              "  const element = document.createElement('span');\n",
              "  element.textContent = text;\n",
              "  for (const key of Object.keys(styleAttributes)) {\n",
              "    element.style[key] = styleAttributes[key];\n",
              "  }\n",
              "  return element;\n",
              "}\n",
              "\n",
              "// Max number of bytes which will be uploaded at a time.\n",
              "const MAX_PAYLOAD_SIZE = 100 * 1024;\n",
              "\n",
              "function _uploadFiles(inputId, outputId) {\n",
              "  const steps = uploadFilesStep(inputId, outputId);\n",
              "  const outputElement = document.getElementById(outputId);\n",
              "  // Cache steps on the outputElement to make it available for the next call\n",
              "  // to uploadFilesContinue from Python.\n",
              "  outputElement.steps = steps;\n",
              "\n",
              "  return _uploadFilesContinue(outputId);\n",
              "}\n",
              "\n",
              "// This is roughly an async generator (not supported in the browser yet),\n",
              "// where there are multiple asynchronous steps and the Python side is going\n",
              "// to poll for completion of each step.\n",
              "// This uses a Promise to block the python side on completion of each step,\n",
              "// then passes the result of the previous step as the input to the next step.\n",
              "function _uploadFilesContinue(outputId) {\n",
              "  const outputElement = document.getElementById(outputId);\n",
              "  const steps = outputElement.steps;\n",
              "\n",
              "  const next = steps.next(outputElement.lastPromiseValue);\n",
              "  return Promise.resolve(next.value.promise).then((value) => {\n",
              "    // Cache the last promise value to make it available to the next\n",
              "    // step of the generator.\n",
              "    outputElement.lastPromiseValue = value;\n",
              "    return next.value.response;\n",
              "  });\n",
              "}\n",
              "\n",
              "/**\n",
              " * Generator function which is called between each async step of the upload\n",
              " * process.\n",
              " * @param {string} inputId Element ID of the input file picker element.\n",
              " * @param {string} outputId Element ID of the output display.\n",
              " * @return {!Iterable<!Object>} Iterable of next steps.\n",
              " */\n",
              "function* uploadFilesStep(inputId, outputId) {\n",
              "  const inputElement = document.getElementById(inputId);\n",
              "  inputElement.disabled = false;\n",
              "\n",
              "  const outputElement = document.getElementById(outputId);\n",
              "  outputElement.innerHTML = '';\n",
              "\n",
              "  const pickedPromise = new Promise((resolve) => {\n",
              "    inputElement.addEventListener('change', (e) => {\n",
              "      resolve(e.target.files);\n",
              "    });\n",
              "  });\n",
              "\n",
              "  const cancel = document.createElement('button');\n",
              "  inputElement.parentElement.appendChild(cancel);\n",
              "  cancel.textContent = 'Cancel upload';\n",
              "  const cancelPromise = new Promise((resolve) => {\n",
              "    cancel.onclick = () => {\n",
              "      resolve(null);\n",
              "    };\n",
              "  });\n",
              "\n",
              "  // Wait for the user to pick the files.\n",
              "  const files = yield {\n",
              "    promise: Promise.race([pickedPromise, cancelPromise]),\n",
              "    response: {\n",
              "      action: 'starting',\n",
              "    }\n",
              "  };\n",
              "\n",
              "  cancel.remove();\n",
              "\n",
              "  // Disable the input element since further picks are not allowed.\n",
              "  inputElement.disabled = true;\n",
              "\n",
              "  if (!files) {\n",
              "    return {\n",
              "      response: {\n",
              "        action: 'complete',\n",
              "      }\n",
              "    };\n",
              "  }\n",
              "\n",
              "  for (const file of files) {\n",
              "    const li = document.createElement('li');\n",
              "    li.append(span(file.name, {fontWeight: 'bold'}));\n",
              "    li.append(span(\n",
              "        `(${file.type || 'n/a'}) - ${file.size} bytes, ` +\n",
              "        `last modified: ${\n",
              "            file.lastModifiedDate ? file.lastModifiedDate.toLocaleDateString() :\n",
              "                                    'n/a'} - `));\n",
              "    const percent = span('0% done');\n",
              "    li.appendChild(percent);\n",
              "\n",
              "    outputElement.appendChild(li);\n",
              "\n",
              "    const fileDataPromise = new Promise((resolve) => {\n",
              "      const reader = new FileReader();\n",
              "      reader.onload = (e) => {\n",
              "        resolve(e.target.result);\n",
              "      };\n",
              "      reader.readAsArrayBuffer(file);\n",
              "    });\n",
              "    // Wait for the data to be ready.\n",
              "    let fileData = yield {\n",
              "      promise: fileDataPromise,\n",
              "      response: {\n",
              "        action: 'continue',\n",
              "      }\n",
              "    };\n",
              "\n",
              "    // Use a chunked sending to avoid message size limits. See b/62115660.\n",
              "    let position = 0;\n",
              "    do {\n",
              "      const length = Math.min(fileData.byteLength - position, MAX_PAYLOAD_SIZE);\n",
              "      const chunk = new Uint8Array(fileData, position, length);\n",
              "      position += length;\n",
              "\n",
              "      const base64 = btoa(String.fromCharCode.apply(null, chunk));\n",
              "      yield {\n",
              "        response: {\n",
              "          action: 'append',\n",
              "          file: file.name,\n",
              "          data: base64,\n",
              "        },\n",
              "      };\n",
              "\n",
              "      let percentDone = fileData.byteLength === 0 ?\n",
              "          100 :\n",
              "          Math.round((position / fileData.byteLength) * 100);\n",
              "      percent.textContent = `${percentDone}% done`;\n",
              "\n",
              "    } while (position < fileData.byteLength);\n",
              "  }\n",
              "\n",
              "  // All done.\n",
              "  yield {\n",
              "    response: {\n",
              "      action: 'complete',\n",
              "    }\n",
              "  };\n",
              "}\n",
              "\n",
              "scope.google = scope.google || {};\n",
              "scope.google.colab = scope.google.colab || {};\n",
              "scope.google.colab._files = {\n",
              "  _uploadFiles,\n",
              "  _uploadFilesContinue,\n",
              "};\n",
              "})(self);\n",
              "</script> "
            ]
          },
          "metadata": {}
        },
        {
          "output_type": "stream",
          "name": "stdout",
          "text": [
            "Saving Budget_raw.xlsx to Budget_raw.xlsx\n"
          ]
        }
      ]
    },
    {
      "cell_type": "code",
      "source": [
        "# check if Budget_raw.xlsx is on cwd ==> Module_4\n",
        "os.listdir()"
      ],
      "metadata": {
        "id": "nSXj3cOHrAxn",
        "colab": {
          "base_uri": "https://localhost:8080/"
        },
        "outputId": "9dc39cb8-5331-4c83-e47f-cc4ef4f8aa6a"
      },
      "id": "nSXj3cOHrAxn",
      "execution_count": 21,
      "outputs": [
        {
          "output_type": "execute_result",
          "data": {
            "text/plain": [
              "['images', 'Budget_raw.xlsx']"
            ]
          },
          "metadata": {},
          "execution_count": 21
        }
      ]
    },
    {
      "cell_type": "code",
      "source": [
        "# check the notebook in your Colab Notebooks\n",
        "\n",
        "# if you want to delete a specific notebook in your drive, uncomment\n",
        "# os.unlink('/content/gdrive/MyDrive/Colab Notebooks/Budget_UseCase_Module_4.ipynb')\n",
        "\n",
        "# check again the files in Colab Notebooks\n",
        "os.listdir('/content/gdrive/MyDrive/Colab Notebooks')"
      ],
      "metadata": {
        "id": "5Cg1Algsq7Xo",
        "colab": {
          "base_uri": "https://localhost:8080/"
        },
        "outputId": "d089a450-839e-487f-bfda-e9c3ec0525ed"
      },
      "id": "5Cg1Algsq7Xo",
      "execution_count": 28,
      "outputs": [
        {
          "output_type": "execute_result",
          "data": {
            "text/plain": [
              "['Copy of Budget_UseCase_Module_4.ipynb']"
            ]
          },
          "metadata": {},
          "execution_count": 28
        }
      ]
    },
    {
      "cell_type": "code",
      "source": [
        "# if you save it in Drive and it was saved as a copy then rename it \n",
        "\n",
        "# rename\n",
        "\n",
        "'''\n",
        "\n",
        "os.rename('/content/gdrive/MyDrive/Colab Notebooks/Copy of Budget_UseCase_Module_4.ipynb', \n",
        "          '/content/gdrive/MyDrive/Colab Notebooks/Budget_UseCase_Module_4.ipynb') \n",
        "          \n",
        "'''\n",
        "\n",
        "# check again the files in Colab Notebooks\n",
        "os.listdir('/content/gdrive/MyDrive/Colab Notebooks')"
      ],
      "metadata": {
        "id": "yfzZgjJEXrjU",
        "colab": {
          "base_uri": "https://localhost:8080/"
        },
        "outputId": "ab0a98a0-40c5-4b5d-de33-16f6ec7096ff"
      },
      "id": "yfzZgjJEXrjU",
      "execution_count": 30,
      "outputs": [
        {
          "output_type": "execute_result",
          "data": {
            "text/plain": [
              "['Budget_UseCase_Module_4.ipynb']"
            ]
          },
          "metadata": {},
          "execution_count": 30
        }
      ]
    },
    {
      "cell_type": "code",
      "source": [
        "# check if you have the latest version of notebook\n",
        "# get the time of file creation/modification\n",
        "\n",
        "import time\n",
        " \n",
        "# Path to the file/directory\n",
        "path = \"/content/gdrive/MyDrive/Colab Notebooks/Budget_UseCase_Module_4.ipynb\"\n",
        "# path = \"Budget_UseCase_Module_4.ipynb\" # from cwd\n",
        " \n",
        "# Both the variables would contain time\n",
        "\n",
        "ti_c = os.path.getctime(path) # time of creation\n",
        "ti_m = os.path.getmtime(path) # time of modification\n",
        "\n",
        "\n",
        "# Converting the time in seconds to a timestamp\n",
        "c_ti = time.ctime(ti_c)\n",
        "m_ti = time.ctime(ti_m)\n",
        " \n",
        "print(f\"The file located at the path {path} \\\n",
        "was created at {c_ti} and was \"\n",
        "      f\"last modified at {m_ti}\")"
      ],
      "metadata": {
        "colab": {
          "base_uri": "https://localhost:8080/"
        },
        "id": "kWNQZAqtI3fm",
        "outputId": "6aefb8e7-0e94-4686-d743-2710a40c60af"
      },
      "id": "kWNQZAqtI3fm",
      "execution_count": 31,
      "outputs": [
        {
          "output_type": "stream",
          "name": "stdout",
          "text": [
            "The file located at the path /content/gdrive/MyDrive/Colab Notebooks/Budget_UseCase_Module_4.ipynb was created at Thu Mar  9 13:09:37 2023 and was last modified at Thu Mar  9 13:09:37 2023\n"
          ]
        }
      ]
    },
    {
      "cell_type": "code",
      "source": [
        "# copy notebook \"Excel_processing_Basics_Colab_Module_4\" in your cwd MOdule_4\n",
        "\n",
        "folder = '/content/gdrive/MyDrive/Module_4' # path to were to move\n",
        "notebook = '/content/gdrive/MyDrive/Colab Notebooks/Budget_UseCase_Module_4.ipynb' # path from the where to get the notebook\n",
        "\n",
        "# copy (or move) from google colab to module_4, if you like to move ==> .move\n",
        "shutil.copy(notebook, # file/folder to cut/copy\n",
        "            folder) # folder where to move"
      ],
      "metadata": {
        "id": "OdtpC7mtrJ6d",
        "colab": {
          "base_uri": "https://localhost:8080/",
          "height": 36
        },
        "outputId": "5f20b6d6-a33e-4f5d-a3da-070fbfbfd04e"
      },
      "id": "OdtpC7mtrJ6d",
      "execution_count": 32,
      "outputs": [
        {
          "output_type": "execute_result",
          "data": {
            "text/plain": [
              "'/content/gdrive/MyDrive/Module_4/Budget_UseCase_Module_4.ipynb'"
            ],
            "application/vnd.google.colaboratory.intrinsic+json": {
              "type": "string"
            }
          },
          "metadata": {},
          "execution_count": 32
        }
      ]
    },
    {
      "cell_type": "code",
      "source": [
        "#containing of cwd\n",
        "os.listdir()"
      ],
      "metadata": {
        "id": "EaVqMV27gSMT",
        "outputId": "c77e52f7-ae45-4cf8-d5fe-03c0f7a0302e",
        "colab": {
          "base_uri": "https://localhost:8080/"
        }
      },
      "id": "EaVqMV27gSMT",
      "execution_count": 33,
      "outputs": [
        {
          "output_type": "execute_result",
          "data": {
            "text/plain": [
              "['images', 'Budget_raw.xlsx', 'Budget_UseCase_Module_4.ipynb']"
            ]
          },
          "metadata": {},
          "execution_count": 33
        }
      ]
    },
    {
      "cell_type": "markdown",
      "source": [
        "In paralel, \n",
        "\n",
        "\n",
        "\n",
        "*   we will be working with *pandas* : for data operations, like summing, % change, group by... \n",
        "*   we will be working with *openpyxl* to write the modifications in excel: inserting/writing new columns at locations we want\n",
        "\n"
      ],
      "metadata": {
        "id": "LSQTqCcF1osN"
      },
      "id": "LSQTqCcF1osN"
    },
    {
      "cell_type": "markdown",
      "id": "ff90bf43-6195-411c-a519-4464e3f1e354",
      "metadata": {
        "id": "ff90bf43-6195-411c-a519-4464e3f1e354"
      },
      "source": [
        "# 2.&nbsp;DF pandas, read Excel"
      ]
    },
    {
      "cell_type": "markdown",
      "source": [
        "## Loading excel in DF"
      ],
      "metadata": {
        "id": "vriDx3FC2li9"
      },
      "id": "vriDx3FC2li9"
    },
    {
      "cell_type": "code",
      "execution_count": 34,
      "id": "47818957",
      "metadata": {
        "id": "47818957",
        "colab": {
          "base_uri": "https://localhost:8080/",
          "height": 362
        },
        "outputId": "9eacad56-d080-428c-b676-524be7b2c27a"
      },
      "outputs": [
        {
          "output_type": "execute_result",
          "data": {
            "text/plain": [
              "  Business Department Region  Jan Income  Feb Income  Mar Income  Apr Income  \\\n",
              "0    B2C_1      Loans     AT     5924.95     4680.71     7406.19     7169.19   \n",
              "1    B2C_1      Loans     AT     5924.95     7346.94     6872.94     4739.96   \n",
              "2    B2C_1      Loans     AT     5924.95     7406.19     6043.45     6161.95   \n",
              "3    B2C_1   Services     AT     5924.95     5865.70     7406.19     4858.46   \n",
              "4    B2C_1      Loans     AT     5924.95     6280.45     6102.70     6339.70   \n",
              "5    B2C_1      Loans     AT     5867.90     7334.88     6102.62     4987.72   \n",
              "6    B2C_1      Loans     AT     5824.70     6814.90     6989.64     4543.27   \n",
              "7    B2C_1      Loans     AT     5924.95     5391.70     4976.96     7346.94   \n",
              "\n",
              "   May Income  Jun Income  Jan Expenditure  Feb Expenditure  Mar Expenditure  \\\n",
              "0     7406.19     5213.96          5178.13          3883.60          3534.08   \n",
              "1     6280.45     6576.69          3913.87          3835.59          4410.93   \n",
              "2     6161.95     5924.95          4386.71          3377.77          3411.55   \n",
              "3     5984.20     7169.19          4840.73          4743.92          5692.70   \n",
              "4     5865.70     6458.20          5875.00          5698.75          5983.69   \n",
              "5     6043.94     6396.01          2229.34          2162.46          2551.70   \n",
              "6     6465.42     5649.96          2199.00          1737.21          2015.16   \n",
              "7     6102.70     5806.45          3924.12          3767.16          4068.53   \n",
              "\n",
              "   Apr Expenditure  May Expenditure  Jun Expenditure  \n",
              "0          4240.90          3731.99          4217.15  \n",
              "1          4058.06          4220.38          5064.46  \n",
              "2          3206.86          3399.27          3229.31  \n",
              "3          5123.43          4867.26          5500.00  \n",
              "4          6701.73          7505.94          8481.71  \n",
              "5          2908.94          3112.57          3237.07  \n",
              "6          2115.92          1883.17          1977.33  \n",
              "7          3987.16          4505.49          3964.83  "
            ],
            "text/html": [
              "\n",
              "  <div id=\"df-9aa03406-19e8-41e5-9bad-504c6528baad\">\n",
              "    <div class=\"colab-df-container\">\n",
              "      <div>\n",
              "<style scoped>\n",
              "    .dataframe tbody tr th:only-of-type {\n",
              "        vertical-align: middle;\n",
              "    }\n",
              "\n",
              "    .dataframe tbody tr th {\n",
              "        vertical-align: top;\n",
              "    }\n",
              "\n",
              "    .dataframe thead th {\n",
              "        text-align: right;\n",
              "    }\n",
              "</style>\n",
              "<table border=\"1\" class=\"dataframe\">\n",
              "  <thead>\n",
              "    <tr style=\"text-align: right;\">\n",
              "      <th></th>\n",
              "      <th>Business</th>\n",
              "      <th>Department</th>\n",
              "      <th>Region</th>\n",
              "      <th>Jan Income</th>\n",
              "      <th>Feb Income</th>\n",
              "      <th>Mar Income</th>\n",
              "      <th>Apr Income</th>\n",
              "      <th>May Income</th>\n",
              "      <th>Jun Income</th>\n",
              "      <th>Jan Expenditure</th>\n",
              "      <th>Feb Expenditure</th>\n",
              "      <th>Mar Expenditure</th>\n",
              "      <th>Apr Expenditure</th>\n",
              "      <th>May Expenditure</th>\n",
              "      <th>Jun Expenditure</th>\n",
              "    </tr>\n",
              "  </thead>\n",
              "  <tbody>\n",
              "    <tr>\n",
              "      <th>0</th>\n",
              "      <td>B2C_1</td>\n",
              "      <td>Loans</td>\n",
              "      <td>AT</td>\n",
              "      <td>5924.95</td>\n",
              "      <td>4680.71</td>\n",
              "      <td>7406.19</td>\n",
              "      <td>7169.19</td>\n",
              "      <td>7406.19</td>\n",
              "      <td>5213.96</td>\n",
              "      <td>5178.13</td>\n",
              "      <td>3883.60</td>\n",
              "      <td>3534.08</td>\n",
              "      <td>4240.90</td>\n",
              "      <td>3731.99</td>\n",
              "      <td>4217.15</td>\n",
              "    </tr>\n",
              "    <tr>\n",
              "      <th>1</th>\n",
              "      <td>B2C_1</td>\n",
              "      <td>Loans</td>\n",
              "      <td>AT</td>\n",
              "      <td>5924.95</td>\n",
              "      <td>7346.94</td>\n",
              "      <td>6872.94</td>\n",
              "      <td>4739.96</td>\n",
              "      <td>6280.45</td>\n",
              "      <td>6576.69</td>\n",
              "      <td>3913.87</td>\n",
              "      <td>3835.59</td>\n",
              "      <td>4410.93</td>\n",
              "      <td>4058.06</td>\n",
              "      <td>4220.38</td>\n",
              "      <td>5064.46</td>\n",
              "    </tr>\n",
              "    <tr>\n",
              "      <th>2</th>\n",
              "      <td>B2C_1</td>\n",
              "      <td>Loans</td>\n",
              "      <td>AT</td>\n",
              "      <td>5924.95</td>\n",
              "      <td>7406.19</td>\n",
              "      <td>6043.45</td>\n",
              "      <td>6161.95</td>\n",
              "      <td>6161.95</td>\n",
              "      <td>5924.95</td>\n",
              "      <td>4386.71</td>\n",
              "      <td>3377.77</td>\n",
              "      <td>3411.55</td>\n",
              "      <td>3206.86</td>\n",
              "      <td>3399.27</td>\n",
              "      <td>3229.31</td>\n",
              "    </tr>\n",
              "    <tr>\n",
              "      <th>3</th>\n",
              "      <td>B2C_1</td>\n",
              "      <td>Services</td>\n",
              "      <td>AT</td>\n",
              "      <td>5924.95</td>\n",
              "      <td>5865.70</td>\n",
              "      <td>7406.19</td>\n",
              "      <td>4858.46</td>\n",
              "      <td>5984.20</td>\n",
              "      <td>7169.19</td>\n",
              "      <td>4840.73</td>\n",
              "      <td>4743.92</td>\n",
              "      <td>5692.70</td>\n",
              "      <td>5123.43</td>\n",
              "      <td>4867.26</td>\n",
              "      <td>5500.00</td>\n",
              "    </tr>\n",
              "    <tr>\n",
              "      <th>4</th>\n",
              "      <td>B2C_1</td>\n",
              "      <td>Loans</td>\n",
              "      <td>AT</td>\n",
              "      <td>5924.95</td>\n",
              "      <td>6280.45</td>\n",
              "      <td>6102.70</td>\n",
              "      <td>6339.70</td>\n",
              "      <td>5865.70</td>\n",
              "      <td>6458.20</td>\n",
              "      <td>5875.00</td>\n",
              "      <td>5698.75</td>\n",
              "      <td>5983.69</td>\n",
              "      <td>6701.73</td>\n",
              "      <td>7505.94</td>\n",
              "      <td>8481.71</td>\n",
              "    </tr>\n",
              "    <tr>\n",
              "      <th>5</th>\n",
              "      <td>B2C_1</td>\n",
              "      <td>Loans</td>\n",
              "      <td>AT</td>\n",
              "      <td>5867.90</td>\n",
              "      <td>7334.88</td>\n",
              "      <td>6102.62</td>\n",
              "      <td>4987.72</td>\n",
              "      <td>6043.94</td>\n",
              "      <td>6396.01</td>\n",
              "      <td>2229.34</td>\n",
              "      <td>2162.46</td>\n",
              "      <td>2551.70</td>\n",
              "      <td>2908.94</td>\n",
              "      <td>3112.57</td>\n",
              "      <td>3237.07</td>\n",
              "    </tr>\n",
              "    <tr>\n",
              "      <th>6</th>\n",
              "      <td>B2C_1</td>\n",
              "      <td>Loans</td>\n",
              "      <td>AT</td>\n",
              "      <td>5824.70</td>\n",
              "      <td>6814.90</td>\n",
              "      <td>6989.64</td>\n",
              "      <td>4543.27</td>\n",
              "      <td>6465.42</td>\n",
              "      <td>5649.96</td>\n",
              "      <td>2199.00</td>\n",
              "      <td>1737.21</td>\n",
              "      <td>2015.16</td>\n",
              "      <td>2115.92</td>\n",
              "      <td>1883.17</td>\n",
              "      <td>1977.33</td>\n",
              "    </tr>\n",
              "    <tr>\n",
              "      <th>7</th>\n",
              "      <td>B2C_1</td>\n",
              "      <td>Loans</td>\n",
              "      <td>AT</td>\n",
              "      <td>5924.95</td>\n",
              "      <td>5391.70</td>\n",
              "      <td>4976.96</td>\n",
              "      <td>7346.94</td>\n",
              "      <td>6102.70</td>\n",
              "      <td>5806.45</td>\n",
              "      <td>3924.12</td>\n",
              "      <td>3767.16</td>\n",
              "      <td>4068.53</td>\n",
              "      <td>3987.16</td>\n",
              "      <td>4505.49</td>\n",
              "      <td>3964.83</td>\n",
              "    </tr>\n",
              "  </tbody>\n",
              "</table>\n",
              "</div>\n",
              "      <button class=\"colab-df-convert\" onclick=\"convertToInteractive('df-9aa03406-19e8-41e5-9bad-504c6528baad')\"\n",
              "              title=\"Convert this dataframe to an interactive table.\"\n",
              "              style=\"display:none;\">\n",
              "        \n",
              "  <svg xmlns=\"http://www.w3.org/2000/svg\" height=\"24px\"viewBox=\"0 0 24 24\"\n",
              "       width=\"24px\">\n",
              "    <path d=\"M0 0h24v24H0V0z\" fill=\"none\"/>\n",
              "    <path d=\"M18.56 5.44l.94 2.06.94-2.06 2.06-.94-2.06-.94-.94-2.06-.94 2.06-2.06.94zm-11 1L8.5 8.5l.94-2.06 2.06-.94-2.06-.94L8.5 2.5l-.94 2.06-2.06.94zm10 10l.94 2.06.94-2.06 2.06-.94-2.06-.94-.94-2.06-.94 2.06-2.06.94z\"/><path d=\"M17.41 7.96l-1.37-1.37c-.4-.4-.92-.59-1.43-.59-.52 0-1.04.2-1.43.59L10.3 9.45l-7.72 7.72c-.78.78-.78 2.05 0 2.83L4 21.41c.39.39.9.59 1.41.59.51 0 1.02-.2 1.41-.59l7.78-7.78 2.81-2.81c.8-.78.8-2.07 0-2.86zM5.41 20L4 18.59l7.72-7.72 1.47 1.35L5.41 20z\"/>\n",
              "  </svg>\n",
              "      </button>\n",
              "      \n",
              "  <style>\n",
              "    .colab-df-container {\n",
              "      display:flex;\n",
              "      flex-wrap:wrap;\n",
              "      gap: 12px;\n",
              "    }\n",
              "\n",
              "    .colab-df-convert {\n",
              "      background-color: #E8F0FE;\n",
              "      border: none;\n",
              "      border-radius: 50%;\n",
              "      cursor: pointer;\n",
              "      display: none;\n",
              "      fill: #1967D2;\n",
              "      height: 32px;\n",
              "      padding: 0 0 0 0;\n",
              "      width: 32px;\n",
              "    }\n",
              "\n",
              "    .colab-df-convert:hover {\n",
              "      background-color: #E2EBFA;\n",
              "      box-shadow: 0px 1px 2px rgba(60, 64, 67, 0.3), 0px 1px 3px 1px rgba(60, 64, 67, 0.15);\n",
              "      fill: #174EA6;\n",
              "    }\n",
              "\n",
              "    [theme=dark] .colab-df-convert {\n",
              "      background-color: #3B4455;\n",
              "      fill: #D2E3FC;\n",
              "    }\n",
              "\n",
              "    [theme=dark] .colab-df-convert:hover {\n",
              "      background-color: #434B5C;\n",
              "      box-shadow: 0px 1px 3px 1px rgba(0, 0, 0, 0.15);\n",
              "      filter: drop-shadow(0px 1px 2px rgba(0, 0, 0, 0.3));\n",
              "      fill: #FFFFFF;\n",
              "    }\n",
              "  </style>\n",
              "\n",
              "      <script>\n",
              "        const buttonEl =\n",
              "          document.querySelector('#df-9aa03406-19e8-41e5-9bad-504c6528baad button.colab-df-convert');\n",
              "        buttonEl.style.display =\n",
              "          google.colab.kernel.accessAllowed ? 'block' : 'none';\n",
              "\n",
              "        async function convertToInteractive(key) {\n",
              "          const element = document.querySelector('#df-9aa03406-19e8-41e5-9bad-504c6528baad');\n",
              "          const dataTable =\n",
              "            await google.colab.kernel.invokeFunction('convertToInteractive',\n",
              "                                                     [key], {});\n",
              "          if (!dataTable) return;\n",
              "\n",
              "          const docLinkHtml = 'Like what you see? Visit the ' +\n",
              "            '<a target=\"_blank\" href=https://colab.research.google.com/notebooks/data_table.ipynb>data table notebook</a>'\n",
              "            + ' to learn more about interactive tables.';\n",
              "          element.innerHTML = '';\n",
              "          dataTable['output_type'] = 'display_data';\n",
              "          await google.colab.output.renderOutput(dataTable, element);\n",
              "          const docLink = document.createElement('div');\n",
              "          docLink.innerHTML = docLinkHtml;\n",
              "          element.appendChild(docLink);\n",
              "        }\n",
              "      </script>\n",
              "    </div>\n",
              "  </div>\n",
              "  "
            ]
          },
          "metadata": {},
          "execution_count": 34
        }
      ],
      "source": [
        "# read excel 'Budget_raw.xlsx' and load it in a dataframe\n",
        "\n",
        "filename='Budget_raw.xlsx'\n",
        "# read the excel\n",
        "df = pd.read_excel(filename, \n",
        "                   header=0) # the row 0 will be as our headers\n",
        "df = pd.DataFrame(df)\n",
        "# df = df.set_index(['Region', 'Business', 'Department'])\n",
        "\n",
        "# display first 8 rows\n",
        "df.head(8)"
      ]
    },
    {
      "cell_type": "markdown",
      "source": [
        "## Explore the DF"
      ],
      "metadata": {
        "id": "ml-o8zAzRsub"
      },
      "id": "ml-o8zAzRsub"
    },
    {
      "cell_type": "code",
      "source": [
        "# dimensions and column names\n",
        "\n",
        "print('df dimensions: ', df.shape)\n",
        "print('df lengh: ', len(df))\n",
        "print('df columns: ', df.columns)"
      ],
      "metadata": {
        "colab": {
          "base_uri": "https://localhost:8080/"
        },
        "id": "MpF0c1LnR2GW",
        "outputId": "587bf979-d903-423f-9a10-615cbd944ccf"
      },
      "id": "MpF0c1LnR2GW",
      "execution_count": 35,
      "outputs": [
        {
          "output_type": "stream",
          "name": "stdout",
          "text": [
            "df dimensions:  (1937, 15)\n",
            "df lengh:  1937\n",
            "df columns:  Index(['Business', 'Department', 'Region', 'Jan Income', 'Feb Income',\n",
            "       'Mar Income', 'Apr Income', 'May Income', 'Jun Income',\n",
            "       'Jan Expenditure', 'Feb Expenditure', 'Mar Expenditure',\n",
            "       'Apr Expenditure', 'May Expenditure', 'Jun Expenditure'],\n",
            "      dtype='object')\n"
          ]
        }
      ]
    },
    {
      "cell_type": "code",
      "execution_count": 36,
      "id": "98b14cbc",
      "metadata": {
        "id": "98b14cbc",
        "colab": {
          "base_uri": "https://localhost:8080/"
        },
        "outputId": "d4afe477-8c05-4303-be09-26cb7fc7c490"
      },
      "outputs": [
        {
          "output_type": "stream",
          "name": "stdout",
          "text": [
            "<class 'pandas.core.frame.DataFrame'>\n",
            "RangeIndex: 1937 entries, 0 to 1936\n",
            "Data columns (total 15 columns):\n",
            " #   Column           Non-Null Count  Dtype  \n",
            "---  ------           --------------  -----  \n",
            " 0   Business         1937 non-null   object \n",
            " 1   Department       1937 non-null   object \n",
            " 2   Region           1937 non-null   object \n",
            " 3   Jan Income       1937 non-null   float64\n",
            " 4   Feb Income       1937 non-null   float64\n",
            " 5   Mar Income       1937 non-null   float64\n",
            " 6   Apr Income       1937 non-null   float64\n",
            " 7   May Income       1937 non-null   float64\n",
            " 8   Jun Income       1937 non-null   float64\n",
            " 9   Jan Expenditure  1937 non-null   float64\n",
            " 10  Feb Expenditure  1937 non-null   float64\n",
            " 11  Mar Expenditure  1937 non-null   float64\n",
            " 12  Apr Expenditure  1937 non-null   float64\n",
            " 13  May Expenditure  1937 non-null   float64\n",
            " 14  Jun Expenditure  1937 non-null   float64\n",
            "dtypes: float64(12), object(3)\n",
            "memory usage: 227.1+ KB\n"
          ]
        }
      ],
      "source": [
        "# check data types for each column\n",
        "df.info()"
      ]
    },
    {
      "cell_type": "code",
      "source": [
        "# how many Business categories\n",
        "\n",
        "df['Business'].unique()"
      ],
      "metadata": {
        "colab": {
          "base_uri": "https://localhost:8080/"
        },
        "id": "YsA2N-hBR6ai",
        "outputId": "3b58e9d3-91ae-4c29-f758-dc8c6766c7a9"
      },
      "id": "YsA2N-hBR6ai",
      "execution_count": 37,
      "outputs": [
        {
          "output_type": "execute_result",
          "data": {
            "text/plain": [
              "array(['B2C_1', 'B2B', 'Fleet', 'B2C_2'], dtype=object)"
            ]
          },
          "metadata": {},
          "execution_count": 37
        }
      ]
    },
    {
      "cell_type": "code",
      "source": [
        "# how many Departmens categories\n",
        "\n",
        "df['Department'].unique()"
      ],
      "metadata": {
        "colab": {
          "base_uri": "https://localhost:8080/"
        },
        "id": "YtBIqMm0SDwk",
        "outputId": "63e2d14c-9f1e-4983-c71f-ad5a5c994dde"
      },
      "id": "YtBIqMm0SDwk",
      "execution_count": 38,
      "outputs": [
        {
          "output_type": "execute_result",
          "data": {
            "text/plain": [
              "array(['Loans', 'Services', 'Assistance', 'Maintenance', 'Fees'],\n",
              "      dtype=object)"
            ]
          },
          "metadata": {},
          "execution_count": 38
        }
      ]
    },
    {
      "cell_type": "code",
      "source": [
        "# how many Regions categories\n",
        "\n",
        "df['Region'].unique()"
      ],
      "metadata": {
        "colab": {
          "base_uri": "https://localhost:8080/"
        },
        "id": "2rFWE1LISJr6",
        "outputId": "986bdb7d-87b8-4e5b-f8d2-9376603a3d9a"
      },
      "id": "2rFWE1LISJr6",
      "execution_count": 39,
      "outputs": [
        {
          "output_type": "execute_result",
          "data": {
            "text/plain": [
              "array(['AT', 'BE', 'DE', 'DK', 'FR', 'IE', 'IT', 'NL', 'PL', 'PT', 'UK'],\n",
              "      dtype=object)"
            ]
          },
          "metadata": {},
          "execution_count": 39
        }
      ]
    },
    {
      "cell_type": "markdown",
      "id": "eeee9a1d-f96b-428f-b053-d3bb993d46cd",
      "metadata": {
        "id": "eeee9a1d-f96b-428f-b053-d3bb993d46cd"
      },
      "source": [
        "# 3.&nbsp;Excel workbook"
      ]
    },
    {
      "cell_type": "markdown",
      "source": [
        "## Load in workbook"
      ],
      "metadata": {
        "id": "2Jmx--vLS5M3"
      },
      "id": "2Jmx--vLS5M3"
    },
    {
      "cell_type": "code",
      "execution_count": 40,
      "id": "b864f82b",
      "metadata": {
        "id": "b864f82b"
      },
      "outputs": [],
      "source": [
        "# load a workbook in wb var\n",
        "# be carefull, the excel file should be closed on your computer in order to access it\n",
        "\n",
        "# load Budget_raw.xlsx workbook\n",
        "filename = 'Budget_raw.xlsx'\n",
        "wb = load_workbook(filename= filename, #relative path\n",
        "                   #read_only=True, # optimised for reading, content cannot be edited\n",
        "                   data_only =True) # controls whether cells with formulae have either the formula (default) or the value stored the last time Excel read the sheet"
      ]
    },
    {
      "cell_type": "code",
      "execution_count": 41,
      "id": "76200526",
      "metadata": {
        "id": "76200526",
        "colab": {
          "base_uri": "https://localhost:8080/"
        },
        "outputId": "1d4a7cf5-c4bd-4464-b605-849e82a760c3"
      },
      "outputs": [
        {
          "output_type": "execute_result",
          "data": {
            "text/plain": [
              "['Data', 'Department']"
            ]
          },
          "metadata": {},
          "execution_count": 41
        }
      ],
      "source": [
        "# get sheetnames of the workbook\n",
        "wb.sheetnames"
      ]
    },
    {
      "cell_type": "raw",
      "id": "5c4ee9a7-a527-40df-a7c5-fbd8783d0f52",
      "metadata": {
        "id": "5c4ee9a7-a527-40df-a7c5-fbd8783d0f52"
      },
      "source": [
        "## Metadata"
      ]
    },
    {
      "cell_type": "markdown",
      "source": [
        "We can explore/ add some metadata about the excel, like : author, description, some keywords..."
      ],
      "metadata": {
        "id": "6QouqZwRsK59"
      },
      "id": "6QouqZwRsK59"
    },
    {
      "cell_type": "code",
      "execution_count": 42,
      "id": "625867b7-dc01-4c50-aaf1-355ba56235f5",
      "metadata": {
        "id": "625867b7-dc01-4c50-aaf1-355ba56235f5",
        "colab": {
          "base_uri": "https://localhost:8080/"
        },
        "outputId": "a35542c3-cb54-4dba-9c91-fcc032fee70a"
      },
      "outputs": [
        {
          "output_type": "execute_result",
          "data": {
            "text/plain": [
              "<openpyxl.packaging.core.DocumentProperties object>\n",
              "Parameters:\n",
              "creator=None, title=None, description=None, subject=None, identifier=None, language=None, created=datetime.datetime(2017, 6, 9, 0, 53, 13), modified=datetime.datetime(2022, 11, 21, 13, 49), lastModifiedBy=None, category=None, contentStatus=None, version=None, revision=None, keywords=None, lastPrinted=None"
            ]
          },
          "metadata": {},
          "execution_count": 42
        }
      ],
      "source": [
        "# Metadata => information about your excel\n",
        "wb.properties"
      ]
    },
    {
      "cell_type": "code",
      "execution_count": 43,
      "id": "6989f6fc-5b0f-4c4d-aa6e-4769d3ee310b",
      "metadata": {
        "id": "6989f6fc-5b0f-4c4d-aa6e-4769d3ee310b",
        "colab": {
          "base_uri": "https://localhost:8080/"
        },
        "outputId": "94c727d1-7be1-4447-f9a1-17a5fdcddb69"
      },
      "outputs": [
        {
          "output_type": "execute_result",
          "data": {
            "text/plain": [
              "<openpyxl.packaging.core.DocumentProperties object>\n",
              "Parameters:\n",
              "creator='Cristina Teleuca', title='Budget_Processed Excel Automation', description='Excel Manipulation with Python openpyxl', subject=None, identifier=None, language=None, created=datetime.datetime(2023, 2, 1, 8, 0), modified=datetime.datetime(2023, 3, 9, 13, 14, 30, 587793), lastModifiedBy=None, category=None, contentStatus=None, version=None, revision=None, keywords=\"['Excel', 'Automation', 'Python', 'openpyxl']\", lastPrinted=None"
            ]
          },
          "metadata": {},
          "execution_count": 43
        }
      ],
      "source": [
        "# add some metadata about the excel\n",
        "\n",
        "wb.properties.title  = 'Budget_Processed Excel Automation'\n",
        "wb.properties.creator  = 'Cristina Teleuca'\n",
        "wb.properties.description  = 'Excel Manipulation with Python openpyxl' \n",
        "wb.properties.keywords  = ['Excel', 'Automation', 'Python', 'openpyxl']\n",
        "wb.properties.created = datetime.datetime(2023, 2, 1, 8, 00, 00)\n",
        "wb.properties.modified = datetime.datetime.now()\n",
        "\n",
        "wb.properties"
      ]
    },
    {
      "cell_type": "raw",
      "id": "3c80fd15-8bd1-4133-a993-0b7cb6cacd19",
      "metadata": {
        "id": "3c80fd15-8bd1-4133-a993-0b7cb6cacd19"
      },
      "source": [
        "## Worksheet"
      ]
    },
    {
      "cell_type": "code",
      "execution_count": 44,
      "id": "7eaa5af7",
      "metadata": {
        "id": "7eaa5af7",
        "colab": {
          "base_uri": "https://localhost:8080/",
          "height": 36
        },
        "outputId": "66de32a6-31bb-4dff-b67c-60fdb014a618"
      },
      "outputs": [
        {
          "output_type": "execute_result",
          "data": {
            "text/plain": [
              "'Data'"
            ],
            "application/vnd.google.colaboratory.intrinsic+json": {
              "type": "string"
            }
          },
          "metadata": {},
          "execution_count": 44
        }
      ],
      "source": [
        "# assign sheet for sheetname 'Data' the sheet we'll work with\n",
        "sheet = wb['Data']\n",
        "sheet.title"
      ]
    },
    {
      "cell_type": "code",
      "execution_count": 45,
      "id": "2d0a9c82",
      "metadata": {
        "id": "2d0a9c82",
        "colab": {
          "base_uri": "https://localhost:8080/"
        },
        "outputId": "0e8c0b4b-7efe-43db-833f-c7b746fd9bde"
      },
      "outputs": [
        {
          "output_type": "stream",
          "name": "stdout",
          "text": [
            "1938\n",
            "15\n"
          ]
        }
      ],
      "source": [
        "# get nb of rows of a sheet\n",
        "print(sheet.max_row)\n",
        "\n",
        "# get nb of columns of a sheet\n",
        "print(sheet.max_column)"
      ]
    },
    {
      "cell_type": "code",
      "execution_count": 46,
      "id": "65ba7731",
      "metadata": {
        "id": "65ba7731",
        "colab": {
          "base_uri": "https://localhost:8080/"
        },
        "outputId": "2cbd315a-a9e2-48ad-f96d-f2a427cd5990"
      },
      "outputs": [
        {
          "output_type": "execute_result",
          "data": {
            "text/plain": [
              "['images',\n",
              " 'Budget_raw.xlsx',\n",
              " 'Budget_UseCase_Module_4.ipynb',\n",
              " 'Budget_processed.xlsx']"
            ]
          },
          "metadata": {},
          "execution_count": 46
        }
      ],
      "source": [
        "# save the workbook into another excel \"Budget_processed.xlsx\" \n",
        "wb.save('Budget_processed.xlsx') # just to have 2 versions: the original one and the processed one with modifications\n",
        "# check if the new excel file was created\n",
        "os.listdir()"
      ]
    },
    {
      "cell_type": "markdown",
      "id": "8f1997df",
      "metadata": {
        "id": "8f1997df"
      },
      "source": [
        "# 4.&nbsp;Excel exploration/ Dimensions/ Locations\n",
        "\n",
        "\n"
      ]
    },
    {
      "cell_type": "markdown",
      "source": [
        "## XL range"
      ],
      "metadata": {
        "id": "l0Po1IbaUW8d"
      },
      "id": "l0Po1IbaUW8d"
    },
    {
      "cell_type": "markdown",
      "source": [
        "Compute df_range with xl_range()\n",
        "\n",
        "The xl_range() function converts zero based row and column cell references to an A1:B1 style range string"
      ],
      "metadata": {
        "id": "KEG4_uMG4DPt"
      },
      "id": "KEG4_uMG4DPt"
    },
    {
      "cell_type": "code",
      "execution_count": 47,
      "id": "851dd70a",
      "metadata": {
        "id": "851dd70a",
        "colab": {
          "base_uri": "https://localhost:8080/"
        },
        "outputId": "1c3b90d4-dd39-4b1d-d11c-18e16dcec4e0"
      },
      "outputs": [
        {
          "output_type": "stream",
          "name": "stdout",
          "text": [
            "df shape:  1937 15\n",
            "in excel the df cellrange is :  A1:O1938\n"
          ]
        }
      ],
      "source": [
        "# compute the range of the whole dataframe \n",
        "max_row, max_col = df.shape\n",
        "print('df shape: ', max_row, max_col) \n",
        "\n",
        "# the df range in excel (A1:O1938)\n",
        "ws_range = xl_range(0, # starting row\n",
        "                    0, # starting column\n",
        "                    max_row, # last row index # 1937\n",
        "                    max_col - 1) # 15-1 ==>  last column -1 as the index starts a 0\n",
        "print('in excel the df cellrange is : ', ws_range) # !!!! don't forget to update df_range if you're adding new col or rows"
      ]
    },
    {
      "cell_type": "code",
      "execution_count": 48,
      "id": "ddf52aa7",
      "metadata": {
        "id": "ddf52aa7",
        "colab": {
          "base_uri": "https://localhost:8080/"
        },
        "outputId": "e97610c6-f3a5-45e3-d29d-d2f2b641fa61"
      },
      "outputs": [
        {
          "output_type": "stream",
          "name": "stdout",
          "text": [
            "1 ['Business', 'Department', 'Region', 'Jan Income', 'Feb Income', 'Mar Income', 'Apr Income', 'May Income', 'Jun Income', 'Jan Expenditure', 'Feb Expenditure', 'Mar Expenditure', 'Apr Expenditure', 'May Expenditure', 'Jun Expenditure']\n",
            "2 ['B2C_1', 'Loans', 'AT', 5924.95, 4680.71, 7406.19, 7169.19, 7406.19, 5213.96, 5178.13, 3883.6, 3534.08, 4240.9, 3731.99, 4217.15]\n",
            "3 ['B2C_1', 'Loans', 'AT', 5924.95, 7346.94, 6872.94, 4739.96, 6280.45, 6576.69, 3913.87, 3835.59, 4410.93, 4058.06, 4220.38, 5064.46]\n",
            "4 ['B2C_1', 'Loans', 'AT', 5924.95, 7406.19, 6043.45, 6161.95, 6161.95, 5924.95, 4386.71, 3377.77, 3411.55, 3206.86, 3399.27, 3229.31]\n",
            "5 ['B2C_1', 'Services', 'AT', 5924.95, 5865.7, 7406.19, 4858.46, 5984.2, 7169.19, 4840.73, 4743.92, 5692.7, 5123.43, 4867.26, 5500]\n"
          ]
        }
      ],
      "source": [
        "# Access all cells from A1 to 05\n",
        "for idx, row in enumerate(sheet['A1:O5']):\n",
        "    print(idx+1, [x.value for x in row])"
      ]
    },
    {
      "cell_type": "code",
      "source": [
        "# let's create a dictionnary where we'll store dimensions/locations of our excel\n",
        "\n",
        "ws_loc = {'max_row': max_row,\n",
        "          'max_col': max_col,\n",
        "          'df_shape': df.shape,\n",
        "          'ws_range': ws_range    \n",
        "         }\n",
        "\n",
        "ws_loc               "
      ],
      "metadata": {
        "colab": {
          "base_uri": "https://localhost:8080/"
        },
        "id": "9U7vzqxnwLo0",
        "outputId": "1a6048d4-95d5-4a13-c0aa-da317b2a5714"
      },
      "id": "9U7vzqxnwLo0",
      "execution_count": 50,
      "outputs": [
        {
          "output_type": "execute_result",
          "data": {
            "text/plain": [
              "{'max_row': 1937,\n",
              " 'max_col': 15,\n",
              " 'df_shape': (1937, 15),\n",
              " 'ws_range': 'A1:O1938'}"
            ]
          },
          "metadata": {},
          "execution_count": 50
        }
      ]
    },
    {
      "cell_type": "markdown",
      "source": [
        "## Upper left corner"
      ],
      "metadata": {
        "id": "EUBwv6TCUc7B"
      },
      "id": "EUBwv6TCUc7B"
    },
    {
      "cell_type": "code",
      "execution_count": 51,
      "id": "966ceb25",
      "metadata": {
        "id": "966ceb25",
        "colab": {
          "base_uri": "https://localhost:8080/"
        },
        "outputId": "7c6fd4e4-ecab-4bef-ed47-e9ff85565c76"
      },
      "outputs": [
        {
          "output_type": "stream",
          "name": "stdout",
          "text": [
            "start point: A1 start col: A\n"
          ]
        }
      ],
      "source": [
        "# start indices\n",
        "start_point = xl_rowcol_to_cell(0,0) # coordinates of top lef of df\n",
        "start_col = xl_col_to_name(0)# # get the column letter for first column\n",
        "print(\"start point:\", start_point,     \n",
        "      \"start col:\", start_col)"
      ]
    },
    {
      "cell_type": "code",
      "source": [
        "# add them to the ws_loc\n",
        "\n",
        "ws_loc['start_point']= start_point\n",
        "ws_loc['start_col']= start_col\n",
        "ws_loc"
      ],
      "metadata": {
        "colab": {
          "base_uri": "https://localhost:8080/"
        },
        "id": "DSZFNrWRw_wn",
        "outputId": "d7f34e80-2bbf-4aa8-9000-f073b038473d"
      },
      "id": "DSZFNrWRw_wn",
      "execution_count": 52,
      "outputs": [
        {
          "output_type": "execute_result",
          "data": {
            "text/plain": [
              "{'max_row': 1937,\n",
              " 'max_col': 15,\n",
              " 'df_shape': (1937, 15),\n",
              " 'ws_range': 'A1:O1938',\n",
              " 'start_point': 'A1',\n",
              " 'start_col': 'A'}"
            ]
          },
          "metadata": {},
          "execution_count": 52
        }
      ]
    },
    {
      "cell_type": "markdown",
      "source": [
        "## Lower right corner"
      ],
      "metadata": {
        "id": "Wm7Gsp73UiCk"
      },
      "id": "Wm7Gsp73UiCk"
    },
    {
      "cell_type": "code",
      "execution_count": 53,
      "id": "19cc3305",
      "metadata": {
        "id": "19cc3305"
      },
      "outputs": [],
      "source": [
        "# end indices\n",
        "end_point = xl_rowcol_to_cell(max_row, max_col-1) # # coordinates of bottom right of df\n",
        "end_col = xl_col_to_name(max_col-1) # get the column letter for the last column\n",
        "end_row = max_row + 1 # last row in excel (+1)\n",
        "# get the index nb of column O\n",
        "end_col_idx = column_index_from_string(end_col)"
      ]
    },
    {
      "cell_type": "code",
      "source": [
        "# add them to the ws_loc\n",
        "\n",
        "ws_loc['end_point']= end_point\n",
        "ws_loc['end_col']= end_col\n",
        "ws_loc['end_col_idx']= end_col_idx\n",
        "ws_loc['end_row']= end_row\n",
        "\n",
        "ws_loc"
      ],
      "metadata": {
        "colab": {
          "base_uri": "https://localhost:8080/"
        },
        "id": "npcpCwgaxhM1",
        "outputId": "5f68f147-bc35-43fc-ac36-a11f93ffd3b2"
      },
      "id": "npcpCwgaxhM1",
      "execution_count": 54,
      "outputs": [
        {
          "output_type": "execute_result",
          "data": {
            "text/plain": [
              "{'max_row': 1937,\n",
              " 'max_col': 15,\n",
              " 'df_shape': (1937, 15),\n",
              " 'ws_range': 'A1:O1938',\n",
              " 'start_point': 'A1',\n",
              " 'start_col': 'A',\n",
              " 'end_point': 'O1938',\n",
              " 'end_col': 'O',\n",
              " 'end_col_idx': 15,\n",
              " 'end_row': 1938}"
            ]
          },
          "metadata": {},
          "execution_count": 54
        }
      ]
    },
    {
      "cell_type": "markdown",
      "source": [
        "## Columns"
      ],
      "metadata": {
        "id": "EGBFKC2NUp-Z"
      },
      "id": "EGBFKC2NUp-Z"
    },
    {
      "cell_type": "markdown",
      "source": [
        "Iterate through columns to get a better feeling of columns names and their respective indices"
      ],
      "metadata": {
        "id": "h-WHpMziWXbo"
      },
      "id": "h-WHpMziWXbo"
    },
    {
      "cell_type": "code",
      "execution_count": 55,
      "id": "f67b0236",
      "metadata": {
        "id": "f67b0236",
        "colab": {
          "base_uri": "https://localhost:8080/"
        },
        "outputId": "ca56b1b6-cf41-446b-cd16-9d6f4113cc89"
      },
      "outputs": [
        {
          "output_type": "stream",
          "name": "stdout",
          "text": [
            "nb of rows:  1938\n",
            "nb of columns:  15\n",
            "\n",
            "column indices and names: ... \n",
            "\n",
            "1 Business\n",
            "2 Department\n",
            "3 Region\n",
            "4 Jan Income\n",
            "5 Feb Income\n",
            "6 Mar Income\n",
            "7 Apr Income\n",
            "8 May Income\n",
            "9 Jun Income\n",
            "10 Jan Expenditure\n",
            "11 Feb Expenditure\n",
            "12 Mar Expenditure\n",
            "13 Apr Expenditure\n",
            "14 May Expenditure\n",
            "15 Jun Expenditure\n"
          ]
        }
      ],
      "source": [
        "# read all values from 1st row\n",
        "print('nb of rows: ' , sheet.max_row)\n",
        "print('nb of columns: ' , sheet.max_column)\n",
        "print('')\n",
        "\n",
        "print('column indices and names: ... ')\n",
        "print('')\n",
        "\n",
        "# iterate the 1st row values of the sheet, to see the col nb in excel and it's name\n",
        "for i in range(1, sheet.max_column+1): # add + 1, as the range function 2nd argument is not inclusive\n",
        "    ref = sheet.cell(row=1, column=i)\n",
        "    print(ref.column, ref.value)"
      ]
    },
    {
      "cell_type": "code",
      "execution_count": 56,
      "id": "3d81869c",
      "metadata": {
        "tags": [],
        "id": "3d81869c",
        "colab": {
          "base_uri": "https://localhost:8080/"
        },
        "outputId": "22d8ce25-a00d-4ee7-c42d-a6677c1f7c73"
      },
      "outputs": [
        {
          "output_type": "stream",
          "name": "stdout",
          "text": [
            "1 Business\n",
            "1 B2C_1\n",
            "1 B2C_1\n",
            "1 B2C_1\n",
            "1 B2C_1\n",
            "1 B2C_1\n",
            "1 B2C_1\n",
            "1 B2C_1\n",
            "1 B2C_1\n",
            "1 B2C_1\n"
          ]
        }
      ],
      "source": [
        "# iterate the 1 Column values of the sheet of the sheet up tp 10th row\n",
        "for i in range(1, 10 + 1): # add + 1, as the range function 2nd argument is not inclusive\n",
        "    ref = sheet.cell(row=i, column=1)\n",
        "    print(ref.column, ref.value)"
      ]
    },
    {
      "cell_type": "code",
      "execution_count": 57,
      "id": "66fb383a-8d1a-43a8-81a5-672146c3b386",
      "metadata": {
        "id": "66fb383a-8d1a-43a8-81a5-672146c3b386",
        "colab": {
          "base_uri": "https://localhost:8080/"
        },
        "outputId": "71a4a4dd-8f4e-44c5-927a-dbe3b86568df"
      },
      "outputs": [
        {
          "output_type": "stream",
          "name": "stdout",
          "text": [
            "2 Department\n",
            "2 Loans\n",
            "2 Loans\n",
            "2 Loans\n",
            "2 Services\n",
            "2 Loans\n",
            "2 Loans\n",
            "2 Loans\n",
            "2 Loans\n",
            "2 Loans\n"
          ]
        }
      ],
      "source": [
        "# iterate the 2nd Column values of the sheet of the sheet up tp 10th row\n",
        "for i in range(1, 10 + 1): # add + 1, as the range function 2nd argument is not inclusive\n",
        "    ref = sheet.cell(row=i, column=2)\n",
        "    print(ref.column, ref.value)"
      ]
    },
    {
      "cell_type": "code",
      "execution_count": 58,
      "id": "5f2aaae6-85ec-435c-b132-f91636d5850a",
      "metadata": {
        "id": "5f2aaae6-85ec-435c-b132-f91636d5850a",
        "colab": {
          "base_uri": "https://localhost:8080/"
        },
        "outputId": "b0917f84-6ef0-4f0a-bf26-30b0629257f2"
      },
      "outputs": [
        {
          "output_type": "stream",
          "name": "stdout",
          "text": [
            "15 Jun Expenditure\n",
            "15 4217.15\n",
            "15 5064.46\n",
            "15 3229.31\n",
            "15 5500\n",
            "15 8481.71\n",
            "15 3237.07\n",
            "15 1977.33\n",
            "15 3964.83\n",
            "15 2583\n"
          ]
        }
      ],
      "source": [
        "# iterate the last_column values of the sheet up tp 10th row\n",
        "last_column = sheet.max_column\n",
        "\n",
        "for i in range(1, 10 + 1): # add + 1, as the range function 2nd argument is not inclusive\n",
        "    ref = sheet.cell(row=i, column=last_column)\n",
        "    print(ref.column, ref.value)"
      ]
    },
    {
      "cell_type": "markdown",
      "id": "911b1a4b",
      "metadata": {
        "id": "911b1a4b"
      },
      "source": [
        "# 5.&nbsp;Add columns: Income, Expenditure, Net"
      ]
    },
    {
      "cell_type": "markdown",
      "source": [
        "We want to add 3 columns to our df:\n",
        "\n",
        "1.   **Total Income** (sum of all months with Income: from Jan to June)\n",
        "2.   **Total Expenditure** (sum of all months with Expenditure: from Jan to June)\n",
        "3.   **Net** (Net revenue = Total Income - Total Expenditure)\n",
        "4. We we'll need to update ws_locations because of modifications\n",
        "\n"
      ],
      "metadata": {
        "id": "cC_tHkYNU24p"
      },
      "id": "cC_tHkYNU24p"
    },
    {
      "cell_type": "markdown",
      "id": "3c3b0557",
      "metadata": {
        "id": "3c3b0557"
      },
      "source": [
        "## Total Income "
      ]
    },
    {
      "cell_type": "markdown",
      "source": [
        "**\"Total Income\" column in DF with pandas**\n",
        "\n",
        "Because, we want to do it automatically...\n",
        "\n",
        "1.   Identify columns that concerns the Income\n",
        "2.   Sum all Income columns\n",
        "3.   Reorder columns, so Total Income will be after last month with \n",
        "4. Add header Total Income\n",
        "\n"
      ],
      "metadata": {
        "id": "RCLOnAW47wwO"
      },
      "id": "RCLOnAW47wwO"
    },
    {
      "cell_type": "markdown",
      "source": [
        "**1.**   Identify columns that have the string Income in it"
      ],
      "metadata": {
        "id": "u9iIFTmlWjlG"
      },
      "id": "u9iIFTmlWjlG"
    },
    {
      "cell_type": "code",
      "execution_count": 59,
      "id": "08478a84",
      "metadata": {
        "id": "08478a84",
        "colab": {
          "base_uri": "https://localhost:8080/"
        },
        "outputId": "e3d9c253-a970-4eae-afbc-7cb4fb0ec392"
      },
      "outputs": [
        {
          "output_type": "stream",
          "name": "stdout",
          "text": [
            "Found!\n"
          ]
        }
      ],
      "source": [
        "# how to find a substring in a string\n",
        "\n",
        "fullstring = \"StackAbuse\"\n",
        "substring = \"tack\"\n",
        "\n",
        "if substring in fullstring:\n",
        "    print(\"Found!\")\n",
        "else:\n",
        "    print(\"Not found!\")"
      ]
    },
    {
      "cell_type": "code",
      "execution_count": 60,
      "id": "a78652a1",
      "metadata": {
        "id": "a78652a1",
        "colab": {
          "base_uri": "https://localhost:8080/"
        },
        "outputId": "dd1f31ab-67de-4af6-8a0c-8f1e6f664ca1"
      },
      "outputs": [
        {
          "output_type": "stream",
          "name": "stdout",
          "text": [
            "columns with Income: [3, 4, 5, 6, 7, 8]\n"
          ]
        }
      ],
      "source": [
        "## create an empty lis where we'll store column names that heve the string \"Income\" in it\n",
        "income_col=[]\n",
        "\n",
        "## iterate through column indices\n",
        "for col in range(0, len(df.columns)):\n",
        "    if 'Income' in df.columns[col]: #  identify column index for column with Income\n",
        "        income_col.append(col) # if column is identify store its index in the income_col list\n",
        "\n",
        "# the indices of columns that have sustring Income in it\n",
        "print('columns with Income:', income_col) # the list with column indices that have Income in columns"
      ]
    },
    {
      "cell_type": "code",
      "source": [
        "# limits of Income interval\n",
        "# assign variables with the start column index and the end column index\n",
        "income_start= income_col[0] # 1st element in the list ==> 3\n",
        "income_end= income_col[-1] # last element in the list ==> 8\n",
        "\n",
        "# the 1st and the last col that have Income in it\n",
        "print('first:', income_start, 'last:', income_end)"
      ],
      "metadata": {
        "colab": {
          "base_uri": "https://localhost:8080/"
        },
        "id": "M7vKW4ri9Y17",
        "outputId": "5a0a2417-6457-4d7b-c09e-37a276732c80"
      },
      "id": "M7vKW4ri9Y17",
      "execution_count": 61,
      "outputs": [
        {
          "output_type": "stream",
          "name": "stdout",
          "text": [
            "first: 3 last: 8\n"
          ]
        }
      ]
    },
    {
      "cell_type": "code",
      "source": [
        "# add them to ws_locations\n",
        "\n",
        "ws_loc['income_col']=income_col\n",
        "ws_loc['income_start']=income_start\n",
        "ws_loc['income_end']=income_end\n",
        "\n",
        "ws_loc\n"
      ],
      "metadata": {
        "colab": {
          "base_uri": "https://localhost:8080/"
        },
        "id": "mpNbmzwf22ts",
        "outputId": "d5a634fd-cd70-42ab-e3f0-992999cad330"
      },
      "id": "mpNbmzwf22ts",
      "execution_count": 62,
      "outputs": [
        {
          "output_type": "execute_result",
          "data": {
            "text/plain": [
              "{'max_row': 1937,\n",
              " 'max_col': 15,\n",
              " 'df_shape': (1937, 15),\n",
              " 'ws_range': 'A1:O1938',\n",
              " 'start_point': 'A1',\n",
              " 'start_col': 'A',\n",
              " 'end_point': 'O1938',\n",
              " 'end_col': 'O',\n",
              " 'end_col_idx': 15,\n",
              " 'end_row': 1938,\n",
              " 'income_col': [3, 4, 5, 6, 7, 8],\n",
              " 'income_start': 3,\n",
              " 'income_end': 8}"
            ]
          },
          "metadata": {},
          "execution_count": 62
        }
      ]
    },
    {
      "cell_type": "code",
      "execution_count": 63,
      "id": "6e85f173",
      "metadata": {
        "id": "6e85f173",
        "colab": {
          "base_uri": "https://localhost:8080/",
          "height": 424
        },
        "outputId": "5f4358c7-eccb-4a6b-cf7b-1701c3102568"
      },
      "outputs": [
        {
          "output_type": "execute_result",
          "data": {
            "text/plain": [
              "      Jan Income  Feb Income  Mar Income  Apr Income  May Income  Jun Income\n",
              "0        5924.95     4680.71     7406.19     7169.19     7406.19     5213.96\n",
              "1        5924.95     7346.94     6872.94     4739.96     6280.45     6576.69\n",
              "2        5924.95     7406.19     6043.45     6161.95     6161.95     5924.95\n",
              "3        5924.95     5865.70     7406.19     4858.46     5984.20     7169.19\n",
              "4        5924.95     6280.45     6102.70     6339.70     5865.70     6458.20\n",
              "...          ...         ...         ...         ...         ...         ...\n",
              "1932      562.75      512.10      664.05      478.34      619.03      472.71\n",
              "1933     5924.95     6991.44     7169.19     4443.71     4858.46     7406.19\n",
              "1934      480.00      393.60      470.40      412.80      384.00      600.00\n",
              "1935      400.00      464.00      448.00      424.00      420.00      384.00\n",
              "1936       20.21       19.81       15.36       15.56       22.64       22.03\n",
              "\n",
              "[1937 rows x 6 columns]"
            ],
            "text/html": [
              "\n",
              "  <div id=\"df-dd139435-3d6f-4516-bcc8-f4f568c59c00\">\n",
              "    <div class=\"colab-df-container\">\n",
              "      <div>\n",
              "<style scoped>\n",
              "    .dataframe tbody tr th:only-of-type {\n",
              "        vertical-align: middle;\n",
              "    }\n",
              "\n",
              "    .dataframe tbody tr th {\n",
              "        vertical-align: top;\n",
              "    }\n",
              "\n",
              "    .dataframe thead th {\n",
              "        text-align: right;\n",
              "    }\n",
              "</style>\n",
              "<table border=\"1\" class=\"dataframe\">\n",
              "  <thead>\n",
              "    <tr style=\"text-align: right;\">\n",
              "      <th></th>\n",
              "      <th>Jan Income</th>\n",
              "      <th>Feb Income</th>\n",
              "      <th>Mar Income</th>\n",
              "      <th>Apr Income</th>\n",
              "      <th>May Income</th>\n",
              "      <th>Jun Income</th>\n",
              "    </tr>\n",
              "  </thead>\n",
              "  <tbody>\n",
              "    <tr>\n",
              "      <th>0</th>\n",
              "      <td>5924.95</td>\n",
              "      <td>4680.71</td>\n",
              "      <td>7406.19</td>\n",
              "      <td>7169.19</td>\n",
              "      <td>7406.19</td>\n",
              "      <td>5213.96</td>\n",
              "    </tr>\n",
              "    <tr>\n",
              "      <th>1</th>\n",
              "      <td>5924.95</td>\n",
              "      <td>7346.94</td>\n",
              "      <td>6872.94</td>\n",
              "      <td>4739.96</td>\n",
              "      <td>6280.45</td>\n",
              "      <td>6576.69</td>\n",
              "    </tr>\n",
              "    <tr>\n",
              "      <th>2</th>\n",
              "      <td>5924.95</td>\n",
              "      <td>7406.19</td>\n",
              "      <td>6043.45</td>\n",
              "      <td>6161.95</td>\n",
              "      <td>6161.95</td>\n",
              "      <td>5924.95</td>\n",
              "    </tr>\n",
              "    <tr>\n",
              "      <th>3</th>\n",
              "      <td>5924.95</td>\n",
              "      <td>5865.70</td>\n",
              "      <td>7406.19</td>\n",
              "      <td>4858.46</td>\n",
              "      <td>5984.20</td>\n",
              "      <td>7169.19</td>\n",
              "    </tr>\n",
              "    <tr>\n",
              "      <th>4</th>\n",
              "      <td>5924.95</td>\n",
              "      <td>6280.45</td>\n",
              "      <td>6102.70</td>\n",
              "      <td>6339.70</td>\n",
              "      <td>5865.70</td>\n",
              "      <td>6458.20</td>\n",
              "    </tr>\n",
              "    <tr>\n",
              "      <th>...</th>\n",
              "      <td>...</td>\n",
              "      <td>...</td>\n",
              "      <td>...</td>\n",
              "      <td>...</td>\n",
              "      <td>...</td>\n",
              "      <td>...</td>\n",
              "    </tr>\n",
              "    <tr>\n",
              "      <th>1932</th>\n",
              "      <td>562.75</td>\n",
              "      <td>512.10</td>\n",
              "      <td>664.05</td>\n",
              "      <td>478.34</td>\n",
              "      <td>619.03</td>\n",
              "      <td>472.71</td>\n",
              "    </tr>\n",
              "    <tr>\n",
              "      <th>1933</th>\n",
              "      <td>5924.95</td>\n",
              "      <td>6991.44</td>\n",
              "      <td>7169.19</td>\n",
              "      <td>4443.71</td>\n",
              "      <td>4858.46</td>\n",
              "      <td>7406.19</td>\n",
              "    </tr>\n",
              "    <tr>\n",
              "      <th>1934</th>\n",
              "      <td>480.00</td>\n",
              "      <td>393.60</td>\n",
              "      <td>470.40</td>\n",
              "      <td>412.80</td>\n",
              "      <td>384.00</td>\n",
              "      <td>600.00</td>\n",
              "    </tr>\n",
              "    <tr>\n",
              "      <th>1935</th>\n",
              "      <td>400.00</td>\n",
              "      <td>464.00</td>\n",
              "      <td>448.00</td>\n",
              "      <td>424.00</td>\n",
              "      <td>420.00</td>\n",
              "      <td>384.00</td>\n",
              "    </tr>\n",
              "    <tr>\n",
              "      <th>1936</th>\n",
              "      <td>20.21</td>\n",
              "      <td>19.81</td>\n",
              "      <td>15.36</td>\n",
              "      <td>15.56</td>\n",
              "      <td>22.64</td>\n",
              "      <td>22.03</td>\n",
              "    </tr>\n",
              "  </tbody>\n",
              "</table>\n",
              "<p>1937 rows × 6 columns</p>\n",
              "</div>\n",
              "      <button class=\"colab-df-convert\" onclick=\"convertToInteractive('df-dd139435-3d6f-4516-bcc8-f4f568c59c00')\"\n",
              "              title=\"Convert this dataframe to an interactive table.\"\n",
              "              style=\"display:none;\">\n",
              "        \n",
              "  <svg xmlns=\"http://www.w3.org/2000/svg\" height=\"24px\"viewBox=\"0 0 24 24\"\n",
              "       width=\"24px\">\n",
              "    <path d=\"M0 0h24v24H0V0z\" fill=\"none\"/>\n",
              "    <path d=\"M18.56 5.44l.94 2.06.94-2.06 2.06-.94-2.06-.94-.94-2.06-.94 2.06-2.06.94zm-11 1L8.5 8.5l.94-2.06 2.06-.94-2.06-.94L8.5 2.5l-.94 2.06-2.06.94zm10 10l.94 2.06.94-2.06 2.06-.94-2.06-.94-.94-2.06-.94 2.06-2.06.94z\"/><path d=\"M17.41 7.96l-1.37-1.37c-.4-.4-.92-.59-1.43-.59-.52 0-1.04.2-1.43.59L10.3 9.45l-7.72 7.72c-.78.78-.78 2.05 0 2.83L4 21.41c.39.39.9.59 1.41.59.51 0 1.02-.2 1.41-.59l7.78-7.78 2.81-2.81c.8-.78.8-2.07 0-2.86zM5.41 20L4 18.59l7.72-7.72 1.47 1.35L5.41 20z\"/>\n",
              "  </svg>\n",
              "      </button>\n",
              "      \n",
              "  <style>\n",
              "    .colab-df-container {\n",
              "      display:flex;\n",
              "      flex-wrap:wrap;\n",
              "      gap: 12px;\n",
              "    }\n",
              "\n",
              "    .colab-df-convert {\n",
              "      background-color: #E8F0FE;\n",
              "      border: none;\n",
              "      border-radius: 50%;\n",
              "      cursor: pointer;\n",
              "      display: none;\n",
              "      fill: #1967D2;\n",
              "      height: 32px;\n",
              "      padding: 0 0 0 0;\n",
              "      width: 32px;\n",
              "    }\n",
              "\n",
              "    .colab-df-convert:hover {\n",
              "      background-color: #E2EBFA;\n",
              "      box-shadow: 0px 1px 2px rgba(60, 64, 67, 0.3), 0px 1px 3px 1px rgba(60, 64, 67, 0.15);\n",
              "      fill: #174EA6;\n",
              "    }\n",
              "\n",
              "    [theme=dark] .colab-df-convert {\n",
              "      background-color: #3B4455;\n",
              "      fill: #D2E3FC;\n",
              "    }\n",
              "\n",
              "    [theme=dark] .colab-df-convert:hover {\n",
              "      background-color: #434B5C;\n",
              "      box-shadow: 0px 1px 3px 1px rgba(0, 0, 0, 0.15);\n",
              "      filter: drop-shadow(0px 1px 2px rgba(0, 0, 0, 0.3));\n",
              "      fill: #FFFFFF;\n",
              "    }\n",
              "  </style>\n",
              "\n",
              "      <script>\n",
              "        const buttonEl =\n",
              "          document.querySelector('#df-dd139435-3d6f-4516-bcc8-f4f568c59c00 button.colab-df-convert');\n",
              "        buttonEl.style.display =\n",
              "          google.colab.kernel.accessAllowed ? 'block' : 'none';\n",
              "\n",
              "        async function convertToInteractive(key) {\n",
              "          const element = document.querySelector('#df-dd139435-3d6f-4516-bcc8-f4f568c59c00');\n",
              "          const dataTable =\n",
              "            await google.colab.kernel.invokeFunction('convertToInteractive',\n",
              "                                                     [key], {});\n",
              "          if (!dataTable) return;\n",
              "\n",
              "          const docLinkHtml = 'Like what you see? Visit the ' +\n",
              "            '<a target=\"_blank\" href=https://colab.research.google.com/notebooks/data_table.ipynb>data table notebook</a>'\n",
              "            + ' to learn more about interactive tables.';\n",
              "          element.innerHTML = '';\n",
              "          dataTable['output_type'] = 'display_data';\n",
              "          await google.colab.output.renderOutput(dataTable, element);\n",
              "          const docLink = document.createElement('div');\n",
              "          docLink.innerHTML = docLinkHtml;\n",
              "          element.appendChild(docLink);\n",
              "        }\n",
              "      </script>\n",
              "    </div>\n",
              "  </div>\n",
              "  "
            ]
          },
          "metadata": {},
          "execution_count": 63
        }
      ],
      "source": [
        "# check those columns at found indices in df with .iloc\n",
        "df.iloc[:, income_start:income_end+1] # we need to add +1 to income_end as the upper limit is not included,\n",
        "# .... and we want to make sure the last col is included (Jun)"
      ]
    },
    {
      "cell_type": "markdown",
      "source": [
        "**2.**   Compute Total Income "
      ],
      "metadata": {
        "id": "7-nBXZKUX8bJ"
      },
      "id": "7-nBXZKUX8bJ"
    },
    {
      "cell_type": "code",
      "execution_count": 64,
      "id": "e7a54401",
      "metadata": {
        "id": "e7a54401",
        "colab": {
          "base_uri": "https://localhost:8080/",
          "height": 288
        },
        "outputId": "71d79c16-09a0-49d1-ce86-463dbd635b05"
      },
      "outputs": [
        {
          "output_type": "execute_result",
          "data": {
            "text/plain": [
              "  Business Department Region  Jan Income  Feb Income  Mar Income  Apr Income  \\\n",
              "0    B2C_1      Loans     AT     5924.95     4680.71     7406.19     7169.19   \n",
              "1    B2C_1      Loans     AT     5924.95     7346.94     6872.94     4739.96   \n",
              "2    B2C_1      Loans     AT     5924.95     7406.19     6043.45     6161.95   \n",
              "3    B2C_1   Services     AT     5924.95     5865.70     7406.19     4858.46   \n",
              "4    B2C_1      Loans     AT     5924.95     6280.45     6102.70     6339.70   \n",
              "\n",
              "   May Income  Jun Income  Jan Expenditure  Feb Expenditure  Mar Expenditure  \\\n",
              "0     7406.19     5213.96          5178.13          3883.60          3534.08   \n",
              "1     6280.45     6576.69          3913.87          3835.59          4410.93   \n",
              "2     6161.95     5924.95          4386.71          3377.77          3411.55   \n",
              "3     5984.20     7169.19          4840.73          4743.92          5692.70   \n",
              "4     5865.70     6458.20          5875.00          5698.75          5983.69   \n",
              "\n",
              "   Apr Expenditure  May Expenditure  Jun Expenditure  Total Income  \n",
              "0          4240.90          3731.99          4217.15      37801.19  \n",
              "1          4058.06          4220.38          5064.46      37741.93  \n",
              "2          3206.86          3399.27          3229.31      37623.44  \n",
              "3          5123.43          4867.26          5500.00      37208.69  \n",
              "4          6701.73          7505.94          8481.71      36971.70  "
            ],
            "text/html": [
              "\n",
              "  <div id=\"df-a037da5d-f43a-4b8d-b951-ac4264909c73\">\n",
              "    <div class=\"colab-df-container\">\n",
              "      <div>\n",
              "<style scoped>\n",
              "    .dataframe tbody tr th:only-of-type {\n",
              "        vertical-align: middle;\n",
              "    }\n",
              "\n",
              "    .dataframe tbody tr th {\n",
              "        vertical-align: top;\n",
              "    }\n",
              "\n",
              "    .dataframe thead th {\n",
              "        text-align: right;\n",
              "    }\n",
              "</style>\n",
              "<table border=\"1\" class=\"dataframe\">\n",
              "  <thead>\n",
              "    <tr style=\"text-align: right;\">\n",
              "      <th></th>\n",
              "      <th>Business</th>\n",
              "      <th>Department</th>\n",
              "      <th>Region</th>\n",
              "      <th>Jan Income</th>\n",
              "      <th>Feb Income</th>\n",
              "      <th>Mar Income</th>\n",
              "      <th>Apr Income</th>\n",
              "      <th>May Income</th>\n",
              "      <th>Jun Income</th>\n",
              "      <th>Jan Expenditure</th>\n",
              "      <th>Feb Expenditure</th>\n",
              "      <th>Mar Expenditure</th>\n",
              "      <th>Apr Expenditure</th>\n",
              "      <th>May Expenditure</th>\n",
              "      <th>Jun Expenditure</th>\n",
              "      <th>Total Income</th>\n",
              "    </tr>\n",
              "  </thead>\n",
              "  <tbody>\n",
              "    <tr>\n",
              "      <th>0</th>\n",
              "      <td>B2C_1</td>\n",
              "      <td>Loans</td>\n",
              "      <td>AT</td>\n",
              "      <td>5924.95</td>\n",
              "      <td>4680.71</td>\n",
              "      <td>7406.19</td>\n",
              "      <td>7169.19</td>\n",
              "      <td>7406.19</td>\n",
              "      <td>5213.96</td>\n",
              "      <td>5178.13</td>\n",
              "      <td>3883.60</td>\n",
              "      <td>3534.08</td>\n",
              "      <td>4240.90</td>\n",
              "      <td>3731.99</td>\n",
              "      <td>4217.15</td>\n",
              "      <td>37801.19</td>\n",
              "    </tr>\n",
              "    <tr>\n",
              "      <th>1</th>\n",
              "      <td>B2C_1</td>\n",
              "      <td>Loans</td>\n",
              "      <td>AT</td>\n",
              "      <td>5924.95</td>\n",
              "      <td>7346.94</td>\n",
              "      <td>6872.94</td>\n",
              "      <td>4739.96</td>\n",
              "      <td>6280.45</td>\n",
              "      <td>6576.69</td>\n",
              "      <td>3913.87</td>\n",
              "      <td>3835.59</td>\n",
              "      <td>4410.93</td>\n",
              "      <td>4058.06</td>\n",
              "      <td>4220.38</td>\n",
              "      <td>5064.46</td>\n",
              "      <td>37741.93</td>\n",
              "    </tr>\n",
              "    <tr>\n",
              "      <th>2</th>\n",
              "      <td>B2C_1</td>\n",
              "      <td>Loans</td>\n",
              "      <td>AT</td>\n",
              "      <td>5924.95</td>\n",
              "      <td>7406.19</td>\n",
              "      <td>6043.45</td>\n",
              "      <td>6161.95</td>\n",
              "      <td>6161.95</td>\n",
              "      <td>5924.95</td>\n",
              "      <td>4386.71</td>\n",
              "      <td>3377.77</td>\n",
              "      <td>3411.55</td>\n",
              "      <td>3206.86</td>\n",
              "      <td>3399.27</td>\n",
              "      <td>3229.31</td>\n",
              "      <td>37623.44</td>\n",
              "    </tr>\n",
              "    <tr>\n",
              "      <th>3</th>\n",
              "      <td>B2C_1</td>\n",
              "      <td>Services</td>\n",
              "      <td>AT</td>\n",
              "      <td>5924.95</td>\n",
              "      <td>5865.70</td>\n",
              "      <td>7406.19</td>\n",
              "      <td>4858.46</td>\n",
              "      <td>5984.20</td>\n",
              "      <td>7169.19</td>\n",
              "      <td>4840.73</td>\n",
              "      <td>4743.92</td>\n",
              "      <td>5692.70</td>\n",
              "      <td>5123.43</td>\n",
              "      <td>4867.26</td>\n",
              "      <td>5500.00</td>\n",
              "      <td>37208.69</td>\n",
              "    </tr>\n",
              "    <tr>\n",
              "      <th>4</th>\n",
              "      <td>B2C_1</td>\n",
              "      <td>Loans</td>\n",
              "      <td>AT</td>\n",
              "      <td>5924.95</td>\n",
              "      <td>6280.45</td>\n",
              "      <td>6102.70</td>\n",
              "      <td>6339.70</td>\n",
              "      <td>5865.70</td>\n",
              "      <td>6458.20</td>\n",
              "      <td>5875.00</td>\n",
              "      <td>5698.75</td>\n",
              "      <td>5983.69</td>\n",
              "      <td>6701.73</td>\n",
              "      <td>7505.94</td>\n",
              "      <td>8481.71</td>\n",
              "      <td>36971.70</td>\n",
              "    </tr>\n",
              "  </tbody>\n",
              "</table>\n",
              "</div>\n",
              "      <button class=\"colab-df-convert\" onclick=\"convertToInteractive('df-a037da5d-f43a-4b8d-b951-ac4264909c73')\"\n",
              "              title=\"Convert this dataframe to an interactive table.\"\n",
              "              style=\"display:none;\">\n",
              "        \n",
              "  <svg xmlns=\"http://www.w3.org/2000/svg\" height=\"24px\"viewBox=\"0 0 24 24\"\n",
              "       width=\"24px\">\n",
              "    <path d=\"M0 0h24v24H0V0z\" fill=\"none\"/>\n",
              "    <path d=\"M18.56 5.44l.94 2.06.94-2.06 2.06-.94-2.06-.94-.94-2.06-.94 2.06-2.06.94zm-11 1L8.5 8.5l.94-2.06 2.06-.94-2.06-.94L8.5 2.5l-.94 2.06-2.06.94zm10 10l.94 2.06.94-2.06 2.06-.94-2.06-.94-.94-2.06-.94 2.06-2.06.94z\"/><path d=\"M17.41 7.96l-1.37-1.37c-.4-.4-.92-.59-1.43-.59-.52 0-1.04.2-1.43.59L10.3 9.45l-7.72 7.72c-.78.78-.78 2.05 0 2.83L4 21.41c.39.39.9.59 1.41.59.51 0 1.02-.2 1.41-.59l7.78-7.78 2.81-2.81c.8-.78.8-2.07 0-2.86zM5.41 20L4 18.59l7.72-7.72 1.47 1.35L5.41 20z\"/>\n",
              "  </svg>\n",
              "      </button>\n",
              "      \n",
              "  <style>\n",
              "    .colab-df-container {\n",
              "      display:flex;\n",
              "      flex-wrap:wrap;\n",
              "      gap: 12px;\n",
              "    }\n",
              "\n",
              "    .colab-df-convert {\n",
              "      background-color: #E8F0FE;\n",
              "      border: none;\n",
              "      border-radius: 50%;\n",
              "      cursor: pointer;\n",
              "      display: none;\n",
              "      fill: #1967D2;\n",
              "      height: 32px;\n",
              "      padding: 0 0 0 0;\n",
              "      width: 32px;\n",
              "    }\n",
              "\n",
              "    .colab-df-convert:hover {\n",
              "      background-color: #E2EBFA;\n",
              "      box-shadow: 0px 1px 2px rgba(60, 64, 67, 0.3), 0px 1px 3px 1px rgba(60, 64, 67, 0.15);\n",
              "      fill: #174EA6;\n",
              "    }\n",
              "\n",
              "    [theme=dark] .colab-df-convert {\n",
              "      background-color: #3B4455;\n",
              "      fill: #D2E3FC;\n",
              "    }\n",
              "\n",
              "    [theme=dark] .colab-df-convert:hover {\n",
              "      background-color: #434B5C;\n",
              "      box-shadow: 0px 1px 3px 1px rgba(0, 0, 0, 0.15);\n",
              "      filter: drop-shadow(0px 1px 2px rgba(0, 0, 0, 0.3));\n",
              "      fill: #FFFFFF;\n",
              "    }\n",
              "  </style>\n",
              "\n",
              "      <script>\n",
              "        const buttonEl =\n",
              "          document.querySelector('#df-a037da5d-f43a-4b8d-b951-ac4264909c73 button.colab-df-convert');\n",
              "        buttonEl.style.display =\n",
              "          google.colab.kernel.accessAllowed ? 'block' : 'none';\n",
              "\n",
              "        async function convertToInteractive(key) {\n",
              "          const element = document.querySelector('#df-a037da5d-f43a-4b8d-b951-ac4264909c73');\n",
              "          const dataTable =\n",
              "            await google.colab.kernel.invokeFunction('convertToInteractive',\n",
              "                                                     [key], {});\n",
              "          if (!dataTable) return;\n",
              "\n",
              "          const docLinkHtml = 'Like what you see? Visit the ' +\n",
              "            '<a target=\"_blank\" href=https://colab.research.google.com/notebooks/data_table.ipynb>data table notebook</a>'\n",
              "            + ' to learn more about interactive tables.';\n",
              "          element.innerHTML = '';\n",
              "          dataTable['output_type'] = 'display_data';\n",
              "          await google.colab.output.renderOutput(dataTable, element);\n",
              "          const docLink = document.createElement('div');\n",
              "          docLink.innerHTML = docLinkHtml;\n",
              "          element.appendChild(docLink);\n",
              "        }\n",
              "      </script>\n",
              "    </div>\n",
              "  </div>\n",
              "  "
            ]
          },
          "metadata": {},
          "execution_count": 64
        }
      ],
      "source": [
        "# 2.compute the total income and assign it in a new column in the df\n",
        "# and add a new column 'Total Income' that will store the some of columns\n",
        "\n",
        "df['Total Income'] = df.iloc[:, income_start:income_end+1].sum(axis=1) # axis=1 is  the column axis\n",
        "df.head() #the column 'Total Income' was added at the the end"
      ]
    },
    {
      "cell_type": "markdown",
      "source": [
        "**3.** Order Columns"
      ],
      "metadata": {
        "id": "VSVrCnFPZUs5"
      },
      "id": "VSVrCnFPZUs5"
    },
    {
      "cell_type": "code",
      "execution_count": 65,
      "id": "2b0c6a19-a425-431f-b612-67594e9cf19b",
      "metadata": {
        "id": "2b0c6a19-a425-431f-b612-67594e9cf19b",
        "colab": {
          "base_uri": "https://localhost:8080/"
        },
        "outputId": "29eef1b0-7efc-4a87-d8f5-33339a2e79a7"
      },
      "outputs": [
        {
          "output_type": "stream",
          "name": "stdout",
          "text": [
            "we want to add it after col: 8\n"
          ]
        }
      ],
      "source": [
        "# We want to add the Total Income after the last month of Incoms\n",
        "\n",
        "print('we want to add it after col:', income_end)"
      ]
    },
    {
      "cell_type": "code",
      "execution_count": 66,
      "id": "687a6abf",
      "metadata": {
        "id": "687a6abf",
        "colab": {
          "base_uri": "https://localhost:8080/",
          "height": 288
        },
        "outputId": "3c6761e3-c889-46f2-8f62-f9055da5ed18"
      },
      "outputs": [
        {
          "output_type": "execute_result",
          "data": {
            "text/plain": [
              "  Business Department Region  Jan Income  Feb Income  Mar Income  Apr Income  \\\n",
              "0    B2C_1      Loans     AT     5924.95     4680.71     7406.19     7169.19   \n",
              "1    B2C_1      Loans     AT     5924.95     7346.94     6872.94     4739.96   \n",
              "2    B2C_1      Loans     AT     5924.95     7406.19     6043.45     6161.95   \n",
              "3    B2C_1   Services     AT     5924.95     5865.70     7406.19     4858.46   \n",
              "4    B2C_1      Loans     AT     5924.95     6280.45     6102.70     6339.70   \n",
              "\n",
              "   May Income  Jun Income  Total Income  Jan Expenditure  Feb Expenditure  \\\n",
              "0     7406.19     5213.96      37801.19          5178.13          3883.60   \n",
              "1     6280.45     6576.69      37741.93          3913.87          3835.59   \n",
              "2     6161.95     5924.95      37623.44          4386.71          3377.77   \n",
              "3     5984.20     7169.19      37208.69          4840.73          4743.92   \n",
              "4     5865.70     6458.20      36971.70          5875.00          5698.75   \n",
              "\n",
              "   Mar Expenditure  Apr Expenditure  May Expenditure  Jun Expenditure  \n",
              "0          3534.08          4240.90          3731.99          4217.15  \n",
              "1          4410.93          4058.06          4220.38          5064.46  \n",
              "2          3411.55          3206.86          3399.27          3229.31  \n",
              "3          5692.70          5123.43          4867.26          5500.00  \n",
              "4          5983.69          6701.73          7505.94          8481.71  "
            ],
            "text/html": [
              "\n",
              "  <div id=\"df-a109a9c0-9e00-45a8-8a86-475951ac92c6\">\n",
              "    <div class=\"colab-df-container\">\n",
              "      <div>\n",
              "<style scoped>\n",
              "    .dataframe tbody tr th:only-of-type {\n",
              "        vertical-align: middle;\n",
              "    }\n",
              "\n",
              "    .dataframe tbody tr th {\n",
              "        vertical-align: top;\n",
              "    }\n",
              "\n",
              "    .dataframe thead th {\n",
              "        text-align: right;\n",
              "    }\n",
              "</style>\n",
              "<table border=\"1\" class=\"dataframe\">\n",
              "  <thead>\n",
              "    <tr style=\"text-align: right;\">\n",
              "      <th></th>\n",
              "      <th>Business</th>\n",
              "      <th>Department</th>\n",
              "      <th>Region</th>\n",
              "      <th>Jan Income</th>\n",
              "      <th>Feb Income</th>\n",
              "      <th>Mar Income</th>\n",
              "      <th>Apr Income</th>\n",
              "      <th>May Income</th>\n",
              "      <th>Jun Income</th>\n",
              "      <th>Total Income</th>\n",
              "      <th>Jan Expenditure</th>\n",
              "      <th>Feb Expenditure</th>\n",
              "      <th>Mar Expenditure</th>\n",
              "      <th>Apr Expenditure</th>\n",
              "      <th>May Expenditure</th>\n",
              "      <th>Jun Expenditure</th>\n",
              "    </tr>\n",
              "  </thead>\n",
              "  <tbody>\n",
              "    <tr>\n",
              "      <th>0</th>\n",
              "      <td>B2C_1</td>\n",
              "      <td>Loans</td>\n",
              "      <td>AT</td>\n",
              "      <td>5924.95</td>\n",
              "      <td>4680.71</td>\n",
              "      <td>7406.19</td>\n",
              "      <td>7169.19</td>\n",
              "      <td>7406.19</td>\n",
              "      <td>5213.96</td>\n",
              "      <td>37801.19</td>\n",
              "      <td>5178.13</td>\n",
              "      <td>3883.60</td>\n",
              "      <td>3534.08</td>\n",
              "      <td>4240.90</td>\n",
              "      <td>3731.99</td>\n",
              "      <td>4217.15</td>\n",
              "    </tr>\n",
              "    <tr>\n",
              "      <th>1</th>\n",
              "      <td>B2C_1</td>\n",
              "      <td>Loans</td>\n",
              "      <td>AT</td>\n",
              "      <td>5924.95</td>\n",
              "      <td>7346.94</td>\n",
              "      <td>6872.94</td>\n",
              "      <td>4739.96</td>\n",
              "      <td>6280.45</td>\n",
              "      <td>6576.69</td>\n",
              "      <td>37741.93</td>\n",
              "      <td>3913.87</td>\n",
              "      <td>3835.59</td>\n",
              "      <td>4410.93</td>\n",
              "      <td>4058.06</td>\n",
              "      <td>4220.38</td>\n",
              "      <td>5064.46</td>\n",
              "    </tr>\n",
              "    <tr>\n",
              "      <th>2</th>\n",
              "      <td>B2C_1</td>\n",
              "      <td>Loans</td>\n",
              "      <td>AT</td>\n",
              "      <td>5924.95</td>\n",
              "      <td>7406.19</td>\n",
              "      <td>6043.45</td>\n",
              "      <td>6161.95</td>\n",
              "      <td>6161.95</td>\n",
              "      <td>5924.95</td>\n",
              "      <td>37623.44</td>\n",
              "      <td>4386.71</td>\n",
              "      <td>3377.77</td>\n",
              "      <td>3411.55</td>\n",
              "      <td>3206.86</td>\n",
              "      <td>3399.27</td>\n",
              "      <td>3229.31</td>\n",
              "    </tr>\n",
              "    <tr>\n",
              "      <th>3</th>\n",
              "      <td>B2C_1</td>\n",
              "      <td>Services</td>\n",
              "      <td>AT</td>\n",
              "      <td>5924.95</td>\n",
              "      <td>5865.70</td>\n",
              "      <td>7406.19</td>\n",
              "      <td>4858.46</td>\n",
              "      <td>5984.20</td>\n",
              "      <td>7169.19</td>\n",
              "      <td>37208.69</td>\n",
              "      <td>4840.73</td>\n",
              "      <td>4743.92</td>\n",
              "      <td>5692.70</td>\n",
              "      <td>5123.43</td>\n",
              "      <td>4867.26</td>\n",
              "      <td>5500.00</td>\n",
              "    </tr>\n",
              "    <tr>\n",
              "      <th>4</th>\n",
              "      <td>B2C_1</td>\n",
              "      <td>Loans</td>\n",
              "      <td>AT</td>\n",
              "      <td>5924.95</td>\n",
              "      <td>6280.45</td>\n",
              "      <td>6102.70</td>\n",
              "      <td>6339.70</td>\n",
              "      <td>5865.70</td>\n",
              "      <td>6458.20</td>\n",
              "      <td>36971.70</td>\n",
              "      <td>5875.00</td>\n",
              "      <td>5698.75</td>\n",
              "      <td>5983.69</td>\n",
              "      <td>6701.73</td>\n",
              "      <td>7505.94</td>\n",
              "      <td>8481.71</td>\n",
              "    </tr>\n",
              "  </tbody>\n",
              "</table>\n",
              "</div>\n",
              "      <button class=\"colab-df-convert\" onclick=\"convertToInteractive('df-a109a9c0-9e00-45a8-8a86-475951ac92c6')\"\n",
              "              title=\"Convert this dataframe to an interactive table.\"\n",
              "              style=\"display:none;\">\n",
              "        \n",
              "  <svg xmlns=\"http://www.w3.org/2000/svg\" height=\"24px\"viewBox=\"0 0 24 24\"\n",
              "       width=\"24px\">\n",
              "    <path d=\"M0 0h24v24H0V0z\" fill=\"none\"/>\n",
              "    <path d=\"M18.56 5.44l.94 2.06.94-2.06 2.06-.94-2.06-.94-.94-2.06-.94 2.06-2.06.94zm-11 1L8.5 8.5l.94-2.06 2.06-.94-2.06-.94L8.5 2.5l-.94 2.06-2.06.94zm10 10l.94 2.06.94-2.06 2.06-.94-2.06-.94-.94-2.06-.94 2.06-2.06.94z\"/><path d=\"M17.41 7.96l-1.37-1.37c-.4-.4-.92-.59-1.43-.59-.52 0-1.04.2-1.43.59L10.3 9.45l-7.72 7.72c-.78.78-.78 2.05 0 2.83L4 21.41c.39.39.9.59 1.41.59.51 0 1.02-.2 1.41-.59l7.78-7.78 2.81-2.81c.8-.78.8-2.07 0-2.86zM5.41 20L4 18.59l7.72-7.72 1.47 1.35L5.41 20z\"/>\n",
              "  </svg>\n",
              "      </button>\n",
              "      \n",
              "  <style>\n",
              "    .colab-df-container {\n",
              "      display:flex;\n",
              "      flex-wrap:wrap;\n",
              "      gap: 12px;\n",
              "    }\n",
              "\n",
              "    .colab-df-convert {\n",
              "      background-color: #E8F0FE;\n",
              "      border: none;\n",
              "      border-radius: 50%;\n",
              "      cursor: pointer;\n",
              "      display: none;\n",
              "      fill: #1967D2;\n",
              "      height: 32px;\n",
              "      padding: 0 0 0 0;\n",
              "      width: 32px;\n",
              "    }\n",
              "\n",
              "    .colab-df-convert:hover {\n",
              "      background-color: #E2EBFA;\n",
              "      box-shadow: 0px 1px 2px rgba(60, 64, 67, 0.3), 0px 1px 3px 1px rgba(60, 64, 67, 0.15);\n",
              "      fill: #174EA6;\n",
              "    }\n",
              "\n",
              "    [theme=dark] .colab-df-convert {\n",
              "      background-color: #3B4455;\n",
              "      fill: #D2E3FC;\n",
              "    }\n",
              "\n",
              "    [theme=dark] .colab-df-convert:hover {\n",
              "      background-color: #434B5C;\n",
              "      box-shadow: 0px 1px 3px 1px rgba(0, 0, 0, 0.15);\n",
              "      filter: drop-shadow(0px 1px 2px rgba(0, 0, 0, 0.3));\n",
              "      fill: #FFFFFF;\n",
              "    }\n",
              "  </style>\n",
              "\n",
              "      <script>\n",
              "        const buttonEl =\n",
              "          document.querySelector('#df-a109a9c0-9e00-45a8-8a86-475951ac92c6 button.colab-df-convert');\n",
              "        buttonEl.style.display =\n",
              "          google.colab.kernel.accessAllowed ? 'block' : 'none';\n",
              "\n",
              "        async function convertToInteractive(key) {\n",
              "          const element = document.querySelector('#df-a109a9c0-9e00-45a8-8a86-475951ac92c6');\n",
              "          const dataTable =\n",
              "            await google.colab.kernel.invokeFunction('convertToInteractive',\n",
              "                                                     [key], {});\n",
              "          if (!dataTable) return;\n",
              "\n",
              "          const docLinkHtml = 'Like what you see? Visit the ' +\n",
              "            '<a target=\"_blank\" href=https://colab.research.google.com/notebooks/data_table.ipynb>data table notebook</a>'\n",
              "            + ' to learn more about interactive tables.';\n",
              "          element.innerHTML = '';\n",
              "          dataTable['output_type'] = 'display_data';\n",
              "          await google.colab.output.renderOutput(dataTable, element);\n",
              "          const docLink = document.createElement('div');\n",
              "          docLink.innerHTML = docLinkHtml;\n",
              "          element.appendChild(docLink);\n",
              "        }\n",
              "      </script>\n",
              "    </div>\n",
              "  </div>\n",
              "  "
            ]
          },
          "metadata": {},
          "execution_count": 66
        }
      ],
      "source": [
        "# order: we want to order columns so Total Income would follow the Income columns\n",
        "# cut and insert the column after all Income months columns\n",
        "\n",
        "df.insert(income_end + 1, # at what index to insesrt\n",
        "          'Total Income', # Label of the inserted column.\n",
        "          df.pop('Total Income')) # will return the column Total Income and will drop it from DF's end\n",
        "\n",
        "df.head() # now Total income disapeared from the end of df, and was inserted after col 8, and has index 9"
      ]
    },
    {
      "cell_type": "code",
      "source": [
        "# update ws_loc\n",
        "ws_loc['total_inc_df']= income_end + 1\n",
        "\n",
        "ws_loc"
      ],
      "metadata": {
        "colab": {
          "base_uri": "https://localhost:8080/"
        },
        "id": "ZnqkKoEoKnEc",
        "outputId": "1e02ca44-91c0-4c6a-8e89-2bf8d3d23ee5"
      },
      "id": "ZnqkKoEoKnEc",
      "execution_count": 67,
      "outputs": [
        {
          "output_type": "execute_result",
          "data": {
            "text/plain": [
              "{'max_row': 1937,\n",
              " 'max_col': 15,\n",
              " 'df_shape': (1937, 15),\n",
              " 'ws_range': 'A1:O1938',\n",
              " 'start_point': 'A1',\n",
              " 'start_col': 'A',\n",
              " 'end_point': 'O1938',\n",
              " 'end_col': 'O',\n",
              " 'end_col_idx': 15,\n",
              " 'end_row': 1938,\n",
              " 'income_col': [3, 4, 5, 6, 7, 8],\n",
              " 'income_start': 3,\n",
              " 'income_end': 8,\n",
              " 'total_inc_df': 9}"
            ]
          },
          "metadata": {},
          "execution_count": 67
        }
      ]
    },
    {
      "cell_type": "raw",
      "id": "0a9723dc-f0e9-4f82-a9c5-bce05271dadd",
      "metadata": {
        "id": "0a9723dc-f0e9-4f82-a9c5-bce05271dadd"
      },
      "source": [
        "Let's have look where Income stands in the excel, and update the excel with Total Income as well"
      ]
    },
    {
      "cell_type": "code",
      "execution_count": 68,
      "id": "73e87268",
      "metadata": {
        "id": "73e87268",
        "colab": {
          "base_uri": "https://localhost:8080/"
        },
        "outputId": "90f293cd-5062-456f-98c8-14ddef3498b0"
      },
      "outputs": [
        {
          "output_type": "stream",
          "name": "stdout",
          "text": [
            "in EXCEL the column nb for Jan Income is:  4\n"
          ]
        }
      ],
      "source": [
        "# find column number of column Jan Income in Excel\n",
        "for i in range(1, sheet.max_column):\n",
        "    ref = sheet.cell(row=1, column=i)\n",
        "    if ref.value == 'Jan Income':\n",
        "        print('in EXCEL the column nb for Jan Income is: ', ref.column)"
      ]
    },
    {
      "cell_type": "code",
      "execution_count": 69,
      "id": "89722399",
      "metadata": {
        "id": "89722399",
        "colab": {
          "base_uri": "https://localhost:8080/"
        },
        "outputId": "dfa50c18-96dd-450e-e6bd-505152d74d21"
      },
      "outputs": [
        {
          "output_type": "stream",
          "name": "stdout",
          "text": [
            "[4, 5, 6, 7, 8, 9]\n"
          ]
        }
      ],
      "source": [
        "# find column number that have Income months\n",
        "\n",
        "income_col_xl = []\n",
        "for i in range(1, sheet.max_column):# because we're in excel the index starts at 1\n",
        "    ref = sheet.cell(row=1, column=i)\n",
        "    if 'Income' in ref.value:\n",
        "        income_col_xl.append(ref.column)\n",
        "\n",
        "print(income_col_xl)"
      ]
    },
    {
      "cell_type": "code",
      "source": [
        "# compute the index where to insert a column for Total Income in excel\n",
        "total_inc_col = income_col_xl[-1] + 1\n",
        "# we would like to insert the column Total Income at column 10\n",
        "print(total_inc_col)"
      ],
      "metadata": {
        "colab": {
          "base_uri": "https://localhost:8080/"
        },
        "id": "mVKt_W1Zdhk2",
        "outputId": "1ce0f0a4-909c-4bce-bd29-dff6bf45f1b4"
      },
      "id": "mVKt_W1Zdhk2",
      "execution_count": 70,
      "outputs": [
        {
          "output_type": "stream",
          "name": "stdout",
          "text": [
            "10\n"
          ]
        }
      ]
    },
    {
      "cell_type": "code",
      "source": [
        "# update ws_loc\n",
        "\n",
        "ws_loc['income_col_xl']= income_col_xl\n",
        "ws_loc['income_Total_col_xl']= total_inc_col\n",
        "\n",
        "ws_loc"
      ],
      "metadata": {
        "colab": {
          "base_uri": "https://localhost:8080/"
        },
        "id": "jW0LC4nI5_ys",
        "outputId": "a2a9fdce-4599-4ffb-fc50-b60170a27fd0"
      },
      "id": "jW0LC4nI5_ys",
      "execution_count": 71,
      "outputs": [
        {
          "output_type": "execute_result",
          "data": {
            "text/plain": [
              "{'max_row': 1937,\n",
              " 'max_col': 15,\n",
              " 'df_shape': (1937, 15),\n",
              " 'ws_range': 'A1:O1938',\n",
              " 'start_point': 'A1',\n",
              " 'start_col': 'A',\n",
              " 'end_point': 'O1938',\n",
              " 'end_col': 'O',\n",
              " 'end_col_idx': 15,\n",
              " 'end_row': 1938,\n",
              " 'income_col': [3, 4, 5, 6, 7, 8],\n",
              " 'income_start': 3,\n",
              " 'income_end': 8,\n",
              " 'total_inc_df': 9,\n",
              " 'income_col_xl': [4, 5, 6, 7, 8, 9],\n",
              " 'income_Total_col_xl': 10}"
            ]
          },
          "metadata": {},
          "execution_count": 71
        }
      ]
    },
    {
      "cell_type": "code",
      "source": [
        "# insert column at this index\n",
        "sheet.insert_cols(idx= total_inc_col, # column location\n",
        "                  amount=1) # how many columns to insert\n",
        "\n",
        "\n",
        "wb.save('Budget_processed.xlsx') "
      ],
      "metadata": {
        "id": "vSm03mxhd9Af"
      },
      "id": "vSm03mxhd9Af",
      "execution_count": 72,
      "outputs": []
    },
    {
      "cell_type": "code",
      "source": [
        "# write values ot Total Income computed with pandas in df, at the column we just inserted\n",
        "\n",
        "# save the column 'Total Income' from df computed with pandas in list cellrange\n",
        "\n",
        "cellrange = df['Total Income']\n",
        "\n",
        "# the column index (in excel) where we want to write\n",
        "print('write in Excel the values of Total Income in column:', total_inc_col)\n",
        "\n",
        "# starting row 2\n",
        "row= 2# because the row_1 are the headers\n",
        "\n",
        "# write the elements from cellrange in excel at index total_inc_col\n",
        "for i in range(0, len(cellrange)):\n",
        "    sheet.cell(row=row, column = total_inc_col).value= cellrange[i]\n",
        "    row=row+1\n",
        "\n",
        "# save the modifications\n",
        "wb.save('Budget_processed.xlsx')"
      ],
      "metadata": {
        "colab": {
          "base_uri": "https://localhost:8080/"
        },
        "id": "DykuGFGHeJxc",
        "outputId": "5aa7450b-c80d-44ab-ed34-81c3b204a4ce"
      },
      "id": "DykuGFGHeJxc",
      "execution_count": 73,
      "outputs": [
        {
          "output_type": "stream",
          "name": "stdout",
          "text": [
            "write in Excel the values of Total Income in column: 10\n"
          ]
        }
      ]
    },
    {
      "cell_type": "code",
      "source": [
        "# in updated excel, we inserted + wrote values for Total Income (after June Income)\n",
        "\n",
        "for idx, row in enumerate(sheet['A1:K5']):\n",
        "    print(idx+1, [x.value for x in row]) "
      ],
      "metadata": {
        "colab": {
          "base_uri": "https://localhost:8080/"
        },
        "id": "wMZDo4AMeqSU",
        "outputId": "0d78a2f9-0b07-4fde-931f-5e889579d14f"
      },
      "id": "wMZDo4AMeqSU",
      "execution_count": 74,
      "outputs": [
        {
          "output_type": "stream",
          "name": "stdout",
          "text": [
            "1 ['Business', 'Department', 'Region', 'Jan Income', 'Feb Income', 'Mar Income', 'Apr Income', 'May Income', 'Jun Income', None, 'Jan Expenditure']\n",
            "2 ['B2C_1', 'Loans', 'AT', 5924.95, 4680.71, 7406.19, 7169.19, 7406.19, 5213.96, 37801.189999999995, 5178.13]\n",
            "3 ['B2C_1', 'Loans', 'AT', 5924.95, 7346.94, 6872.94, 4739.96, 6280.45, 6576.69, 37741.93, 3913.87]\n",
            "4 ['B2C_1', 'Loans', 'AT', 5924.95, 7406.19, 6043.45, 6161.95, 6161.95, 5924.95, 37623.44, 4386.71]\n",
            "5 ['B2C_1', 'Services', 'AT', 5924.95, 5865.7, 7406.19, 4858.46, 5984.2, 7169.19, 37208.69, 4840.73]\n"
          ]
        }
      ]
    },
    {
      "cell_type": "markdown",
      "source": [
        "4. Add header Total Income"
      ],
      "metadata": {
        "id": "B-vscdvb77ph"
      },
      "id": "B-vscdvb77ph"
    },
    {
      "cell_type": "code",
      "source": [
        "# now we want to write the header 'Total Income' in the excel\n",
        "# for this:\n",
        "\n",
        "# 1st we need to compute the location of this header\n",
        "\n",
        "# write column name for Total expenditure as a header\n",
        "# compute this location...\n",
        "total_inc_col_letter = get_column_letter(total_inc_col)\n",
        "total_inc_row = 1\n",
        "total_inc_cel_ref = str(total_inc_col_letter) + str(total_inc_row)\n",
        "print('the cel ref for Total Income header: ', total_inc_cel_ref)"
      ],
      "metadata": {
        "colab": {
          "base_uri": "https://localhost:8080/"
        },
        "id": "rLNxxgqMe69z",
        "outputId": "8a3b95c5-7304-45c8-e5d4-3ea7c97c2cda"
      },
      "id": "rLNxxgqMe69z",
      "execution_count": 75,
      "outputs": [
        {
          "output_type": "stream",
          "name": "stdout",
          "text": [
            "the cel ref for Total Income header:  J1\n"
          ]
        }
      ]
    },
    {
      "cell_type": "code",
      "source": [
        "# 2nd, write the string/header Total Income in Excel\n",
        "# write it in excel \n",
        "sheet[total_inc_cel_ref]= 'Total Income'\n",
        "#save modification\n",
        "wb.save('Budget_processed.xlsx') \n",
        "\n",
        "# now our excel look like this:\n",
        "\n",
        "for idx, row in enumerate(sheet['A1:K3']):\n",
        "    print(idx+1, [x.value for x in row])"
      ],
      "metadata": {
        "colab": {
          "base_uri": "https://localhost:8080/"
        },
        "id": "Jy9JYHcifS4P",
        "outputId": "cc2cd5e0-683a-46b8-b6e9-b692aca84a33"
      },
      "id": "Jy9JYHcifS4P",
      "execution_count": 76,
      "outputs": [
        {
          "output_type": "stream",
          "name": "stdout",
          "text": [
            "1 ['Business', 'Department', 'Region', 'Jan Income', 'Feb Income', 'Mar Income', 'Apr Income', 'May Income', 'Jun Income', 'Total Income', 'Jan Expenditure']\n",
            "2 ['B2C_1', 'Loans', 'AT', 5924.95, 4680.71, 7406.19, 7169.19, 7406.19, 5213.96, 37801.189999999995, 5178.13]\n",
            "3 ['B2C_1', 'Loans', 'AT', 5924.95, 7346.94, 6872.94, 4739.96, 6280.45, 6576.69, 37741.93, 3913.87]\n"
          ]
        }
      ]
    },
    {
      "cell_type": "code",
      "execution_count": 77,
      "id": "06836c32-7039-43e7-99dd-e3269b06f9a7",
      "metadata": {
        "id": "06836c32-7039-43e7-99dd-e3269b06f9a7",
        "colab": {
          "base_uri": "https://localhost:8080/",
          "height": 177
        },
        "outputId": "5dc9bc9d-2170-4b89-a8b4-73ad6eb4ed66"
      },
      "outputs": [
        {
          "output_type": "display_data",
          "data": {
            "text/plain": [
              "<Figure size 1296x1152 with 1 Axes>"
            ],
            "image/png": "[encoded data removed]"
          },
          "metadata": {
            "needs_background": "light"
          }
        }
      ],
      "source": [
        "# display image\n",
        "img = mpimg.imread('images/img_1.PNG')\n",
        "plt.rcParams['figure.figsize'] = [18, 16]\n",
        "plt.imshow(img)\n",
        "\n",
        "plt.axis('off')\n",
        "plt.show()"
      ]
    },
    {
      "cell_type": "code",
      "source": [
        "# add column letter Total Income ws_loc\n",
        "print(total_inc_col_letter)\n",
        "ws_loc['total_inc_col_letter_xl'] = total_inc_col_letter"
      ],
      "metadata": {
        "colab": {
          "base_uri": "https://localhost:8080/"
        },
        "id": "1FPcP3DL8WbJ",
        "outputId": "e7b503e8-ad8c-4dbf-e5ad-e3f1ac416896"
      },
      "id": "1FPcP3DL8WbJ",
      "execution_count": 78,
      "outputs": [
        {
          "output_type": "stream",
          "name": "stdout",
          "text": [
            "J\n"
          ]
        }
      ]
    },
    {
      "cell_type": "markdown",
      "id": "85bdf63a",
      "metadata": {
        "id": "85bdf63a"
      },
      "source": [
        "## Total Expenditure "
      ]
    },
    {
      "cell_type": "markdown",
      "id": "abce2e1d",
      "metadata": {
        "id": "abce2e1d"
      },
      "source": [
        "Total Expenditure in DF"
      ]
    },
    {
      "cell_type": "code",
      "execution_count": 79,
      "id": "18a96bc5",
      "metadata": {
        "id": "18a96bc5",
        "colab": {
          "base_uri": "https://localhost:8080/"
        },
        "outputId": "6e22e8ae-1bac-40da-e7d3-c2b31ae71380"
      },
      "outputs": [
        {
          "output_type": "stream",
          "name": "stdout",
          "text": [
            "Exp columns:  [10, 11, 12, 13, 14, 15]\n"
          ]
        }
      ],
      "source": [
        "# first compute total Exp for all months in df\n",
        "\n",
        "# identify column index for column with Income\n",
        "expenditure_col=[]\n",
        "for col in range(0, len(df.columns)):\n",
        "    if 'Expenditure' in df.columns[col]:\n",
        "        expenditure_col.append(col)\n",
        "\n",
        "print('Exp columns: ', expenditure_col)\n",
        "\n",
        "# 1st col with Exp\n",
        "expenditure_start= expenditure_col[0]\n",
        "\n",
        "# last col with Exp\n",
        "expenditure_end= expenditure_col[-1]"
      ]
    },
    {
      "cell_type": "code",
      "execution_count": 80,
      "id": "b18d7544",
      "metadata": {
        "id": "b18d7544",
        "colab": {
          "base_uri": "https://localhost:8080/",
          "height": 424
        },
        "outputId": "120935da-0e91-46b9-f96b-f0af4d6f473b"
      },
      "outputs": [
        {
          "output_type": "execute_result",
          "data": {
            "text/plain": [
              "      Jan Expenditure  Feb Expenditure  Mar Expenditure  Apr Expenditure  \\\n",
              "0             5178.13          3883.60          3534.08          4240.90   \n",
              "1             3913.87          3835.59          4410.93          4058.06   \n",
              "2             4386.71          3377.77          3411.55          3206.86   \n",
              "3             4840.73          4743.92          5692.70          5123.43   \n",
              "4             5875.00          5698.75          5983.69          6701.73   \n",
              "...               ...              ...              ...              ...   \n",
              "1932          1920.55          1459.62          1328.25          1514.21   \n",
              "1933          5875.00          5875.00          6756.25          6823.81   \n",
              "1934           376.19           395.00           462.15           402.07   \n",
              "1935          1023.75           993.04           933.46           980.13   \n",
              "1936          1533.08          1180.47          1310.32          1441.35   \n",
              "\n",
              "      May Expenditure  Jun Expenditure  \n",
              "0             3731.99          4217.15  \n",
              "1             4220.38          5064.46  \n",
              "2             3399.27          3229.31  \n",
              "3             4867.26          5500.00  \n",
              "4             7505.94          8481.71  \n",
              "...               ...              ...  \n",
              "1932          1756.48          1651.09  \n",
              "1933          5800.24          6612.27  \n",
              "1934           353.82           350.28  \n",
              "1935           891.92           784.89  \n",
              "1936          1657.55          1889.61  \n",
              "\n",
              "[1937 rows x 6 columns]"
            ],
            "text/html": [
              "\n",
              "  <div id=\"df-3b3a66e4-014f-4fde-9f76-ce2e4a222297\">\n",
              "    <div class=\"colab-df-container\">\n",
              "      <div>\n",
              "<style scoped>\n",
              "    .dataframe tbody tr th:only-of-type {\n",
              "        vertical-align: middle;\n",
              "    }\n",
              "\n",
              "    .dataframe tbody tr th {\n",
              "        vertical-align: top;\n",
              "    }\n",
              "\n",
              "    .dataframe thead th {\n",
              "        text-align: right;\n",
              "    }\n",
              "</style>\n",
              "<table border=\"1\" class=\"dataframe\">\n",
              "  <thead>\n",
              "    <tr style=\"text-align: right;\">\n",
              "      <th></th>\n",
              "      <th>Jan Expenditure</th>\n",
              "      <th>Feb Expenditure</th>\n",
              "      <th>Mar Expenditure</th>\n",
              "      <th>Apr Expenditure</th>\n",
              "      <th>May Expenditure</th>\n",
              "      <th>Jun Expenditure</th>\n",
              "    </tr>\n",
              "  </thead>\n",
              "  <tbody>\n",
              "    <tr>\n",
              "      <th>0</th>\n",
              "      <td>5178.13</td>\n",
              "      <td>3883.60</td>\n",
              "      <td>3534.08</td>\n",
              "      <td>4240.90</td>\n",
              "      <td>3731.99</td>\n",
              "      <td>4217.15</td>\n",
              "    </tr>\n",
              "    <tr>\n",
              "      <th>1</th>\n",
              "      <td>3913.87</td>\n",
              "      <td>3835.59</td>\n",
              "      <td>4410.93</td>\n",
              "      <td>4058.06</td>\n",
              "      <td>4220.38</td>\n",
              "      <td>5064.46</td>\n",
              "    </tr>\n",
              "    <tr>\n",
              "      <th>2</th>\n",
              "      <td>4386.71</td>\n",
              "      <td>3377.77</td>\n",
              "      <td>3411.55</td>\n",
              "      <td>3206.86</td>\n",
              "      <td>3399.27</td>\n",
              "      <td>3229.31</td>\n",
              "    </tr>\n",
              "    <tr>\n",
              "      <th>3</th>\n",
              "      <td>4840.73</td>\n",
              "      <td>4743.92</td>\n",
              "      <td>5692.70</td>\n",
              "      <td>5123.43</td>\n",
              "      <td>4867.26</td>\n",
              "      <td>5500.00</td>\n",
              "    </tr>\n",
              "    <tr>\n",
              "      <th>4</th>\n",
              "      <td>5875.00</td>\n",
              "      <td>5698.75</td>\n",
              "      <td>5983.69</td>\n",
              "      <td>6701.73</td>\n",
              "      <td>7505.94</td>\n",
              "      <td>8481.71</td>\n",
              "    </tr>\n",
              "    <tr>\n",
              "      <th>...</th>\n",
              "      <td>...</td>\n",
              "      <td>...</td>\n",
              "      <td>...</td>\n",
              "      <td>...</td>\n",
              "      <td>...</td>\n",
              "      <td>...</td>\n",
              "    </tr>\n",
              "    <tr>\n",
              "      <th>1932</th>\n",
              "      <td>1920.55</td>\n",
              "      <td>1459.62</td>\n",
              "      <td>1328.25</td>\n",
              "      <td>1514.21</td>\n",
              "      <td>1756.48</td>\n",
              "      <td>1651.09</td>\n",
              "    </tr>\n",
              "    <tr>\n",
              "      <th>1933</th>\n",
              "      <td>5875.00</td>\n",
              "      <td>5875.00</td>\n",
              "      <td>6756.25</td>\n",
              "      <td>6823.81</td>\n",
              "      <td>5800.24</td>\n",
              "      <td>6612.27</td>\n",
              "    </tr>\n",
              "    <tr>\n",
              "      <th>1934</th>\n",
              "      <td>376.19</td>\n",
              "      <td>395.00</td>\n",
              "      <td>462.15</td>\n",
              "      <td>402.07</td>\n",
              "      <td>353.82</td>\n",
              "      <td>350.28</td>\n",
              "    </tr>\n",
              "    <tr>\n",
              "      <th>1935</th>\n",
              "      <td>1023.75</td>\n",
              "      <td>993.04</td>\n",
              "      <td>933.46</td>\n",
              "      <td>980.13</td>\n",
              "      <td>891.92</td>\n",
              "      <td>784.89</td>\n",
              "    </tr>\n",
              "    <tr>\n",
              "      <th>1936</th>\n",
              "      <td>1533.08</td>\n",
              "      <td>1180.47</td>\n",
              "      <td>1310.32</td>\n",
              "      <td>1441.35</td>\n",
              "      <td>1657.55</td>\n",
              "      <td>1889.61</td>\n",
              "    </tr>\n",
              "  </tbody>\n",
              "</table>\n",
              "<p>1937 rows × 6 columns</p>\n",
              "</div>\n",
              "      <button class=\"colab-df-convert\" onclick=\"convertToInteractive('df-3b3a66e4-014f-4fde-9f76-ce2e4a222297')\"\n",
              "              title=\"Convert this dataframe to an interactive table.\"\n",
              "              style=\"display:none;\">\n",
              "        \n",
              "  <svg xmlns=\"http://www.w3.org/2000/svg\" height=\"24px\"viewBox=\"0 0 24 24\"\n",
              "       width=\"24px\">\n",
              "    <path d=\"M0 0h24v24H0V0z\" fill=\"none\"/>\n",
              "    <path d=\"M18.56 5.44l.94 2.06.94-2.06 2.06-.94-2.06-.94-.94-2.06-.94 2.06-2.06.94zm-11 1L8.5 8.5l.94-2.06 2.06-.94-2.06-.94L8.5 2.5l-.94 2.06-2.06.94zm10 10l.94 2.06.94-2.06 2.06-.94-2.06-.94-.94-2.06-.94 2.06-2.06.94z\"/><path d=\"M17.41 7.96l-1.37-1.37c-.4-.4-.92-.59-1.43-.59-.52 0-1.04.2-1.43.59L10.3 9.45l-7.72 7.72c-.78.78-.78 2.05 0 2.83L4 21.41c.39.39.9.59 1.41.59.51 0 1.02-.2 1.41-.59l7.78-7.78 2.81-2.81c.8-.78.8-2.07 0-2.86zM5.41 20L4 18.59l7.72-7.72 1.47 1.35L5.41 20z\"/>\n",
              "  </svg>\n",
              "      </button>\n",
              "      \n",
              "  <style>\n",
              "    .colab-df-container {\n",
              "      display:flex;\n",
              "      flex-wrap:wrap;\n",
              "      gap: 12px;\n",
              "    }\n",
              "\n",
              "    .colab-df-convert {\n",
              "      background-color: #E8F0FE;\n",
              "      border: none;\n",
              "      border-radius: 50%;\n",
              "      cursor: pointer;\n",
              "      display: none;\n",
              "      fill: #1967D2;\n",
              "      height: 32px;\n",
              "      padding: 0 0 0 0;\n",
              "      width: 32px;\n",
              "    }\n",
              "\n",
              "    .colab-df-convert:hover {\n",
              "      background-color: #E2EBFA;\n",
              "      box-shadow: 0px 1px 2px rgba(60, 64, 67, 0.3), 0px 1px 3px 1px rgba(60, 64, 67, 0.15);\n",
              "      fill: #174EA6;\n",
              "    }\n",
              "\n",
              "    [theme=dark] .colab-df-convert {\n",
              "      background-color: #3B4455;\n",
              "      fill: #D2E3FC;\n",
              "    }\n",
              "\n",
              "    [theme=dark] .colab-df-convert:hover {\n",
              "      background-color: #434B5C;\n",
              "      box-shadow: 0px 1px 3px 1px rgba(0, 0, 0, 0.15);\n",
              "      filter: drop-shadow(0px 1px 2px rgba(0, 0, 0, 0.3));\n",
              "      fill: #FFFFFF;\n",
              "    }\n",
              "  </style>\n",
              "\n",
              "      <script>\n",
              "        const buttonEl =\n",
              "          document.querySelector('#df-3b3a66e4-014f-4fde-9f76-ce2e4a222297 button.colab-df-convert');\n",
              "        buttonEl.style.display =\n",
              "          google.colab.kernel.accessAllowed ? 'block' : 'none';\n",
              "\n",
              "        async function convertToInteractive(key) {\n",
              "          const element = document.querySelector('#df-3b3a66e4-014f-4fde-9f76-ce2e4a222297');\n",
              "          const dataTable =\n",
              "            await google.colab.kernel.invokeFunction('convertToInteractive',\n",
              "                                                     [key], {});\n",
              "          if (!dataTable) return;\n",
              "\n",
              "          const docLinkHtml = 'Like what you see? Visit the ' +\n",
              "            '<a target=\"_blank\" href=https://colab.research.google.com/notebooks/data_table.ipynb>data table notebook</a>'\n",
              "            + ' to learn more about interactive tables.';\n",
              "          element.innerHTML = '';\n",
              "          dataTable['output_type'] = 'display_data';\n",
              "          await google.colab.output.renderOutput(dataTable, element);\n",
              "          const docLink = document.createElement('div');\n",
              "          docLink.innerHTML = docLinkHtml;\n",
              "          element.appendChild(docLink);\n",
              "        }\n",
              "      </script>\n",
              "    </div>\n",
              "  </div>\n",
              "  "
            ]
          },
          "metadata": {},
          "execution_count": 80
        }
      ],
      "source": [
        "#check those columns at found indices \n",
        "df.iloc[:, expenditure_start:expenditure_end+1]"
      ]
    },
    {
      "cell_type": "code",
      "execution_count": 81,
      "id": "3c270f39",
      "metadata": {
        "id": "3c270f39",
        "colab": {
          "base_uri": "https://localhost:8080/",
          "height": 288
        },
        "outputId": "670b2e6e-5960-47f0-99c3-d5a48a4b8816"
      },
      "outputs": [
        {
          "output_type": "execute_result",
          "data": {
            "text/plain": [
              "  Business Department Region  Jan Income  Feb Income  Mar Income  Apr Income  \\\n",
              "0    B2C_1      Loans     AT     5924.95     4680.71     7406.19     7169.19   \n",
              "1    B2C_1      Loans     AT     5924.95     7346.94     6872.94     4739.96   \n",
              "2    B2C_1      Loans     AT     5924.95     7406.19     6043.45     6161.95   \n",
              "3    B2C_1   Services     AT     5924.95     5865.70     7406.19     4858.46   \n",
              "4    B2C_1      Loans     AT     5924.95     6280.45     6102.70     6339.70   \n",
              "\n",
              "   May Income  Jun Income  Total Income  Jan Expenditure  Feb Expenditure  \\\n",
              "0     7406.19     5213.96      37801.19          5178.13          3883.60   \n",
              "1     6280.45     6576.69      37741.93          3913.87          3835.59   \n",
              "2     6161.95     5924.95      37623.44          4386.71          3377.77   \n",
              "3     5984.20     7169.19      37208.69          4840.73          4743.92   \n",
              "4     5865.70     6458.20      36971.70          5875.00          5698.75   \n",
              "\n",
              "   Mar Expenditure  Apr Expenditure  May Expenditure  Jun Expenditure  \\\n",
              "0          3534.08          4240.90          3731.99          4217.15   \n",
              "1          4410.93          4058.06          4220.38          5064.46   \n",
              "2          3411.55          3206.86          3399.27          3229.31   \n",
              "3          5692.70          5123.43          4867.26          5500.00   \n",
              "4          5983.69          6701.73          7505.94          8481.71   \n",
              "\n",
              "   Total Expenditure  \n",
              "0           24785.85  \n",
              "1           25503.29  \n",
              "2           21011.47  \n",
              "3           30768.04  \n",
              "4           40246.82  "
            ],
            "text/html": [
              "\n",
              "  <div id=\"df-6ca49685-4df5-4fd2-8d06-4c3dc8bde1a3\">\n",
              "    <div class=\"colab-df-container\">\n",
              "      <div>\n",
              "<style scoped>\n",
              "    .dataframe tbody tr th:only-of-type {\n",
              "        vertical-align: middle;\n",
              "    }\n",
              "\n",
              "    .dataframe tbody tr th {\n",
              "        vertical-align: top;\n",
              "    }\n",
              "\n",
              "    .dataframe thead th {\n",
              "        text-align: right;\n",
              "    }\n",
              "</style>\n",
              "<table border=\"1\" class=\"dataframe\">\n",
              "  <thead>\n",
              "    <tr style=\"text-align: right;\">\n",
              "      <th></th>\n",
              "      <th>Business</th>\n",
              "      <th>Department</th>\n",
              "      <th>Region</th>\n",
              "      <th>Jan Income</th>\n",
              "      <th>Feb Income</th>\n",
              "      <th>Mar Income</th>\n",
              "      <th>Apr Income</th>\n",
              "      <th>May Income</th>\n",
              "      <th>Jun Income</th>\n",
              "      <th>Total Income</th>\n",
              "      <th>Jan Expenditure</th>\n",
              "      <th>Feb Expenditure</th>\n",
              "      <th>Mar Expenditure</th>\n",
              "      <th>Apr Expenditure</th>\n",
              "      <th>May Expenditure</th>\n",
              "      <th>Jun Expenditure</th>\n",
              "      <th>Total Expenditure</th>\n",
              "    </tr>\n",
              "  </thead>\n",
              "  <tbody>\n",
              "    <tr>\n",
              "      <th>0</th>\n",
              "      <td>B2C_1</td>\n",
              "      <td>Loans</td>\n",
              "      <td>AT</td>\n",
              "      <td>5924.95</td>\n",
              "      <td>4680.71</td>\n",
              "      <td>7406.19</td>\n",
              "      <td>7169.19</td>\n",
              "      <td>7406.19</td>\n",
              "      <td>5213.96</td>\n",
              "      <td>37801.19</td>\n",
              "      <td>5178.13</td>\n",
              "      <td>3883.60</td>\n",
              "      <td>3534.08</td>\n",
              "      <td>4240.90</td>\n",
              "      <td>3731.99</td>\n",
              "      <td>4217.15</td>\n",
              "      <td>24785.85</td>\n",
              "    </tr>\n",
              "    <tr>\n",
              "      <th>1</th>\n",
              "      <td>B2C_1</td>\n",
              "      <td>Loans</td>\n",
              "      <td>AT</td>\n",
              "      <td>5924.95</td>\n",
              "      <td>7346.94</td>\n",
              "      <td>6872.94</td>\n",
              "      <td>4739.96</td>\n",
              "      <td>6280.45</td>\n",
              "      <td>6576.69</td>\n",
              "      <td>37741.93</td>\n",
              "      <td>3913.87</td>\n",
              "      <td>3835.59</td>\n",
              "      <td>4410.93</td>\n",
              "      <td>4058.06</td>\n",
              "      <td>4220.38</td>\n",
              "      <td>5064.46</td>\n",
              "      <td>25503.29</td>\n",
              "    </tr>\n",
              "    <tr>\n",
              "      <th>2</th>\n",
              "      <td>B2C_1</td>\n",
              "      <td>Loans</td>\n",
              "      <td>AT</td>\n",
              "      <td>5924.95</td>\n",
              "      <td>7406.19</td>\n",
              "      <td>6043.45</td>\n",
              "      <td>6161.95</td>\n",
              "      <td>6161.95</td>\n",
              "      <td>5924.95</td>\n",
              "      <td>37623.44</td>\n",
              "      <td>4386.71</td>\n",
              "      <td>3377.77</td>\n",
              "      <td>3411.55</td>\n",
              "      <td>3206.86</td>\n",
              "      <td>3399.27</td>\n",
              "      <td>3229.31</td>\n",
              "      <td>21011.47</td>\n",
              "    </tr>\n",
              "    <tr>\n",
              "      <th>3</th>\n",
              "      <td>B2C_1</td>\n",
              "      <td>Services</td>\n",
              "      <td>AT</td>\n",
              "      <td>5924.95</td>\n",
              "      <td>5865.70</td>\n",
              "      <td>7406.19</td>\n",
              "      <td>4858.46</td>\n",
              "      <td>5984.20</td>\n",
              "      <td>7169.19</td>\n",
              "      <td>37208.69</td>\n",
              "      <td>4840.73</td>\n",
              "      <td>4743.92</td>\n",
              "      <td>5692.70</td>\n",
              "      <td>5123.43</td>\n",
              "      <td>4867.26</td>\n",
              "      <td>5500.00</td>\n",
              "      <td>30768.04</td>\n",
              "    </tr>\n",
              "    <tr>\n",
              "      <th>4</th>\n",
              "      <td>B2C_1</td>\n",
              "      <td>Loans</td>\n",
              "      <td>AT</td>\n",
              "      <td>5924.95</td>\n",
              "      <td>6280.45</td>\n",
              "      <td>6102.70</td>\n",
              "      <td>6339.70</td>\n",
              "      <td>5865.70</td>\n",
              "      <td>6458.20</td>\n",
              "      <td>36971.70</td>\n",
              "      <td>5875.00</td>\n",
              "      <td>5698.75</td>\n",
              "      <td>5983.69</td>\n",
              "      <td>6701.73</td>\n",
              "      <td>7505.94</td>\n",
              "      <td>8481.71</td>\n",
              "      <td>40246.82</td>\n",
              "    </tr>\n",
              "  </tbody>\n",
              "</table>\n",
              "</div>\n",
              "      <button class=\"colab-df-convert\" onclick=\"convertToInteractive('df-6ca49685-4df5-4fd2-8d06-4c3dc8bde1a3')\"\n",
              "              title=\"Convert this dataframe to an interactive table.\"\n",
              "              style=\"display:none;\">\n",
              "        \n",
              "  <svg xmlns=\"http://www.w3.org/2000/svg\" height=\"24px\"viewBox=\"0 0 24 24\"\n",
              "       width=\"24px\">\n",
              "    <path d=\"M0 0h24v24H0V0z\" fill=\"none\"/>\n",
              "    <path d=\"M18.56 5.44l.94 2.06.94-2.06 2.06-.94-2.06-.94-.94-2.06-.94 2.06-2.06.94zm-11 1L8.5 8.5l.94-2.06 2.06-.94-2.06-.94L8.5 2.5l-.94 2.06-2.06.94zm10 10l.94 2.06.94-2.06 2.06-.94-2.06-.94-.94-2.06-.94 2.06-2.06.94z\"/><path d=\"M17.41 7.96l-1.37-1.37c-.4-.4-.92-.59-1.43-.59-.52 0-1.04.2-1.43.59L10.3 9.45l-7.72 7.72c-.78.78-.78 2.05 0 2.83L4 21.41c.39.39.9.59 1.41.59.51 0 1.02-.2 1.41-.59l7.78-7.78 2.81-2.81c.8-.78.8-2.07 0-2.86zM5.41 20L4 18.59l7.72-7.72 1.47 1.35L5.41 20z\"/>\n",
              "  </svg>\n",
              "      </button>\n",
              "      \n",
              "  <style>\n",
              "    .colab-df-container {\n",
              "      display:flex;\n",
              "      flex-wrap:wrap;\n",
              "      gap: 12px;\n",
              "    }\n",
              "\n",
              "    .colab-df-convert {\n",
              "      background-color: #E8F0FE;\n",
              "      border: none;\n",
              "      border-radius: 50%;\n",
              "      cursor: pointer;\n",
              "      display: none;\n",
              "      fill: #1967D2;\n",
              "      height: 32px;\n",
              "      padding: 0 0 0 0;\n",
              "      width: 32px;\n",
              "    }\n",
              "\n",
              "    .colab-df-convert:hover {\n",
              "      background-color: #E2EBFA;\n",
              "      box-shadow: 0px 1px 2px rgba(60, 64, 67, 0.3), 0px 1px 3px 1px rgba(60, 64, 67, 0.15);\n",
              "      fill: #174EA6;\n",
              "    }\n",
              "\n",
              "    [theme=dark] .colab-df-convert {\n",
              "      background-color: #3B4455;\n",
              "      fill: #D2E3FC;\n",
              "    }\n",
              "\n",
              "    [theme=dark] .colab-df-convert:hover {\n",
              "      background-color: #434B5C;\n",
              "      box-shadow: 0px 1px 3px 1px rgba(0, 0, 0, 0.15);\n",
              "      filter: drop-shadow(0px 1px 2px rgba(0, 0, 0, 0.3));\n",
              "      fill: #FFFFFF;\n",
              "    }\n",
              "  </style>\n",
              "\n",
              "      <script>\n",
              "        const buttonEl =\n",
              "          document.querySelector('#df-6ca49685-4df5-4fd2-8d06-4c3dc8bde1a3 button.colab-df-convert');\n",
              "        buttonEl.style.display =\n",
              "          google.colab.kernel.accessAllowed ? 'block' : 'none';\n",
              "\n",
              "        async function convertToInteractive(key) {\n",
              "          const element = document.querySelector('#df-6ca49685-4df5-4fd2-8d06-4c3dc8bde1a3');\n",
              "          const dataTable =\n",
              "            await google.colab.kernel.invokeFunction('convertToInteractive',\n",
              "                                                     [key], {});\n",
              "          if (!dataTable) return;\n",
              "\n",
              "          const docLinkHtml = 'Like what you see? Visit the ' +\n",
              "            '<a target=\"_blank\" href=https://colab.research.google.com/notebooks/data_table.ipynb>data table notebook</a>'\n",
              "            + ' to learn more about interactive tables.';\n",
              "          element.innerHTML = '';\n",
              "          dataTable['output_type'] = 'display_data';\n",
              "          await google.colab.output.renderOutput(dataTable, element);\n",
              "          const docLink = document.createElement('div');\n",
              "          docLink.innerHTML = docLinkHtml;\n",
              "          element.appendChild(docLink);\n",
              "        }\n",
              "      </script>\n",
              "    </div>\n",
              "  </div>\n",
              "  "
            ]
          },
          "metadata": {},
          "execution_count": 81
        }
      ],
      "source": [
        "# compute the total income and assign it in a new column in the df\n",
        "df['Total Expenditure'] = df.iloc[:, expenditure_start:expenditure_end+1].sum(axis=1)\n",
        "df.head() #the column was added at the the end"
      ]
    },
    {
      "cell_type": "code",
      "source": [
        "# Total Expenditure column idx in df\n",
        "total_exp_df = df.columns.get_loc(\"Total Expenditure\")\n",
        "\n",
        "# Total Expenditure column idx in excel\n",
        "total_exp_xl = total_exp_df + 1\n",
        "\n",
        "# Total exp col letter\n",
        "total_exp_col_letter = get_column_letter(total_exp_xl) \n"
      ],
      "metadata": {
        "id": "w-Gy738fO1jm"
      },
      "id": "w-Gy738fO1jm",
      "execution_count": 82,
      "outputs": []
    },
    {
      "cell_type": "code",
      "source": [
        "# update ws_loc\n",
        "\n",
        "ws_loc['expenditure_col']= expenditure_col\n",
        "ws_loc['expenditure_start']=expenditure_start\n",
        "ws_loc['expenditure_end']=expenditure_end\n",
        "ws_loc['total_exp_df']= total_exp_df\n",
        "ws_loc['total_exp_xl']= total_exp_xl\n",
        "ws_loc['total_exp_col_letter']= total_exp_col_letter\n",
        "\n",
        "\n",
        "ws_loc"
      ],
      "metadata": {
        "colab": {
          "base_uri": "https://localhost:8080/"
        },
        "id": "LXhqDVWCBeKA",
        "outputId": "751cd009-db8f-4911-d78b-6a78be157b90"
      },
      "id": "LXhqDVWCBeKA",
      "execution_count": 83,
      "outputs": [
        {
          "output_type": "execute_result",
          "data": {
            "text/plain": [
              "{'max_row': 1937,\n",
              " 'max_col': 15,\n",
              " 'df_shape': (1937, 15),\n",
              " 'ws_range': 'A1:O1938',\n",
              " 'start_point': 'A1',\n",
              " 'start_col': 'A',\n",
              " 'end_point': 'O1938',\n",
              " 'end_col': 'O',\n",
              " 'end_col_idx': 15,\n",
              " 'end_row': 1938,\n",
              " 'income_col': [3, 4, 5, 6, 7, 8],\n",
              " 'income_start': 3,\n",
              " 'income_end': 8,\n",
              " 'total_inc_df': 9,\n",
              " 'income_col_xl': [4, 5, 6, 7, 8, 9],\n",
              " 'income_Total_col_xl': 10,\n",
              " 'total_inc_col_letter_xl': 'J',\n",
              " 'expenditure_col': [10, 11, 12, 13, 14, 15],\n",
              " 'expenditure_start': 10,\n",
              " 'expenditure_end': 15,\n",
              " 'total_exp_df': 16,\n",
              " 'total_exp_xl': 17,\n",
              " 'total_exp_col_letter': 'Q'}"
            ]
          },
          "metadata": {},
          "execution_count": 83
        }
      ]
    },
    {
      "cell_type": "code",
      "execution_count": 84,
      "id": "e2b83cb2",
      "metadata": {
        "id": "e2b83cb2",
        "colab": {
          "base_uri": "https://localhost:8080/"
        },
        "outputId": "f8c24985-6801-4bb9-8c63-fd5d8fb07334"
      },
      "outputs": [
        {
          "output_type": "stream",
          "name": "stdout",
          "text": [
            "the column nb for Jan Expenditure is:  11\n"
          ]
        }
      ],
      "source": [
        "# find column number of column Jan Exp\n",
        "for i in range(1, sheet.max_column):\n",
        "    ref = sheet.cell(row=1, column=i)\n",
        "    if ref.value == 'Jan Expenditure':\n",
        "        print('the column nb for Jan Expenditure is: ', ref.column)"
      ]
    },
    {
      "cell_type": "code",
      "execution_count": 85,
      "id": "05a12e00",
      "metadata": {
        "id": "05a12e00",
        "colab": {
          "base_uri": "https://localhost:8080/"
        },
        "outputId": "db125c89-45f9-445d-fc61-56b5119063c1"
      },
      "outputs": [
        {
          "output_type": "stream",
          "name": "stdout",
          "text": [
            "[11, 12, 13, 14, 15, 16]\n"
          ]
        }
      ],
      "source": [
        "# find column number that have Exp months\n",
        "\n",
        "expenditure_col_xl = []\n",
        "for i in range(1, sheet.max_column+1):# without + 1\n",
        "    ref = sheet.cell(row=1, column=i)\n",
        "    if 'Expenditure' in ref.value:\n",
        "        expenditure_col_xl.append(ref.column)\n",
        "\n",
        "print(expenditure_col_xl)"
      ]
    },
    {
      "cell_type": "code",
      "execution_count": 86,
      "id": "2eb0ee26",
      "metadata": {
        "id": "2eb0ee26",
        "colab": {
          "base_uri": "https://localhost:8080/"
        },
        "outputId": "c8a3ecb6-3d98-4b34-ca32-bffcf2690fe4"
      },
      "outputs": [
        {
          "output_type": "stream",
          "name": "stdout",
          "text": [
            "expenditure starts at column:  K expenditure end at column:  P\n"
          ]
        }
      ],
      "source": [
        "expenditure_start_xl= expenditure_col_xl[0]\n",
        "expenditure_end_xl= expenditure_col_xl[-1]\n",
        "\n",
        "print('expenditure starts at column: ', get_column_letter(expenditure_start_xl),\n",
        "      'expenditure end at column: ', get_column_letter(expenditure_end_xl))"
      ]
    },
    {
      "cell_type": "code",
      "source": [
        "# update ws_loc\n",
        "\n",
        "ws_loc['expenditure_col_xl']= expenditure_col_xl\n",
        "ws_loc['expenditure_start_xl']=expenditure_start_xl\n",
        "ws_loc['expenditure_end_xl']=expenditure_end_xl\n",
        "\n",
        "ws_loc"
      ],
      "metadata": {
        "colab": {
          "base_uri": "https://localhost:8080/"
        },
        "id": "3jSwV-MSCZ4S",
        "outputId": "bb43abc4-dec7-40f4-fa65-8f2550ad0dbd"
      },
      "id": "3jSwV-MSCZ4S",
      "execution_count": 87,
      "outputs": [
        {
          "output_type": "execute_result",
          "data": {
            "text/plain": [
              "{'max_row': 1937,\n",
              " 'max_col': 15,\n",
              " 'df_shape': (1937, 15),\n",
              " 'ws_range': 'A1:O1938',\n",
              " 'start_point': 'A1',\n",
              " 'start_col': 'A',\n",
              " 'end_point': 'O1938',\n",
              " 'end_col': 'O',\n",
              " 'end_col_idx': 15,\n",
              " 'end_row': 1938,\n",
              " 'income_col': [3, 4, 5, 6, 7, 8],\n",
              " 'income_start': 3,\n",
              " 'income_end': 8,\n",
              " 'total_inc_df': 9,\n",
              " 'income_col_xl': [4, 5, 6, 7, 8, 9],\n",
              " 'income_Total_col_xl': 10,\n",
              " 'total_inc_col_letter_xl': 'J',\n",
              " 'expenditure_col': [10, 11, 12, 13, 14, 15],\n",
              " 'expenditure_start': 10,\n",
              " 'expenditure_end': 15,\n",
              " 'total_exp_df': 16,\n",
              " 'total_exp_xl': 17,\n",
              " 'total_exp_col_letter': 'Q',\n",
              " 'expenditure_col_xl': [11, 12, 13, 14, 15, 16],\n",
              " 'expenditure_start_xl': 11,\n",
              " 'expenditure_end_xl': 16}"
            ]
          },
          "metadata": {},
          "execution_count": 87
        }
      ]
    },
    {
      "cell_type": "code",
      "execution_count": 88,
      "id": "93d255ba-462b-4428-ad1f-c31950de0632",
      "metadata": {
        "id": "93d255ba-462b-4428-ad1f-c31950de0632",
        "colab": {
          "base_uri": "https://localhost:8080/",
          "height": 161
        },
        "outputId": "9040ace2-9df3-425a-a0fb-11002876af09"
      },
      "outputs": [
        {
          "output_type": "display_data",
          "data": {
            "text/plain": [
              "<Figure size 1152x1152 with 1 Axes>"
            ],
            "image/png": "[encoded data removed]"
          },
          "metadata": {
            "needs_background": "light"
          }
        }
      ],
      "source": [
        "# display image\n",
        "img = mpimg.imread('images/img_1.PNG')\n",
        "plt.rcParams['figure.figsize'] = [16, 16]\n",
        "plt.imshow(img)\n",
        "\n",
        "plt.axis('off')\n",
        "plt.show()"
      ]
    },
    {
      "cell_type": "code",
      "execution_count": 89,
      "id": "c122492c",
      "metadata": {
        "id": "c122492c",
        "colab": {
          "base_uri": "https://localhost:8080/"
        },
        "outputId": "8fa85f32-c865-47f9-a1a1-4a4292fab605"
      },
      "outputs": [
        {
          "output_type": "execute_result",
          "data": {
            "text/plain": [
              "17"
            ]
          },
          "metadata": {},
          "execution_count": 89
        }
      ],
      "source": [
        "# compute idx where to copy/past the total for expenditure\n",
        "total_exp_col = expenditure_col_xl[-1]+1\n",
        "total_exp_col"
      ]
    },
    {
      "cell_type": "code",
      "execution_count": 90,
      "id": "3c4219df",
      "metadata": {
        "id": "3c4219df"
      },
      "outputs": [],
      "source": [
        "cellrange = round(df['Total Expenditure'], 2)\n",
        "row= 2\n",
        "for i in range(0, len(cellrange)):\n",
        "    sheet.cell(row=row, column = total_exp_col).value= cellrange[i]\n",
        "    row=row+1\n",
        "\n",
        "wb.save('Budget_processed.xlsx') "
      ]
    },
    {
      "cell_type": "code",
      "execution_count": 91,
      "id": "f4c19256",
      "metadata": {
        "id": "f4c19256",
        "colab": {
          "base_uri": "https://localhost:8080/",
          "height": 36
        },
        "outputId": "cfa0b8c3-b647-4379-f482-6905d8e42c3d"
      },
      "outputs": [
        {
          "output_type": "execute_result",
          "data": {
            "text/plain": [
              "'Q1'"
            ],
            "application/vnd.google.colaboratory.intrinsic+json": {
              "type": "string"
            }
          },
          "metadata": {},
          "execution_count": 91
        }
      ],
      "source": [
        "# write column name for Total expenditure\n",
        "total_exp_col_letter = get_column_letter(total_exp_col)\n",
        "total_exp_row = 1\n",
        "total_exp_cel_ref = str(total_exp_col_letter) + str(total_exp_row)\n",
        "total_exp_cel_ref"
      ]
    },
    {
      "cell_type": "code",
      "execution_count": 92,
      "id": "edca15a8",
      "metadata": {
        "id": "edca15a8"
      },
      "outputs": [],
      "source": [
        "sheet[total_exp_cel_ref]= 'Total Expenditure'\n",
        "wb.save('Budget_processed.xlsx') "
      ]
    },
    {
      "cell_type": "code",
      "execution_count": 93,
      "id": "7c37f3b8-06d6-47ea-b683-5b75051df474",
      "metadata": {
        "id": "7c37f3b8-06d6-47ea-b683-5b75051df474",
        "colab": {
          "base_uri": "https://localhost:8080/"
        },
        "outputId": "414445c1-ada5-4189-a3dc-4e659d422bbd"
      },
      "outputs": [
        {
          "output_type": "stream",
          "name": "stdout",
          "text": [
            "1 ['May Income', 'Jun Income', 'Total Income', 'Jan Expenditure', 'Feb Expenditure', 'Mar Expenditure', 'Apr Expenditure', 'May Expenditure', 'Jun Expenditure', 'Total Expenditure']\n",
            "2 [7406.19, 5213.96, 37801.189999999995, 5178.13, 3883.6, 3534.08, 4240.9, 3731.99, 4217.15, 24785.85]\n",
            "3 [6280.45, 6576.69, 37741.93, 3913.87, 3835.59, 4410.93, 4058.06, 4220.38, 5064.46, 25503.29]\n",
            "4 [6161.95, 5924.95, 37623.44, 4386.71, 3377.77, 3411.55, 3206.86, 3399.27, 3229.31, 21011.47]\n",
            "5 [5984.2, 7169.19, 37208.69, 4840.73, 4743.92, 5692.7, 5123.43, 4867.26, 5500, 30768.04]\n"
          ]
        }
      ],
      "source": [
        "for idx, row in enumerate(sheet['H1:Q5']):\n",
        "    print(idx+1, [x.value for x in row])"
      ]
    },
    {
      "cell_type": "code",
      "execution_count": 94,
      "id": "b81214a3-5c44-4376-99f6-a59cf052703b",
      "metadata": {
        "id": "b81214a3-5c44-4376-99f6-a59cf052703b",
        "colab": {
          "base_uri": "https://localhost:8080/",
          "height": 179
        },
        "outputId": "a4155aff-e8f4-451b-e89b-a5c134ac7250"
      },
      "outputs": [
        {
          "output_type": "display_data",
          "data": {
            "text/plain": [
              "<Figure size 864x720 with 1 Axes>"
            ],
            "image/png": "[encoded data removed]"
          },
          "metadata": {
            "needs_background": "light"
          }
        }
      ],
      "source": [
        "# display image\n",
        "img = mpimg.imread('images/img_2.PNG')\n",
        "plt.rcParams['figure.figsize'] = [12, 10]\n",
        "plt.imshow(img)\n",
        "plt.axis('off')\n",
        "plt.show()"
      ]
    },
    {
      "cell_type": "markdown",
      "id": "010fa791",
      "metadata": {
        "id": "010fa791"
      },
      "source": [
        "## Net"
      ]
    },
    {
      "cell_type": "raw",
      "id": "68d44752-da76-4da9-b443-d336e9ff2fc5",
      "metadata": {
        "id": "68d44752-da76-4da9-b443-d336e9ff2fc5"
      },
      "source": [
        "We would like to add a new column \"Net\" at the end of the columns\n",
        "that would soubstract Total Exp from Total Exp"
      ]
    },
    {
      "cell_type": "code",
      "execution_count": 95,
      "id": "f493ad31",
      "metadata": {
        "id": "f493ad31",
        "colab": {
          "base_uri": "https://localhost:8080/",
          "height": 288
        },
        "outputId": "d2e7c1d9-96fd-40c7-a741-d13d16569d01"
      },
      "outputs": [
        {
          "output_type": "execute_result",
          "data": {
            "text/plain": [
              "  Business Department Region  Jan Income  Feb Income  Mar Income  Apr Income  \\\n",
              "0    B2C_1      Loans     AT     5924.95     4680.71     7406.19     7169.19   \n",
              "1    B2C_1      Loans     AT     5924.95     7346.94     6872.94     4739.96   \n",
              "2    B2C_1      Loans     AT     5924.95     7406.19     6043.45     6161.95   \n",
              "3    B2C_1   Services     AT     5924.95     5865.70     7406.19     4858.46   \n",
              "4    B2C_1      Loans     AT     5924.95     6280.45     6102.70     6339.70   \n",
              "\n",
              "   May Income  Jun Income  Total Income  Jan Expenditure  Feb Expenditure  \\\n",
              "0     7406.19     5213.96      37801.19          5178.13          3883.60   \n",
              "1     6280.45     6576.69      37741.93          3913.87          3835.59   \n",
              "2     6161.95     5924.95      37623.44          4386.71          3377.77   \n",
              "3     5984.20     7169.19      37208.69          4840.73          4743.92   \n",
              "4     5865.70     6458.20      36971.70          5875.00          5698.75   \n",
              "\n",
              "   Mar Expenditure  Apr Expenditure  May Expenditure  Jun Expenditure  \\\n",
              "0          3534.08          4240.90          3731.99          4217.15   \n",
              "1          4410.93          4058.06          4220.38          5064.46   \n",
              "2          3411.55          3206.86          3399.27          3229.31   \n",
              "3          5692.70          5123.43          4867.26          5500.00   \n",
              "4          5983.69          6701.73          7505.94          8481.71   \n",
              "\n",
              "   Total Expenditure  \n",
              "0           24785.85  \n",
              "1           25503.29  \n",
              "2           21011.47  \n",
              "3           30768.04  \n",
              "4           40246.82  "
            ],
            "text/html": [
              "\n",
              "  <div id=\"df-8526b8f3-0847-426b-9711-2faef62bba1b\">\n",
              "    <div class=\"colab-df-container\">\n",
              "      <div>\n",
              "<style scoped>\n",
              "    .dataframe tbody tr th:only-of-type {\n",
              "        vertical-align: middle;\n",
              "    }\n",
              "\n",
              "    .dataframe tbody tr th {\n",
              "        vertical-align: top;\n",
              "    }\n",
              "\n",
              "    .dataframe thead th {\n",
              "        text-align: right;\n",
              "    }\n",
              "</style>\n",
              "<table border=\"1\" class=\"dataframe\">\n",
              "  <thead>\n",
              "    <tr style=\"text-align: right;\">\n",
              "      <th></th>\n",
              "      <th>Business</th>\n",
              "      <th>Department</th>\n",
              "      <th>Region</th>\n",
              "      <th>Jan Income</th>\n",
              "      <th>Feb Income</th>\n",
              "      <th>Mar Income</th>\n",
              "      <th>Apr Income</th>\n",
              "      <th>May Income</th>\n",
              "      <th>Jun Income</th>\n",
              "      <th>Total Income</th>\n",
              "      <th>Jan Expenditure</th>\n",
              "      <th>Feb Expenditure</th>\n",
              "      <th>Mar Expenditure</th>\n",
              "      <th>Apr Expenditure</th>\n",
              "      <th>May Expenditure</th>\n",
              "      <th>Jun Expenditure</th>\n",
              "      <th>Total Expenditure</th>\n",
              "    </tr>\n",
              "  </thead>\n",
              "  <tbody>\n",
              "    <tr>\n",
              "      <th>0</th>\n",
              "      <td>B2C_1</td>\n",
              "      <td>Loans</td>\n",
              "      <td>AT</td>\n",
              "      <td>5924.95</td>\n",
              "      <td>4680.71</td>\n",
              "      <td>7406.19</td>\n",
              "      <td>7169.19</td>\n",
              "      <td>7406.19</td>\n",
              "      <td>5213.96</td>\n",
              "      <td>37801.19</td>\n",
              "      <td>5178.13</td>\n",
              "      <td>3883.60</td>\n",
              "      <td>3534.08</td>\n",
              "      <td>4240.90</td>\n",
              "      <td>3731.99</td>\n",
              "      <td>4217.15</td>\n",
              "      <td>24785.85</td>\n",
              "    </tr>\n",
              "    <tr>\n",
              "      <th>1</th>\n",
              "      <td>B2C_1</td>\n",
              "      <td>Loans</td>\n",
              "      <td>AT</td>\n",
              "      <td>5924.95</td>\n",
              "      <td>7346.94</td>\n",
              "      <td>6872.94</td>\n",
              "      <td>4739.96</td>\n",
              "      <td>6280.45</td>\n",
              "      <td>6576.69</td>\n",
              "      <td>37741.93</td>\n",
              "      <td>3913.87</td>\n",
              "      <td>3835.59</td>\n",
              "      <td>4410.93</td>\n",
              "      <td>4058.06</td>\n",
              "      <td>4220.38</td>\n",
              "      <td>5064.46</td>\n",
              "      <td>25503.29</td>\n",
              "    </tr>\n",
              "    <tr>\n",
              "      <th>2</th>\n",
              "      <td>B2C_1</td>\n",
              "      <td>Loans</td>\n",
              "      <td>AT</td>\n",
              "      <td>5924.95</td>\n",
              "      <td>7406.19</td>\n",
              "      <td>6043.45</td>\n",
              "      <td>6161.95</td>\n",
              "      <td>6161.95</td>\n",
              "      <td>5924.95</td>\n",
              "      <td>37623.44</td>\n",
              "      <td>4386.71</td>\n",
              "      <td>3377.77</td>\n",
              "      <td>3411.55</td>\n",
              "      <td>3206.86</td>\n",
              "      <td>3399.27</td>\n",
              "      <td>3229.31</td>\n",
              "      <td>21011.47</td>\n",
              "    </tr>\n",
              "    <tr>\n",
              "      <th>3</th>\n",
              "      <td>B2C_1</td>\n",
              "      <td>Services</td>\n",
              "      <td>AT</td>\n",
              "      <td>5924.95</td>\n",
              "      <td>5865.70</td>\n",
              "      <td>7406.19</td>\n",
              "      <td>4858.46</td>\n",
              "      <td>5984.20</td>\n",
              "      <td>7169.19</td>\n",
              "      <td>37208.69</td>\n",
              "      <td>4840.73</td>\n",
              "      <td>4743.92</td>\n",
              "      <td>5692.70</td>\n",
              "      <td>5123.43</td>\n",
              "      <td>4867.26</td>\n",
              "      <td>5500.00</td>\n",
              "      <td>30768.04</td>\n",
              "    </tr>\n",
              "    <tr>\n",
              "      <th>4</th>\n",
              "      <td>B2C_1</td>\n",
              "      <td>Loans</td>\n",
              "      <td>AT</td>\n",
              "      <td>5924.95</td>\n",
              "      <td>6280.45</td>\n",
              "      <td>6102.70</td>\n",
              "      <td>6339.70</td>\n",
              "      <td>5865.70</td>\n",
              "      <td>6458.20</td>\n",
              "      <td>36971.70</td>\n",
              "      <td>5875.00</td>\n",
              "      <td>5698.75</td>\n",
              "      <td>5983.69</td>\n",
              "      <td>6701.73</td>\n",
              "      <td>7505.94</td>\n",
              "      <td>8481.71</td>\n",
              "      <td>40246.82</td>\n",
              "    </tr>\n",
              "  </tbody>\n",
              "</table>\n",
              "</div>\n",
              "      <button class=\"colab-df-convert\" onclick=\"convertToInteractive('df-8526b8f3-0847-426b-9711-2faef62bba1b')\"\n",
              "              title=\"Convert this dataframe to an interactive table.\"\n",
              "              style=\"display:none;\">\n",
              "        \n",
              "  <svg xmlns=\"http://www.w3.org/2000/svg\" height=\"24px\"viewBox=\"0 0 24 24\"\n",
              "       width=\"24px\">\n",
              "    <path d=\"M0 0h24v24H0V0z\" fill=\"none\"/>\n",
              "    <path d=\"M18.56 5.44l.94 2.06.94-2.06 2.06-.94-2.06-.94-.94-2.06-.94 2.06-2.06.94zm-11 1L8.5 8.5l.94-2.06 2.06-.94-2.06-.94L8.5 2.5l-.94 2.06-2.06.94zm10 10l.94 2.06.94-2.06 2.06-.94-2.06-.94-.94-2.06-.94 2.06-2.06.94z\"/><path d=\"M17.41 7.96l-1.37-1.37c-.4-.4-.92-.59-1.43-.59-.52 0-1.04.2-1.43.59L10.3 9.45l-7.72 7.72c-.78.78-.78 2.05 0 2.83L4 21.41c.39.39.9.59 1.41.59.51 0 1.02-.2 1.41-.59l7.78-7.78 2.81-2.81c.8-.78.8-2.07 0-2.86zM5.41 20L4 18.59l7.72-7.72 1.47 1.35L5.41 20z\"/>\n",
              "  </svg>\n",
              "      </button>\n",
              "      \n",
              "  <style>\n",
              "    .colab-df-container {\n",
              "      display:flex;\n",
              "      flex-wrap:wrap;\n",
              "      gap: 12px;\n",
              "    }\n",
              "\n",
              "    .colab-df-convert {\n",
              "      background-color: #E8F0FE;\n",
              "      border: none;\n",
              "      border-radius: 50%;\n",
              "      cursor: pointer;\n",
              "      display: none;\n",
              "      fill: #1967D2;\n",
              "      height: 32px;\n",
              "      padding: 0 0 0 0;\n",
              "      width: 32px;\n",
              "    }\n",
              "\n",
              "    .colab-df-convert:hover {\n",
              "      background-color: #E2EBFA;\n",
              "      box-shadow: 0px 1px 2px rgba(60, 64, 67, 0.3), 0px 1px 3px 1px rgba(60, 64, 67, 0.15);\n",
              "      fill: #174EA6;\n",
              "    }\n",
              "\n",
              "    [theme=dark] .colab-df-convert {\n",
              "      background-color: #3B4455;\n",
              "      fill: #D2E3FC;\n",
              "    }\n",
              "\n",
              "    [theme=dark] .colab-df-convert:hover {\n",
              "      background-color: #434B5C;\n",
              "      box-shadow: 0px 1px 3px 1px rgba(0, 0, 0, 0.15);\n",
              "      filter: drop-shadow(0px 1px 2px rgba(0, 0, 0, 0.3));\n",
              "      fill: #FFFFFF;\n",
              "    }\n",
              "  </style>\n",
              "\n",
              "      <script>\n",
              "        const buttonEl =\n",
              "          document.querySelector('#df-8526b8f3-0847-426b-9711-2faef62bba1b button.colab-df-convert');\n",
              "        buttonEl.style.display =\n",
              "          google.colab.kernel.accessAllowed ? 'block' : 'none';\n",
              "\n",
              "        async function convertToInteractive(key) {\n",
              "          const element = document.querySelector('#df-8526b8f3-0847-426b-9711-2faef62bba1b');\n",
              "          const dataTable =\n",
              "            await google.colab.kernel.invokeFunction('convertToInteractive',\n",
              "                                                     [key], {});\n",
              "          if (!dataTable) return;\n",
              "\n",
              "          const docLinkHtml = 'Like what you see? Visit the ' +\n",
              "            '<a target=\"_blank\" href=https://colab.research.google.com/notebooks/data_table.ipynb>data table notebook</a>'\n",
              "            + ' to learn more about interactive tables.';\n",
              "          element.innerHTML = '';\n",
              "          dataTable['output_type'] = 'display_data';\n",
              "          await google.colab.output.renderOutput(dataTable, element);\n",
              "          const docLink = document.createElement('div');\n",
              "          docLink.innerHTML = docLinkHtml;\n",
              "          element.appendChild(docLink);\n",
              "        }\n",
              "      </script>\n",
              "    </div>\n",
              "  </div>\n",
              "  "
            ]
          },
          "metadata": {},
          "execution_count": 95
        }
      ],
      "source": [
        "df.head()"
      ]
    },
    {
      "cell_type": "code",
      "execution_count": 96,
      "id": "faf08ecf",
      "metadata": {
        "id": "faf08ecf",
        "colab": {
          "base_uri": "https://localhost:8080/",
          "height": 288
        },
        "outputId": "9e589b3b-d85c-4959-9133-5fc73bd500d0"
      },
      "outputs": [
        {
          "output_type": "execute_result",
          "data": {
            "text/plain": [
              "  Business Department Region  Jan Income  Feb Income  Mar Income  Apr Income  \\\n",
              "0    B2C_1      Loans     AT     5924.95     4680.71     7406.19     7169.19   \n",
              "1    B2C_1      Loans     AT     5924.95     7346.94     6872.94     4739.96   \n",
              "2    B2C_1      Loans     AT     5924.95     7406.19     6043.45     6161.95   \n",
              "3    B2C_1   Services     AT     5924.95     5865.70     7406.19     4858.46   \n",
              "4    B2C_1      Loans     AT     5924.95     6280.45     6102.70     6339.70   \n",
              "\n",
              "   May Income  Jun Income  Total Income  Jan Expenditure  Feb Expenditure  \\\n",
              "0     7406.19     5213.96      37801.19          5178.13          3883.60   \n",
              "1     6280.45     6576.69      37741.93          3913.87          3835.59   \n",
              "2     6161.95     5924.95      37623.44          4386.71          3377.77   \n",
              "3     5984.20     7169.19      37208.69          4840.73          4743.92   \n",
              "4     5865.70     6458.20      36971.70          5875.00          5698.75   \n",
              "\n",
              "   Mar Expenditure  Apr Expenditure  May Expenditure  Jun Expenditure  \\\n",
              "0          3534.08          4240.90          3731.99          4217.15   \n",
              "1          4410.93          4058.06          4220.38          5064.46   \n",
              "2          3411.55          3206.86          3399.27          3229.31   \n",
              "3          5692.70          5123.43          4867.26          5500.00   \n",
              "4          5983.69          6701.73          7505.94          8481.71   \n",
              "\n",
              "   Total Expenditure       Net  \n",
              "0           24785.85  13015.34  \n",
              "1           25503.29  12238.64  \n",
              "2           21011.47  16611.97  \n",
              "3           30768.04   6440.65  \n",
              "4           40246.82  -3275.12  "
            ],
            "text/html": [
              "\n",
              "  <div id=\"df-7755e9df-aaba-48cb-a806-16e12b1ae1bc\">\n",
              "    <div class=\"colab-df-container\">\n",
              "      <div>\n",
              "<style scoped>\n",
              "    .dataframe tbody tr th:only-of-type {\n",
              "        vertical-align: middle;\n",
              "    }\n",
              "\n",
              "    .dataframe tbody tr th {\n",
              "        vertical-align: top;\n",
              "    }\n",
              "\n",
              "    .dataframe thead th {\n",
              "        text-align: right;\n",
              "    }\n",
              "</style>\n",
              "<table border=\"1\" class=\"dataframe\">\n",
              "  <thead>\n",
              "    <tr style=\"text-align: right;\">\n",
              "      <th></th>\n",
              "      <th>Business</th>\n",
              "      <th>Department</th>\n",
              "      <th>Region</th>\n",
              "      <th>Jan Income</th>\n",
              "      <th>Feb Income</th>\n",
              "      <th>Mar Income</th>\n",
              "      <th>Apr Income</th>\n",
              "      <th>May Income</th>\n",
              "      <th>Jun Income</th>\n",
              "      <th>Total Income</th>\n",
              "      <th>Jan Expenditure</th>\n",
              "      <th>Feb Expenditure</th>\n",
              "      <th>Mar Expenditure</th>\n",
              "      <th>Apr Expenditure</th>\n",
              "      <th>May Expenditure</th>\n",
              "      <th>Jun Expenditure</th>\n",
              "      <th>Total Expenditure</th>\n",
              "      <th>Net</th>\n",
              "    </tr>\n",
              "  </thead>\n",
              "  <tbody>\n",
              "    <tr>\n",
              "      <th>0</th>\n",
              "      <td>B2C_1</td>\n",
              "      <td>Loans</td>\n",
              "      <td>AT</td>\n",
              "      <td>5924.95</td>\n",
              "      <td>4680.71</td>\n",
              "      <td>7406.19</td>\n",
              "      <td>7169.19</td>\n",
              "      <td>7406.19</td>\n",
              "      <td>5213.96</td>\n",
              "      <td>37801.19</td>\n",
              "      <td>5178.13</td>\n",
              "      <td>3883.60</td>\n",
              "      <td>3534.08</td>\n",
              "      <td>4240.90</td>\n",
              "      <td>3731.99</td>\n",
              "      <td>4217.15</td>\n",
              "      <td>24785.85</td>\n",
              "      <td>13015.34</td>\n",
              "    </tr>\n",
              "    <tr>\n",
              "      <th>1</th>\n",
              "      <td>B2C_1</td>\n",
              "      <td>Loans</td>\n",
              "      <td>AT</td>\n",
              "      <td>5924.95</td>\n",
              "      <td>7346.94</td>\n",
              "      <td>6872.94</td>\n",
              "      <td>4739.96</td>\n",
              "      <td>6280.45</td>\n",
              "      <td>6576.69</td>\n",
              "      <td>37741.93</td>\n",
              "      <td>3913.87</td>\n",
              "      <td>3835.59</td>\n",
              "      <td>4410.93</td>\n",
              "      <td>4058.06</td>\n",
              "      <td>4220.38</td>\n",
              "      <td>5064.46</td>\n",
              "      <td>25503.29</td>\n",
              "      <td>12238.64</td>\n",
              "    </tr>\n",
              "    <tr>\n",
              "      <th>2</th>\n",
              "      <td>B2C_1</td>\n",
              "      <td>Loans</td>\n",
              "      <td>AT</td>\n",
              "      <td>5924.95</td>\n",
              "      <td>7406.19</td>\n",
              "      <td>6043.45</td>\n",
              "      <td>6161.95</td>\n",
              "      <td>6161.95</td>\n",
              "      <td>5924.95</td>\n",
              "      <td>37623.44</td>\n",
              "      <td>4386.71</td>\n",
              "      <td>3377.77</td>\n",
              "      <td>3411.55</td>\n",
              "      <td>3206.86</td>\n",
              "      <td>3399.27</td>\n",
              "      <td>3229.31</td>\n",
              "      <td>21011.47</td>\n",
              "      <td>16611.97</td>\n",
              "    </tr>\n",
              "    <tr>\n",
              "      <th>3</th>\n",
              "      <td>B2C_1</td>\n",
              "      <td>Services</td>\n",
              "      <td>AT</td>\n",
              "      <td>5924.95</td>\n",
              "      <td>5865.70</td>\n",
              "      <td>7406.19</td>\n",
              "      <td>4858.46</td>\n",
              "      <td>5984.20</td>\n",
              "      <td>7169.19</td>\n",
              "      <td>37208.69</td>\n",
              "      <td>4840.73</td>\n",
              "      <td>4743.92</td>\n",
              "      <td>5692.70</td>\n",
              "      <td>5123.43</td>\n",
              "      <td>4867.26</td>\n",
              "      <td>5500.00</td>\n",
              "      <td>30768.04</td>\n",
              "      <td>6440.65</td>\n",
              "    </tr>\n",
              "    <tr>\n",
              "      <th>4</th>\n",
              "      <td>B2C_1</td>\n",
              "      <td>Loans</td>\n",
              "      <td>AT</td>\n",
              "      <td>5924.95</td>\n",
              "      <td>6280.45</td>\n",
              "      <td>6102.70</td>\n",
              "      <td>6339.70</td>\n",
              "      <td>5865.70</td>\n",
              "      <td>6458.20</td>\n",
              "      <td>36971.70</td>\n",
              "      <td>5875.00</td>\n",
              "      <td>5698.75</td>\n",
              "      <td>5983.69</td>\n",
              "      <td>6701.73</td>\n",
              "      <td>7505.94</td>\n",
              "      <td>8481.71</td>\n",
              "      <td>40246.82</td>\n",
              "      <td>-3275.12</td>\n",
              "    </tr>\n",
              "  </tbody>\n",
              "</table>\n",
              "</div>\n",
              "      <button class=\"colab-df-convert\" onclick=\"convertToInteractive('df-7755e9df-aaba-48cb-a806-16e12b1ae1bc')\"\n",
              "              title=\"Convert this dataframe to an interactive table.\"\n",
              "              style=\"display:none;\">\n",
              "        \n",
              "  <svg xmlns=\"http://www.w3.org/2000/svg\" height=\"24px\"viewBox=\"0 0 24 24\"\n",
              "       width=\"24px\">\n",
              "    <path d=\"M0 0h24v24H0V0z\" fill=\"none\"/>\n",
              "    <path d=\"M18.56 5.44l.94 2.06.94-2.06 2.06-.94-2.06-.94-.94-2.06-.94 2.06-2.06.94zm-11 1L8.5 8.5l.94-2.06 2.06-.94-2.06-.94L8.5 2.5l-.94 2.06-2.06.94zm10 10l.94 2.06.94-2.06 2.06-.94-2.06-.94-.94-2.06-.94 2.06-2.06.94z\"/><path d=\"M17.41 7.96l-1.37-1.37c-.4-.4-.92-.59-1.43-.59-.52 0-1.04.2-1.43.59L10.3 9.45l-7.72 7.72c-.78.78-.78 2.05 0 2.83L4 21.41c.39.39.9.59 1.41.59.51 0 1.02-.2 1.41-.59l7.78-7.78 2.81-2.81c.8-.78.8-2.07 0-2.86zM5.41 20L4 18.59l7.72-7.72 1.47 1.35L5.41 20z\"/>\n",
              "  </svg>\n",
              "      </button>\n",
              "      \n",
              "  <style>\n",
              "    .colab-df-container {\n",
              "      display:flex;\n",
              "      flex-wrap:wrap;\n",
              "      gap: 12px;\n",
              "    }\n",
              "\n",
              "    .colab-df-convert {\n",
              "      background-color: #E8F0FE;\n",
              "      border: none;\n",
              "      border-radius: 50%;\n",
              "      cursor: pointer;\n",
              "      display: none;\n",
              "      fill: #1967D2;\n",
              "      height: 32px;\n",
              "      padding: 0 0 0 0;\n",
              "      width: 32px;\n",
              "    }\n",
              "\n",
              "    .colab-df-convert:hover {\n",
              "      background-color: #E2EBFA;\n",
              "      box-shadow: 0px 1px 2px rgba(60, 64, 67, 0.3), 0px 1px 3px 1px rgba(60, 64, 67, 0.15);\n",
              "      fill: #174EA6;\n",
              "    }\n",
              "\n",
              "    [theme=dark] .colab-df-convert {\n",
              "      background-color: #3B4455;\n",
              "      fill: #D2E3FC;\n",
              "    }\n",
              "\n",
              "    [theme=dark] .colab-df-convert:hover {\n",
              "      background-color: #434B5C;\n",
              "      box-shadow: 0px 1px 3px 1px rgba(0, 0, 0, 0.15);\n",
              "      filter: drop-shadow(0px 1px 2px rgba(0, 0, 0, 0.3));\n",
              "      fill: #FFFFFF;\n",
              "    }\n",
              "  </style>\n",
              "\n",
              "      <script>\n",
              "        const buttonEl =\n",
              "          document.querySelector('#df-7755e9df-aaba-48cb-a806-16e12b1ae1bc button.colab-df-convert');\n",
              "        buttonEl.style.display =\n",
              "          google.colab.kernel.accessAllowed ? 'block' : 'none';\n",
              "\n",
              "        async function convertToInteractive(key) {\n",
              "          const element = document.querySelector('#df-7755e9df-aaba-48cb-a806-16e12b1ae1bc');\n",
              "          const dataTable =\n",
              "            await google.colab.kernel.invokeFunction('convertToInteractive',\n",
              "                                                     [key], {});\n",
              "          if (!dataTable) return;\n",
              "\n",
              "          const docLinkHtml = 'Like what you see? Visit the ' +\n",
              "            '<a target=\"_blank\" href=https://colab.research.google.com/notebooks/data_table.ipynb>data table notebook</a>'\n",
              "            + ' to learn more about interactive tables.';\n",
              "          element.innerHTML = '';\n",
              "          dataTable['output_type'] = 'display_data';\n",
              "          await google.colab.output.renderOutput(dataTable, element);\n",
              "          const docLink = document.createElement('div');\n",
              "          docLink.innerHTML = docLinkHtml;\n",
              "          element.appendChild(docLink);\n",
              "        }\n",
              "      </script>\n",
              "    </div>\n",
              "  </div>\n",
              "  "
            ]
          },
          "metadata": {},
          "execution_count": 96
        }
      ],
      "source": [
        "# compute Net column in df\n",
        "df['Net']= df['Total Income'] - df['Total Expenditure']\n",
        "df.head()"
      ]
    },
    {
      "cell_type": "code",
      "execution_count": 97,
      "id": "32dea0d1",
      "metadata": {
        "id": "32dea0d1",
        "colab": {
          "base_uri": "https://localhost:8080/"
        },
        "outputId": "1140b643-5f96-4066-ec20-65a45f4dda34"
      },
      "outputs": [
        {
          "output_type": "execute_result",
          "data": {
            "text/plain": [
              "[13015.34,\n",
              " 12238.64,\n",
              " 16611.97,\n",
              " 6440.65,\n",
              " -3275.12,\n",
              " 20530.99,\n",
              " 24360.1,\n",
              " 11332.41,\n",
              " 21809.25,\n",
              " -8271.33]"
            ]
          },
          "metadata": {},
          "execution_count": 97
        }
      ],
      "source": [
        "# take values for column Net from df\n",
        "# and put them into a list cellrange\n",
        "\n",
        "cellrange = list(round(df['Net'], 2))\n",
        "cellrange[:10]"
      ]
    },
    {
      "cell_type": "code",
      "execution_count": 98,
      "id": "2e7921e2",
      "metadata": {
        "id": "2e7921e2",
        "colab": {
          "base_uri": "https://localhost:8080/"
        },
        "outputId": "aa6c82ac-11de-4eef-ea72-cd4b3468e084"
      },
      "outputs": [
        {
          "output_type": "execute_result",
          "data": {
            "text/plain": [
              "['Net',\n",
              " 13015.34,\n",
              " 12238.64,\n",
              " 16611.97,\n",
              " 6440.65,\n",
              " -3275.12,\n",
              " 20530.99,\n",
              " 24360.1,\n",
              " 11332.41,\n",
              " 21809.25]"
            ]
          },
          "metadata": {},
          "execution_count": 98
        }
      ],
      "source": [
        "# insert header 'Net' at index 0 (1st position)\n",
        "cellrange.insert(0, 'Net')\n",
        "cellrange[:10]"
      ]
    },
    {
      "cell_type": "code",
      "execution_count": 99,
      "id": "bfa7b667",
      "metadata": {
        "id": "bfa7b667",
        "colab": {
          "base_uri": "https://localhost:8080/"
        },
        "outputId": "0b49618d-c3c7-4146-cc75-5f14d0bb2819"
      },
      "outputs": [
        {
          "output_type": "stream",
          "name": "stdout",
          "text": [
            "17\n"
          ]
        }
      ],
      "source": [
        "# Net column idx in df\n",
        "net_col = df.columns.get_loc(\"Net\")\n",
        "print(net_col)"
      ]
    },
    {
      "cell_type": "code",
      "source": [
        "# Net column idx in excel\n",
        "\n",
        "net_col_xl = net_col + 1"
      ],
      "metadata": {
        "id": "hg12unC7NzxK"
      },
      "id": "hg12unC7NzxK",
      "execution_count": 100,
      "outputs": []
    },
    {
      "cell_type": "code",
      "source": [
        "# add them to ws_loc\n",
        "\n",
        "ws_loc['net_col_df'] = net_col\n",
        "ws_loc['net_col_xl'] = net_col_xl\n",
        "ws_loc['net_col_letter'] = get_column_letter(net_col_xl)"
      ],
      "metadata": {
        "id": "PGtRUzjIMI2Z"
      },
      "id": "PGtRUzjIMI2Z",
      "execution_count": 101,
      "outputs": []
    },
    {
      "cell_type": "code",
      "execution_count": 102,
      "id": "1a36ba44",
      "metadata": {
        "id": "1a36ba44"
      },
      "outputs": [],
      "source": [
        "# from row 1\n",
        "row= 1\n",
        "# write  cellrange in excel at column net_col\n",
        "\n",
        "for i in range(0, len(cellrange)):\n",
        "    sheet.cell(row=row, column = net_col_xl).value= cellrange[i]\n",
        "    row=row+1\n",
        "\n",
        "# save\n",
        "wb.save('Budget_processed.xlsx') "
      ]
    },
    {
      "cell_type": "code",
      "source": [
        "for idx, row in enumerate(sheet['H1:R5']):\n",
        "    print(idx+1, [x.value for x in row])"
      ],
      "metadata": {
        "colab": {
          "base_uri": "https://localhost:8080/"
        },
        "id": "-lQRuHvChuRp",
        "outputId": "914411a6-978f-4485-eac7-a19fd8b019a4"
      },
      "id": "-lQRuHvChuRp",
      "execution_count": 103,
      "outputs": [
        {
          "output_type": "stream",
          "name": "stdout",
          "text": [
            "1 ['May Income', 'Jun Income', 'Total Income', 'Jan Expenditure', 'Feb Expenditure', 'Mar Expenditure', 'Apr Expenditure', 'May Expenditure', 'Jun Expenditure', 'Total Expenditure', 'Net']\n",
            "2 [7406.19, 5213.96, 37801.189999999995, 5178.13, 3883.6, 3534.08, 4240.9, 3731.99, 4217.15, 24785.85, 13015.34]\n",
            "3 [6280.45, 6576.69, 37741.93, 3913.87, 3835.59, 4410.93, 4058.06, 4220.38, 5064.46, 25503.29, 12238.64]\n",
            "4 [6161.95, 5924.95, 37623.44, 4386.71, 3377.77, 3411.55, 3206.86, 3399.27, 3229.31, 21011.47, 16611.97]\n",
            "5 [5984.2, 7169.19, 37208.69, 4840.73, 4743.92, 5692.7, 5123.43, 4867.26, 5500, 30768.04, 6440.65]\n"
          ]
        }
      ]
    },
    {
      "cell_type": "code",
      "execution_count": 104,
      "id": "72d77075-cb8b-456b-9a39-ce381f4ae1fa",
      "metadata": {
        "id": "72d77075-cb8b-456b-9a39-ce381f4ae1fa",
        "colab": {
          "base_uri": "https://localhost:8080/",
          "height": 186
        },
        "outputId": "9f11e84b-d700-4fbb-b00a-847acc9a5cca"
      },
      "outputs": [
        {
          "output_type": "display_data",
          "data": {
            "text/plain": [
              "<Figure size 864x720 with 1 Axes>"
            ],
            "image/png": "[encoded data removed]"
          },
          "metadata": {
            "needs_background": "light"
          }
        }
      ],
      "source": [
        "# display image\n",
        "img = mpimg.imread('images/img_3.PNG')\n",
        "plt.rcParams['figure.figsize'] = [12, 10]\n",
        "plt.imshow(img)\n",
        "plt.axis('off')\n",
        "plt.show()"
      ]
    },
    {
      "cell_type": "code",
      "execution_count": 105,
      "id": "ad52de6e-2ca0-4726-ada6-6bc8b1674279",
      "metadata": {
        "id": "ad52de6e-2ca0-4726-ada6-6bc8b1674279"
      },
      "outputs": [],
      "source": [
        "# save\n",
        "wb.save('Budget_processed.xlsx') \n"
      ]
    },
    {
      "cell_type": "code",
      "source": [
        "# download file from Drive to your local machine\n",
        "\n",
        "files.download(\"Budget_processed.xlsx\")"
      ],
      "metadata": {
        "colab": {
          "base_uri": "https://localhost:8080/",
          "height": 17
        },
        "id": "VQRezIIoF1IO",
        "outputId": "092bf597-6560-4e92-b4bf-43be97f6b7cb"
      },
      "id": "VQRezIIoF1IO",
      "execution_count": 106,
      "outputs": [
        {
          "output_type": "display_data",
          "data": {
            "text/plain": [
              "<IPython.core.display.Javascript object>"
            ],
            "application/javascript": [
              "\n",
              "    async function download(id, filename, size) {\n",
              "      if (!google.colab.kernel.accessAllowed) {\n",
              "        return;\n",
              "      }\n",
              "      const div = document.createElement('div');\n",
              "      const label = document.createElement('label');\n",
              "      label.textContent = `Downloading \"${filename}\": `;\n",
              "      div.appendChild(label);\n",
              "      const progress = document.createElement('progress');\n",
              "      progress.max = size;\n",
              "      div.appendChild(progress);\n",
              "      document.body.appendChild(div);\n",
              "\n",
              "      const buffers = [];\n",
              "      let downloaded = 0;\n",
              "\n",
              "      const channel = await google.colab.kernel.comms.open(id);\n",
              "      // Send a message to notify the kernel that we're ready.\n",
              "      channel.send({})\n",
              "\n",
              "      for await (const message of channel.messages) {\n",
              "        // Send a message to notify the kernel that we're ready.\n",
              "        channel.send({})\n",
              "        if (message.buffers) {\n",
              "          for (const buffer of message.buffers) {\n",
              "            buffers.push(buffer);\n",
              "            downloaded += buffer.byteLength;\n",
              "            progress.value = downloaded;\n",
              "          }\n",
              "        }\n",
              "      }\n",
              "      const blob = new Blob(buffers, {type: 'application/binary'});\n",
              "      const a = document.createElement('a');\n",
              "      a.href = window.URL.createObjectURL(blob);\n",
              "      a.download = filename;\n",
              "      div.appendChild(a);\n",
              "      a.click();\n",
              "      div.remove();\n",
              "    }\n",
              "  "
            ]
          },
          "metadata": {}
        },
        {
          "output_type": "display_data",
          "data": {
            "text/plain": [
              "<IPython.core.display.Javascript object>"
            ],
            "application/javascript": [
              "download(\"download_cd2b3615-1afe-4382-80ef-9e71f4249bdb\", \"Budget_processed.xlsx\", 235783)"
            ]
          },
          "metadata": {}
        }
      ]
    },
    {
      "cell_type": "markdown",
      "source": [
        "Update ws_loc after modifications"
      ],
      "metadata": {
        "id": "7_57a4WFBK7r"
      },
      "id": "7_57a4WFBK7r"
    },
    {
      "cell_type": "code",
      "source": [
        "ws_loc"
      ],
      "metadata": {
        "id": "5ZbubkLXhxE3",
        "outputId": "ca23bd9a-7050-475b-ef00-aff0ef9a5ef7",
        "colab": {
          "base_uri": "https://localhost:8080/"
        }
      },
      "id": "5ZbubkLXhxE3",
      "execution_count": 107,
      "outputs": [
        {
          "output_type": "execute_result",
          "data": {
            "text/plain": [
              "{'max_row': 1937,\n",
              " 'max_col': 15,\n",
              " 'df_shape': (1937, 15),\n",
              " 'ws_range': 'A1:O1938',\n",
              " 'start_point': 'A1',\n",
              " 'start_col': 'A',\n",
              " 'end_point': 'O1938',\n",
              " 'end_col': 'O',\n",
              " 'end_col_idx': 15,\n",
              " 'end_row': 1938,\n",
              " 'income_col': [3, 4, 5, 6, 7, 8],\n",
              " 'income_start': 3,\n",
              " 'income_end': 8,\n",
              " 'total_inc_df': 9,\n",
              " 'income_col_xl': [4, 5, 6, 7, 8, 9],\n",
              " 'income_Total_col_xl': 10,\n",
              " 'total_inc_col_letter_xl': 'J',\n",
              " 'expenditure_col': [10, 11, 12, 13, 14, 15],\n",
              " 'expenditure_start': 10,\n",
              " 'expenditure_end': 15,\n",
              " 'total_exp_df': 16,\n",
              " 'total_exp_xl': 17,\n",
              " 'total_exp_col_letter': 'Q',\n",
              " 'expenditure_col_xl': [11, 12, 13, 14, 15, 16],\n",
              " 'expenditure_start_xl': 11,\n",
              " 'expenditure_end_xl': 16,\n",
              " 'net_col_df': 17,\n",
              " 'net_col_xl': 18,\n",
              " 'net_col_letter': 'R'}"
            ]
          },
          "metadata": {},
          "execution_count": 107
        }
      ]
    },
    {
      "cell_type": "code",
      "source": [
        "# compute the range of the whole dataframe \n",
        "max_row, max_col = df.shape\n",
        "\n",
        "# the df range in excel \n",
        "ws_range = xl_range(0, # starting row\n",
        "                    0, # starting column\n",
        "                    max_row, \n",
        "                    max_col - 1)                 \n",
        "\n",
        "# end indices\n",
        "end_point = xl_rowcol_to_cell(max_row, max_col-1) # # coordinates of bottom right of df\n",
        "end_col = xl_col_to_name(max_col-1) # get the column letter for the last column\n",
        "end_col_idx = column_index_from_string(end_col)"
      ],
      "metadata": {
        "id": "oBJn899iBJvr"
      },
      "id": "oBJn899iBJvr",
      "execution_count": 108,
      "outputs": []
    },
    {
      "cell_type": "code",
      "source": [
        "ws_loc['max_col']= max_col\n",
        "ws_loc['df_shape'] = df.shape\n",
        "ws_loc['ws_range'] = ws_range\n",
        "ws_loc['end_point'] = end_point\n",
        "ws_loc['end_col'] = end_col\n",
        "ws_loc['end_col_idx'] = end_col_idx\n",
        "\n",
        "ws_loc"
      ],
      "metadata": {
        "colab": {
          "base_uri": "https://localhost:8080/"
        },
        "id": "4U38PgLCJUAt",
        "outputId": "e03b5ba2-03a3-4fbd-ce08-4259df58bb44"
      },
      "id": "4U38PgLCJUAt",
      "execution_count": 109,
      "outputs": [
        {
          "output_type": "execute_result",
          "data": {
            "text/plain": [
              "{'max_row': 1937,\n",
              " 'max_col': 18,\n",
              " 'df_shape': (1937, 18),\n",
              " 'ws_range': 'A1:R1938',\n",
              " 'start_point': 'A1',\n",
              " 'start_col': 'A',\n",
              " 'end_point': 'R1938',\n",
              " 'end_col': 'R',\n",
              " 'end_col_idx': 18,\n",
              " 'end_row': 1938,\n",
              " 'income_col': [3, 4, 5, 6, 7, 8],\n",
              " 'income_start': 3,\n",
              " 'income_end': 8,\n",
              " 'total_inc_df': 9,\n",
              " 'income_col_xl': [4, 5, 6, 7, 8, 9],\n",
              " 'income_Total_col_xl': 10,\n",
              " 'total_inc_col_letter_xl': 'J',\n",
              " 'expenditure_col': [10, 11, 12, 13, 14, 15],\n",
              " 'expenditure_start': 10,\n",
              " 'expenditure_end': 15,\n",
              " 'total_exp_df': 16,\n",
              " 'total_exp_xl': 17,\n",
              " 'total_exp_col_letter': 'Q',\n",
              " 'expenditure_col_xl': [11, 12, 13, 14, 15, 16],\n",
              " 'expenditure_start_xl': 11,\n",
              " 'expenditure_end_xl': 16,\n",
              " 'net_col_df': 17,\n",
              " 'net_col_xl': 18,\n",
              " 'net_col_letter': 'R'}"
            ]
          },
          "metadata": {},
          "execution_count": 109
        }
      ]
    },
    {
      "cell_type": "markdown",
      "id": "c8cf4628",
      "metadata": {
        "id": "c8cf4628"
      },
      "source": [
        "# 6.&nbsp;Overview"
      ]
    },
    {
      "cell_type": "raw",
      "id": "b10a0074-faa1-45b8-b798-dc717d762a77",
      "metadata": {
        "id": "b10a0074-faa1-45b8-b798-dc717d762a77"
      },
      "source": [
        "Now we'd like to work on the overview part"
      ]
    },
    {
      "cell_type": "markdown",
      "source": [
        "The OVERVIEW df will contain:\n",
        "\n",
        "1.  Row with months, by Income + 'Total' and Expenditure +  'Total'\n",
        "2.  Row with headers, wether it's Income or Exp\n",
        "3.  Rows l(4) for every **Business** (B2B, B2C1, B2C_2, Fleet) with totals for every month for Income and Expenditure + total of totals for Income and Expenditure\n",
        "4.  Row Monthly Total (Totals by month, accros all businesses), by Inc and Exp\n",
        "5.  Row with M2M evolution ( % evolution from month to month,  by Income and Expenditure\n",
        "6.  Row with a cell values of Previous Month Total for Inc and Exp + cells with string Prior\n",
        "7.  strings in the 1st column: Month, Motnhly total, M2M evoltion, each Business category\n",
        "8.  Insert the overview part in the sheet 'Data' at the top of the sheet\n"
      ],
      "metadata": {
        "id": "27Ki52Buvq8R"
      },
      "id": "27Ki52Buvq8R"
    },
    {
      "cell_type": "code",
      "execution_count": null,
      "id": "6d13e061-8cbd-4721-9c13-3c5137380116",
      "metadata": {
        "id": "6d13e061-8cbd-4721-9c13-3c5137380116"
      },
      "outputs": [],
      "source": [
        "# overview part\n",
        "img = mpimg.imread('images/img_4.PNG')\n",
        "plt.rcParams['figure.figsize'] = [18, 14]\n",
        "plt.imshow(img)\n",
        "\n",
        "plt.axis('off')\n",
        "plt.show()"
      ]
    },
    {
      "cell_type": "code",
      "source": [
        "# orange:  for header + month+ TOTAL\n",
        "# yellow: totals by month for each business\n",
        "# red:  totals by monhtù + total across businesses\n",
        "# blue: M2M ev ==> % change\n",
        "# purple+ green : eaders for rows\n",
        "\n",
        "img = mpimg.imread('images/img_6.PNG')\n",
        "plt.imshow(img)\n",
        "plt.rcParams['figure.figsize'] = [12, 10]\n",
        "plt.axis('off')\n",
        "plt.show()"
      ],
      "metadata": {
        "id": "DM0PR96uCFFF"
      },
      "id": "DM0PR96uCFFF",
      "execution_count": null,
      "outputs": []
    },
    {
      "cell_type": "raw",
      "id": "e87febd9-2d41-4d17-9efb-6355856623cc",
      "metadata": {
        "id": "e87febd9-2d41-4d17-9efb-6355856623cc"
      },
      "source": [
        "First, we'll create a new sheet \"Overview\" where we'll work on Overview part data\n",
        "\n",
        "Once it's done, we will copy / insert it in the 1st rows, above \"Data\" df, in the sheet 'Data'"
      ]
    },
    {
      "cell_type": "code",
      "source": [
        "# check the workbook sheet\n",
        "print(wb.sheetnames)"
      ],
      "metadata": {
        "id": "3BuR2ZOOn3OB"
      },
      "id": "3BuR2ZOOn3OB",
      "execution_count": null,
      "outputs": []
    },
    {
      "cell_type": "code",
      "source": [
        "# remove the sheet\n",
        "#rm = wb['Overview']\n",
        "#wb.remove(rm)"
      ],
      "metadata": {
        "id": "HjZpnmbnnn1f"
      },
      "id": "HjZpnmbnnn1f",
      "execution_count": null,
      "outputs": []
    },
    {
      "cell_type": "code",
      "execution_count": null,
      "id": "0de6cb42",
      "metadata": {
        "id": "0de6cb42"
      },
      "outputs": [],
      "source": [
        "# create sheet 'Overview'\n",
        "\n",
        "wb.create_sheet(title='Overview')\n",
        "\n",
        "overview= wb['Overview'] # create reference to the sheet# delete a sheet\n",
        "\n",
        "# check the workbook sheet\n",
        "print(wb.sheetnames)\n",
        "\n",
        "# save the new workbook \n",
        "wb.save('Budget_processed.xlsx')"
      ]
    },
    {
      "cell_type": "raw",
      "id": "56705758",
      "metadata": {
        "id": "56705758"
      },
      "source": [
        "## 6.1&nbsp;Months"
      ]
    },
    {
      "cell_type": "raw",
      "id": "40711ea1-0723-40ff-9c88-06622cf3b9c0",
      "metadata": {
        "id": "40711ea1-0723-40ff-9c88-06622cf3b9c0"
      },
      "source": [
        "Get all the months present in the excel"
      ]
    },
    {
      "cell_type": "code",
      "execution_count": null,
      "id": "cab44d0a",
      "metadata": {
        "id": "cab44d0a"
      },
      "outputs": [],
      "source": [
        "# identify column index for column with Income\n",
        "months=[]\n",
        "for month in df.columns:\n",
        "    if 'Income' in month:\n",
        "        months.append(month)\n",
        "print(months) # you can inspect all variables created to this point\n",
        "# by clicking icon Variables {x} in the Table of contents section"
      ]
    },
    {
      "cell_type": "code",
      "source": [
        "# map function allows to apply a function in an iteration\n",
        "\n",
        "def myfunc(a):\n",
        "  return len(a)\n",
        "\n",
        "x = map(myfunc, ('apple', 'banana', 'cherry'))\n",
        "\n",
        "print(x) # the output will be a map object\n",
        "\n",
        "# convert the map into a list, for readability:\n",
        "print(list(x))"
      ],
      "metadata": {
        "id": "Z_8RVIff3YuD"
      },
      "id": "Z_8RVIff3YuD",
      "execution_count": null,
      "outputs": []
    },
    {
      "cell_type": "code",
      "execution_count": null,
      "id": "8e640e56",
      "metadata": {
        "id": "8e640e56"
      },
      "outputs": [],
      "source": [
        "# remove the substring ' Income' from the list items \"months\"\n",
        "# then \"map\" them with months ==> apply the removing of 'Income' to the list <months>\n",
        "# convert it to a list\n",
        "\n",
        "months = list(map(lambda x: x.replace(' Income',''), months)) # map function allows to apply a function in an iteration\n",
        "print('nb of months: ', len(months))\n",
        "\n",
        "# save in variable nb_months the nb of monthe\n",
        "nb_months = len(months)\n",
        "\n",
        "print('')\n",
        "print('We will have the same months for in our Data for INcome, and Expenditure as well')\n",
        "months\n"
      ]
    },
    {
      "cell_type": "markdown",
      "source": [
        "## 6.2&nbsp;Headers Income or Expenditure"
      ],
      "metadata": {
        "id": "gF8ZeCCT5aKx"
      },
      "id": "gF8ZeCCT5aKx"
    },
    {
      "cell_type": "raw",
      "id": "7473df3d",
      "metadata": {
        "id": "7473df3d"
      },
      "source": [
        "### Income"
      ]
    },
    {
      "cell_type": "code",
      "execution_count": null,
      "id": "468fc843",
      "metadata": {
        "id": "468fc843"
      },
      "outputs": [],
      "source": [
        "# create a list where the string \"INCOME\" will be repeated 7 times\n",
        "# we multiply ['INCOME'] by the length of months (here 7) \n",
        "\n",
        "list_income= ['INCOME']* (nb_months) # create a list that will contain the string Income x nb_months times\n",
        "print(len(list_income))\n",
        "list_income"
      ]
    },
    {
      "cell_type": "code",
      "execution_count": null,
      "id": "d4d19d27",
      "metadata": {
        "id": "d4d19d27"
      },
      "outputs": [],
      "source": [
        "# we'll do a nested list \"list_inc_2\" that will contain both lists:\n",
        "# list_income AND months + Total\n",
        "\n",
        "list_inc_2 = [list_income, months]\n",
        "print(len(list_inc_2[0])) # each sub_list will have 7 elements\n",
        "print(list_inc_2)"
      ]
    },
    {
      "cell_type": "raw",
      "id": "05890735",
      "metadata": {
        "id": "05890735"
      },
      "source": [
        "### Expenditure"
      ]
    },
    {
      "cell_type": "raw",
      "id": "b767f2ae-9a22-46d6-baea-b4410123c6ba",
      "metadata": {
        "id": "b767f2ae-9a22-46d6-baea-b4410123c6ba"
      },
      "source": [
        "Let's do the same for Expenditure.."
      ]
    },
    {
      "cell_type": "code",
      "execution_count": null,
      "id": "af1e057e",
      "metadata": {
        "id": "af1e057e"
      },
      "outputs": [],
      "source": [
        "list_expenditure= ['Expenditure']*(nb_months)\n",
        "list_exp_2 = [list_expenditure, months]\n",
        "print(len(list_exp_2[0])) # each sub_list will have 7 elements\n",
        "print(list_exp_2)"
      ]
    },
    {
      "cell_type": "raw",
      "id": "4f3174df-3bd1-489e-bc62-60214e3b74f2",
      "metadata": {
        "id": "4f3174df-3bd1-489e-bc62-60214e3b74f2"
      },
      "source": [
        "**zip() function**\n",
        "\n",
        "\n",
        "The zip() function takes iterables (can be zero or more), aggregates them in a tuple, and returns it. (it's like combining items from both lists)"
      ]
    },
    {
      "cell_type": "code",
      "execution_count": null,
      "id": "cb75c72e-3b45-4934-afcd-8d08e247a81e",
      "metadata": {
        "id": "cb75c72e-3b45-4934-afcd-8d08e247a81e"
      },
      "outputs": [],
      "source": [
        "# example of zip() function\n",
        "languages = ['Expenditure', 'Expenditure']\n",
        "versions = ['Jan', 'Feb']\n",
        "\n",
        "result = zip(languages, versions)\n",
        "print(list(result))"
      ]
    },
    {
      "cell_type": "code",
      "execution_count": null,
      "id": "475ce104-cdf3-4fbf-85c5-0a2981209002",
      "metadata": {
        "id": "475ce104-cdf3-4fbf-85c5-0a2981209002"
      },
      "outputs": [],
      "source": [
        "# combine 2 nested lists list_inc_2 and list_exp_2\n",
        "# and put it in a list\n",
        "\n",
        "# the output of a zip is a tuple\n",
        "# but as we put it in a list..\n",
        "# the final output here will be a list, containing 2 tuples, each tuple containing 2 lists:...\n",
        "#  ...headers 'Income' and months + Total and headers Expenditure and months + Total\n",
        "list(zip(list_inc_2, list_exp_2))"
      ]
    },
    {
      "cell_type": "code",
      "execution_count": null,
      "id": "9331ae22",
      "metadata": {
        "id": "9331ae22"
      },
      "outputs": [],
      "source": [
        "# let's do the same with list_inc_2, list_exp_2\n",
        "# but will modify a little bit, so in final we'll have lists and not tuples\n",
        "# and also we will flatten/ merge to obtain a single list by tuple\n",
        "# finally we will obtain a nested list inc_exp\n",
        "\n",
        "inc_exp = [a + b for a, b in zip(list_inc_2, list_exp_2)]\n",
        "inc_exp #the final output a nested list, containing 2 sublist: ...\n",
        "# ...all headers INcome + Exp and all month + Total respectively"
      ]
    },
    {
      "cell_type": "raw",
      "id": "0da40b58",
      "metadata": {
        "id": "0da40b58"
      },
      "source": [
        "Add the Inc, Exp names rows and months rows to overview"
      ]
    },
    {
      "cell_type": "code",
      "execution_count": null,
      "id": "acc9b244",
      "metadata": {
        "id": "acc9b244"
      },
      "outputs": [],
      "source": [
        "# compute dimensions of the nested list\n",
        "\n",
        "for subl in inc_exp:\n",
        "  print(subl)\n",
        "\n",
        "# how many itmes in nested list\n",
        "maxr = len(inc_exp) # the lenght of the nested list \n",
        "\n",
        "# how many subitmes in each sublist within the nested list\n",
        "maxc = len(inc_exp[0]) # the lenght of sublist in the nested list\n",
        "\n",
        "print('')\n",
        "print('dimensions of our nested list inc_exp: ... ')\n",
        "print(maxr , maxc)"
      ]
    },
    {
      "cell_type": "code",
      "execution_count": null,
      "id": "282a22fa",
      "metadata": {
        "id": "282a22fa"
      },
      "outputs": [],
      "source": [
        "# write this nested list to excel, in the sheet overview by iteration\n",
        "\n",
        "# iterate each rows\n",
        "for this_row in range (1, maxr + 1):# add + 1, beacause we want to include the upper limit\n",
        "    # for each row, iterate through each col \n",
        "    for this_column in range (1, maxc + 1): # add + 1, beacause we want to include the upper limit\n",
        "        #print(this_row) ==> at the first iteration will have the row 1\n",
        "        #print(this_column) => while the iteration of the 1st row will not be finisshed, we will iterate through columns, that will change incrementally\n",
        "        cellsource = inc_exp[this_row-1][this_column-1] # in the nested list <<inc_exp>> get the right indices (so in 1st iteration: inc_exp[0][0]....\n",
        "                                                       #  then this indices will increment [0][1] => [0][2] => ... [1][0], [1][1]...)   \n",
        "                                                       # so the var <<cellsource>> will get dynamically the values of inc_exp at respective indices\n",
        "        overview.cell(row = this_row+1, column = this_column+1).value = cellsource # then write this value in the ws \"overview\" at cell ref(row= +1, column= + 1)\n",
        "        # we're adding +1 for rows and cols because we want to leave space for 'Prior Month' row\n",
        "        # and + 1 for row, because we want to leave some space in the 1st col, where we will add some rowheaders later\n",
        "\n",
        "# see what was written\n",
        "for idx,row in enumerate(overview[\"A1:O3\"]):\n",
        "    print (idx+1, [x.value for x in row])"
      ]
    },
    {
      "cell_type": "code",
      "execution_count": null,
      "id": "fc20ce97-0988-47d0-ad37-36bf4189f723",
      "metadata": {
        "id": "fc20ce97-0988-47d0-ad37-36bf4189f723"
      },
      "outputs": [],
      "source": [
        "# we have added first 2 rows (headers Income + Exp and Months + Total) for the Overview part\n",
        "# row nb 2, col B\n",
        "\n",
        "img = mpimg.imread('images/img_5.PNG')\n",
        "plt.imshow(img)\n",
        "plt.rcParams['figure.figsize'] = [12, 10]\n",
        "plt.axis('off')\n",
        "plt.show()"
      ]
    },
    {
      "cell_type": "code",
      "execution_count": null,
      "id": "d9524503",
      "metadata": {
        "id": "d9524503"
      },
      "outputs": [],
      "source": [
        "# save the new workbook \n",
        "wb.save('Budget_processed.xlsx')"
      ]
    },
    {
      "cell_type": "markdown",
      "id": "76bae854",
      "metadata": {
        "id": "76bae854"
      },
      "source": [
        "## 6.3&nbsp;Monthly totals by business"
      ]
    },
    {
      "cell_type": "code",
      "execution_count": null,
      "id": "1041bbb6-c5ee-4c91-a97b-bf4b32bd4f04",
      "metadata": {
        "id": "1041bbb6-c5ee-4c91-a97b-bf4b32bd4f04"
      },
      "outputs": [],
      "source": [
        "# total by busines type by month (yellow), split afterwards by INCOME and EXP\n",
        "\n",
        "img = mpimg.imread('images/img_6.PNG')\n",
        "plt.imshow(img)\n",
        "plt.rcParams['figure.figsize'] = [12, 10]\n",
        "plt.axis('off')\n",
        "plt.show()"
      ]
    },
    {
      "cell_type": "raw",
      "id": "8e7b870b-d479-4206-8b76-8e982909b99b",
      "metadata": {
        "id": "8e7b870b-d479-4206-8b76-8e982909b99b"
      },
      "source": [
        "### Income by Business"
      ]
    },
    {
      "cell_type": "code",
      "source": [
        "# columns name in df\n",
        "\n",
        "df.columns"
      ],
      "metadata": {
        "id": "uUuCtdyXOWwS"
      },
      "id": "uUuCtdyXOWwS",
      "execution_count": null,
      "outputs": []
    },
    {
      "cell_type": "code",
      "execution_count": null,
      "id": "fc1b74c5",
      "metadata": {
        "id": "fc1b74c5"
      },
      "outputs": [],
      "source": [
        "# In df, identify column index for column with Income, without Total\n",
        "\n",
        "# first all\n",
        "income_months=[]\n",
        "for month in df.columns:\n",
        "    if 'Income' in month:\n",
        "        income_months.append(month)\n",
        "print(income_months) # all Incomes\n"
      ]
    },
    {
      "cell_type": "code",
      "source": [
        "# remove 'Total Income' from the list\n",
        "income_months.remove('Total Income')\n",
        "print(income_months)"
      ],
      "metadata": {
        "id": "FAH69VQiOgs7"
      },
      "id": "FAH69VQiOgs7",
      "execution_count": null,
      "outputs": []
    },
    {
      "cell_type": "code",
      "source": [
        "# reminder of df\n",
        "df.head()"
      ],
      "metadata": {
        "id": "DGdXjIbWEGTB"
      },
      "id": "DGdXjIbWEGTB",
      "execution_count": null,
      "outputs": []
    },
    {
      "cell_type": "code",
      "source": [
        "# Distinct Business categories\n",
        "df.Business.unique()"
      ],
      "metadata": {
        "id": "tSVkPS83ENb1"
      },
      "id": "tSVkPS83ENb1",
      "execution_count": null,
      "outputs": []
    },
    {
      "cell_type": "code",
      "execution_count": null,
      "id": "b3a776c0",
      "metadata": {
        "id": "b3a776c0"
      },
      "outputs": [],
      "source": [
        "# comute totals by business group for income\n",
        "\n",
        "# first create a df= business_income where it will group by business for each month\n",
        "\n",
        "## use groupby method\n",
        "\n",
        "#### we want to group by criteria Business\n",
        "#### and all columns that are in list \"income_moths\"\n",
        "print('income_months:', income_months)\n",
        "print('')\n",
        "\n",
        "### and we want to use the aggregation sum()\n",
        "\n",
        "print('grouped df by Busines: ...')\n",
        "business_income = round(df.groupby(['Business'])[income_months].sum(), 2)\n",
        "\n",
        "# final df of grouping by BUsiness, and suming each month...for INCOME\n",
        "\n",
        "business_income"
      ]
    },
    {
      "cell_type": "code",
      "execution_count": null,
      "id": "5fbbb8ee-5c4e-49b3-b956-30537652e585",
      "metadata": {
        "id": "5fbbb8ee-5c4e-49b3-b956-30537652e585"
      },
      "outputs": [],
      "source": [
        "# add a columns where total for all months for income will be computed\n",
        "\n",
        "## in our df \"business_income\", add a new column \"Total Income\"\n",
        "## \"Total Income\" will be the sum of col 'Jan Income', 'Feb Income', 'Mar Income', 'Apr Income', 'May Income', 'Jun Income' for each row\n",
        "business_income['Total Income'] = round(business_income.sum(axis=1), 2) # axis=1 columns\n",
        "business_income"
      ]
    },
    {
      "cell_type": "raw",
      "id": "2824b8b0-b05c-4c30-813d-9ced2b0459f9",
      "metadata": {
        "id": "2824b8b0-b05c-4c30-813d-9ced2b0459f9"
      },
      "source": [
        "### Expenditure by Business"
      ]
    },
    {
      "cell_type": "code",
      "execution_count": null,
      "id": "d5874e3e",
      "metadata": {
        "id": "d5874e3e"
      },
      "outputs": [],
      "source": [
        "# identify column index for column with Income\n",
        "exp_months=[]\n",
        "for month in df.columns:\n",
        "    if 'Expenditure' in month:\n",
        "        exp_months.append(month)\n",
        "        \n",
        "# remove 'Total Income' from the list\n",
        "exp_months.remove('Total Expenditure')\n",
        "print(exp_months)"
      ]
    },
    {
      "cell_type": "code",
      "execution_count": null,
      "id": "2e2a1fd4",
      "metadata": {
        "id": "2e2a1fd4"
      },
      "outputs": [],
      "source": [
        "business_exp = round(df.groupby(['Business'])[exp_months].sum(), 2)\n",
        "business_exp['Total Expenditure'] = round(business_exp.sum(axis=1), 2)\n",
        "business_exp"
      ]
    },
    {
      "cell_type": "code",
      "execution_count": null,
      "id": "fe8459a3",
      "metadata": {
        "id": "fe8459a3"
      },
      "outputs": [],
      "source": [
        "# join the 2 df, side by side horizontally\n",
        "business_df = pd.concat([business_income, business_exp], axis=1) #axis=1 ==>columns\n",
        "business_df"
      ]
    },
    {
      "cell_type": "code",
      "execution_count": null,
      "id": "bf3c6c95-1c09-4dd3-9ee7-23cd1a1f732d",
      "metadata": {
        "id": "bf3c6c95-1c09-4dd3-9ee7-23cd1a1f732d"
      },
      "outputs": [],
      "source": [
        "# we groupby by busines (the yellow part)\n",
        "# review scrrenshot !!!!\n",
        "img = mpimg.imread('images/img_6.PNG')\n",
        "plt.rcParams['figure.figsize'] = [14, 14]\n",
        "plt.imshow(img)\n",
        "\n",
        "plt.axis('off')\n",
        "plt.show()"
      ]
    },
    {
      "cell_type": "markdown",
      "source": [
        "## 6.4&nbsp;Row Monthly Total"
      ],
      "metadata": {
        "id": "HsF9rBc_H7ha"
      },
      "id": "HsF9rBc_H7ha"
    },
    {
      "cell_type": "code",
      "source": [
        "# MonthlyTotal (red part)\n",
        "# review scrrenshot !!!!\n",
        "img = mpimg.imread('images/img_6.PNG')\n",
        "plt.imshow(img)\n",
        "plt.rcParams['figure.figsize'] = [14, 14]\n",
        "plt.axis('off')\n",
        "plt.show()"
      ],
      "metadata": {
        "id": "1WX76qc5JKjA"
      },
      "id": "1WX76qc5JKjA",
      "execution_count": null,
      "outputs": []
    },
    {
      "cell_type": "raw",
      "id": "5779ecbb-c205-41d7-b027-9c09ae3fccfe",
      "metadata": {
        "id": "5779ecbb-c205-41d7-b027-9c09ae3fccfe"
      },
      "source": [
        " Totals by month, accros all businesses, by Inc and Exp ==> Get the totals by rows for each columns of business_df (yellow part)"
      ]
    },
    {
      "cell_type": "code",
      "source": [
        "business_df.head(3)"
      ],
      "metadata": {
        "id": "uG4TVE-DIR_d"
      },
      "id": "uG4TVE-DIR_d",
      "execution_count": null,
      "outputs": []
    },
    {
      "cell_type": "code",
      "execution_count": null,
      "id": "7db9e434",
      "metadata": {
        "id": "7db9e434"
      },
      "outputs": [],
      "source": [
        "# get all col names in a list\n",
        "\n",
        "business_col = business_df.columns.to_list()\n",
        "business_col"
      ]
    },
    {
      "cell_type": "code",
      "execution_count": null,
      "id": "981e0d32",
      "metadata": {
        "id": "981e0d32"
      },
      "outputs": [],
      "source": [
        "# get Total by Month (in column)\n",
        "\n",
        "monthly_total = round(business_df[business_col].sum(axis=0), 2)\n",
        "print(len(monthly_total))\n",
        "monthly_total"
      ]
    },
    {
      "cell_type": "markdown",
      "source": [
        "## 6.5&nbsp;M2M evolution"
      ],
      "metadata": {
        "id": "bVtQVHIHJbl0"
      },
      "id": "bVtQVHIHJbl0"
    },
    {
      "cell_type": "code",
      "source": [
        "# M2m evolution (% change from month to month) ==> blue part\n",
        "\n",
        "img = mpimg.imread('images/img_6.PNG')\n",
        "plt.imshow(img)\n",
        "plt.rcParams['figure.figsize'] = [12, 10]\n",
        "plt.axis('off')\n",
        "plt.show()"
      ],
      "metadata": {
        "id": "yY7IfGelK7id"
      },
      "id": "yY7IfGelK7id",
      "execution_count": null,
      "outputs": []
    },
    {
      "cell_type": "code",
      "source": [
        "# reminder of our monthly total (red part)\n",
        "monthly_total"
      ],
      "metadata": {
        "id": "4KcWXM4hKFzj"
      },
      "id": "4KcWXM4hKFzj",
      "execution_count": null,
      "outputs": []
    },
    {
      "cell_type": "code",
      "source": [
        "# make a copy pf monthly_total and save it as ev\n",
        "\n",
        "ev = monthly_total.copy()\n",
        "\n",
        "# as we don't want to include in our pct change evo Total Income, and TOtal Exp\n",
        "# we will assign then None value\n",
        "\n",
        "ev['Total Income'] = None\n",
        "ev['Total Expenditure'] = None\n",
        "ev"
      ],
      "metadata": {
        "id": "PZH8Hf8XSmVE"
      },
      "id": "PZH8Hf8XSmVE",
      "execution_count": null,
      "outputs": []
    },
    {
      "cell_type": "code",
      "source": [
        "# compute % ev from M2M\n",
        "ev = round(ev.pct_change(fill_method='ffill'), 4)\n",
        "print(ev)\n",
        "# this will return Nan for the 1st item, and there where we had None, the output will be 0\n",
        "\n",
        "print('')\n",
        "print('it will compute the evolution in % from month to month ')\n",
        "print('')\n",
        "print('pay attention to Total Income, Jan Exp and Total Exp')\n",
        "\n"
      ],
      "metadata": {
        "id": "79PcI0MWTxx8"
      },
      "id": "79PcI0MWTxx8",
      "execution_count": null,
      "outputs": []
    },
    {
      "cell_type": "code",
      "execution_count": null,
      "id": "0fedf849",
      "metadata": {
        "id": "0fedf849"
      },
      "outputs": [],
      "source": [
        "# replace with None\n",
        "\n",
        "ev['Total Income'] = None\n",
        "ev['Jan Expenditure'] = None\n",
        "ev['Total Expenditure'] = None\n",
        "ev"
      ]
    },
    {
      "cell_type": "code",
      "execution_count": null,
      "id": "c4b619e4-e1a2-443a-ae78-8e12eecd1f89",
      "metadata": {
        "id": "c4b619e4-e1a2-443a-ae78-8e12eecd1f89"
      },
      "outputs": [],
      "source": [
        "# we have computed evolution from month to month, that further (when formating) will be formated as a %\n",
        "# the blue part\n",
        "\n",
        "img = mpimg.imread('images/img_6.PNG')\n",
        "plt.imshow(img)\n",
        "plt.rcParams['figure.figsize'] = [12, 10]\n",
        "plt.axis('off')\n",
        "plt.show()"
      ]
    },
    {
      "cell_type": "markdown",
      "metadata": {
        "id": "f4a5a4e2"
      },
      "source": [
        "## 6.5&nbsp;Previous Month "
      ],
      "id": "f4a5a4e2"
    },
    {
      "cell_type": "code",
      "execution_count": null,
      "metadata": {
        "id": "a8484a32-bdff-4ad2-a4c0-475f9f6386fd"
      },
      "outputs": [],
      "source": [
        "# Previous month lime color\n",
        "\n",
        "img = mpimg.imread('images/img_6.PNG')\n",
        "plt.imshow(img)\n",
        "plt.rcParams['figure.figsize'] = [12, 10]\n",
        "plt.axis('off')\n",
        "plt.show()"
      ],
      "id": "a8484a32-bdff-4ad2-a4c0-475f9f6386fd"
    },
    {
      "cell_type": "code",
      "execution_count": null,
      "metadata": {
        "id": "b56f0f48"
      },
      "outputs": [],
      "source": [
        "# compute previous month ....\n",
        "\n",
        "## find the previous month in the list <<months>>, knowing that 'Total' should be ommitted\n",
        "\n",
        "print(months)\n",
        "\n",
        "## if we ommit Total element (that has the index -1) , the last month has the index -2, than the previous month will have the index -3\n",
        "\n",
        "## save previous month in the variable previou_month\n",
        "previous_month = months[-3]\n",
        "previous_month\n",
        "#months.index(previous_month)"
      ],
      "id": "b56f0f48"
    },
    {
      "cell_type": "markdown",
      "source": [
        "### Income"
      ],
      "metadata": {
        "id": "mOKuy5fYO42c"
      },
      "id": "mOKuy5fYO42c"
    },
    {
      "cell_type": "code",
      "source": [
        "business_df"
      ],
      "metadata": {
        "id": "QQVeDg01QNfU"
      },
      "id": "QQVeDg01QNfU",
      "execution_count": null,
      "outputs": []
    },
    {
      "cell_type": "code",
      "source": [
        "business_df.columns"
      ],
      "metadata": {
        "id": "XNw6ARQQQJqY"
      },
      "id": "XNw6ARQQQJqY",
      "execution_count": null,
      "outputs": []
    },
    {
      "cell_type": "code",
      "execution_count": null,
      "metadata": {
        "id": "58a51085"
      },
      "outputs": [],
      "source": [
        "# compute the range uptil the previous month for INCOME\n",
        "\n",
        "inc_idx= [] # create empty list where we will store indices where we're havine Income\n",
        "range_end = [] # create empty list where we will save the range_end of these indices\n",
        "\n",
        "# in the income columns\n",
        "for idx, col in enumerate(business_df.columns): # iterate df columns with enumaration to get the index and the iterable (col name)\n",
        "    if 'Income' in col: # if col has 'Income' in it\n",
        "        inc_idx.append(idx) # then add its index to inc_idx (index start at 0)\n",
        "        if previous_month in col: # if previous month is in col names\n",
        "              range_end= idx # then range_end value will be assigned with value of id\n",
        "                \n",
        "print(\"Income starts at index:\", min(inc_idx)) # 1st index of column that contain Income\n",
        "print(\"index for previous month for Income \",  range_end) # index where we get to previous month\n",
        "print('')\n",
        "\n",
        "# list that will contain 2 indices: 1st index for Income, 2nd Index of Income for Previous month\n",
        "range_prev_inc = [min(inc_idx), range_end]\n",
        "print(range_prev_inc) # uptil May"
      ],
      "id": "58a51085"
    },
    {
      "cell_type": "code",
      "execution_count": null,
      "metadata": {
        "id": "9d05e3f9"
      },
      "outputs": [],
      "source": [
        "# what we get up to May using the computed indices\n",
        "business_df.iloc[:, min(inc_idx):range_end+1] # +1 as in range do not include upper limit"
      ],
      "id": "9d05e3f9"
    },
    {
      "cell_type": "code",
      "execution_count": null,
      "metadata": {
        "id": "d9a8f380"
      },
      "outputs": [],
      "source": [
        "# first sum all columns\n",
        "# 2nd sum all rows\n",
        "\n",
        "previous_income = business_df.iloc[:, # all rows\n",
        "                                   # columns that start at inc_idx (0) and end at range_end+1 (5) ..we add + 1 because upper limit not included\n",
        "                                   min(inc_idx):range_end+1].sum(axis=1).sum() # sum of columns axis =1 ==> columns axis\n",
        "\n",
        "# the total Income till the previous month                                  \n",
        "previous_income"
      ],
      "id": "d9a8f380"
    },
    {
      "cell_type": "code",
      "execution_count": null,
      "metadata": {
        "id": "4b9e38a3"
      },
      "outputs": [],
      "source": [
        "# Write this value 'Prior' in excel\n",
        "\n",
        "# first we need to identify the coordinates where to copy the value\n",
        "# we know that this cell will be above Total Columns (Total Income and TOtal Expenditure)\n",
        "\n",
        "# Previous month lime color\n",
        "\n",
        "img = mpimg.imread('images/img_6.PNG')\n",
        "plt.imshow(img)\n",
        "plt.rcParams['figure.figsize'] = [12, 10]\n",
        "plt.axis('off')\n",
        "plt.show()"
      ],
      "id": "4b9e38a3"
    },
    {
      "cell_type": "code",
      "execution_count": null,
      "metadata": {
        "id": "d3b3514a"
      },
      "outputs": [],
      "source": [
        "# columns nb where we have totals (Income & Expenditure) in overview sheet\n",
        "\n",
        "total_col = []\n",
        "# find column number of column that = Total\n",
        "for i in range(1, overview.max_column+1):# without + 1\n",
        "    ref = overview.cell(row=3, column=i)\n",
        "    if ref.value == 'Total':\n",
        "        total_col.append(ref.column)\n",
        "        print('the column nb for Total is: ', ref.column)\n",
        "\n",
        "# indices inf overview sheet where we're having Totals\n",
        "print(total_col)"
      ],
      "id": "d3b3514a"
    },
    {
      "cell_type": "code",
      "execution_count": null,
      "metadata": {
        "id": "0944c3de"
      },
      "outputs": [],
      "source": [
        "# check the column letter for Previous Totals Income\n",
        "print('the column where to add Previous Total for INCOME', get_column_letter(total_col[0]))\n",
        "\n",
        "# check cell ref for value of Previous Total Income\n",
        "row = 1 # row nb where to paste previous income value\n",
        "ref = str(get_column_letter(total_col[0])) + str(row) # get the cell ref\n",
        "\n",
        "print('the cell reference where to add Previous Total for INCOME', ref)"
      ],
      "id": "0944c3de"
    },
    {
      "cell_type": "code",
      "execution_count": null,
      "metadata": {
        "id": "7369e3a9"
      },
      "outputs": [],
      "source": [
        "# write it in Excel using ref\n",
        "overview[ref] = round(previous_income,2)\n",
        "overview[ref].value"
      ],
      "id": "7369e3a9"
    },
    {
      "cell_type": "code",
      "source": [
        "# check excel\n",
        "for idx, row in enumerate(overview):\n",
        "   print(idx+1, [x.value for x in row])\n",
        "  "
      ],
      "metadata": {
        "id": "Zjt3P1mKUrzU"
      },
      "id": "Zjt3P1mKUrzU",
      "execution_count": null,
      "outputs": []
    },
    {
      "cell_type": "code",
      "execution_count": null,
      "metadata": {
        "id": "95fa4d5f"
      },
      "outputs": [],
      "source": [
        "# add string Prior month next to the value of Previous month of Income\n",
        "\n",
        "print(total_col) # columns that have Totals\n",
        "row = 1\n",
        "ref = str(get_column_letter(total_col[0]-1)) + str(row) # get the ref cel for row 1, and col = element with idx from total_col[0] -1\n",
        "print(ref)\n",
        "overview[ref] = 'Prior'\n",
        "overview[ref].value"
      ],
      "id": "95fa4d5f"
    },
    {
      "cell_type": "code",
      "execution_count": null,
      "metadata": {
        "id": "5caf1aea-34e2-41a8-a157-124b349b4cbf"
      },
      "outputs": [],
      "source": [
        "# see what was written\n",
        "# we have added next to the TOtal of previous month, the string Prior\n",
        "for idx,row in enumerate(overview):\n",
        "    print (idx+1, [x.value for x in row])\n"
      ],
      "id": "5caf1aea-34e2-41a8-a157-124b349b4cbf"
    },
    {
      "cell_type": "code",
      "execution_count": null,
      "metadata": {
        "id": "7cf49d36"
      },
      "outputs": [],
      "source": [
        "# save \n",
        "wb.save('Budget_processed.xlsx')  "
      ],
      "id": "7cf49d36"
    },
    {
      "cell_type": "raw",
      "metadata": {
        "id": "8aa48644-a9f1-4ce8-9429-26f5f007d5ca"
      },
      "source": [
        "### Expenditure"
      ],
      "id": "8aa48644-a9f1-4ce8-9429-26f5f007d5ca"
    },
    {
      "cell_type": "code",
      "execution_count": null,
      "metadata": {
        "id": "2f54e0bc-f474-4417-9ae3-eb0f49e700f7"
      },
      "outputs": [],
      "source": [
        "# compute the range uptil the previous month for expenditure to sum\n",
        "\n",
        "inc_idx= []\n",
        "range_end = []\n",
        "\n",
        "# in the exp columns\n",
        "for idx, col in enumerate(business_df.columns):\n",
        "    if 'Expenditure' in col:\n",
        "        inc_idx.append(idx)\n",
        "        if previous_month in col:\n",
        "              range_end= idx \n",
        "                \n",
        "range_prev_exp = [min(inc_idx), range_end]\n",
        "\n",
        "# compute all prior exp\n",
        "previous_exp = business_df.iloc[:, min(inc_idx):range_end+1].sum(axis=1).sum()\n",
        "\n",
        "# cell ref\n",
        "row = 1 # row nb where to paste previous income value\n",
        "ref = str(get_column_letter(total_col[1])) + str(row)\n",
        "\n",
        "# write it in Excel value\n",
        "overview[ref] = round(previous_exp,2)\n",
        "\n",
        "\n",
        "# string Prevous month\n",
        "ref = str(get_column_letter(total_col[1]-1)) + str(row)  # get the ref cel for row 1, and col = element with idx from total_col[1] -1\n",
        "overview[ref] = 'Prior'"
      ],
      "id": "2f54e0bc-f474-4417-9ae3-eb0f49e700f7"
    },
    {
      "cell_type": "code",
      "execution_count": null,
      "metadata": {
        "id": "30cada7f-3bf9-4a35-95ad-95ba48c3c3b5"
      },
      "outputs": [],
      "source": [
        "# see what was written in excel, overview sheet\n",
        "for idx,row in enumerate(overview):\n",
        "    print (idx+1, [x.value for x in row])"
      ],
      "id": "30cada7f-3bf9-4a35-95ad-95ba48c3c3b5"
    },
    {
      "cell_type": "code",
      "execution_count": null,
      "metadata": {
        "id": "0b3e8533"
      },
      "outputs": [],
      "source": [
        "wb.save('Budget_processed.xlsx')  "
      ],
      "id": "0b3e8533"
    },
    {
      "cell_type": "code",
      "source": [
        "# in excel all lime (Prior), orange: headers Income& Exp, Months + Total\n",
        "\n",
        "img = mpimg.imread('images/img_6.PNG')\n",
        "plt.imshow(img)\n",
        "plt.rcParams['figure.figsize'] = [12, 10]\n",
        "plt.axis('off')\n",
        "plt.show()"
      ],
      "metadata": {
        "id": "hS5tGm1QNZlM"
      },
      "id": "hS5tGm1QNZlM",
      "execution_count": null,
      "outputs": []
    },
    {
      "cell_type": "markdown",
      "source": [
        "## 6.6&nbsp;Write Monthly Total, M2M ev, Totals grouped by Business"
      ],
      "metadata": {
        "id": "MieMjHcyYQaT"
      },
      "id": "MieMjHcyYQaT"
    },
    {
      "cell_type": "markdown",
      "source": [
        "First, conctenate red (Monthly Total) + blue 5M2M ev) + yellow (total by busines by month df"
      ],
      "metadata": {
        "id": "oAHodbumb7KW"
      },
      "id": "oAHodbumb7KW"
    },
    {
      "cell_type": "code",
      "source": [
        "# up to ths point our computaions\n",
        "\n",
        "# red:  totals by month + total across businesses\n",
        "# blue: ev M2M blue\n",
        "# yellow: totals by month for each business\n",
        "\n",
        "\n",
        "\n",
        "img = mpimg.imread('images/img_6.PNG')\n",
        "plt.imshow(img)\n",
        "plt.rcParams['figure.figsize'] = [12, 10]\n",
        "plt.axis('off')\n",
        "plt.show()"
      ],
      "metadata": {
        "id": "xGScfHM6Ys1w"
      },
      "id": "xGScfHM6Ys1w",
      "execution_count": null,
      "outputs": []
    },
    {
      "cell_type": "code",
      "execution_count": null,
      "metadata": {
        "id": "f1aba2a1-28ce-454d-9bf9-f8373f0d1bbb"
      },
      "outputs": [],
      "source": [
        "# Till now we computed in df:\n",
        "\n",
        "# monthly_total (red part)\n",
        "print(len(monthly_total))\n",
        "print( monthly_total[:7])\n",
        "print('')\n",
        "\n",
        "# monthly evolution (blue part)\n",
        "print(len(ev))\n",
        "print( ev[:7])\n",
        "print('')\n",
        "\n",
        "# business_df (yellow part)\n",
        "print(business_df.shape)\n",
        "print(business_df.iloc[:, :7])\n",
        "print('')"
      ],
      "id": "f1aba2a1-28ce-454d-9bf9-f8373f0d1bbb"
    },
    {
      "cell_type": "code",
      "source": [
        "# copy business_df into a temporary df temp\n",
        "temp = business_df.copy()\n",
        "\n",
        "# reset index (this will add a new column => Business)\n",
        "temp = temp.reset_index()\n",
        "\n",
        "# drop this column 'Business from temp\n",
        "temp = temp.drop(['Business'], axis=1)\n",
        "\n",
        "# insert at row 0 Monthly Total\n",
        "temp = pd.DataFrame(np.insert(temp.values, 0, values=monthly_total, axis=0), columns= temp.columns)\n",
        "\n",
        "# insert at row 1 Monthly ev\n",
        "temp = pd.DataFrame(np.insert(temp.values, 1, values=ev, axis=0), columns= temp.columns)\n",
        "\n",
        "print(temp.shape)\n",
        "\n",
        "# values that we want to add to overview sheet\n",
        "temp.values\n"
      ],
      "metadata": {
        "id": "nN2wKtYOgt_b"
      },
      "id": "nN2wKtYOgt_b",
      "execution_count": null,
      "outputs": []
    },
    {
      "cell_type": "code",
      "source": [
        "# reminder of overview sheet\n",
        "\n",
        "for idx, row in enumerate(overview):\n",
        "  print(idx+1, [x.value for x in row])"
      ],
      "metadata": {
        "id": "9JAb8zLNiosz"
      },
      "id": "9JAb8zLNiosz",
      "execution_count": null,
      "outputs": []
    },
    {
      "cell_type": "code",
      "source": [
        "# the values of our df temp, is a nested list, each sublist being a row\n",
        "for subl in temp.values:\n",
        "  print(subl)\n"
      ],
      "metadata": {
        "id": "TG4XTASxqHAO"
      },
      "id": "TG4XTASxqHAO",
      "execution_count": null,
      "outputs": []
    },
    {
      "cell_type": "code",
      "source": [
        "# how many itmes in nested list\n",
        "maxr = len(temp.values) # the lenght of the nested list \n",
        "\n",
        "# how many subitmes in each sublist within the nested list\n",
        "maxc = len(temp.values[0]) # the lenght of sublist in the nested list\n",
        "\n",
        "print('')\n",
        "print('dimensions of our nested list inc_exp: ... ')\n",
        "print(maxr , maxc)"
      ],
      "metadata": {
        "id": "qaOjW9TGlM8u"
      },
      "id": "qaOjW9TGlM8u",
      "execution_count": null,
      "outputs": []
    },
    {
      "cell_type": "code",
      "source": [
        "# write this temp.values to  excel, in the sheet overview by iteration\n",
        "\n",
        "# iterate each rows\n",
        "for this_row in range (1, maxr + 1):# add + 1, beacause we want to include the upper limit\n",
        "    # for each row, iterate through each col \n",
        "    for this_column in range (1, maxc + 1): # add + 1, beacause we want to include the upper limit\n",
        "        #print(this_row) ==> at the first iteration will have the row 1\n",
        "        #print(this_column) => while the iteration of the 1st row will not be finisshed, we will iterate through columns, that will change incrementally\n",
        "        cellsource = temp.values[this_row-1][this_column-1] # in the temp.values get the right indices (so in 1st iteration: temp[0][0]....\n",
        "                                                       #  then this indices will increment [0][1] => [0][2] => ... [1][0], [1][1]...)   \n",
        "                                                       # so the var <<cellsource>> will get dynamically the values of temp.values at respective indices\n",
        "        overview.cell(row = this_row+3, column = this_column+1).value = cellsource # then write this value in the ws \"overview\" at cell ref(row= +3, column= + 1)\n",
        "        # we're adding +3 for rows and cols because we want to write the values starting row 4\n",
        "        # and + 1 for col, because we want to leave some space in the 1st col, where we will add some rowheaders later\n",
        "\n"
      ],
      "metadata": {
        "id": "BQh3h1oqkF7Y"
      },
      "id": "BQh3h1oqkF7Y",
      "execution_count": null,
      "outputs": []
    },
    {
      "cell_type": "code",
      "source": [
        "# see what was written\n",
        "for idx,row in enumerate(overview):\n",
        "    print (idx+1, [x.value for x in row])"
      ],
      "metadata": {
        "id": "StMxwkJGse7L"
      },
      "id": "StMxwkJGse7L",
      "execution_count": null,
      "outputs": []
    },
    {
      "cell_type": "code",
      "source": [
        "# save\n",
        "wb.save('Budget_processed.xlsx') "
      ],
      "metadata": {
        "id": "6epP1h9inMNT"
      },
      "id": "6epP1h9inMNT",
      "execution_count": null,
      "outputs": []
    },
    {
      "cell_type": "markdown",
      "source": [
        "## 6.7&nbsp;Row labels"
      ],
      "metadata": {
        "id": "E-6bTSQ1q5A7"
      },
      "id": "E-6bTSQ1q5A7"
    },
    {
      "cell_type": "markdown",
      "source": [
        "Write labels for row in col 1"
      ],
      "metadata": {
        "id": "3T-NRfCisE-Y"
      },
      "id": "3T-NRfCisE-Y"
    },
    {
      "cell_type": "code",
      "source": [
        "# labels we want to write\n",
        "cellrange= ['Month', 'MonthlyTotal', 'M2M ev', 'B2B', 'B2C_1', 'B2C_2', 'Fleet']\n",
        "cellrange"
      ],
      "metadata": {
        "id": "vwOAPTt4q3MM"
      },
      "id": "vwOAPTt4q3MM",
      "execution_count": null,
      "outputs": []
    },
    {
      "cell_type": "code",
      "source": [
        "# starting row\n",
        "row= 3\n",
        "# write  cellrange in excel at column 1\n",
        "\n",
        "for i in range(0, len(cellrange)):\n",
        "    overview.cell(row=row, column = 1).value= cellrange[i]\n",
        "    row=row+1\n",
        "\n"
      ],
      "metadata": {
        "id": "DQaLgMU-ka1N"
      },
      "id": "DQaLgMU-ka1N",
      "execution_count": null,
      "outputs": []
    },
    {
      "cell_type": "code",
      "source": [
        "# see what was written\n",
        "for idx,row in enumerate(overview):\n",
        "    print (idx+1, [x.value for x in row])"
      ],
      "metadata": {
        "id": "x9UHlZpLshJv"
      },
      "id": "x9UHlZpLshJv",
      "execution_count": null,
      "outputs": []
    },
    {
      "cell_type": "code",
      "source": [
        "# save\n",
        "wb.save('Budget_processed.xlsx') "
      ],
      "metadata": {
        "id": "Ois5RJeLsl6j"
      },
      "id": "Ois5RJeLsl6j",
      "execution_count": null,
      "outputs": []
    },
    {
      "cell_type": "markdown",
      "id": "7c565e0e",
      "metadata": {
        "id": "7c565e0e"
      },
      "source": [
        "# 7&nbsp;Insert overview sheet to Data sheet"
      ]
    },
    {
      "cell_type": "code",
      "source": [
        "# reminder of our sheets\n",
        "wb.sheetnames"
      ],
      "metadata": {
        "id": "RH3zL57_s5i2"
      },
      "id": "RH3zL57_s5i2",
      "execution_count": null,
      "outputs": []
    },
    {
      "cell_type": "code",
      "source": [
        "# the Data sheet was saved in var sheet\n",
        "sheet.title"
      ],
      "metadata": {
        "id": "zqJOKtUbs-KJ"
      },
      "id": "zqJOKtUbs-KJ",
      "execution_count": null,
      "outputs": []
    },
    {
      "cell_type": "markdown",
      "source": [
        "## Functions def"
      ],
      "metadata": {
        "id": "3hpYA0sHtU5u"
      },
      "id": "3hpYA0sHtU5u"
    },
    {
      "cell_type": "code",
      "execution_count": null,
      "id": "fd23adee-9cb4-4221-ad76-3ebff9ba009c",
      "metadata": {
        "id": "fd23adee-9cb4-4221-ad76-3ebff9ba009c"
      },
      "outputs": [],
      "source": [
        "#define the function copyRange()\n",
        "\n",
        "def copyRange(startCol, startRow, endCol, endRow, sheet):\n",
        "    rangeSelected = []\n",
        "    # Loops through selected Rows\n",
        "    for i in range(\n",
        "      startRow,endRow + 1,1):\n",
        "        # Appends the row to a RowSelected list\n",
        "        rowSelected = []\n",
        "        for j in range(startCol,endCol+1,1):\n",
        "            rowSelected.append(sheet.cell(row = i, column = j).value)\n",
        "        # Adds the RowSelected List and nests inside the rangeSelected\n",
        "        rangeSelected.append(rowSelected)\n",
        "\n",
        "    return rangeSelected"
      ]
    },
    {
      "cell_type": "code",
      "execution_count": null,
      "id": "c4f60a9a-1d9a-4b08-affa-ac0e8e2c14f2",
      "metadata": {
        "id": "c4f60a9a-1d9a-4b08-affa-ac0e8e2c14f2"
      },
      "outputs": [],
      "source": [
        "# define the function pasteRange()\n",
        "def pasteRange(startCol, startRow, endCol, endRow, sheetReceiving, copiedData):\n",
        "    countRow = 0\n",
        "    for i in range(startRow,endRow+1,1):\n",
        "        countCol = 0\n",
        "        for j in range(startCol,endCol+1,1):\n",
        "            \n",
        "            sheetReceiving.cell(row = i, column = j).value = copiedData[countRow][countCol]\n",
        "            countCol += 1\n",
        "        countRow += 1"
      ]
    },
    {
      "cell_type": "code",
      "execution_count": null,
      "id": "12076063-5a60-468d-b99f-6b066664b693",
      "metadata": {
        "id": "12076063-5a60-468d-b99f-6b066664b693"
      },
      "outputs": [],
      "source": [
        "# write a function that will compute the accurate nb of rows by omitting blanks\n",
        "def get_maximum_rows_blank(*, sheet_object):\n",
        "    rows = 0\n",
        "    for max_row, row in enumerate(sheet_object, 1):\n",
        "        if  not all(col.value is None for col in row):\n",
        "            rows += 1\n",
        "        \n",
        "    return rows\n",
        "\n",
        "# call the new function\n",
        "get_maximum_rows_blank(sheet_object = overview) "
      ]
    },
    {
      "cell_type": "code",
      "execution_count": null,
      "id": "bf447b3c-48f7-4c0b-9a77-a8f1af043e70",
      "metadata": {
        "id": "bf447b3c-48f7-4c0b-9a77-a8f1af043e70"
      },
      "outputs": [],
      "source": [
        "# write a function that will compute the accurate nb of rows including the blanks, up to the last non blanks\n",
        "def get_maximum_rows(*, sheet_object):\n",
        "    df_range= 'A1:' + str(get_column_letter(sheet_object.max_column)) + str(sheet_object.max_row)\n",
        "    rows = 0\n",
        "    for idx, row in enumerate(sheet_object[df_range]): # values_only=True meanse we want to access the values\n",
        "        if not all(col.value is None for col in row):\n",
        "            rows += 1\n",
        "            last_row = idx+1\n",
        "    return last_row\n",
        "\n",
        "get_maximum_rows(sheet_object = overview) "
      ]
    },
    {
      "cell_type": "code",
      "execution_count": null,
      "id": "483c02a4-a6e0-4bb5-bf97-570c51dd8eb6",
      "metadata": {
        "id": "483c02a4-a6e0-4bb5-bf97-570c51dd8eb6"
      },
      "outputs": [],
      "source": [
        "def get_maximum_cols(sheet):\n",
        "    for i in range(2, 20000):\n",
        "        if sheet.cell(row=1, column= i).value == None:\n",
        "            max_col = i\n",
        "            break\n",
        "    return max_col-1"
      ]
    },
    {
      "cell_type": "raw",
      "id": "4e3a3384-daf7-4a5e-88cc-906184ee4b0b",
      "metadata": {
        "id": "4e3a3384-daf7-4a5e-88cc-906184ee4b0b"
      },
      "source": [
        "We want to copy/paste in the excel, sheet overview with function \n",
        "pasteRange() in the sheet Data\n",
        "\n",
        "But first, we need to compute the range where to pasted\n",
        "\n"
      ]
    },
    {
      "cell_type": "code",
      "source": [
        "# see what was written\n",
        "for idx,row in enumerate(overview):\n",
        "    print (idx+1, [x.value for x in row])"
      ],
      "metadata": {
        "id": "JoEcr9ITuRD9"
      },
      "id": "JoEcr9ITuRD9",
      "execution_count": null,
      "outputs": []
    },
    {
      "cell_type": "code",
      "source": [
        "# dimensions of overview\n",
        "\n",
        "print('rows: ',get_maximum_rows(sheet_object = overview))\n",
        "print('columns: ', overview.max_column)"
      ],
      "metadata": {
        "id": "g8oLnLuouwe7"
      },
      "id": "g8oLnLuouwe7",
      "execution_count": null,
      "outputs": []
    },
    {
      "cell_type": "markdown",
      "id": "4819f3ca",
      "metadata": {
        "id": "4819f3ca"
      },
      "source": [
        "## Insert / Copy /  Paste overview "
      ]
    },
    {
      "cell_type": "code",
      "execution_count": null,
      "id": "e80de590",
      "metadata": {
        "id": "e80de590"
      },
      "outputs": [],
      "source": [
        "# we want to insert the data frame from overview sheet to Data sheet\n",
        "\n",
        "# Steps\n",
        "# Insert rows on Data sheet\n",
        "# Copy celrange from overview sheet\n",
        "# Paste copied cellrane to Datasheeet\n",
        "# delete overview sheet that we won't need anymore"
      ]
    },
    {
      "cell_type": "code",
      "execution_count": null,
      "id": "fd04a73e",
      "metadata": {
        "id": "fd04a73e"
      },
      "outputs": [],
      "source": [
        "# back to our sheet called Data\n",
        "sheet.title"
      ]
    },
    {
      "cell_type": "code",
      "source": [
        "# update df_range\n",
        "\n",
        "# compute the range of the whole dataframe \n",
        "max_row, max_col = df.shape\n",
        "print('df shape: ', max_row, max_col) \n",
        "\n",
        "# the df range in excel (A1:...)\n",
        "df_range = xl_range(0, # starting row\n",
        "                    0, # starting column\n",
        "                    max_row, \n",
        "                    max_col - 1) # 1-1 ==>  last column -1 as the index starts a 0\n",
        "print('in excel the df cellrange is : ', df_range) # !!!! don't forget to update df_range if you're adding new col or rows"
      ],
      "metadata": {
        "id": "UPM5Q3q_xkJx"
      },
      "id": "UPM5Q3q_xkJx",
      "execution_count": null,
      "outputs": []
    },
    {
      "cell_type": "code",
      "source": [
        "# reminder of sheet\n",
        "for idx,row in enumerate(sheet['A1:R4']):\n",
        "    print (idx+1, [x.value for x in row])"
      ],
      "metadata": {
        "id": "dqHos1RGxd1J"
      },
      "id": "dqHos1RGxd1J",
      "execution_count": null,
      "outputs": []
    },
    {
      "cell_type": "markdown",
      "source": [
        "### Insert"
      ],
      "metadata": {
        "id": "ZzPWYT-9zxZr"
      },
      "id": "ZzPWYT-9zxZr"
    },
    {
      "cell_type": "code",
      "execution_count": null,
      "id": "800bfc0d",
      "metadata": {
        "id": "800bfc0d"
      },
      "outputs": [],
      "source": [
        "# insert +2 extra rows at the top of Data sheet , starting at row 1\n",
        "\n",
        "# insert rows\n",
        "\n",
        "sheet.insert_rows(idx=1, # row location\n",
        "                  amount=get_maximum_rows(sheet_object = overview) + 2) # how many rows to insert\n",
        "wb.save('Budget_processed.xlsx')                "
      ]
    },
    {
      "cell_type": "code",
      "source": [
        "# reminder of sheet\n",
        "for idx,row in enumerate(sheet['A1:R14']):\n",
        "    print (idx+1, [x.value for x in row])"
      ],
      "metadata": {
        "id": "HWtn5RT0yvoV"
      },
      "id": "HWtn5RT0yvoV",
      "execution_count": null,
      "outputs": []
    },
    {
      "cell_type": "code",
      "execution_count": null,
      "id": "b1ffac0f",
      "metadata": {
        "id": "b1ffac0f"
      },
      "outputs": [],
      "source": [
        "# inserted rows in Data sheet\n",
        "\n",
        "img = mpimg.imread('images/img_9.PNG')\n",
        "plt.imshow(img)\n",
        "plt.rcParams['figure.figsize'] = [12, 10]\n",
        "plt.axis('off')\n",
        "plt.show()"
      ]
    },
    {
      "cell_type": "code",
      "source": [
        "print('rows: ',get_maximum_rows(sheet_object = overview))\n",
        "print('columns: ', overview.max_column)"
      ],
      "metadata": {
        "id": "JD0Z_uwvzjLM"
      },
      "id": "JD0Z_uwvzjLM",
      "execution_count": null,
      "outputs": []
    },
    {
      "cell_type": "markdown",
      "source": [
        "### Copy"
      ],
      "metadata": {
        "id": "eaewefguz2-6"
      },
      "id": "eaewefguz2-6"
    },
    {
      "cell_type": "code",
      "execution_count": null,
      "id": "237fdc2d-7227-4d18-a1eb-c6b65307b3b4",
      "metadata": {
        "id": "237fdc2d-7227-4d18-a1eb-c6b65307b3b4"
      },
      "outputs": [],
      "source": [
        "# copy the overview df\n",
        "\n",
        "selectedRange = copyRange(startCol =1,\n",
        "                          startRow= 1,\n",
        "                          endCol= overview.max_column+1 ,\n",
        "                          endRow = get_maximum_rows(sheet_object = overview),\n",
        "                          sheet = overview)\n",
        "\n",
        "print(len(selectedRange))\n",
        "\n",
        "for row in selectedRange:\n",
        "    print(row)"
      ]
    },
    {
      "cell_type": "markdown",
      "source": [
        "### Paste"
      ],
      "metadata": {
        "id": "PZNO2rNgz6Ev"
      },
      "id": "PZNO2rNgz6Ev"
    },
    {
      "cell_type": "code",
      "source": [
        "get_maximum_rows_blank(sheet_object = overview)"
      ],
      "metadata": {
        "id": "azgpTqJk0n_N"
      },
      "id": "azgpTqJk0n_N",
      "execution_count": null,
      "outputs": []
    },
    {
      "cell_type": "code",
      "execution_count": null,
      "id": "65655025",
      "metadata": {
        "id": "65655025"
      },
      "outputs": [],
      "source": [
        "pasteRange(startCol = 1,\n",
        "           startRow = 2, \n",
        "           endCol= overview.max_column, \n",
        "           endRow = get_maximum_rows(sheet_object = overview)+1,\n",
        "           sheetReceiving= sheet,\n",
        "           copiedData = selectedRange)\n",
        "\n",
        "# see what was written\n",
        "for idx,row in enumerate(sheet[\"A1:R15\"]):\n",
        "    print (idx+1, [x.value for x in row])\n",
        "\n",
        "   "
      ]
    },
    {
      "cell_type": "code",
      "execution_count": null,
      "id": "2ac19531-feb1-43b5-aa52-85f5253593bb",
      "metadata": {
        "id": "2ac19531-feb1-43b5-aa52-85f5253593bb"
      },
      "outputs": [],
      "source": [
        "# past rows in Data sheet\n",
        "\n",
        "img = mpimg.imread('images/img_10.PNG')\n",
        "plt.imshow(img)\n",
        "plt.rcParams['figure.figsize'] = [12, 10]\n",
        "plt.axis('off')\n",
        "plt.show()"
      ]
    },
    {
      "cell_type": "code",
      "execution_count": null,
      "id": "673495e0-0a7a-4fbc-ad40-8a866698befe",
      "metadata": {
        "id": "673495e0-0a7a-4fbc-ad40-8a866698befe"
      },
      "outputs": [],
      "source": [
        "#save \n",
        "wb.save('Budget_processed.xlsx') "
      ]
    },
    {
      "cell_type": "code",
      "execution_count": null,
      "id": "6115ffe3-6f57-4b48-b648-265e13439658",
      "metadata": {
        "id": "6115ffe3-6f57-4b48-b648-265e13439658"
      },
      "outputs": [],
      "source": [
        "# remove autofilers\n",
        "\n",
        "sheet.auto_filter.ref = None\n",
        "for i in range(2, sheet.max_row + 1):\n",
        "    sheet.row_dimensions[i].hidden = False\n",
        "\n",
        "wb.save('Budget_processed.xlsx') "
      ]
    },
    {
      "cell_type": "code",
      "execution_count": null,
      "id": "cd08cd64-edeb-45bb-be91-3ebaa0d676b2",
      "metadata": {
        "id": "cd08cd64-edeb-45bb-be91-3ebaa0d676b2"
      },
      "outputs": [],
      "source": [
        "# after removing the autofilers\n",
        "\n",
        "img = mpimg.imread('images/img_11.PNG')\n",
        "plt.imshow(img)\n",
        "plt.rcParams['figure.figsize'] = [12, 10]\n",
        "plt.axis('off')\n",
        "plt.show()"
      ]
    },
    {
      "cell_type": "code",
      "execution_count": null,
      "id": "6809e228",
      "metadata": {
        "id": "6809e228"
      },
      "outputs": [],
      "source": [
        "# remove overview sheet\n",
        "wb.remove(overview) \n",
        "\n",
        "# remove 'Department' sheet\n",
        "wb.remove(wb[wb.sheetnames[1]]) \n",
        "\n",
        "print(wb.sheetnames)\n",
        "\n",
        "\n",
        "# save the new workbook \n",
        "wb.save('Budget_processed.xlsx')"
      ]
    },
    {
      "cell_type": "code",
      "execution_count": null,
      "id": "50b51c80-8748-4a62-9e6a-57ad7a9b75c4",
      "metadata": {
        "id": "50b51c80-8748-4a62-9e6a-57ad7a9b75c4"
      },
      "outputs": [],
      "source": [
        "# close  workbokk\n",
        "wb.close() # !!!! don't forget to close wb"
      ]
    },
    {
      "cell_type": "markdown",
      "source": [
        "Now we're havig our processed excel Budget_processed.xlsx, and we can proceed to FOrmatind"
      ],
      "metadata": {
        "id": "KudYriyX1G0_"
      },
      "id": "KudYriyX1G0_"
    },
    {
      "cell_type": "code",
      "execution_count": null,
      "id": "36d9cded-7990-4110-bd46-8d307292f305",
      "metadata": {
        "id": "36d9cded-7990-4110-bd46-8d307292f305"
      },
      "outputs": [],
      "source": []
    },
    {
      "cell_type": "markdown",
      "source": [
        "# 7&nbsp;Formatting"
      ],
      "metadata": {
        "id": "P7m1WWDQ1XBh"
      },
      "id": "P7m1WWDQ1XBh"
    },
    {
      "cell_type": "code",
      "execution_count": null,
      "id": "78e32ff1-9aed-4673-a39a-3aa0ef2c725a",
      "metadata": {
        "id": "78e32ff1-9aed-4673-a39a-3aa0ef2c725a"
      },
      "outputs": [],
      "source": []
    }
  ],
  "metadata": {
    "kernelspec": {
      "display_name": "Python 3 (ipykernel)",
      "language": "python",
      "name": "python3"
    },
    "language_info": {
      "codemirror_mode": {
        "name": "ipython",
        "version": 3
      },
      "file_extension": ".py",
      "mimetype": "text/x-python",
      "name": "python",
      "nbconvert_exporter": "python",
      "pygments_lexer": "ipython3",
      "version": "3.9.7"
    },
    "toc-autonumbering": true,
    "colab": {
      "provenance": [],
      "toc_visible": true,
      "include_colab_link": true
    }
  },
  "nbformat": 4,
  "nbformat_minor": 5
}